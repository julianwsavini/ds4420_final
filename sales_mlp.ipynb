{
 "cells": [
  {
   "cell_type": "code",
   "execution_count": 12,
   "id": "ee013a18-540d-4c66-9d72-2af425acac7b",
   "metadata": {},
   "outputs": [],
   "source": [
    "import numpy as np\n",
    "import pandas as pd\n",
    "from sklearn.preprocessing import OneHotEncoder\n",
    "import matplotlib.pyplot as plt\n",
    "from statsmodels.tsa.stattools import acf, pacf\n",
    "from plotly.subplots import make_subplots\n",
    "from sklearn.model_selection import train_test_split\n",
    "from sklearn.preprocessing import StandardScaler\n",
    "from tqdm import tqdm\n",
    "from statsmodels.graphics.tsaplots import plot_acf"
   ]
  },
  {
   "cell_type": "code",
   "execution_count": 13,
   "id": "4ba0a057-bec0-4bb1-8d7a-f418f64ce3a1",
   "metadata": {},
   "outputs": [],
   "source": [
    "# global vars\n",
    "STORE_ID = 1\n",
    "HIDDEN_NODES=80\n",
    "EPOCHS=50000\n",
    "ETA = 0.1"
   ]
  },
  {
   "cell_type": "code",
   "execution_count": 14,
   "id": "ce5cdfa7-6e19-4bea-9216-afa4fbbadd46",
   "metadata": {},
   "outputs": [],
   "source": [
    "train_df = pd.read_csv(\"train.csv\", low_memory=False)\n",
    "test_df = pd.read_csv(\"test.csv\")"
   ]
  },
  {
   "cell_type": "code",
   "execution_count": 15,
   "id": "36e12983-79e1-45c9-a73b-0b7c885573ee",
   "metadata": {},
   "outputs": [],
   "source": [
    "def preprocess_code(df, store_id):\n",
    "    # set store id to one store\n",
    "    df = df[df['Store'] == store_id].reset_index(drop=True)\n",
    "    #df = df[df['Open'] == 1].reset_index(drop=True)\n",
    "\n",
    "    # reverse order of dataframe\n",
    "    df = df.sort_values('Date').reset_index(drop=True)\n",
    "\n",
    "    columns = df['StateHoliday'].unique().tolist()\n",
    "    # autoencode StateHoliday\n",
    "    encoder = OneHotEncoder(sparse_output=False)\n",
    "    df_holiday = encoder.fit_transform(df[['StateHoliday']])\n",
    "\n",
    "    # create autoencoder df, append to respective dfs\n",
    "    df_holiday = pd.DataFrame(df_holiday, columns=columns)\n",
    "    df = pd.concat([df, df_holiday], axis=1)\n",
    "\n",
    "    \n",
    "    return df"
   ]
  },
  {
   "cell_type": "code",
   "execution_count": 16,
   "id": "e0596902-c539-4023-a57e-1179035dbfba",
   "metadata": {},
   "outputs": [],
   "source": [
    "train_df = preprocess_code(train_df, STORE_ID)\n",
    "test_df = preprocess_code(test_df, STORE_ID)"
   ]
  },
  {
   "cell_type": "code",
   "execution_count": 17,
   "id": "9ecdb508-a8a0-49bf-a0fa-8b684dba692f",
   "metadata": {},
   "outputs": [
    {
     "data": {
      "image/png": "[encoded data removed]",
      "text/plain": [
       "<Figure size 640x480 with 1 Axes>"
      ]
     },
     "metadata": {},
     "output_type": "display_data"
    }
   ],
   "source": [
    "plot_acf(train_df['Sales'], title = 'Sales ACF Plot')\n",
    "plt.show();"
   ]
  },
  {
   "cell_type": "code",
   "execution_count": 18,
   "id": "910f37f2-b12f-4c63-9c75-aca0aeaae7e3",
   "metadata": {},
   "outputs": [],
   "source": [
    "def preprocess_time_series(df, max_lag_percent=0.2):\n",
    "    # Reset index to ensure datetime is a column\n",
    "    dff = df.copy().reset_index(drop=False)\n",
    "    dff[\"Date\"] = pd.to_datetime(dff.Date.values)\n",
    "    data_length = len(dff)\n",
    "    max_possible_lag = int(data_length * max_lag_percent)\n",
    "    max_lag = min(max_possible_lag, 100)  # Set an upper bound\n",
    "\n",
    "    # Create evenly spaced lag features\n",
    "    lag_steps = np.linspace(1, max_lag, min(15, max_lag), dtype=int)\n",
    "    \n",
    "    # Add specifically important lags based on ACF plot\n",
    "    important_lags = [1, 7, 14, 21, 28]  # The peaks in your ACF plot\n",
    "    \n",
    "    # Combine and deduplicate lag values\n",
    "    all_lags = np.unique(np.concatenate([lag_steps, important_lags]))\n",
    "    all_lags = all_lags[all_lags <= max_lag]  # Ensure we don't exceed max_lag\n",
    "    \n",
    "    # Create lag features\n",
    "    for lag in all_lags:\n",
    "        dff[f\"lag_{lag}\"] = dff.Sales.shift(lag)\n",
    "        dff[f\"difference_{lag}\"] = dff.Sales.diff(periods=lag)\n",
    "    \n",
    "    # Add rolling statistics with reasonable windows\n",
    "    window_sizes = [min(w, max_lag) for w in [7, 14, 28]]\n",
    "    for window in window_sizes:\n",
    "        dff[f\"rolling_mean_{window}\"] = dff.Sales.rolling(window=window).mean()\n",
    "        dff[f\"rolling_std_{window}\"] = dff.Sales.rolling(window=window).std()\n",
    "    \n",
    "    # Add exponentially weighted features\n",
    "    for alpha in [0.1, 0.3, 0.5]:\n",
    "        dff[f\"ewm_mean_{int(alpha*100)}\"] = dff.Sales.ewm(alpha=alpha).mean()\n",
    "        dff[f\"ewm_std_{int(alpha*100)}\"] = dff.Sales.ewm(alpha=alpha).std()\n",
    "    \n",
    "    # Categorical time features\n",
    "    dff[\"month_of_year\"] = dff.Date.dt.month\n",
    "    dff[\"is_weekend\"] = dff[\"DayOfWeek\"].isin([6, 7]).astype(int)\n",
    "    \n",
    "    # Cyclical encoding\n",
    "    dff[\"day_sin\"] = np.sin(2 * np.pi * dff.DayOfWeek / 7)\n",
    "    dff[\"day_cos\"] = np.cos(2 * np.pi * dff.DayOfWeek / 7)\n",
    "    dff[\"month_sin\"] = np.sin(2 * np.pi * dff.month_of_year / 12)\n",
    "    dff[\"month_cos\"] = np.cos(2 * np.pi * dff.month_of_year / 12)\n",
    "    \n",
    "    # Handle NaN values - fill rather than drop\n",
    "    dff = dff.ffill().bfill()\n",
    "\n",
    "    return dff\n",
    "\n",
    "\n",
    "train_df = preprocess_time_series(train_df, max_lag_percent=0.2)\n",
    "train_X = train_df.drop(columns=['Sales', 'index', 'Date', 'Store', 'StateHoliday', 'month_of_year'], axis=1)\n",
    "#train_X = train_df.drop(columns= ['Sales', 'Date', 'Store'])\n",
    "train_y = train_df['Sales']\n",
    "\n",
    "train_X, val_X, train_y, val_y = train_test_split(train_X, train_y, test_size=0.2, random_state=42)"
   ]
  },
  {
   "cell_type": "code",
   "execution_count": 19,
   "id": "636f2fd8-8df1-4a64-b5fc-5ba11c9f7ca3",
   "metadata": {},
   "outputs": [
    {
     "data": {
      "text/plain": [
       "(942, 70)"
      ]
     },
     "execution_count": 19,
     "metadata": {},
     "output_type": "execute_result"
    }
   ],
   "source": [
    "train_df.shape"
   ]
  },
  {
   "cell_type": "code",
   "execution_count": 20,
   "id": "a55a5718-7ae1-4271-b20d-6bdc4c7e2a2a",
   "metadata": {},
   "outputs": [],
   "source": [
    "train_X = np.array(train_X)\n",
    "train_y = np.array(train_y)\n",
    "val_X = np.array(val_X)\n",
    "val_y = np.array(val_y)\n",
    "\n",
    "scaler = StandardScaler()\n",
    "train_X = scaler.fit_transform(train_X)\n",
    "val_X = scaler.fit_transform(val_X)"
   ]
  },
  {
   "cell_type": "code",
   "execution_count": 21,
   "id": "60e7d80f-a086-4f7e-acf0-0aa4c0cd81c4",
   "metadata": {},
   "outputs": [],
   "source": [
    "n_samples, n_features = train_X.shape\n",
    "    \n",
    "# Initialize weights with Xavier/Glorot initialization\n",
    "np.random.seed(42)\n",
    "W1 = np.random.randn(n_features, HIDDEN_NODES) * np.sqrt(2.0 / n_features)\n",
    "W2 = np.random.randn(HIDDEN_NODES, 1) * np.sqrt(2.0 / HIDDEN_NODES)\n"
   ]
  },
  {
   "cell_type": "code",
   "execution_count": 22,
   "id": "9bbbe26e-8874-4d28-9686-3fae47072165",
   "metadata": {},
   "outputs": [
    {
     "name": "stderr",
     "output_type": "stream",
     "text": [
      "  0%|                                         | 7/50000 [00:00<27:04, 30.77it/s]"
     ]
    },
    {
     "name": "stdout",
     "output_type": "stream",
     "text": [
      "Epoch 0, Error: 17517807.466176, Learning rate: 0.100000\n",
      "Test MAE: 3830.250447\n",
      "Test MSE: 17678993.995611\n",
      "Test RMSE: 4204.639580\n",
      "Test R-Squared: -4.1115\n",
      "Sample 52: Prediction=77.32, Target=3806\n",
      "Sample 522: Prediction=94.93, Target=4212\n",
      "Sample 142: Prediction=31.82, Target=0\n"
     ]
    },
    {
     "name": "stderr",
     "output_type": "stream",
     "text": [
      "  0%|                                       | 107/50000 [00:03<26:18, 31.61it/s]"
     ]
    },
    {
     "name": "stdout",
     "output_type": "stream",
     "text": [
      "Epoch 100, Error: 412504.903892, Learning rate: 0.095238\n",
      "Test MAE: 554.256232\n",
      "Test MSE: 555720.127906\n",
      "Test RMSE: 745.466383\n",
      "Test R-Squared: 0.8393\n",
      "Sample 727: Prediction=4704.20, Target=4602\n",
      "Sample 180: Prediction=3.77, Target=0\n",
      "Sample 361: Prediction=5834.85, Target=5363\n"
     ]
    },
    {
     "name": "stderr",
     "output_type": "stream",
     "text": [
      "  0%|▏                                      | 207/50000 [00:06<26:17, 31.56it/s]"
     ]
    },
    {
     "name": "stdout",
     "output_type": "stream",
     "text": [
      "Epoch 200, Error: 382830.588921, Learning rate: 0.090909\n",
      "Test MAE: 541.575245\n",
      "Test MSE: 524689.550720\n",
      "Test RMSE: 724.354575\n",
      "Test R-Squared: 0.8483\n",
      "Sample 195: Prediction=4967.47, Target=4652\n",
      "Sample 167: Prediction=3217.17, Target=4178\n",
      "Sample 646: Prediction=4800.31, Target=5688\n"
     ]
    },
    {
     "name": "stderr",
     "output_type": "stream",
     "text": [
      "  1%|▏                                      | 307/50000 [00:09<26:39, 31.07it/s]"
     ]
    },
    {
     "name": "stdout",
     "output_type": "stream",
     "text": [
      "Epoch 300, Error: 371259.800808, Learning rate: 0.086957\n",
      "Test MAE: 542.942590\n",
      "Test MSE: 523982.638269\n",
      "Test RMSE: 723.866451\n",
      "Test R-Squared: 0.8485\n",
      "Sample 549: Prediction=6628.26, Target=6148\n",
      "Sample 52: Prediction=4656.12, Target=3806\n",
      "Sample 135: Prediction=5649.28, Target=7176\n"
     ]
    },
    {
     "name": "stderr",
     "output_type": "stream",
     "text": [
      "  1%|▎                                      | 407/50000 [00:12<26:15, 31.48it/s]"
     ]
    },
    {
     "name": "stdout",
     "output_type": "stream",
     "text": [
      "Epoch 400, Error: 357698.038970, Learning rate: 0.083333\n",
      "Test MAE: 543.415148\n",
      "Test MSE: 513263.085790\n",
      "Test RMSE: 716.423817\n",
      "Test R-Squared: 0.8516\n",
      "Sample 428: Prediction=27.89, Target=0\n",
      "Sample 433: Prediction=7153.92, Target=6532\n",
      "Sample 482: Prediction=3904.31, Target=3919\n"
     ]
    },
    {
     "name": "stderr",
     "output_type": "stream",
     "text": [
      "  1%|▍                                      | 507/50000 [00:16<26:08, 31.55it/s]"
     ]
    },
    {
     "name": "stdout",
     "output_type": "stream",
     "text": [
      "Epoch 500, Error: 349074.154127, Learning rate: 0.080000\n",
      "Test MAE: 540.280486\n",
      "Test MSE: 503792.516724\n",
      "Test RMSE: 709.783429\n",
      "Test R-Squared: 0.8543\n",
      "Sample 339: Prediction=4734.76, Target=3875\n",
      "Sample 748: Prediction=4173.31, Target=3649\n",
      "Sample 9: Prediction=5423.84, Target=5346\n"
     ]
    },
    {
     "name": "stderr",
     "output_type": "stream",
     "text": [
      "  1%|▍                                      | 607/50000 [00:19<26:04, 31.57it/s]"
     ]
    },
    {
     "name": "stdout",
     "output_type": "stream",
     "text": [
      "Epoch 600, Error: 338222.393104, Learning rate: 0.076923\n",
      "Test MAE: 539.313895\n",
      "Test MSE: 500843.065010\n",
      "Test RMSE: 707.702667\n",
      "Test R-Squared: 0.8552\n",
      "Sample 88: Prediction=5969.98, Target=5518\n",
      "Sample 651: Prediction=6238.46, Target=6454\n",
      "Sample 428: Prediction=102.01, Target=0\n"
     ]
    },
    {
     "name": "stderr",
     "output_type": "stream",
     "text": [
      "  1%|▌                                      | 707/50000 [00:22<25:55, 31.69it/s]"
     ]
    },
    {
     "name": "stdout",
     "output_type": "stream",
     "text": [
      "Epoch 700, Error: 329800.844553, Learning rate: 0.074074\n",
      "Test MAE: 537.015811\n",
      "Test MSE: 497587.140211\n",
      "Test RMSE: 705.398568\n",
      "Test R-Squared: 0.8561\n",
      "Sample 65: Prediction=6122.29, Target=5162\n",
      "Sample 695: Prediction=3924.14, Target=3706\n",
      "Sample 130: Prediction=3480.41, Target=3582\n"
     ]
    },
    {
     "name": "stderr",
     "output_type": "stream",
     "text": [
      "  2%|▋                                      | 807/50000 [00:25<25:55, 31.63it/s]"
     ]
    },
    {
     "name": "stdout",
     "output_type": "stream",
     "text": [
      "Epoch 800, Error: 321806.986186, Learning rate: 0.071429\n",
      "Test MAE: 534.926565\n",
      "Test MSE: 495056.755321\n",
      "Test RMSE: 703.602697\n",
      "Test R-Squared: 0.8569\n",
      "Sample 43: Prediction=5436.24, Target=5603\n",
      "Sample 201: Prediction=5184.54, Target=4128\n",
      "Sample 662: Prediction=3406.68, Target=2605\n"
     ]
    },
    {
     "name": "stderr",
     "output_type": "stream",
     "text": [
      "  2%|▋                                      | 907/50000 [00:28<25:47, 31.72it/s]"
     ]
    },
    {
     "name": "stdout",
     "output_type": "stream",
     "text": [
      "Epoch 900, Error: 314337.689352, Learning rate: 0.068966\n",
      "Test MAE: 536.277166\n",
      "Test MSE: 494739.437498\n",
      "Test RMSE: 703.377166\n",
      "Test R-Squared: 0.8570\n",
      "Sample 333: Prediction=892.67, Target=0\n",
      "Sample 603: Prediction=6349.63, Target=6057\n",
      "Sample 559: Prediction=40.01, Target=0\n"
     ]
    },
    {
     "name": "stderr",
     "output_type": "stream",
     "text": [
      "  2%|▊                                     | 1007/50000 [00:31<25:50, 31.59it/s]"
     ]
    },
    {
     "name": "stdout",
     "output_type": "stream",
     "text": [
      "Epoch 1000, Error: 308853.932152, Learning rate: 0.066667\n",
      "Test MAE: 535.741511\n",
      "Test MSE: 493289.518239\n",
      "Test RMSE: 702.345726\n",
      "Test R-Squared: 0.8574\n",
      "Sample 274: Prediction=5466.49, Target=5578\n",
      "Sample 362: Prediction=2892.20, Target=3662\n",
      "Sample 721: Prediction=4939.39, Target=4599\n"
     ]
    },
    {
     "name": "stderr",
     "output_type": "stream",
     "text": [
      "  2%|▊                                     | 1107/50000 [00:34<25:54, 31.45it/s]"
     ]
    },
    {
     "name": "stdout",
     "output_type": "stream",
     "text": [
      "Epoch 1100, Error: 303112.940072, Learning rate: 0.064516\n",
      "Test MAE: 534.902876\n",
      "Test MSE: 492268.778291\n",
      "Test RMSE: 701.618684\n",
      "Test R-Squared: 0.8577\n",
      "Sample 510: Prediction=4589.83, Target=3680\n",
      "Sample 483: Prediction=5040.90, Target=5058\n",
      "Sample 133: Prediction=5158.84, Target=4789\n"
     ]
    },
    {
     "name": "stderr",
     "output_type": "stream",
     "text": [
      "  2%|▉                                     | 1207/50000 [00:38<25:42, 31.63it/s]"
     ]
    },
    {
     "name": "stdout",
     "output_type": "stream",
     "text": [
      "Epoch 1200, Error: 294987.059313, Learning rate: 0.062500\n",
      "Test MAE: 533.053058\n",
      "Test MSE: 482404.336559\n",
      "Test RMSE: 694.553336\n",
      "Test R-Squared: 0.8605\n",
      "Sample 666: Prediction=7121.25, Target=6574\n",
      "Sample 206: Prediction=4783.81, Target=3836\n",
      "Sample 308: Prediction=4391.28, Target=3906\n"
     ]
    },
    {
     "name": "stderr",
     "output_type": "stream",
     "text": [
      "  3%|▉                                     | 1307/50000 [00:41<25:41, 31.59it/s]"
     ]
    },
    {
     "name": "stdout",
     "output_type": "stream",
     "text": [
      "Epoch 1300, Error: 289916.316975, Learning rate: 0.060606\n",
      "Test MAE: 532.222216\n",
      "Test MSE: 481563.422638\n",
      "Test RMSE: 693.947709\n",
      "Test R-Squared: 0.8608\n",
      "Sample 240: Prediction=5473.41, Target=4366\n",
      "Sample 472: Prediction=5708.43, Target=5176\n",
      "Sample 304: Prediction=5894.74, Target=5106\n"
     ]
    },
    {
     "name": "stderr",
     "output_type": "stream",
     "text": [
      "  3%|█                                     | 1407/50000 [00:44<25:46, 31.43it/s]"
     ]
    },
    {
     "name": "stdout",
     "output_type": "stream",
     "text": [
      "Epoch 1400, Error: 285474.181012, Learning rate: 0.058824\n",
      "Test MAE: 530.070453\n",
      "Test MSE: 478307.467453\n",
      "Test RMSE: 691.597764\n",
      "Test R-Squared: 0.8617\n",
      "Sample 236: Prediction=96.22, Target=0\n",
      "Sample 387: Prediction=-74.69, Target=0\n",
      "Sample 259: Prediction=3618.25, Target=3076\n"
     ]
    },
    {
     "name": "stderr",
     "output_type": "stream",
     "text": [
      "  3%|█▏                                    | 1507/50000 [00:47<25:46, 31.35it/s]"
     ]
    },
    {
     "name": "stdout",
     "output_type": "stream",
     "text": [
      "Epoch 1500, Error: 281818.342301, Learning rate: 0.057143\n",
      "Test MAE: 529.939682\n",
      "Test MSE: 477774.273885\n",
      "Test RMSE: 691.212177\n",
      "Test R-Squared: 0.8619\n",
      "Sample 615: Prediction=4961.18, Target=4055\n",
      "Sample 152: Prediction=5240.92, Target=4409\n",
      "Sample 541: Prediction=4602.48, Target=4318\n"
     ]
    },
    {
     "name": "stderr",
     "output_type": "stream",
     "text": [
      "  3%|█▏                                    | 1607/50000 [00:50<25:33, 31.56it/s]"
     ]
    },
    {
     "name": "stdout",
     "output_type": "stream",
     "text": [
      "Epoch 1600, Error: 271299.040604, Learning rate: 0.055556\n",
      "Test MAE: 520.305994\n",
      "Test MSE: 458721.000575\n",
      "Test RMSE: 677.289451\n",
      "Test R-Squared: 0.8674\n",
      "Sample 494: Prediction=4824.49, Target=5031\n",
      "Sample 444: Prediction=6634.53, Target=6239\n",
      "Sample 204: Prediction=4927.80, Target=4735\n"
     ]
    },
    {
     "name": "stderr",
     "output_type": "stream",
     "text": [
      "  3%|█▎                                    | 1707/50000 [00:53<25:37, 31.42it/s]"
     ]
    },
    {
     "name": "stdout",
     "output_type": "stream",
     "text": [
      "Epoch 1700, Error: 262672.616844, Learning rate: 0.054054\n",
      "Test MAE: 515.698771\n",
      "Test MSE: 448893.086254\n",
      "Test RMSE: 669.994840\n",
      "Test R-Squared: 0.8702\n",
      "Sample 242: Prediction=5142.65, Target=4407\n",
      "Sample 686: Prediction=4667.50, Target=4303\n",
      "Sample 190: Prediction=6197.06, Target=5173\n"
     ]
    },
    {
     "name": "stderr",
     "output_type": "stream",
     "text": [
      "  4%|█▎                                    | 1806/50000 [00:57<25:47, 31.14it/s]"
     ]
    },
    {
     "name": "stdout",
     "output_type": "stream",
     "text": [
      "Epoch 1800, Error: 259076.166728, Learning rate: 0.052632\n",
      "Test MAE: 513.866259\n",
      "Test MSE: 445568.473067\n",
      "Test RMSE: 667.509156\n",
      "Test R-Squared: 0.8712\n",
      "Sample 581: Prediction=5009.94, Target=5075\n",
      "Sample 535: Prediction=4961.77, Target=3703\n",
      "Sample 125: Prediction=4936.32, Target=4150\n"
     ]
    },
    {
     "name": "stderr",
     "output_type": "stream",
     "text": [
      "  4%|█▍                                    | 1906/50000 [01:00<25:55, 30.91it/s]"
     ]
    },
    {
     "name": "stdout",
     "output_type": "stream",
     "text": [
      "Epoch 1900, Error: 256024.218424, Learning rate: 0.051282\n",
      "Test MAE: 512.617224\n",
      "Test MSE: 443296.045496\n",
      "Test RMSE: 665.804810\n",
      "Test R-Squared: 0.8718\n",
      "Sample 197: Prediction=2863.82, Target=3650\n",
      "Sample 276: Prediction=4158.98, Target=3768\n",
      "Sample 79: Prediction=4366.12, Target=4111\n"
     ]
    },
    {
     "name": "stderr",
     "output_type": "stream",
     "text": [
      "  4%|█▌                                    | 2006/50000 [01:03<25:41, 31.14it/s]"
     ]
    },
    {
     "name": "stdout",
     "output_type": "stream",
     "text": [
      "Epoch 2000, Error: 252631.286229, Learning rate: 0.050000\n",
      "Test MAE: 512.916478\n",
      "Test MSE: 443518.306665\n",
      "Test RMSE: 665.971701\n",
      "Test R-Squared: 0.8718\n",
      "Sample 568: Prediction=5712.45, Target=5317\n",
      "Sample 241: Prediction=6614.79, Target=6198\n",
      "Sample 705: Prediction=4528.07, Target=4685\n"
     ]
    },
    {
     "name": "stderr",
     "output_type": "stream",
     "text": [
      "  4%|█▌                                    | 2106/50000 [01:06<25:19, 31.53it/s]"
     ]
    },
    {
     "name": "stdout",
     "output_type": "stream",
     "text": [
      "Epoch 2100, Error: 249864.903611, Learning rate: 0.048780\n",
      "Test MAE: 512.715113\n",
      "Test MSE: 443130.680483\n",
      "Test RMSE: 665.680614\n",
      "Test R-Squared: 0.8719\n",
      "Sample 221: Prediction=5937.21, Target=6293\n",
      "Sample 420: Prediction=2999.39, Target=3141\n",
      "Sample 295: Prediction=6146.43, Target=5701\n"
     ]
    },
    {
     "name": "stderr",
     "output_type": "stream",
     "text": [
      "  4%|█▋                                    | 2206/50000 [01:09<25:26, 31.31it/s]"
     ]
    },
    {
     "name": "stdout",
     "output_type": "stream",
     "text": [
      "Epoch 2200, Error: 247327.646011, Learning rate: 0.047619\n",
      "Test MAE: 512.776549\n",
      "Test MSE: 442781.049717\n",
      "Test RMSE: 665.417951\n",
      "Test R-Squared: 0.8720\n",
      "Sample 57: Prediction=4245.42, Target=3959\n",
      "Sample 73: Prediction=3627.65, Target=3565\n",
      "Sample 563: Prediction=152.63, Target=0\n"
     ]
    },
    {
     "name": "stderr",
     "output_type": "stream",
     "text": [
      "  5%|█▊                                    | 2306/50000 [01:13<25:15, 31.46it/s]"
     ]
    },
    {
     "name": "stdout",
     "output_type": "stream",
     "text": [
      "Epoch 2300, Error: 243326.795644, Learning rate: 0.046512\n",
      "Test MAE: 509.270870\n",
      "Test MSE: 437234.529074\n",
      "Test RMSE: 661.237120\n",
      "Test R-Squared: 0.8736\n",
      "Sample 646: Prediction=4816.63, Target=5688\n",
      "Sample 587: Prediction=162.11, Target=0\n",
      "Sample 183: Prediction=68.49, Target=0\n"
     ]
    },
    {
     "name": "stderr",
     "output_type": "stream",
     "text": [
      "  5%|█▊                                    | 2406/50000 [01:16<25:14, 31.43it/s]"
     ]
    },
    {
     "name": "stdout",
     "output_type": "stream",
     "text": [
      "Epoch 2400, Error: 234360.621603, Learning rate: 0.045455\n",
      "Test MAE: 499.138933\n",
      "Test MSE: 417027.041670\n",
      "Test RMSE: 645.776309\n",
      "Test R-Squared: 0.8794\n",
      "Sample 742: Prediction=5239.03, Target=4435\n",
      "Sample 201: Prediction=4983.61, Target=4128\n",
      "Sample 158: Prediction=4131.80, Target=3785\n"
     ]
    },
    {
     "name": "stderr",
     "output_type": "stream",
     "text": [
      "  5%|█▉                                    | 2505/50000 [01:19<26:30, 29.86it/s]"
     ]
    },
    {
     "name": "stdout",
     "output_type": "stream",
     "text": [
      "Epoch 2500, Error: 230025.439387, Learning rate: 0.044444\n",
      "Test MAE: 498.116441\n",
      "Test MSE: 413956.254826\n",
      "Test RMSE: 643.394323\n",
      "Test R-Squared: 0.8803\n",
      "Sample 95: Prediction=4191.05, Target=3982\n",
      "Sample 49: Prediction=87.05, Target=0\n",
      "Sample 418: Prediction=6406.39, Target=6196\n"
     ]
    },
    {
     "name": "stderr",
     "output_type": "stream",
     "text": [
      "  5%|█▉                                    | 2605/50000 [01:22<25:05, 31.47it/s]"
     ]
    },
    {
     "name": "stdout",
     "output_type": "stream",
     "text": [
      "Epoch 2600, Error: 226529.283644, Learning rate: 0.043478\n",
      "Test MAE: 495.974320\n",
      "Test MSE: 410430.608987\n",
      "Test RMSE: 640.648585\n",
      "Test R-Squared: 0.8813\n",
      "Sample 336: Prediction=8612.33, Target=8277\n",
      "Sample 510: Prediction=4482.39, Target=3680\n",
      "Sample 6: Prediction=5545.00, Target=5263\n"
     ]
    },
    {
     "name": "stderr",
     "output_type": "stream",
     "text": [
      "  5%|██                                    | 2705/50000 [01:25<25:39, 30.72it/s]"
     ]
    },
    {
     "name": "stdout",
     "output_type": "stream",
     "text": [
      "Epoch 2700, Error: 223650.013801, Learning rate: 0.042553\n",
      "Test MAE: 494.772819\n",
      "Test MSE: 407851.444869\n",
      "Test RMSE: 638.632480\n",
      "Test R-Squared: 0.8821\n",
      "Sample 567: Prediction=7720.07, Target=6660\n",
      "Sample 719: Prediction=5691.66, Target=5720\n",
      "Sample 525: Prediction=3952.78, Target=3957\n"
     ]
    },
    {
     "name": "stderr",
     "output_type": "stream",
     "text": [
      "  6%|██▏                                   | 2805/50000 [01:29<26:01, 30.23it/s]"
     ]
    },
    {
     "name": "stdout",
     "output_type": "stream",
     "text": [
      "Epoch 2800, Error: 220421.485380, Learning rate: 0.041667\n",
      "Test MAE: 493.914613\n",
      "Test MSE: 404352.828534\n",
      "Test RMSE: 635.887434\n",
      "Test R-Squared: 0.8831\n",
      "Sample 0: Prediction=45.92, Target=0\n",
      "Sample 602: Prediction=5390.77, Target=5138\n",
      "Sample 273: Prediction=5240.29, Target=4663\n"
     ]
    },
    {
     "name": "stderr",
     "output_type": "stream",
     "text": [
      "  6%|██▏                                   | 2905/50000 [01:32<25:28, 30.81it/s]"
     ]
    },
    {
     "name": "stdout",
     "output_type": "stream",
     "text": [
      "Epoch 2900, Error: 218040.243855, Learning rate: 0.040816\n",
      "Test MAE: 494.167249\n",
      "Test MSE: 403770.174263\n",
      "Test RMSE: 635.429126\n",
      "Test R-Squared: 0.8833\n",
      "Sample 168: Prediction=5087.99, Target=5190\n",
      "Sample 472: Prediction=5718.67, Target=5176\n",
      "Sample 159: Prediction=4609.51, Target=4757\n"
     ]
    },
    {
     "name": "stderr",
     "output_type": "stream",
     "text": [
      "  6%|██▎                                   | 3005/50000 [01:35<24:57, 31.39it/s]"
     ]
    },
    {
     "name": "stdout",
     "output_type": "stream",
     "text": [
      "Epoch 3000, Error: 216163.435476, Learning rate: 0.040000\n",
      "Test MAE: 493.829337\n",
      "Test MSE: 402837.428509\n",
      "Test RMSE: 634.694752\n",
      "Test R-Squared: 0.8835\n",
      "Sample 655: Prediction=5625.15, Target=5407\n",
      "Sample 444: Prediction=6645.46, Target=6239\n",
      "Sample 97: Prediction=5241.17, Target=5083\n"
     ]
    },
    {
     "name": "stderr",
     "output_type": "stream",
     "text": [
      "  6%|██▎                                   | 3105/50000 [01:38<25:07, 31.11it/s]"
     ]
    },
    {
     "name": "stdout",
     "output_type": "stream",
     "text": [
      "Epoch 3100, Error: 214544.668101, Learning rate: 0.039216\n",
      "Test MAE: 493.723857\n",
      "Test MSE: 402887.971045\n",
      "Test RMSE: 634.734567\n",
      "Test R-Squared: 0.8835\n",
      "Sample 44: Prediction=3650.49, Target=3773\n",
      "Sample 719: Prediction=5688.99, Target=5720\n",
      "Sample 614: Prediction=4733.62, Target=4790\n"
     ]
    },
    {
     "name": "stderr",
     "output_type": "stream",
     "text": [
      "  6%|██▍                                   | 3205/50000 [01:41<24:51, 31.38it/s]"
     ]
    },
    {
     "name": "stdout",
     "output_type": "stream",
     "text": [
      "Epoch 3200, Error: 212538.960399, Learning rate: 0.038462\n",
      "Test MAE: 492.354017\n",
      "Test MSE: 400922.747268\n",
      "Test RMSE: 633.184608\n",
      "Test R-Squared: 0.8841\n",
      "Sample 470: Prediction=-93.49, Target=0\n",
      "Sample 713: Prediction=4285.75, Target=4676\n",
      "Sample 678: Prediction=3724.28, Target=4574\n"
     ]
    },
    {
     "name": "stderr",
     "output_type": "stream",
     "text": [
      "  7%|██▌                                   | 3305/50000 [01:44<24:42, 31.50it/s]"
     ]
    },
    {
     "name": "stdout",
     "output_type": "stream",
     "text": [
      "Epoch 3300, Error: 209517.481568, Learning rate: 0.037736\n",
      "Test MAE: 490.012709\n",
      "Test MSE: 396963.990716\n",
      "Test RMSE: 630.050784\n",
      "Test R-Squared: 0.8852\n",
      "Sample 663: Prediction=4483.23, Target=4823\n",
      "Sample 410: Prediction=5569.25, Target=4796\n",
      "Sample 288: Prediction=5876.16, Target=5482\n"
     ]
    },
    {
     "name": "stderr",
     "output_type": "stream",
     "text": [
      "  7%|██▌                                   | 3405/50000 [01:48<25:30, 30.44it/s]"
     ]
    },
    {
     "name": "stdout",
     "output_type": "stream",
     "text": [
      "Epoch 3400, Error: 204280.532075, Learning rate: 0.037037\n",
      "Test MAE: 485.986941\n",
      "Test MSE: 390598.566477\n",
      "Test RMSE: 624.978853\n",
      "Test R-Squared: 0.8871\n",
      "Sample 48: Prediction=4598.88, Target=4163\n",
      "Sample 741: Prediction=4341.67, Target=4461\n",
      "Sample 351: Prediction=9599.05, Target=8414\n"
     ]
    },
    {
     "name": "stderr",
     "output_type": "stream",
     "text": [
      "  7%|██▋                                   | 3505/50000 [01:51<24:44, 31.31it/s]"
     ]
    },
    {
     "name": "stdout",
     "output_type": "stream",
     "text": [
      "Epoch 3500, Error: 195411.539019, Learning rate: 0.036364\n",
      "Test MAE: 476.016315\n",
      "Test MSE: 374523.751199\n",
      "Test RMSE: 611.983457\n",
      "Test R-Squared: 0.8917\n",
      "Sample 353: Prediction=3942.15, Target=4030\n",
      "Sample 482: Prediction=3895.22, Target=3919\n",
      "Sample 639: Prediction=5495.65, Target=5222\n"
     ]
    },
    {
     "name": "stderr",
     "output_type": "stream",
     "text": [
      "  7%|██▋                                   | 3605/50000 [01:54<25:12, 30.67it/s]"
     ]
    },
    {
     "name": "stdout",
     "output_type": "stream",
     "text": [
      "Epoch 3600, Error: 189154.461025, Learning rate: 0.035714\n",
      "Test MAE: 465.093035\n",
      "Test MSE: 355409.767085\n",
      "Test RMSE: 596.162534\n",
      "Test R-Squared: 0.8972\n",
      "Sample 344: Prediction=6544.67, Target=5471\n",
      "Sample 146: Prediction=-72.67, Target=0\n",
      "Sample 485: Prediction=5996.61, Target=5912\n"
     ]
    },
    {
     "name": "stderr",
     "output_type": "stream",
     "text": [
      "  7%|██▊                                   | 3706/50000 [01:57<26:14, 29.40it/s]"
     ]
    },
    {
     "name": "stdout",
     "output_type": "stream",
     "text": [
      "Epoch 3700, Error: 184743.692129, Learning rate: 0.035088\n",
      "Test MAE: 460.040722\n",
      "Test MSE: 347369.304529\n",
      "Test RMSE: 589.380441\n",
      "Test R-Squared: 0.8996\n",
      "Sample 464: Prediction=4101.87, Target=3516\n",
      "Sample 297: Prediction=4478.07, Target=4042\n",
      "Sample 127: Prediction=3477.93, Target=3901\n"
     ]
    },
    {
     "name": "stderr",
     "output_type": "stream",
     "text": [
      "  8%|██▉                                   | 3806/50000 [02:01<25:09, 30.60it/s]"
     ]
    },
    {
     "name": "stdout",
     "output_type": "stream",
     "text": [
      "Epoch 3800, Error: 181541.575487, Learning rate: 0.034483\n",
      "Test MAE: 458.026710\n",
      "Test MSE: 343988.570724\n",
      "Test RMSE: 586.505388\n",
      "Test R-Squared: 0.9005\n",
      "Sample 19: Prediction=5718.47, Target=5242\n",
      "Sample 253: Prediction=103.65, Target=0\n",
      "Sample 42: Prediction=3696.15, Target=3591\n"
     ]
    },
    {
     "name": "stderr",
     "output_type": "stream",
     "text": [
      "  8%|██▉                                   | 3906/50000 [02:04<24:36, 31.22it/s]"
     ]
    },
    {
     "name": "stdout",
     "output_type": "stream",
     "text": [
      "Epoch 3900, Error: 179230.026558, Learning rate: 0.033898\n",
      "Test MAE: 455.613870\n",
      "Test MSE: 340869.544348\n",
      "Test RMSE: 583.840341\n",
      "Test R-Squared: 0.9014\n",
      "Sample 448: Prediction=5116.69, Target=4726\n",
      "Sample 339: Prediction=4480.10, Target=3875\n",
      "Sample 637: Prediction=4093.38, Target=4881\n"
     ]
    },
    {
     "name": "stderr",
     "output_type": "stream",
     "text": [
      "  8%|███                                   | 4005/50000 [02:07<24:21, 31.47it/s]"
     ]
    },
    {
     "name": "stdout",
     "output_type": "stream",
     "text": [
      "Epoch 4000, Error: 177494.585373, Learning rate: 0.033333\n",
      "Test MAE: 455.576460\n",
      "Test MSE: 339833.194720\n",
      "Test RMSE: 582.952138\n",
      "Test R-Squared: 0.9017\n",
      "Sample 619: Prediction=3794.34, Target=3900\n",
      "Sample 246: Prediction=4963.43, Target=3680\n",
      "Sample 610: Prediction=-32.01, Target=0\n"
     ]
    },
    {
     "name": "stderr",
     "output_type": "stream",
     "text": [
      "  8%|███                                   | 4105/50000 [02:10<24:42, 30.95it/s]"
     ]
    },
    {
     "name": "stdout",
     "output_type": "stream",
     "text": [
      "Epoch 4100, Error: 175825.892572, Learning rate: 0.032787\n",
      "Test MAE: 455.875395\n",
      "Test MSE: 340099.903044\n",
      "Test RMSE: 583.180849\n",
      "Test R-Squared: 0.9017\n",
      "Sample 402: Prediction=4324.35, Target=4648\n",
      "Sample 287: Prediction=5810.85, Target=5241\n",
      "Sample 480: Prediction=5259.87, Target=4868\n"
     ]
    },
    {
     "name": "stderr",
     "output_type": "stream",
     "text": [
      "  8%|███▏                                  | 4205/50000 [02:14<24:18, 31.40it/s]"
     ]
    },
    {
     "name": "stdout",
     "output_type": "stream",
     "text": [
      "Epoch 4200, Error: 174044.292052, Learning rate: 0.032258\n",
      "Test MAE: 456.152934\n",
      "Test MSE: 340367.128259\n",
      "Test RMSE: 583.409914\n",
      "Test R-Squared: 0.9016\n",
      "Sample 157: Prediction=6614.66, Target=6788\n",
      "Sample 639: Prediction=5545.48, Target=5222\n",
      "Sample 29: Prediction=6027.53, Target=5340\n"
     ]
    },
    {
     "name": "stderr",
     "output_type": "stream",
     "text": [
      "  9%|███▎                                  | 4305/50000 [02:17<24:21, 31.27it/s]"
     ]
    },
    {
     "name": "stdout",
     "output_type": "stream",
     "text": [
      "Epoch 4300, Error: 170433.755680, Learning rate: 0.031746\n",
      "Test MAE: 455.809462\n",
      "Test MSE: 336753.868816\n",
      "Test RMSE: 580.304979\n",
      "Test R-Squared: 0.9026\n",
      "Sample 486: Prediction=5187.64, Target=5225\n",
      "Sample 584: Prediction=5828.36, Target=4924\n",
      "Sample 443: Prediction=316.41, Target=0\n"
     ]
    },
    {
     "name": "stderr",
     "output_type": "stream",
     "text": [
      "  9%|███▎                                  | 4405/50000 [02:20<24:42, 30.76it/s]"
     ]
    },
    {
     "name": "stdout",
     "output_type": "stream",
     "text": [
      "Epoch 4400, Error: 168273.983070, Learning rate: 0.031250\n",
      "Test MAE: 453.749326\n",
      "Test MSE: 333474.101236\n",
      "Test RMSE: 577.472165\n",
      "Test R-Squared: 0.9036\n",
      "Sample 414: Prediction=61.83, Target=0\n",
      "Sample 220: Prediction=-100.24, Target=0\n",
      "Sample 53: Prediction=5341.58, Target=5220\n"
     ]
    },
    {
     "name": "stderr",
     "output_type": "stream",
     "text": [
      "  9%|███▍                                  | 4505/50000 [02:23<24:25, 31.04it/s]"
     ]
    },
    {
     "name": "stdout",
     "output_type": "stream",
     "text": [
      "Epoch 4500, Error: 164561.438453, Learning rate: 0.030769\n",
      "Test MAE: 450.739484\n",
      "Test MSE: 329802.241127\n",
      "Test RMSE: 574.284112\n",
      "Test R-Squared: 0.9046\n",
      "Sample 287: Prediction=5758.38, Target=5241\n",
      "Sample 116: Prediction=4445.25, Target=4001\n",
      "Sample 603: Prediction=5965.49, Target=6057\n"
     ]
    },
    {
     "name": "stderr",
     "output_type": "stream",
     "text": [
      "  9%|███▍                                  | 4605/50000 [02:26<24:17, 31.15it/s]"
     ]
    },
    {
     "name": "stdout",
     "output_type": "stream",
     "text": [
      "Epoch 4600, Error: 158056.671707, Learning rate: 0.030303\n",
      "Test MAE: 442.675505\n",
      "Test MSE: 317531.944203\n",
      "Test RMSE: 563.499729\n",
      "Test R-Squared: 0.9082\n",
      "Sample 613: Prediction=4438.91, Target=4421\n",
      "Sample 207: Prediction=4264.92, Target=4280\n",
      "Sample 709: Prediction=7847.59, Target=7380\n"
     ]
    },
    {
     "name": "stderr",
     "output_type": "stream",
     "text": [
      "  9%|███▌                                  | 4705/50000 [02:29<24:15, 31.12it/s]"
     ]
    },
    {
     "name": "stdout",
     "output_type": "stream",
     "text": [
      "Epoch 4700, Error: 150602.412713, Learning rate: 0.029851\n",
      "Test MAE: 434.172163\n",
      "Test MSE: 304779.012500\n",
      "Test RMSE: 552.067942\n",
      "Test R-Squared: 0.9119\n",
      "Sample 262: Prediction=8386.62, Target=8069\n",
      "Sample 327: Prediction=6358.69, Target=5726\n",
      "Sample 589: Prediction=189.51, Target=0\n"
     ]
    },
    {
     "name": "stderr",
     "output_type": "stream",
     "text": [
      " 10%|███▋                                  | 4805/50000 [02:33<24:10, 31.15it/s]"
     ]
    },
    {
     "name": "stdout",
     "output_type": "stream",
     "text": [
      "Epoch 4800, Error: 145888.962443, Learning rate: 0.029412\n",
      "Test MAE: 429.093283\n",
      "Test MSE: 295430.567198\n",
      "Test RMSE: 543.535249\n",
      "Test R-Squared: 0.9146\n",
      "Sample 159: Prediction=4629.71, Target=4757\n",
      "Sample 688: Prediction=5125.07, Target=4717\n",
      "Sample 145: Prediction=3163.82, Target=3257\n"
     ]
    },
    {
     "name": "stderr",
     "output_type": "stream",
     "text": [
      " 10%|███▋                                  | 4905/50000 [02:36<23:59, 31.33it/s]"
     ]
    },
    {
     "name": "stdout",
     "output_type": "stream",
     "text": [
      "Epoch 4900, Error: 143438.250811, Learning rate: 0.028986\n",
      "Test MAE: 429.038513\n",
      "Test MSE: 292523.705436\n",
      "Test RMSE: 540.854607\n",
      "Test R-Squared: 0.9154\n",
      "Sample 369: Prediction=11.12, Target=0\n",
      "Sample 432: Prediction=349.71, Target=0\n",
      "Sample 403: Prediction=4211.98, Target=4985\n"
     ]
    },
    {
     "name": "stderr",
     "output_type": "stream",
     "text": [
      " 10%|███▊                                  | 5005/50000 [02:39<23:54, 31.38it/s]"
     ]
    },
    {
     "name": "stdout",
     "output_type": "stream",
     "text": [
      "Epoch 5000, Error: 139705.636192, Learning rate: 0.028571\n",
      "Test MAE: 421.871824\n",
      "Test MSE: 281443.659414\n",
      "Test RMSE: 530.512638\n",
      "Test R-Squared: 0.9186\n",
      "Sample 739: Prediction=5037.35, Target=4738\n",
      "Sample 226: Prediction=5201.66, Target=5083\n",
      "Sample 413: Prediction=3404.37, Target=2362\n"
     ]
    },
    {
     "name": "stderr",
     "output_type": "stream",
     "text": [
      " 10%|███▉                                  | 5105/50000 [02:42<23:50, 31.38it/s]"
     ]
    },
    {
     "name": "stdout",
     "output_type": "stream",
     "text": [
      "Epoch 5100, Error: 137368.616078, Learning rate: 0.028169\n",
      "Test MAE: 420.520759\n",
      "Test MSE: 278087.638258\n",
      "Test RMSE: 527.340154\n",
      "Test R-Squared: 0.9196\n",
      "Sample 122: Prediction=3620.77, Target=3755\n",
      "Sample 619: Prediction=3838.13, Target=3900\n",
      "Sample 118: Prediction=5324.74, Target=4949\n"
     ]
    },
    {
     "name": "stderr",
     "output_type": "stream",
     "text": [
      " 10%|███▉                                  | 5205/50000 [02:45<23:40, 31.53it/s]"
     ]
    },
    {
     "name": "stdout",
     "output_type": "stream",
     "text": [
      "Epoch 5200, Error: 135935.066379, Learning rate: 0.027778\n",
      "Test MAE: 420.248123\n",
      "Test MSE: 276554.725425\n",
      "Test RMSE: 525.884707\n",
      "Test R-Squared: 0.9200\n",
      "Sample 243: Prediction=5016.65, Target=4727\n",
      "Sample 565: Prediction=3724.90, Target=4097\n",
      "Sample 401: Prediction=4624.45, Target=4665\n"
     ]
    },
    {
     "name": "stderr",
     "output_type": "stream",
     "text": [
      " 11%|████                                  | 5305/50000 [02:49<23:37, 31.54it/s]"
     ]
    },
    {
     "name": "stdout",
     "output_type": "stream",
     "text": [
      "Epoch 5300, Error: 134440.856606, Learning rate: 0.027397\n",
      "Test MAE: 420.410275\n",
      "Test MSE: 275729.098342\n",
      "Test RMSE: 525.099132\n",
      "Test R-Squared: 0.9203\n",
      "Sample 358: Prediction=-26.89, Target=0\n",
      "Sample 471: Prediction=4354.32, Target=4116\n",
      "Sample 393: Prediction=4903.75, Target=4809\n"
     ]
    },
    {
     "name": "stderr",
     "output_type": "stream",
     "text": [
      " 11%|████                                  | 5405/50000 [02:52<23:32, 31.57it/s]"
     ]
    },
    {
     "name": "stdout",
     "output_type": "stream",
     "text": [
      "Epoch 5400, Error: 132878.348532, Learning rate: 0.027027\n",
      "Test MAE: 421.132785\n",
      "Test MSE: 275448.857164\n",
      "Test RMSE: 524.832218\n",
      "Test R-Squared: 0.9204\n",
      "Sample 457: Prediction=4973.01, Target=5103\n",
      "Sample 643: Prediction=4083.59, Target=4086\n",
      "Sample 202: Prediction=3146.55, Target=3535\n"
     ]
    },
    {
     "name": "stderr",
     "output_type": "stream",
     "text": [
      " 11%|████▏                                 | 5505/50000 [02:55<23:31, 31.51it/s]"
     ]
    },
    {
     "name": "stdout",
     "output_type": "stream",
     "text": [
      "Epoch 5500, Error: 131529.548087, Learning rate: 0.026667\n",
      "Test MAE: 420.254383\n",
      "Test MSE: 273101.173474\n",
      "Test RMSE: 522.590828\n",
      "Test R-Squared: 0.9210\n",
      "Sample 164: Prediction=5656.58, Target=5691\n",
      "Sample 36: Prediction=4541.32, Target=4038\n",
      "Sample 737: Prediction=4562.29, Target=4931\n"
     ]
    },
    {
     "name": "stderr",
     "output_type": "stream",
     "text": [
      " 11%|████▎                                 | 5605/50000 [02:58<23:25, 31.58it/s]"
     ]
    },
    {
     "name": "stdout",
     "output_type": "stream",
     "text": [
      "Epoch 5600, Error: 130126.272160, Learning rate: 0.026316\n",
      "Test MAE: 420.193539\n",
      "Test MSE: 272563.385959\n",
      "Test RMSE: 522.076035\n",
      "Test R-Squared: 0.9212\n",
      "Sample 451: Prediction=5990.80, Target=5397\n",
      "Sample 537: Prediction=4249.56, Target=4720\n",
      "Sample 216: Prediction=4907.82, Target=3939\n"
     ]
    },
    {
     "name": "stderr",
     "output_type": "stream",
     "text": [
      " 11%|████▎                                 | 5705/50000 [03:01<23:22, 31.58it/s]"
     ]
    },
    {
     "name": "stdout",
     "output_type": "stream",
     "text": [
      "Epoch 5700, Error: 128056.016325, Learning rate: 0.025974\n",
      "Test MAE: 419.691517\n",
      "Test MSE: 272400.059668\n",
      "Test RMSE: 521.919591\n",
      "Test R-Squared: 0.9212\n",
      "Sample 503: Prediction=4285.96, Target=4110\n",
      "Sample 419: Prediction=6193.79, Target=5735\n",
      "Sample 228: Prediction=4500.77, Target=4390\n"
     ]
    },
    {
     "name": "stderr",
     "output_type": "stream",
     "text": [
      " 12%|████▍                                 | 5805/50000 [03:04<23:17, 31.61it/s]"
     ]
    },
    {
     "name": "stdout",
     "output_type": "stream",
     "text": [
      "Epoch 5800, Error: 126608.901441, Learning rate: 0.025641\n",
      "Test MAE: 418.496261\n",
      "Test MSE: 271411.672007\n",
      "Test RMSE: 520.971853\n",
      "Test R-Squared: 0.9215\n",
      "Sample 257: Prediction=4634.76, Target=4008\n",
      "Sample 128: Prediction=4541.89, Target=4015\n",
      "Sample 443: Prediction=331.52, Target=0\n"
     ]
    },
    {
     "name": "stderr",
     "output_type": "stream",
     "text": [
      " 12%|████▍                                 | 5905/50000 [03:07<23:17, 31.56it/s]"
     ]
    },
    {
     "name": "stdout",
     "output_type": "stream",
     "text": [
      "Epoch 5900, Error: 125635.091229, Learning rate: 0.025316\n",
      "Test MAE: 418.520808\n",
      "Test MSE: 271128.398073\n",
      "Test RMSE: 520.699912\n",
      "Test R-Squared: 0.9216\n",
      "Sample 330: Prediction=4431.20, Target=4558\n",
      "Sample 69: Prediction=4009.61, Target=4016\n",
      "Sample 649: Prediction=-25.03, Target=0\n"
     ]
    },
    {
     "name": "stderr",
     "output_type": "stream",
     "text": [
      " 12%|████▌                                 | 6005/50000 [03:11<23:19, 31.43it/s]"
     ]
    },
    {
     "name": "stdout",
     "output_type": "stream",
     "text": [
      "Epoch 6000, Error: 124603.440738, Learning rate: 0.025000\n",
      "Test MAE: 418.645809\n",
      "Test MSE: 271155.633586\n",
      "Test RMSE: 520.726064\n",
      "Test R-Squared: 0.9216\n",
      "Sample 148: Prediction=6420.45, Target=6106\n",
      "Sample 374: Prediction=3819.52, Target=3695\n",
      "Sample 230: Prediction=5887.27, Target=5292\n"
     ]
    },
    {
     "name": "stderr",
     "output_type": "stream",
     "text": [
      " 12%|████▋                                 | 6105/50000 [03:14<23:09, 31.58it/s]"
     ]
    },
    {
     "name": "stdout",
     "output_type": "stream",
     "text": [
      "Epoch 6100, Error: 123691.057713, Learning rate: 0.024691\n",
      "Test MAE: 418.623592\n",
      "Test MSE: 271086.788594\n",
      "Test RMSE: 520.659955\n",
      "Test R-Squared: 0.9216\n",
      "Sample 316: Prediction=6557.31, Target=7132\n",
      "Sample 267: Prediction=6523.13, Target=5804\n",
      "Sample 576: Prediction=4607.46, Target=4718\n"
     ]
    },
    {
     "name": "stderr",
     "output_type": "stream",
     "text": [
      " 12%|████▋                                 | 6205/50000 [03:17<23:32, 31.00it/s]"
     ]
    },
    {
     "name": "stdout",
     "output_type": "stream",
     "text": [
      "Epoch 6200, Error: 122676.306498, Learning rate: 0.024390\n",
      "Test MAE: 418.333104\n",
      "Test MSE: 270771.237371\n",
      "Test RMSE: 520.356837\n",
      "Test R-Squared: 0.9217\n",
      "Sample 534: Prediction=4296.73, Target=4419\n",
      "Sample 285: Prediction=3968.28, Target=3937\n",
      "Sample 736: Prediction=5516.63, Target=4903\n"
     ]
    },
    {
     "name": "stderr",
     "output_type": "stream",
     "text": [
      " 13%|████▊                                 | 6304/50000 [03:20<23:12, 31.39it/s]"
     ]
    },
    {
     "name": "stdout",
     "output_type": "stream",
     "text": [
      "Epoch 6300, Error: 121711.078853, Learning rate: 0.024096\n",
      "Test MAE: 418.015797\n",
      "Test MSE: 270270.219132\n",
      "Test RMSE: 519.875196\n",
      "Test R-Squared: 0.9219\n",
      "Sample 456: Prediction=5156.93, Target=4583\n",
      "Sample 71: Prediction=5784.71, Target=5012\n",
      "Sample 19: Prediction=5660.89, Target=5242\n"
     ]
    },
    {
     "name": "stderr",
     "output_type": "stream",
     "text": [
      " 13%|████▊                                 | 6404/50000 [03:23<23:27, 30.97it/s]"
     ]
    },
    {
     "name": "stdout",
     "output_type": "stream",
     "text": [
      "Epoch 6400, Error: 120626.230344, Learning rate: 0.023810\n",
      "Test MAE: 418.022667\n",
      "Test MSE: 269950.847520\n",
      "Test RMSE: 519.567943\n",
      "Test R-Squared: 0.9219\n",
      "Sample 725: Prediction=5278.81, Target=5151\n",
      "Sample 228: Prediction=4513.09, Target=4390\n",
      "Sample 230: Prediction=5863.99, Target=5292\n"
     ]
    },
    {
     "name": "stderr",
     "output_type": "stream",
     "text": [
      " 13%|████▉                                 | 6504/50000 [03:26<23:12, 31.24it/s]"
     ]
    },
    {
     "name": "stdout",
     "output_type": "stream",
     "text": [
      "Epoch 6500, Error: 119641.350788, Learning rate: 0.023529\n",
      "Test MAE: 417.865261\n",
      "Test MSE: 269401.336484\n",
      "Test RMSE: 519.038858\n",
      "Test R-Squared: 0.9221\n",
      "Sample 264: Prediction=4135.39, Target=3990\n",
      "Sample 398: Prediction=4548.79, Target=4044\n",
      "Sample 450: Prediction=3683.78, Target=3352\n"
     ]
    },
    {
     "name": "stderr",
     "output_type": "stream",
     "text": [
      " 13%|█████                                 | 6604/50000 [03:30<23:01, 31.41it/s]"
     ]
    },
    {
     "name": "stdout",
     "output_type": "stream",
     "text": [
      "Epoch 6600, Error: 118691.790020, Learning rate: 0.023256\n",
      "Test MAE: 417.505426\n",
      "Test MSE: 268759.417338\n",
      "Test RMSE: 518.420117\n",
      "Test R-Squared: 0.9223\n",
      "Sample 473: Prediction=3557.53, Target=4161\n",
      "Sample 565: Prediction=3728.31, Target=4097\n",
      "Sample 733: Prediction=5042.77, Target=5064\n"
     ]
    },
    {
     "name": "stderr",
     "output_type": "stream",
     "text": [
      " 13%|█████                                 | 6704/50000 [03:33<22:58, 31.41it/s]"
     ]
    },
    {
     "name": "stdout",
     "output_type": "stream",
     "text": [
      "Epoch 6700, Error: 117494.527552, Learning rate: 0.022989\n",
      "Test MAE: 416.316793\n",
      "Test MSE: 267135.144173\n",
      "Test RMSE: 516.851182\n",
      "Test R-Squared: 0.9228\n",
      "Sample 269: Prediction=7170.07, Target=6803\n",
      "Sample 236: Prediction=-31.17, Target=0\n",
      "Sample 418: Prediction=6310.62, Target=6196\n"
     ]
    },
    {
     "name": "stderr",
     "output_type": "stream",
     "text": [
      " 14%|█████▏                                | 6804/50000 [03:36<22:51, 31.49it/s]"
     ]
    },
    {
     "name": "stdout",
     "output_type": "stream",
     "text": [
      "Epoch 6800, Error: 114637.266553, Learning rate: 0.022727\n",
      "Test MAE: 411.317029\n",
      "Test MSE: 262003.278645\n",
      "Test RMSE: 511.862558\n",
      "Test R-Squared: 0.9242\n",
      "Sample 256: Prediction=4897.97, Target=4781\n",
      "Sample 247: Prediction=3365.24, Target=3593\n",
      "Sample 230: Prediction=5807.57, Target=5292\n"
     ]
    },
    {
     "name": "stderr",
     "output_type": "stream",
     "text": [
      " 14%|█████▏                                | 6906/50000 [03:39<24:56, 28.80it/s]"
     ]
    },
    {
     "name": "stdout",
     "output_type": "stream",
     "text": [
      "Epoch 6900, Error: 112980.619977, Learning rate: 0.022472\n",
      "Test MAE: 408.867165\n",
      "Test MSE: 258731.073213\n",
      "Test RMSE: 508.656144\n",
      "Test R-Squared: 0.9252\n",
      "Sample 409: Prediction=-184.08, Target=0\n",
      "Sample 128: Prediction=4525.96, Target=4015\n",
      "Sample 255: Prediction=7232.25, Target=6943\n"
     ]
    },
    {
     "name": "stderr",
     "output_type": "stream",
     "text": [
      " 14%|█████▎                                | 7006/50000 [03:43<22:42, 31.55it/s]"
     ]
    },
    {
     "name": "stdout",
     "output_type": "stream",
     "text": [
      "Epoch 7000, Error: 111889.529948, Learning rate: 0.022222\n",
      "Test MAE: 407.852952\n",
      "Test MSE: 257740.080912\n",
      "Test RMSE: 507.681082\n",
      "Test R-Squared: 0.9255\n",
      "Sample 509: Prediction=4630.20, Target=4945\n",
      "Sample 257: Prediction=4633.31, Target=4008\n",
      "Sample 738: Prediction=-175.80, Target=0\n"
     ]
    },
    {
     "name": "stderr",
     "output_type": "stream",
     "text": [
      " 14%|█████▍                                | 7106/50000 [03:46<22:36, 31.62it/s]"
     ]
    },
    {
     "name": "stdout",
     "output_type": "stream",
     "text": [
      "Epoch 7100, Error: 111099.331278, Learning rate: 0.021978\n",
      "Test MAE: 406.902751\n",
      "Test MSE: 256930.955995\n",
      "Test RMSE: 506.883572\n",
      "Test R-Squared: 0.9257\n",
      "Sample 526: Prediction=4435.45, Target=4492\n",
      "Sample 400: Prediction=6421.16, Target=6407\n",
      "Sample 521: Prediction=102.93, Target=0\n"
     ]
    },
    {
     "name": "stderr",
     "output_type": "stream",
     "text": [
      " 14%|█████▍                                | 7206/50000 [03:49<22:38, 31.49it/s]"
     ]
    },
    {
     "name": "stdout",
     "output_type": "stream",
     "text": [
      "Epoch 7200, Error: 110227.585822, Learning rate: 0.021739\n",
      "Test MAE: 406.315374\n",
      "Test MSE: 256481.526946\n",
      "Test RMSE: 506.440053\n",
      "Test R-Squared: 0.9258\n",
      "Sample 443: Prediction=304.08, Target=0\n",
      "Sample 139: Prediction=4989.93, Target=4708\n",
      "Sample 712: Prediction=3988.40, Target=3912\n"
     ]
    },
    {
     "name": "stderr",
     "output_type": "stream",
     "text": [
      " 15%|█████▌                                | 7306/50000 [03:52<23:02, 30.89it/s]"
     ]
    },
    {
     "name": "stdout",
     "output_type": "stream",
     "text": [
      "Epoch 7300, Error: 109440.452176, Learning rate: 0.021505\n",
      "Test MAE: 405.934853\n",
      "Test MSE: 255937.600971\n",
      "Test RMSE: 505.902758\n",
      "Test R-Squared: 0.9260\n",
      "Sample 677: Prediction=126.34, Target=0\n",
      "Sample 331: Prediction=4439.36, Target=3914\n",
      "Sample 37: Prediction=5568.17, Target=5488\n"
     ]
    },
    {
     "name": "stderr",
     "output_type": "stream",
     "text": [
      " 15%|█████▋                                | 7405/50000 [03:55<22:47, 31.15it/s]"
     ]
    },
    {
     "name": "stdout",
     "output_type": "stream",
     "text": [
      "Epoch 7400, Error: 108810.925632, Learning rate: 0.021277\n",
      "Test MAE: 405.551775\n",
      "Test MSE: 255291.721872\n",
      "Test RMSE: 505.264012\n",
      "Test R-Squared: 0.9262\n",
      "Sample 260: Prediction=4469.66, Target=4663\n",
      "Sample 11: Prediction=115.09, Target=0\n",
      "Sample 516: Prediction=5005.45, Target=4383\n"
     ]
    },
    {
     "name": "stderr",
     "output_type": "stream",
     "text": [
      " 15%|█████▋                                | 7505/50000 [03:58<22:34, 31.37it/s]"
     ]
    },
    {
     "name": "stdout",
     "output_type": "stream",
     "text": [
      "Epoch 7500, Error: 108173.495537, Learning rate: 0.021053\n",
      "Test MAE: 405.175966\n",
      "Test MSE: 254867.644648\n",
      "Test RMSE: 504.844179\n",
      "Test R-Squared: 0.9263\n",
      "Sample 218: Prediction=4662.89, Target=4625\n",
      "Sample 100: Prediction=3864.80, Target=3987\n",
      "Sample 561: Prediction=5775.22, Target=5695\n"
     ]
    },
    {
     "name": "stderr",
     "output_type": "stream",
     "text": [
      " 15%|█████▊                                | 7605/50000 [04:02<22:27, 31.45it/s]"
     ]
    },
    {
     "name": "stdout",
     "output_type": "stream",
     "text": [
      "Epoch 7600, Error: 107499.413374, Learning rate: 0.020833\n",
      "Test MAE: 404.974081\n",
      "Test MSE: 254408.276337\n",
      "Test RMSE: 504.389013\n",
      "Test R-Squared: 0.9264\n",
      "Sample 539: Prediction=4264.67, Target=4743\n",
      "Sample 363: Prediction=234.34, Target=0\n",
      "Sample 447: Prediction=5831.61, Target=5693\n"
     ]
    },
    {
     "name": "stderr",
     "output_type": "stream",
     "text": [
      " 15%|█████▊                                | 7705/50000 [04:05<22:24, 31.45it/s]"
     ]
    },
    {
     "name": "stdout",
     "output_type": "stream",
     "text": [
      "Epoch 7700, Error: 106767.491283, Learning rate: 0.020619\n",
      "Test MAE: 404.672894\n",
      "Test MSE: 253727.941969\n",
      "Test RMSE: 503.714147\n",
      "Test R-Squared: 0.9266\n",
      "Sample 52: Prediction=4090.46, Target=3806\n",
      "Sample 740: Prediction=4131.95, Target=4561\n",
      "Sample 484: Prediction=4063.65, Target=4090\n"
     ]
    },
    {
     "name": "stderr",
     "output_type": "stream",
     "text": [
      " 16%|█████▉                                | 7805/50000 [04:08<22:15, 31.60it/s]"
     ]
    },
    {
     "name": "stdout",
     "output_type": "stream",
     "text": [
      "Epoch 7800, Error: 106037.832109, Learning rate: 0.020408\n",
      "Test MAE: 404.537446\n",
      "Test MSE: 253208.600302\n",
      "Test RMSE: 503.198371\n",
      "Test R-Squared: 0.9268\n",
      "Sample 2: Prediction=5297.64, Target=5237\n",
      "Sample 541: Prediction=4542.59, Target=4318\n",
      "Sample 184: Prediction=6249.15, Target=6110\n"
     ]
    },
    {
     "name": "stderr",
     "output_type": "stream",
     "text": [
      " 16%|██████                                | 7905/50000 [04:11<22:33, 31.10it/s]"
     ]
    },
    {
     "name": "stdout",
     "output_type": "stream",
     "text": [
      "Epoch 7900, Error: 105365.558212, Learning rate: 0.020202\n",
      "Test MAE: 404.312620\n",
      "Test MSE: 252744.641200\n",
      "Test RMSE: 502.737149\n",
      "Test R-Squared: 0.9269\n",
      "Sample 483: Prediction=4834.95, Target=5058\n",
      "Sample 120: Prediction=340.77, Target=0\n",
      "Sample 598: Prediction=-202.63, Target=0\n"
     ]
    },
    {
     "name": "stderr",
     "output_type": "stream",
     "text": [
      " 16%|██████                                | 8005/50000 [04:14<22:08, 31.61it/s]"
     ]
    },
    {
     "name": "stdout",
     "output_type": "stream",
     "text": [
      "Epoch 8000, Error: 104703.950610, Learning rate: 0.020000\n",
      "Test MAE: 404.104992\n",
      "Test MSE: 252367.329308\n",
      "Test RMSE: 502.361751\n",
      "Test R-Squared: 0.9270\n",
      "Sample 688: Prediction=5096.55, Target=4717\n",
      "Sample 230: Prediction=5776.09, Target=5292\n",
      "Sample 238: Prediction=280.48, Target=0\n"
     ]
    },
    {
     "name": "stderr",
     "output_type": "stream",
     "text": [
      " 16%|██████▏                               | 8105/50000 [04:17<22:06, 31.58it/s]"
     ]
    },
    {
     "name": "stdout",
     "output_type": "stream",
     "text": [
      "Epoch 8100, Error: 104039.185031, Learning rate: 0.019802\n",
      "Test MAE: 403.870601\n",
      "Test MSE: 251802.055284\n",
      "Test RMSE: 501.798820\n",
      "Test R-Squared: 0.9272\n",
      "Sample 435: Prediction=5142.22, Target=5269\n",
      "Sample 338: Prediction=5579.95, Target=5263\n",
      "Sample 303: Prediction=4834.50, Target=4963\n"
     ]
    },
    {
     "name": "stderr",
     "output_type": "stream",
     "text": [
      " 16%|██████▏                               | 8205/50000 [04:21<21:58, 31.69it/s]"
     ]
    },
    {
     "name": "stdout",
     "output_type": "stream",
     "text": [
      "Epoch 8200, Error: 103163.803224, Learning rate: 0.019608\n",
      "Test MAE: 403.126705\n",
      "Test MSE: 250569.574585\n",
      "Test RMSE: 500.569251\n",
      "Test R-Squared: 0.9276\n",
      "Sample 123: Prediction=4788.03, Target=4408\n",
      "Sample 345: Prediction=262.95, Target=0\n",
      "Sample 670: Prediction=4640.85, Target=4546\n"
     ]
    },
    {
     "name": "stderr",
     "output_type": "stream",
     "text": [
      " 17%|██████▎                               | 8305/50000 [04:24<21:56, 31.66it/s]"
     ]
    },
    {
     "name": "stdout",
     "output_type": "stream",
     "text": [
      "Epoch 8300, Error: 102311.784746, Learning rate: 0.019417\n",
      "Test MAE: 402.085858\n",
      "Test MSE: 249046.571120\n",
      "Test RMSE: 499.045660\n",
      "Test R-Squared: 0.9280\n",
      "Sample 253: Prediction=180.14, Target=0\n",
      "Sample 129: Prediction=6363.97, Target=6038\n",
      "Sample 743: Prediction=6422.22, Target=6486\n"
     ]
    },
    {
     "name": "stderr",
     "output_type": "stream",
     "text": [
      " 17%|██████▍                               | 8405/50000 [04:27<22:06, 31.37it/s]"
     ]
    },
    {
     "name": "stdout",
     "output_type": "stream",
     "text": [
      "Epoch 8400, Error: 101338.699780, Learning rate: 0.019231\n",
      "Test MAE: 401.304404\n",
      "Test MSE: 247932.689238\n",
      "Test RMSE: 497.928398\n",
      "Test R-Squared: 0.9283\n",
      "Sample 50: Prediction=3804.10, Target=3849\n",
      "Sample 137: Prediction=-30.61, Target=0\n",
      "Sample 148: Prediction=6371.55, Target=6106\n"
     ]
    },
    {
     "name": "stderr",
     "output_type": "stream",
     "text": [
      " 17%|██████▍                               | 8505/50000 [04:30<21:50, 31.66it/s]"
     ]
    },
    {
     "name": "stdout",
     "output_type": "stream",
     "text": [
      "Epoch 8500, Error: 100491.501016, Learning rate: 0.019048\n",
      "Test MAE: 400.464887\n",
      "Test MSE: 246936.635373\n",
      "Test RMSE: 496.927193\n",
      "Test R-Squared: 0.9286\n",
      "Sample 745: Prediction=5556.42, Target=5394\n",
      "Sample 436: Prediction=5765.54, Target=5672\n",
      "Sample 383: Prediction=3700.25, Target=3275\n"
     ]
    },
    {
     "name": "stderr",
     "output_type": "stream",
     "text": [
      " 17%|██████▌                               | 8605/50000 [04:33<21:49, 31.61it/s]"
     ]
    },
    {
     "name": "stdout",
     "output_type": "stream",
     "text": [
      "Epoch 8600, Error: 99689.456526, Learning rate: 0.018868\n",
      "Test MAE: 398.963370\n",
      "Test MSE: 244804.389412\n",
      "Test RMSE: 494.777111\n",
      "Test R-Squared: 0.9292\n",
      "Sample 62: Prediction=3912.21, Target=3299\n",
      "Sample 280: Prediction=3879.89, Target=3547\n",
      "Sample 217: Prediction=4396.59, Target=4647\n"
     ]
    },
    {
     "name": "stderr",
     "output_type": "stream",
     "text": [
      " 17%|██████▌                               | 8705/50000 [04:36<21:47, 31.57it/s]"
     ]
    },
    {
     "name": "stdout",
     "output_type": "stream",
     "text": [
      "Epoch 8700, Error: 98650.234915, Learning rate: 0.018692\n",
      "Test MAE: 398.790599\n",
      "Test MSE: 244005.753620\n",
      "Test RMSE: 493.969385\n",
      "Test R-Squared: 0.9295\n",
      "Sample 279: Prediction=4832.71, Target=4767\n",
      "Sample 226: Prediction=5127.23, Target=5083\n",
      "Sample 555: Prediction=3901.37, Target=4298\n"
     ]
    },
    {
     "name": "stderr",
     "output_type": "stream",
     "text": [
      " 18%|██████▋                               | 8805/50000 [04:39<21:41, 31.64it/s]"
     ]
    },
    {
     "name": "stdout",
     "output_type": "stream",
     "text": [
      "Epoch 8800, Error: 97110.781580, Learning rate: 0.018519\n",
      "Test MAE: 396.435331\n",
      "Test MSE: 241091.283453\n",
      "Test RMSE: 491.010472\n",
      "Test R-Squared: 0.9303\n",
      "Sample 81: Prediction=3617.99, Target=3710\n",
      "Sample 248: Prediction=4873.40, Target=4906\n",
      "Sample 332: Prediction=4604.15, Target=4683\n"
     ]
    },
    {
     "name": "stderr",
     "output_type": "stream",
     "text": [
      " 18%|██████▊                               | 8905/50000 [04:43<21:38, 31.64it/s]"
     ]
    },
    {
     "name": "stdout",
     "output_type": "stream",
     "text": [
      "Epoch 8900, Error: 95300.413850, Learning rate: 0.018349\n",
      "Test MAE: 391.547991\n",
      "Test MSE: 235187.391387\n",
      "Test RMSE: 484.961227\n",
      "Test R-Squared: 0.9320\n",
      "Sample 61: Prediction=4037.40, Target=4068\n",
      "Sample 514: Prediction=5057.04, Target=5171\n",
      "Sample 675: Prediction=3258.59, Target=3502\n"
     ]
    },
    {
     "name": "stderr",
     "output_type": "stream",
     "text": [
      " 18%|██████▊                               | 9005/50000 [04:46<21:38, 31.56it/s]"
     ]
    },
    {
     "name": "stdout",
     "output_type": "stream",
     "text": [
      "Epoch 9000, Error: 76256.352999, Learning rate: 0.018182\n",
      "Test MAE: 368.169849\n",
      "Test MSE: 209866.761132\n",
      "Test RMSE: 458.112171\n",
      "Test R-Squared: 0.9393\n",
      "Sample 709: Prediction=7520.33, Target=7380\n",
      "Sample 129: Prediction=6241.18, Target=6038\n",
      "Sample 515: Prediction=-39.77, Target=0\n"
     ]
    },
    {
     "name": "stderr",
     "output_type": "stream",
     "text": [
      " 18%|██████▉                               | 9105/50000 [04:49<21:38, 31.50it/s]"
     ]
    },
    {
     "name": "stdout",
     "output_type": "stream",
     "text": [
      "Epoch 9100, Error: 74484.088493, Learning rate: 0.018018\n",
      "Test MAE: 358.802061\n",
      "Test MSE: 199129.718034\n",
      "Test RMSE: 446.239530\n",
      "Test R-Squared: 0.9424\n",
      "Sample 354: Prediction=6354.96, Target=6381\n",
      "Sample 576: Prediction=4591.35, Target=4718\n",
      "Sample 363: Prediction=196.42, Target=0\n"
     ]
    },
    {
     "name": "stderr",
     "output_type": "stream",
     "text": [
      " 18%|██████▉                               | 9205/50000 [04:52<21:38, 31.41it/s]"
     ]
    },
    {
     "name": "stdout",
     "output_type": "stream",
     "text": [
      "Epoch 9200, Error: 73695.960206, Learning rate: 0.017857\n",
      "Test MAE: 354.693855\n",
      "Test MSE: 194128.825900\n",
      "Test RMSE: 440.600529\n",
      "Test R-Squared: 0.9439\n",
      "Sample 620: Prediction=3917.81, Target=3621\n",
      "Sample 159: Prediction=4652.34, Target=4757\n",
      "Sample 57: Prediction=4027.03, Target=3959\n"
     ]
    },
    {
     "name": "stderr",
     "output_type": "stream",
     "text": [
      " 19%|███████                               | 9305/50000 [04:55<21:54, 30.95it/s]"
     ]
    },
    {
     "name": "stdout",
     "output_type": "stream",
     "text": [
      "Epoch 9300, Error: 73344.227118, Learning rate: 0.017699\n",
      "Test MAE: 353.515909\n",
      "Test MSE: 192880.241735\n",
      "Test RMSE: 439.181331\n",
      "Test R-Squared: 0.9442\n",
      "Sample 0: Prediction=-40.14, Target=0\n",
      "Sample 29: Prediction=5600.36, Target=5340\n",
      "Sample 106: Prediction=4429.68, Target=4359\n"
     ]
    },
    {
     "name": "stderr",
     "output_type": "stream",
     "text": [
      " 19%|███████▏                              | 9405/50000 [04:58<22:18, 30.33it/s]"
     ]
    },
    {
     "name": "stdout",
     "output_type": "stream",
     "text": [
      "Epoch 9400, Error: 73028.705805, Learning rate: 0.017544\n",
      "Test MAE: 352.823679\n",
      "Test MSE: 192135.804679\n",
      "Test RMSE: 438.332984\n",
      "Test R-Squared: 0.9444\n",
      "Sample 451: Prediction=5904.14, Target=5397\n",
      "Sample 257: Prediction=4510.51, Target=4008\n",
      "Sample 730: Prediction=3946.10, Target=3965\n"
     ]
    },
    {
     "name": "stderr",
     "output_type": "stream",
     "text": [
      " 19%|███████▏                              | 9505/50000 [05:02<21:47, 30.98it/s]"
     ]
    },
    {
     "name": "stdout",
     "output_type": "stream",
     "text": [
      "Epoch 9500, Error: 72708.855659, Learning rate: 0.017391\n",
      "Test MAE: 351.970591\n",
      "Test MSE: 191001.394551\n",
      "Test RMSE: 437.037063\n",
      "Test R-Squared: 0.9448\n",
      "Sample 562: Prediction=5006.98, Target=4944\n",
      "Sample 343: Prediction=16.69, Target=0\n",
      "Sample 174: Prediction=5075.80, Target=5182\n"
     ]
    },
    {
     "name": "stderr",
     "output_type": "stream",
     "text": [
      " 19%|███████▎                              | 9605/50000 [05:05<22:07, 30.43it/s]"
     ]
    },
    {
     "name": "stdout",
     "output_type": "stream",
     "text": [
      "Epoch 9600, Error: 72407.924847, Learning rate: 0.017241\n",
      "Test MAE: 351.919384\n",
      "Test MSE: 190856.171458\n",
      "Test RMSE: 436.870886\n",
      "Test R-Squared: 0.9448\n",
      "Sample 738: Prediction=-115.70, Target=0\n",
      "Sample 350: Prediction=5485.27, Target=5660\n",
      "Sample 522: Prediction=4274.94, Target=4212\n"
     ]
    },
    {
     "name": "stderr",
     "output_type": "stream",
     "text": [
      " 19%|███████▍                              | 9705/50000 [05:08<22:01, 30.49it/s]"
     ]
    },
    {
     "name": "stdout",
     "output_type": "stream",
     "text": [
      "Epoch 9700, Error: 72155.221320, Learning rate: 0.017094\n",
      "Test MAE: 351.792518\n",
      "Test MSE: 190574.999532\n",
      "Test RMSE: 436.548966\n",
      "Test R-Squared: 0.9449\n",
      "Sample 284: Prediction=-121.58, Target=0\n",
      "Sample 696: Prediction=4801.05, Target=4654\n",
      "Sample 405: Prediction=4180.27, Target=3989\n"
     ]
    },
    {
     "name": "stderr",
     "output_type": "stream",
     "text": [
      " 20%|███████▍                              | 9805/50000 [05:12<21:54, 30.58it/s]"
     ]
    },
    {
     "name": "stdout",
     "output_type": "stream",
     "text": [
      "Epoch 9800, Error: 71940.895167, Learning rate: 0.016949\n",
      "Test MAE: 351.799892\n",
      "Test MSE: 190448.618535\n",
      "Test RMSE: 436.404192\n",
      "Test R-Squared: 0.9449\n",
      "Sample 677: Prediction=128.56, Target=0\n",
      "Sample 702: Prediction=148.52, Target=0\n",
      "Sample 698: Prediction=6429.19, Target=5870\n"
     ]
    },
    {
     "name": "stderr",
     "output_type": "stream",
     "text": [
      " 20%|███████▌                              | 9905/50000 [05:15<21:15, 31.44it/s]"
     ]
    },
    {
     "name": "stdout",
     "output_type": "stream",
     "text": [
      "Epoch 9900, Error: 71714.848438, Learning rate: 0.016807\n",
      "Test MAE: 351.602283\n",
      "Test MSE: 190080.553247\n",
      "Test RMSE: 435.982285\n",
      "Test R-Squared: 0.9450\n",
      "Sample 396: Prediction=4798.71, Target=4645\n",
      "Sample 312: Prediction=7836.85, Target=7195\n",
      "Sample 168: Prediction=4999.58, Target=5190\n"
     ]
    },
    {
     "name": "stderr",
     "output_type": "stream",
     "text": [
      " 20%|███████▍                             | 10005/50000 [05:18<21:14, 31.38it/s]"
     ]
    },
    {
     "name": "stdout",
     "output_type": "stream",
     "text": [
      "Epoch 10000, Error: 71514.320128, Learning rate: 0.016667\n",
      "Test MAE: 351.710535\n",
      "Test MSE: 189994.993012\n",
      "Test RMSE: 435.884151\n",
      "Test R-Squared: 0.9451\n",
      "Sample 25: Prediction=6896.82, Target=6686\n",
      "Sample 738: Prediction=-111.63, Target=0\n",
      "Sample 342: Prediction=3712.98, Target=4023\n"
     ]
    },
    {
     "name": "stderr",
     "output_type": "stream",
     "text": [
      " 20%|███████▍                             | 10105/50000 [05:21<21:08, 31.46it/s]"
     ]
    },
    {
     "name": "stdout",
     "output_type": "stream",
     "text": [
      "Epoch 10100, Error: 71308.738612, Learning rate: 0.016529\n",
      "Test MAE: 351.918915\n",
      "Test MSE: 190092.611658\n",
      "Test RMSE: 435.996114\n",
      "Test R-Squared: 0.9450\n",
      "Sample 169: Prediction=20.06, Target=0\n",
      "Sample 218: Prediction=4655.35, Target=4625\n",
      "Sample 404: Prediction=3594.24, Target=3492\n"
     ]
    },
    {
     "name": "stderr",
     "output_type": "stream",
     "text": [
      " 20%|███████▌                             | 10205/50000 [05:24<21:25, 30.95it/s]"
     ]
    },
    {
     "name": "stdout",
     "output_type": "stream",
     "text": [
      "Epoch 10200, Error: 71084.555922, Learning rate: 0.016393\n",
      "Test MAE: 351.863205\n",
      "Test MSE: 189969.248993\n",
      "Test RMSE: 435.854619\n",
      "Test R-Squared: 0.9451\n",
      "Sample 441: Prediction=3779.99, Target=3826\n",
      "Sample 162: Prediction=5675.99, Target=5623\n",
      "Sample 222: Prediction=4501.78, Target=4395\n"
     ]
    },
    {
     "name": "stderr",
     "output_type": "stream",
     "text": [
      " 21%|███████▋                             | 10305/50000 [05:28<21:26, 30.86it/s]"
     ]
    },
    {
     "name": "stdout",
     "output_type": "stream",
     "text": [
      "Epoch 10300, Error: 70778.686555, Learning rate: 0.016260\n",
      "Test MAE: 351.802479\n",
      "Test MSE: 189912.676171\n",
      "Test RMSE: 435.789716\n",
      "Test R-Squared: 0.9451\n",
      "Sample 138: Prediction=5161.49, Target=4925\n",
      "Sample 115: Prediction=5636.66, Target=5614\n",
      "Sample 332: Prediction=4574.46, Target=4683\n"
     ]
    },
    {
     "name": "stderr",
     "output_type": "stream",
     "text": [
      " 21%|███████▋                             | 10405/50000 [05:31<21:19, 30.94it/s]"
     ]
    },
    {
     "name": "stdout",
     "output_type": "stream",
     "text": [
      "Epoch 10400, Error: 70431.530974, Learning rate: 0.016129\n",
      "Test MAE: 351.220587\n",
      "Test MSE: 189333.603513\n",
      "Test RMSE: 435.124814\n",
      "Test R-Squared: 0.9453\n",
      "Sample 5: Prediction=4615.09, Target=4327\n",
      "Sample 600: Prediction=4960.61, Target=4706\n",
      "Sample 285: Prediction=3959.56, Target=3937\n"
     ]
    },
    {
     "name": "stderr",
     "output_type": "stream",
     "text": [
      " 21%|███████▊                             | 10505/50000 [05:34<21:04, 31.24it/s]"
     ]
    },
    {
     "name": "stdout",
     "output_type": "stream",
     "text": [
      "Epoch 10500, Error: 69953.659273, Learning rate: 0.016000\n",
      "Test MAE: 350.394421\n",
      "Test MSE: 188424.465313\n",
      "Test RMSE: 434.078870\n",
      "Test R-Squared: 0.9455\n",
      "Sample 334: Prediction=4650.92, Target=4481\n",
      "Sample 578: Prediction=3734.91, Target=3701\n",
      "Sample 746: Prediction=6431.07, Target=6467\n"
     ]
    },
    {
     "name": "stderr",
     "output_type": "stream",
     "text": [
      " 21%|███████▊                             | 10605/50000 [05:37<21:46, 30.14it/s]"
     ]
    },
    {
     "name": "stdout",
     "output_type": "stream",
     "text": [
      "Epoch 10600, Error: 69200.587330, Learning rate: 0.015873\n",
      "Test MAE: 349.474502\n",
      "Test MSE: 186748.493596\n",
      "Test RMSE: 432.144066\n",
      "Test R-Squared: 0.9460\n",
      "Sample 376: Prediction=5034.27, Target=5230\n",
      "Sample 367: Prediction=4094.87, Target=3928\n",
      "Sample 602: Prediction=5060.15, Target=5138\n"
     ]
    },
    {
     "name": "stderr",
     "output_type": "stream",
     "text": [
      " 21%|███████▉                             | 10705/50000 [05:40<20:56, 31.28it/s]"
     ]
    },
    {
     "name": "stdout",
     "output_type": "stream",
     "text": [
      "Epoch 10700, Error: 68093.950044, Learning rate: 0.015748\n",
      "Test MAE: 347.064774\n",
      "Test MSE: 184049.954386\n",
      "Test RMSE: 429.010436\n",
      "Test R-Squared: 0.9468\n",
      "Sample 500: Prediction=4653.54, Target=4563\n",
      "Sample 501: Prediction=9586.05, Target=9331\n",
      "Sample 278: Prediction=-13.51, Target=0\n"
     ]
    },
    {
     "name": "stderr",
     "output_type": "stream",
     "text": [
      " 22%|███████▉                             | 10805/50000 [05:44<21:08, 30.91it/s]"
     ]
    },
    {
     "name": "stdout",
     "output_type": "stream",
     "text": [
      "Epoch 10800, Error: 67835.861188, Learning rate: 0.015625\n",
      "Test MAE: 346.463912\n",
      "Test MSE: 183413.329380\n",
      "Test RMSE: 428.267824\n",
      "Test R-Squared: 0.9470\n",
      "Sample 398: Prediction=4510.39, Target=4044\n",
      "Sample 372: Prediction=5607.42, Target=5220\n",
      "Sample 735: Prediction=3931.84, Target=4459\n"
     ]
    },
    {
     "name": "stderr",
     "output_type": "stream",
     "text": [
      " 22%|████████                             | 10905/50000 [05:47<21:12, 30.73it/s]"
     ]
    },
    {
     "name": "stdout",
     "output_type": "stream",
     "text": [
      "Epoch 10900, Error: 67585.536133, Learning rate: 0.015504\n",
      "Test MAE: 346.277328\n",
      "Test MSE: 183171.033766\n",
      "Test RMSE: 427.984852\n",
      "Test R-Squared: 0.9470\n",
      "Sample 642: Prediction=5492.67, Target=4901\n",
      "Sample 583: Prediction=5093.34, Target=4804\n",
      "Sample 363: Prediction=181.54, Target=0\n"
     ]
    },
    {
     "name": "stderr",
     "output_type": "stream",
     "text": [
      " 22%|████████▏                            | 11005/50000 [05:50<21:00, 30.94it/s]"
     ]
    },
    {
     "name": "stdout",
     "output_type": "stream",
     "text": [
      "Epoch 11000, Error: 67398.146244, Learning rate: 0.015385\n",
      "Test MAE: 346.050530\n",
      "Test MSE: 182984.893933\n",
      "Test RMSE: 427.767336\n",
      "Test R-Squared: 0.9471\n",
      "Sample 599: Prediction=3367.80, Target=3198\n",
      "Sample 31: Prediction=3574.70, Target=3573\n",
      "Sample 72: Prediction=5551.10, Target=5128\n"
     ]
    },
    {
     "name": "stderr",
     "output_type": "stream",
     "text": [
      " 22%|████████▏                            | 11105/50000 [05:53<20:37, 31.43it/s]"
     ]
    },
    {
     "name": "stdout",
     "output_type": "stream",
     "text": [
      "Epoch 11100, Error: 67211.138298, Learning rate: 0.015267\n",
      "Test MAE: 345.482029\n",
      "Test MSE: 182447.562855\n",
      "Test RMSE: 427.138810\n",
      "Test R-Squared: 0.9472\n",
      "Sample 433: Prediction=6631.15, Target=6532\n",
      "Sample 266: Prediction=83.54, Target=0\n",
      "Sample 500: Prediction=4652.91, Target=4563\n"
     ]
    },
    {
     "name": "stderr",
     "output_type": "stream",
     "text": [
      " 22%|████████▎                            | 11205/50000 [05:56<20:37, 31.36it/s]"
     ]
    },
    {
     "name": "stdout",
     "output_type": "stream",
     "text": [
      "Epoch 11200, Error: 66983.058683, Learning rate: 0.015152\n",
      "Test MAE: 345.467683\n",
      "Test MSE: 182404.701765\n",
      "Test RMSE: 427.088635\n",
      "Test R-Squared: 0.9473\n",
      "Sample 228: Prediction=4516.50, Target=4390\n",
      "Sample 640: Prediction=3669.63, Target=3776\n",
      "Sample 601: Prediction=4016.24, Target=3998\n"
     ]
    },
    {
     "name": "stderr",
     "output_type": "stream",
     "text": [
      " 23%|████████▎                            | 11305/50000 [06:00<20:36, 31.30it/s]"
     ]
    },
    {
     "name": "stdout",
     "output_type": "stream",
     "text": [
      "Epoch 11300, Error: 66708.529359, Learning rate: 0.015038\n",
      "Test MAE: 345.220696\n",
      "Test MSE: 182206.703881\n",
      "Test RMSE: 426.856772\n",
      "Test R-Squared: 0.9473\n",
      "Sample 574: Prediction=4625.04, Target=5011\n",
      "Sample 713: Prediction=4441.83, Target=4676\n",
      "Sample 443: Prediction=390.71, Target=0\n"
     ]
    },
    {
     "name": "stderr",
     "output_type": "stream",
     "text": [
      " 23%|████████▍                            | 11407/50000 [06:03<20:44, 31.01it/s]"
     ]
    },
    {
     "name": "stdout",
     "output_type": "stream",
     "text": [
      "Epoch 11400, Error: 66490.184450, Learning rate: 0.014925\n",
      "Test MAE: 345.075124\n",
      "Test MSE: 182069.254391\n",
      "Test RMSE: 426.695740\n",
      "Test R-Squared: 0.9474\n",
      "Sample 16: Prediction=5847.43, Target=6046\n",
      "Sample 400: Prediction=6262.27, Target=6407\n",
      "Sample 326: Prediction=4683.15, Target=4624\n"
     ]
    },
    {
     "name": "stderr",
     "output_type": "stream",
     "text": [
      " 23%|████████▌                            | 11507/50000 [06:06<20:40, 31.02it/s]"
     ]
    },
    {
     "name": "stdout",
     "output_type": "stream",
     "text": [
      "Epoch 11500, Error: 66218.949417, Learning rate: 0.014815\n",
      "Test MAE: 344.884267\n",
      "Test MSE: 181810.240041\n",
      "Test RMSE: 426.392120\n",
      "Test R-Squared: 0.9474\n",
      "Sample 748: Prediction=4075.39, Target=3649\n",
      "Sample 457: Prediction=4989.63, Target=5103\n",
      "Sample 62: Prediction=3873.98, Target=3299\n"
     ]
    },
    {
     "name": "stderr",
     "output_type": "stream",
     "text": [
      " 23%|████████▌                            | 11607/50000 [06:09<20:44, 30.84it/s]"
     ]
    },
    {
     "name": "stdout",
     "output_type": "stream",
     "text": [
      "Epoch 11600, Error: 65899.466413, Learning rate: 0.014706\n",
      "Test MAE: 344.571648\n",
      "Test MSE: 181504.699077\n",
      "Test RMSE: 426.033683\n",
      "Test R-Squared: 0.9475\n",
      "Sample 605: Prediction=5353.76, Target=5514\n",
      "Sample 376: Prediction=5035.98, Target=5230\n",
      "Sample 66: Prediction=112.54, Target=0\n"
     ]
    },
    {
     "name": "stderr",
     "output_type": "stream",
     "text": [
      " 23%|████████▋                            | 11707/50000 [06:13<20:19, 31.39it/s]"
     ]
    },
    {
     "name": "stdout",
     "output_type": "stream",
     "text": [
      "Epoch 11700, Error: 65628.043158, Learning rate: 0.014599\n",
      "Test MAE: 344.680241\n",
      "Test MSE: 181565.300905\n",
      "Test RMSE: 426.104800\n",
      "Test R-Squared: 0.9475\n",
      "Sample 335: Prediction=6071.15, Target=6154\n",
      "Sample 394: Prediction=4318.55, Target=4564\n",
      "Sample 137: Prediction=-54.91, Target=0\n"
     ]
    },
    {
     "name": "stderr",
     "output_type": "stream",
     "text": [
      " 24%|████████▋                            | 11807/50000 [06:16<20:31, 31.00it/s]"
     ]
    },
    {
     "name": "stdout",
     "output_type": "stream",
     "text": [
      "Epoch 11800, Error: 65308.047310, Learning rate: 0.014493\n",
      "Test MAE: 344.615985\n",
      "Test MSE: 181284.331564\n",
      "Test RMSE: 425.774978\n",
      "Test R-Squared: 0.9476\n",
      "Sample 243: Prediction=4842.07, Target=4727\n",
      "Sample 210: Prediction=5207.77, Target=5003\n",
      "Sample 279: Prediction=4783.16, Target=4767\n"
     ]
    },
    {
     "name": "stderr",
     "output_type": "stream",
     "text": [
      " 24%|████████▊                            | 11907/50000 [06:19<20:29, 30.97it/s]"
     ]
    },
    {
     "name": "stdout",
     "output_type": "stream",
     "text": [
      "Epoch 11900, Error: 64920.328144, Learning rate: 0.014388\n",
      "Test MAE: 344.005227\n",
      "Test MSE: 180593.176783\n",
      "Test RMSE: 424.962559\n",
      "Test R-Squared: 0.9478\n",
      "Sample 639: Prediction=5603.97, Target=5222\n",
      "Sample 452: Prediction=7973.94, Target=7558\n",
      "Sample 704: Prediction=4075.21, Target=4211\n"
     ]
    },
    {
     "name": "stderr",
     "output_type": "stream",
     "text": [
      " 24%|████████▉                            | 12007/50000 [06:22<20:18, 31.18it/s]"
     ]
    },
    {
     "name": "stdout",
     "output_type": "stream",
     "text": [
      "Epoch 12000, Error: 64471.474215, Learning rate: 0.014286\n",
      "Test MAE: 343.701305\n",
      "Test MSE: 180163.297073\n",
      "Test RMSE: 424.456473\n",
      "Test R-Squared: 0.9479\n",
      "Sample 26: Prediction=4779.51, Target=4881\n",
      "Sample 54: Prediction=4533.81, Target=4681\n",
      "Sample 107: Prediction=4937.79, Target=5235\n"
     ]
    },
    {
     "name": "stderr",
     "output_type": "stream",
     "text": [
      " 24%|████████▉                            | 12107/50000 [06:25<20:36, 30.64it/s]"
     ]
    },
    {
     "name": "stdout",
     "output_type": "stream",
     "text": [
      "Epoch 12100, Error: 64003.674076, Learning rate: 0.014184\n",
      "Test MAE: 343.006061\n",
      "Test MSE: 179155.621929\n",
      "Test RMSE: 423.267790\n",
      "Test R-Squared: 0.9482\n",
      "Sample 205: Prediction=3821.96, Target=3661\n",
      "Sample 202: Prediction=3203.85, Target=3535\n",
      "Sample 328: Prediction=5191.02, Target=5871\n"
     ]
    },
    {
     "name": "stderr",
     "output_type": "stream",
     "text": [
      " 24%|█████████                            | 12207/50000 [06:29<20:24, 30.86it/s]"
     ]
    },
    {
     "name": "stdout",
     "output_type": "stream",
     "text": [
      "Epoch 12200, Error: 63648.193152, Learning rate: 0.014085\n",
      "Test MAE: 342.350511\n",
      "Test MSE: 178424.003784\n",
      "Test RMSE: 422.402656\n",
      "Test R-Squared: 0.9484\n",
      "Sample 599: Prediction=3371.06, Target=3198\n",
      "Sample 267: Prediction=6386.82, Target=5804\n",
      "Sample 222: Prediction=4502.16, Target=4395\n"
     ]
    },
    {
     "name": "stderr",
     "output_type": "stream",
     "text": [
      " 25%|█████████                            | 12307/50000 [06:32<20:23, 30.82it/s]"
     ]
    },
    {
     "name": "stdout",
     "output_type": "stream",
     "text": [
      "Epoch 12300, Error: 63342.292864, Learning rate: 0.013986\n",
      "Test MAE: 341.797965\n",
      "Test MSE: 177788.274090\n",
      "Test RMSE: 421.649468\n",
      "Test R-Squared: 0.9486\n",
      "Sample 697: Prediction=6914.49, Target=6714\n",
      "Sample 433: Prediction=6624.09, Target=6532\n",
      "Sample 729: Prediction=3925.70, Target=4228\n"
     ]
    },
    {
     "name": "stderr",
     "output_type": "stream",
     "text": [
      " 25%|█████████▏                           | 12407/50000 [06:35<20:03, 31.24it/s]"
     ]
    },
    {
     "name": "stdout",
     "output_type": "stream",
     "text": [
      "Epoch 12400, Error: 62974.032087, Learning rate: 0.013889\n",
      "Test MAE: 340.764983\n",
      "Test MSE: 176360.611957\n",
      "Test RMSE: 419.953107\n",
      "Test R-Squared: 0.9490\n",
      "Sample 406: Prediction=6479.21, Target=5896\n",
      "Sample 107: Prediction=4943.25, Target=5235\n",
      "Sample 463: Prediction=-38.72, Target=0\n"
     ]
    },
    {
     "name": "stderr",
     "output_type": "stream",
     "text": [
      " 25%|█████████▎                           | 12507/50000 [06:38<19:54, 31.38it/s]"
     ]
    },
    {
     "name": "stdout",
     "output_type": "stream",
     "text": [
      "Epoch 12500, Error: 62647.070215, Learning rate: 0.013793\n",
      "Test MAE: 340.284788\n",
      "Test MSE: 175820.320941\n",
      "Test RMSE: 419.309338\n",
      "Test R-Squared: 0.9492\n",
      "Sample 569: Prediction=176.79, Target=0\n",
      "Sample 713: Prediction=4450.00, Target=4676\n",
      "Sample 46: Prediction=5568.48, Target=5337\n"
     ]
    },
    {
     "name": "stderr",
     "output_type": "stream",
     "text": [
      " 25%|█████████▎                           | 12607/50000 [06:41<20:08, 30.94it/s]"
     ]
    },
    {
     "name": "stdout",
     "output_type": "stream",
     "text": [
      "Epoch 12600, Error: 62402.342706, Learning rate: 0.013699\n",
      "Test MAE: 339.716458\n",
      "Test MSE: 175269.967398\n",
      "Test RMSE: 418.652562\n",
      "Test R-Squared: 0.9493\n",
      "Sample 706: Prediction=3364.29, Target=3890\n",
      "Sample 543: Prediction=57.49, Target=0\n",
      "Sample 584: Prediction=5288.44, Target=4924\n"
     ]
    },
    {
     "name": "stderr",
     "output_type": "stream",
     "text": [
      " 25%|█████████▍                           | 12705/50000 [06:45<20:16, 30.65it/s]"
     ]
    },
    {
     "name": "stdout",
     "output_type": "stream",
     "text": [
      "Epoch 12700, Error: 62136.410626, Learning rate: 0.013605\n",
      "Test MAE: 339.566533\n",
      "Test MSE: 175054.399409\n",
      "Test RMSE: 418.395028\n",
      "Test R-Squared: 0.9494\n",
      "Sample 408: Prediction=5038.73, Target=4724\n",
      "Sample 329: Prediction=3767.25, Target=3681\n",
      "Sample 732: Prediction=3992.27, Target=4196\n"
     ]
    },
    {
     "name": "stderr",
     "output_type": "stream",
     "text": [
      " 26%|█████████▍                           | 12807/50000 [06:48<21:02, 29.46it/s]"
     ]
    },
    {
     "name": "stdout",
     "output_type": "stream",
     "text": [
      "Epoch 12800, Error: 61644.010159, Learning rate: 0.013514\n",
      "Test MAE: 338.769567\n",
      "Test MSE: 174253.119062\n",
      "Test RMSE: 417.436365\n",
      "Test R-Squared: 0.9496\n",
      "Sample 587: Prediction=87.86, Target=0\n",
      "Sample 337: Prediction=6380.14, Target=6377\n",
      "Sample 426: Prediction=5655.59, Target=5558\n"
     ]
    },
    {
     "name": "stderr",
     "output_type": "stream",
     "text": [
      " 26%|█████████▌                           | 12907/50000 [06:51<19:39, 31.45it/s]"
     ]
    },
    {
     "name": "stdout",
     "output_type": "stream",
     "text": [
      "Epoch 12900, Error: 61007.664945, Learning rate: 0.013423\n",
      "Test MAE: 337.693056\n",
      "Test MSE: 173242.918731\n",
      "Test RMSE: 416.224601\n",
      "Test R-Squared: 0.9499\n",
      "Sample 220: Prediction=52.12, Target=0\n",
      "Sample 568: Prediction=5516.60, Target=5317\n",
      "Sample 554: Prediction=6238.80, Target=6119\n"
     ]
    },
    {
     "name": "stderr",
     "output_type": "stream",
     "text": [
      " 26%|█████████▋                           | 13007/50000 [06:55<19:31, 31.57it/s]"
     ]
    },
    {
     "name": "stdout",
     "output_type": "stream",
     "text": [
      "Epoch 13000, Error: 60520.502003, Learning rate: 0.013333\n",
      "Test MAE: 337.604700\n",
      "Test MSE: 172799.351376\n",
      "Test RMSE: 415.691414\n",
      "Test R-Squared: 0.9500\n",
      "Sample 602: Prediction=5074.45, Target=5138\n",
      "Sample 290: Prediction=3512.34, Target=3530\n",
      "Sample 114: Prediction=5279.54, Target=5450\n"
     ]
    },
    {
     "name": "stderr",
     "output_type": "stream",
     "text": [
      " 26%|█████████▋                           | 13107/50000 [06:58<19:30, 31.52it/s]"
     ]
    },
    {
     "name": "stdout",
     "output_type": "stream",
     "text": [
      "Epoch 13100, Error: 60043.561135, Learning rate: 0.013245\n",
      "Test MAE: 336.727326\n",
      "Test MSE: 171697.634482\n",
      "Test RMSE: 414.364133\n",
      "Test R-Squared: 0.9504\n",
      "Sample 541: Prediction=4393.96, Target=4318\n",
      "Sample 79: Prediction=4217.57, Target=4111\n",
      "Sample 748: Prediction=4055.15, Target=3649\n"
     ]
    },
    {
     "name": "stderr",
     "output_type": "stream",
     "text": [
      " 26%|█████████▊                           | 13207/50000 [07:01<19:39, 31.20it/s]"
     ]
    },
    {
     "name": "stdout",
     "output_type": "stream",
     "text": [
      "Epoch 13200, Error: 59503.174234, Learning rate: 0.013158\n",
      "Test MAE: 336.405507\n",
      "Test MSE: 170900.773232\n",
      "Test RMSE: 413.401467\n",
      "Test R-Squared: 0.9506\n",
      "Sample 663: Prediction=4479.49, Target=4823\n",
      "Sample 47: Prediction=4029.65, Target=4044\n",
      "Sample 18: Prediction=4806.81, Target=4583\n"
     ]
    },
    {
     "name": "stderr",
     "output_type": "stream",
     "text": [
      " 27%|█████████▊                           | 13305/50000 [07:04<20:23, 29.98it/s]"
     ]
    },
    {
     "name": "stdout",
     "output_type": "stream",
     "text": [
      "Epoch 13300, Error: 58802.442014, Learning rate: 0.013072\n",
      "Test MAE: 335.665775\n",
      "Test MSE: 169818.430820\n",
      "Test RMSE: 412.090319\n",
      "Test R-Squared: 0.9509\n",
      "Sample 344: Prediction=6073.86, Target=5471\n",
      "Sample 491: Prediction=5166.00, Target=5008\n",
      "Sample 144: Prediction=3723.28, Target=3493\n"
     ]
    },
    {
     "name": "stderr",
     "output_type": "stream",
     "text": [
      " 27%|█████████▉                           | 13405/50000 [07:07<19:43, 30.92it/s]"
     ]
    },
    {
     "name": "stdout",
     "output_type": "stream",
     "text": [
      "Epoch 13400, Error: 58338.217234, Learning rate: 0.012987\n",
      "Test MAE: 333.440244\n",
      "Test MSE: 167411.774288\n",
      "Test RMSE: 409.159840\n",
      "Test R-Squared: 0.9516\n",
      "Sample 590: Prediction=4060.44, Target=4221\n",
      "Sample 363: Prediction=150.25, Target=0\n",
      "Sample 200: Prediction=3856.51, Target=3827\n"
     ]
    },
    {
     "name": "stderr",
     "output_type": "stream",
     "text": [
      " 27%|█████████▉                           | 13505/50000 [07:11<19:47, 30.74it/s]"
     ]
    },
    {
     "name": "stdout",
     "output_type": "stream",
     "text": [
      "Epoch 13500, Error: 58070.678182, Learning rate: 0.012903\n",
      "Test MAE: 332.828084\n",
      "Test MSE: 166652.931780\n",
      "Test RMSE: 408.231468\n",
      "Test R-Squared: 0.9518\n",
      "Sample 239: Prediction=7474.54, Target=7263\n",
      "Sample 166: Prediction=-204.05, Target=0\n",
      "Sample 353: Prediction=3982.22, Target=4030\n"
     ]
    },
    {
     "name": "stderr",
     "output_type": "stream",
     "text": [
      " 27%|██████████                           | 13605/50000 [07:14<19:13, 31.55it/s]"
     ]
    },
    {
     "name": "stdout",
     "output_type": "stream",
     "text": [
      "Epoch 13600, Error: 57769.825464, Learning rate: 0.012821\n",
      "Test MAE: 332.805780\n",
      "Test MSE: 166449.395864\n",
      "Test RMSE: 407.982102\n",
      "Test R-Squared: 0.9519\n",
      "Sample 515: Prediction=-92.95, Target=0\n",
      "Sample 413: Prediction=3101.63, Target=2362\n",
      "Sample 561: Prediction=5583.11, Target=5695\n"
     ]
    },
    {
     "name": "stderr",
     "output_type": "stream",
     "text": [
      " 27%|██████████▏                          | 13705/50000 [07:17<19:21, 31.25it/s]"
     ]
    },
    {
     "name": "stdout",
     "output_type": "stream",
     "text": [
      "Epoch 13700, Error: 57552.841030, Learning rate: 0.012739\n",
      "Test MAE: 332.439105\n",
      "Test MSE: 166115.840097\n",
      "Test RMSE: 407.573110\n",
      "Test R-Squared: 0.9520\n",
      "Sample 177: Prediction=5926.73, Target=5839\n",
      "Sample 345: Prediction=240.62, Target=0\n",
      "Sample 554: Prediction=6224.65, Target=6119\n"
     ]
    },
    {
     "name": "stderr",
     "output_type": "stream",
     "text": [
      " 28%|██████████▏                          | 13804/50000 [07:20<23:31, 25.63it/s]"
     ]
    },
    {
     "name": "stdout",
     "output_type": "stream",
     "text": [
      "Epoch 13800, Error: 57317.883277, Learning rate: 0.012658\n",
      "Test MAE: 332.116472\n",
      "Test MSE: 165850.670233\n",
      "Test RMSE: 407.247677\n",
      "Test R-Squared: 0.9520\n",
      "Sample 643: Prediction=4159.52, Target=4086\n",
      "Sample 631: Prediction=189.49, Target=0\n",
      "Sample 451: Prediction=5796.81, Target=5397\n"
     ]
    },
    {
     "name": "stderr",
     "output_type": "stream",
     "text": [
      " 28%|██████████▎                          | 13907/50000 [07:24<19:21, 31.08it/s]"
     ]
    },
    {
     "name": "stdout",
     "output_type": "stream",
     "text": [
      "Epoch 13900, Error: 57045.754206, Learning rate: 0.012579\n",
      "Test MAE: 332.059467\n",
      "Test MSE: 165789.974781\n",
      "Test RMSE: 407.173151\n",
      "Test R-Squared: 0.9521\n",
      "Sample 746: Prediction=6469.93, Target=6467\n",
      "Sample 271: Prediction=4726.87, Target=4840\n",
      "Sample 92: Prediction=3217.34, Target=3204\n"
     ]
    },
    {
     "name": "stderr",
     "output_type": "stream",
     "text": [
      " 28%|██████████▎                          | 14007/50000 [07:27<19:22, 30.97it/s]"
     ]
    },
    {
     "name": "stdout",
     "output_type": "stream",
     "text": [
      "Epoch 14000, Error: 56796.674277, Learning rate: 0.012500\n",
      "Test MAE: 331.638833\n",
      "Test MSE: 165314.837476\n",
      "Test RMSE: 406.589274\n",
      "Test R-Squared: 0.9522\n",
      "Sample 562: Prediction=4999.35, Target=4944\n",
      "Sample 120: Prediction=306.52, Target=0\n",
      "Sample 700: Prediction=4883.77, Target=4909\n"
     ]
    },
    {
     "name": "stderr",
     "output_type": "stream",
     "text": [
      " 28%|██████████▍                          | 14107/50000 [07:30<19:22, 30.88it/s]"
     ]
    },
    {
     "name": "stdout",
     "output_type": "stream",
     "text": [
      "Epoch 14100, Error: 56513.993895, Learning rate: 0.012422\n",
      "Test MAE: 331.059082\n",
      "Test MSE: 164732.840761\n",
      "Test RMSE: 405.872937\n",
      "Test R-Squared: 0.9524\n",
      "Sample 719: Prediction=5669.81, Target=5720\n",
      "Sample 477: Prediction=5438.97, Target=5474\n",
      "Sample 315: Prediction=5343.04, Target=5498\n"
     ]
    },
    {
     "name": "stderr",
     "output_type": "stream",
     "text": [
      " 28%|██████████▌                          | 14207/50000 [07:33<19:17, 30.93it/s]"
     ]
    },
    {
     "name": "stdout",
     "output_type": "stream",
     "text": [
      "Epoch 14200, Error: 56233.337075, Learning rate: 0.012346\n",
      "Test MAE: 330.433017\n",
      "Test MSE: 164087.671361\n",
      "Test RMSE: 405.077365\n",
      "Test R-Squared: 0.9526\n",
      "Sample 119: Prediction=3757.07, Target=3667\n",
      "Sample 666: Prediction=6733.29, Target=6574\n",
      "Sample 261: Prediction=3617.90, Target=3405\n"
     ]
    },
    {
     "name": "stderr",
     "output_type": "stream",
     "text": [
      " 29%|██████████▌                          | 14307/50000 [07:37<19:23, 30.69it/s]"
     ]
    },
    {
     "name": "stdout",
     "output_type": "stream",
     "text": [
      "Epoch 14300, Error: 55919.573949, Learning rate: 0.012270\n",
      "Test MAE: 330.097248\n",
      "Test MSE: 163790.433642\n",
      "Test RMSE: 404.710308\n",
      "Test R-Squared: 0.9526\n",
      "Sample 76: Prediction=5471.61, Target=5770\n",
      "Sample 286: Prediction=86.58, Target=0\n",
      "Sample 529: Prediction=3915.20, Target=4183\n"
     ]
    },
    {
     "name": "stderr",
     "output_type": "stream",
     "text": [
      " 29%|██████████▋                          | 14407/50000 [07:40<19:27, 30.48it/s]"
     ]
    },
    {
     "name": "stdout",
     "output_type": "stream",
     "text": [
      "Epoch 14400, Error: 55599.718922, Learning rate: 0.012195\n",
      "Test MAE: 329.714382\n",
      "Test MSE: 163491.043139\n",
      "Test RMSE: 404.340257\n",
      "Test R-Squared: 0.9527\n",
      "Sample 267: Prediction=6364.98, Target=5804\n",
      "Sample 92: Prediction=3257.61, Target=3204\n",
      "Sample 656: Prediction=5147.88, Target=5011\n"
     ]
    },
    {
     "name": "stderr",
     "output_type": "stream",
     "text": [
      " 29%|██████████▋                          | 14505/50000 [07:43<19:00, 31.12it/s]"
     ]
    },
    {
     "name": "stdout",
     "output_type": "stream",
     "text": [
      "Epoch 14500, Error: 55200.804266, Learning rate: 0.012121\n",
      "Test MAE: 329.441219\n",
      "Test MSE: 163210.587441\n",
      "Test RMSE: 403.993301\n",
      "Test R-Squared: 0.9528\n",
      "Sample 77: Prediction=3575.52, Target=3566\n",
      "Sample 555: Prediction=3937.14, Target=4298\n",
      "Sample 157: Prediction=6739.21, Target=6788\n"
     ]
    },
    {
     "name": "stderr",
     "output_type": "stream",
     "text": [
      " 29%|██████████▊                          | 14605/50000 [07:46<19:00, 31.04it/s]"
     ]
    },
    {
     "name": "stdout",
     "output_type": "stream",
     "text": [
      "Epoch 14600, Error: 54769.720410, Learning rate: 0.012048\n",
      "Test MAE: 328.372004\n",
      "Test MSE: 162185.458811\n",
      "Test RMSE: 402.722558\n",
      "Test R-Squared: 0.9531\n",
      "Sample 147: Prediction=5181.19, Target=5020\n",
      "Sample 212: Prediction=6532.99, Target=6362\n",
      "Sample 472: Prediction=5562.94, Target=5176\n"
     ]
    },
    {
     "name": "stderr",
     "output_type": "stream",
     "text": [
      " 29%|██████████▉                          | 14705/50000 [07:49<18:55, 31.09it/s]"
     ]
    },
    {
     "name": "stdout",
     "output_type": "stream",
     "text": [
      "Epoch 14700, Error: 54289.600352, Learning rate: 0.011976\n",
      "Test MAE: 327.648795\n",
      "Test MSE: 161431.845401\n",
      "Test RMSE: 401.785820\n",
      "Test R-Squared: 0.9533\n",
      "Sample 389: Prediction=5850.69, Target=5439\n",
      "Sample 512: Prediction=4545.45, Target=4782\n",
      "Sample 727: Prediction=4297.40, Target=4602\n"
     ]
    },
    {
     "name": "stderr",
     "output_type": "stream",
     "text": [
      " 30%|██████████▉                          | 14805/50000 [07:53<18:57, 30.95it/s]"
     ]
    },
    {
     "name": "stdout",
     "output_type": "stream",
     "text": [
      "Epoch 14800, Error: 53493.374707, Learning rate: 0.011905\n",
      "Test MAE: 325.341655\n",
      "Test MSE: 158599.498077\n",
      "Test RMSE: 398.245525\n",
      "Test R-Squared: 0.9541\n",
      "Sample 402: Prediction=4498.90, Target=4648\n",
      "Sample 213: Prediction=3936.36, Target=4207\n",
      "Sample 447: Prediction=5903.01, Target=5693\n"
     ]
    },
    {
     "name": "stderr",
     "output_type": "stream",
     "text": [
      " 30%|███████████                          | 14905/50000 [07:56<19:33, 29.91it/s]"
     ]
    },
    {
     "name": "stdout",
     "output_type": "stream",
     "text": [
      "Epoch 14900, Error: 52921.104611, Learning rate: 0.011834\n",
      "Test MAE: 324.034675\n",
      "Test MSE: 157232.392648\n",
      "Test RMSE: 396.525400\n",
      "Test R-Squared: 0.9545\n",
      "Sample 316: Prediction=6597.97, Target=7132\n",
      "Sample 707: Prediction=3778.76, Target=4047\n",
      "Sample 178: Prediction=4190.49, Target=4190\n"
     ]
    },
    {
     "name": "stderr",
     "output_type": "stream",
     "text": [
      " 30%|███████████                          | 15005/50000 [07:59<19:02, 30.63it/s]"
     ]
    },
    {
     "name": "stdout",
     "output_type": "stream",
     "text": [
      "Epoch 15000, Error: 52541.668043, Learning rate: 0.011765\n",
      "Test MAE: 323.292596\n",
      "Test MSE: 156510.505517\n",
      "Test RMSE: 395.614087\n",
      "Test R-Squared: 0.9547\n",
      "Sample 256: Prediction=4778.32, Target=4781\n",
      "Sample 358: Prediction=-36.51, Target=0\n",
      "Sample 6: Prediction=5419.95, Target=5263\n"
     ]
    },
    {
     "name": "stderr",
     "output_type": "stream",
     "text": [
      " 30%|███████████▏                         | 15105/50000 [08:02<18:31, 31.40it/s]"
     ]
    },
    {
     "name": "stdout",
     "output_type": "stream",
     "text": [
      "Epoch 15100, Error: 52227.592139, Learning rate: 0.011696\n",
      "Test MAE: 322.958594\n",
      "Test MSE: 156111.576334\n",
      "Test RMSE: 395.109575\n",
      "Test R-Squared: 0.9549\n",
      "Sample 583: Prediction=5039.18, Target=4804\n",
      "Sample 616: Prediction=3879.62, Target=4194\n",
      "Sample 86: Prediction=3959.56, Target=4078\n"
     ]
    },
    {
     "name": "stderr",
     "output_type": "stream",
     "text": [
      " 30%|███████████▎                         | 15205/50000 [08:06<18:48, 30.84it/s]"
     ]
    },
    {
     "name": "stdout",
     "output_type": "stream",
     "text": [
      "Epoch 15200, Error: 51915.945946, Learning rate: 0.011628\n",
      "Test MAE: 322.598725\n",
      "Test MSE: 155659.520466\n",
      "Test RMSE: 394.537096\n",
      "Test R-Squared: 0.9550\n",
      "Sample 22: Prediction=7.04, Target=0\n",
      "Sample 115: Prediction=5659.22, Target=5614\n",
      "Sample 663: Prediction=4566.28, Target=4823\n"
     ]
    },
    {
     "name": "stderr",
     "output_type": "stream",
     "text": [
      " 31%|███████████▎                         | 15305/50000 [08:09<18:36, 31.07it/s]"
     ]
    },
    {
     "name": "stdout",
     "output_type": "stream",
     "text": [
      "Epoch 15300, Error: 51542.361247, Learning rate: 0.011561\n",
      "Test MAE: 322.008085\n",
      "Test MSE: 154992.620903\n",
      "Test RMSE: 393.691022\n",
      "Test R-Squared: 0.9552\n",
      "Sample 554: Prediction=6187.76, Target=6119\n",
      "Sample 206: Prediction=4069.81, Target=3836\n",
      "Sample 132: Prediction=5590.99, Target=5307\n"
     ]
    },
    {
     "name": "stderr",
     "output_type": "stream",
     "text": [
      " 31%|███████████▍                         | 15405/50000 [08:12<18:53, 30.53it/s]"
     ]
    },
    {
     "name": "stdout",
     "output_type": "stream",
     "text": [
      "Epoch 15400, Error: 51088.795050, Learning rate: 0.011494\n",
      "Test MAE: 320.939861\n",
      "Test MSE: 153928.860445\n",
      "Test RMSE: 392.337687\n",
      "Test R-Squared: 0.9555\n",
      "Sample 581: Prediction=5131.79, Target=5075\n",
      "Sample 391: Prediction=6012.42, Target=6071\n",
      "Sample 619: Prediction=3811.71, Target=3900\n"
     ]
    },
    {
     "name": "stderr",
     "output_type": "stream",
     "text": [
      " 31%|███████████▍                         | 15505/50000 [08:15<19:04, 30.14it/s]"
     ]
    },
    {
     "name": "stdout",
     "output_type": "stream",
     "text": [
      "Epoch 15500, Error: 50562.790726, Learning rate: 0.011429\n",
      "Test MAE: 319.798206\n",
      "Test MSE: 152787.206946\n",
      "Test RMSE: 390.880042\n",
      "Test R-Squared: 0.9558\n",
      "Sample 159: Prediction=4688.18, Target=4757\n",
      "Sample 112: Prediction=6070.72, Target=5775\n",
      "Sample 305: Prediction=4680.69, Target=5352\n"
     ]
    },
    {
     "name": "stderr",
     "output_type": "stream",
     "text": [
      " 31%|███████████▌                         | 15605/50000 [08:19<18:53, 30.33it/s]"
     ]
    },
    {
     "name": "stdout",
     "output_type": "stream",
     "text": [
      "Epoch 15600, Error: 50025.937077, Learning rate: 0.011364\n",
      "Test MAE: 318.570391\n",
      "Test MSE: 151556.696462\n",
      "Test RMSE: 389.302834\n",
      "Test R-Squared: 0.9562\n",
      "Sample 139: Prediction=4796.55, Target=4708\n",
      "Sample 526: Prediction=4391.48, Target=4492\n",
      "Sample 113: Prediction=87.58, Target=0\n"
     ]
    },
    {
     "name": "stderr",
     "output_type": "stream",
     "text": [
      " 31%|███████████▌                         | 15705/50000 [08:22<18:14, 31.35it/s]"
     ]
    },
    {
     "name": "stdout",
     "output_type": "stream",
     "text": [
      "Epoch 15700, Error: 49607.990507, Learning rate: 0.011299\n",
      "Test MAE: 318.031698\n",
      "Test MSE: 151004.133517\n",
      "Test RMSE: 388.592503\n",
      "Test R-Squared: 0.9563\n",
      "Sample 371: Prediction=4610.82, Target=4748\n",
      "Sample 467: Prediction=4780.26, Target=4935\n",
      "Sample 622: Prediction=132.92, Target=0\n"
     ]
    },
    {
     "name": "stderr",
     "output_type": "stream",
     "text": [
      " 32%|███████████▋                         | 15805/50000 [08:25<18:25, 30.93it/s]"
     ]
    },
    {
     "name": "stdout",
     "output_type": "stream",
     "text": [
      "Epoch 15800, Error: 49280.315684, Learning rate: 0.011236\n",
      "Test MAE: 317.467120\n",
      "Test MSE: 150590.988871\n",
      "Test RMSE: 388.060548\n",
      "Test R-Squared: 0.9565\n",
      "Sample 674: Prediction=5436.47, Target=5506\n",
      "Sample 703: Prediction=4539.65, Target=4507\n",
      "Sample 356: Prediction=3164.48, Target=3185\n"
     ]
    },
    {
     "name": "stderr",
     "output_type": "stream",
     "text": [
      " 32%|███████████▊                         | 15905/50000 [08:28<18:35, 30.58it/s]"
     ]
    },
    {
     "name": "stdout",
     "output_type": "stream",
     "text": [
      "Epoch 15900, Error: 49024.503065, Learning rate: 0.011173\n",
      "Test MAE: 316.825849\n",
      "Test MSE: 150180.166966\n",
      "Test RMSE: 387.530859\n",
      "Test R-Squared: 0.9566\n",
      "Sample 454: Prediction=5695.79, Target=5577\n",
      "Sample 675: Prediction=3378.98, Target=3502\n",
      "Sample 509: Prediction=4681.97, Target=4945\n"
     ]
    },
    {
     "name": "stderr",
     "output_type": "stream",
     "text": [
      " 32%|███████████▊                         | 16005/50000 [08:31<18:34, 30.50it/s]"
     ]
    },
    {
     "name": "stdout",
     "output_type": "stream",
     "text": [
      "Epoch 16000, Error: 48741.520789, Learning rate: 0.011111\n",
      "Test MAE: 316.247212\n",
      "Test MSE: 149775.383233\n",
      "Test RMSE: 387.008247\n",
      "Test R-Squared: 0.9567\n",
      "Sample 215: Prediction=3849.33, Target=3941\n",
      "Sample 609: Prediction=48.09, Target=0\n",
      "Sample 430: Prediction=4269.02, Target=3563\n"
     ]
    },
    {
     "name": "stderr",
     "output_type": "stream",
     "text": [
      " 32%|███████████▉                         | 16105/50000 [08:35<18:45, 30.11it/s]"
     ]
    },
    {
     "name": "stdout",
     "output_type": "stream",
     "text": [
      "Epoch 16100, Error: 48483.218614, Learning rate: 0.011050\n",
      "Test MAE: 315.712395\n",
      "Test MSE: 149363.766644\n",
      "Test RMSE: 386.476088\n",
      "Test R-Squared: 0.9568\n",
      "Sample 555: Prediction=3937.84, Target=4298\n",
      "Sample 140: Prediction=55.36, Target=0\n",
      "Sample 701: Prediction=272.23, Target=0\n"
     ]
    },
    {
     "name": "stderr",
     "output_type": "stream",
     "text": [
      " 32%|███████████▉                         | 16203/50000 [08:38<18:42, 30.11it/s]"
     ]
    },
    {
     "name": "stdout",
     "output_type": "stream",
     "text": [
      "Epoch 16200, Error: 48188.479131, Learning rate: 0.010989\n",
      "Test MAE: 315.135581\n",
      "Test MSE: 148796.310108\n",
      "Test RMSE: 385.741248\n",
      "Test R-Squared: 0.9570\n",
      "Sample 37: Prediction=5602.52, Target=5488\n",
      "Sample 734: Prediction=67.24, Target=0\n",
      "Sample 72: Prediction=5431.02, Target=5128\n"
     ]
    },
    {
     "name": "stderr",
     "output_type": "stream",
     "text": [
      " 33%|████████████                         | 16304/50000 [08:42<18:34, 30.23it/s]"
     ]
    },
    {
     "name": "stdout",
     "output_type": "stream",
     "text": [
      "Epoch 16300, Error: 47922.761716, Learning rate: 0.010929\n",
      "Test MAE: 314.740191\n",
      "Test MSE: 148458.917283\n",
      "Test RMSE: 385.303669\n",
      "Test R-Squared: 0.9571\n",
      "Sample 547: Prediction=5163.23, Target=5286\n",
      "Sample 683: Prediction=6084.82, Target=6112\n",
      "Sample 661: Prediction=3735.16, Target=3741\n"
     ]
    },
    {
     "name": "stderr",
     "output_type": "stream",
     "text": [
      " 33%|████████████▏                        | 16405/50000 [08:45<18:55, 29.60it/s]"
     ]
    },
    {
     "name": "stdout",
     "output_type": "stream",
     "text": [
      "Epoch 16400, Error: 47681.826160, Learning rate: 0.010870\n",
      "Test MAE: 314.226741\n",
      "Test MSE: 148127.843115\n",
      "Test RMSE: 384.873802\n",
      "Test R-Squared: 0.9572\n",
      "Sample 589: Prediction=25.30, Target=0\n",
      "Sample 294: Prediction=5015.06, Target=4954\n",
      "Sample 430: Prediction=4257.79, Target=3563\n"
     ]
    },
    {
     "name": "stderr",
     "output_type": "stream",
     "text": [
      " 33%|████████████▏                        | 16507/50000 [08:48<18:07, 30.81it/s]"
     ]
    },
    {
     "name": "stdout",
     "output_type": "stream",
     "text": [
      "Epoch 16500, Error: 47413.387794, Learning rate: 0.010811\n",
      "Test MAE: 313.100109\n",
      "Test MSE: 147291.503151\n",
      "Test RMSE: 383.785752\n",
      "Test R-Squared: 0.9574\n",
      "Sample 362: Prediction=3135.98, Target=3662\n",
      "Sample 285: Prediction=3947.11, Target=3937\n",
      "Sample 573: Prediction=3883.62, Target=3727\n"
     ]
    },
    {
     "name": "stderr",
     "output_type": "stream",
     "text": [
      " 33%|████████████▎                        | 16606/50000 [08:52<19:12, 28.99it/s]"
     ]
    },
    {
     "name": "stdout",
     "output_type": "stream",
     "text": [
      "Epoch 16600, Error: 47101.952187, Learning rate: 0.010753\n",
      "Test MAE: 312.313293\n",
      "Test MSE: 146827.154524\n",
      "Test RMSE: 383.180316\n",
      "Test R-Squared: 0.9575\n",
      "Sample 571: Prediction=293.49, Target=0\n",
      "Sample 295: Prediction=5950.41, Target=5701\n",
      "Sample 190: Prediction=5270.71, Target=5173\n"
     ]
    },
    {
     "name": "stderr",
     "output_type": "stream",
     "text": [
      " 33%|████████████▎                        | 16706/50000 [08:55<18:42, 29.66it/s]"
     ]
    },
    {
     "name": "stdout",
     "output_type": "stream",
     "text": [
      "Epoch 16700, Error: 46724.646312, Learning rate: 0.010695\n",
      "Test MAE: 312.108637\n",
      "Test MSE: 146714.957843\n",
      "Test RMSE: 383.033886\n",
      "Test R-Squared: 0.9576\n",
      "Sample 614: Prediction=4747.58, Target=4790\n",
      "Sample 272: Prediction=4813.35, Target=4892\n",
      "Sample 244: Prediction=4434.59, Target=4677\n"
     ]
    },
    {
     "name": "stderr",
     "output_type": "stream",
     "text": [
      " 34%|████████████▍                        | 16804/50000 [08:58<17:49, 31.05it/s]"
     ]
    },
    {
     "name": "stdout",
     "output_type": "stream",
     "text": [
      "Epoch 16800, Error: 46323.941414, Learning rate: 0.010638\n",
      "Test MAE: 311.958668\n",
      "Test MSE: 146719.640978\n",
      "Test RMSE: 383.039999\n",
      "Test R-Squared: 0.9576\n",
      "Sample 582: Prediction=4590.17, Target=4609\n",
      "Sample 540: Prediction=5312.62, Target=5258\n",
      "Sample 446: Prediction=5350.54, Target=5237\n"
     ]
    },
    {
     "name": "stderr",
     "output_type": "stream",
     "text": [
      " 34%|████████████▌                        | 16904/50000 [09:01<17:44, 31.10it/s]"
     ]
    },
    {
     "name": "stdout",
     "output_type": "stream",
     "text": [
      "Epoch 16900, Error: 46002.618420, Learning rate: 0.010582\n",
      "Test MAE: 311.671953\n",
      "Test MSE: 146668.351181\n",
      "Test RMSE: 382.973042\n",
      "Test R-Squared: 0.9576\n",
      "Sample 291: Prediction=-72.57, Target=0\n",
      "Sample 433: Prediction=6617.06, Target=6532\n",
      "Sample 320: Prediction=3523.91, Target=3136\n"
     ]
    },
    {
     "name": "stderr",
     "output_type": "stream",
     "text": [
      " 34%|████████████▌                        | 17004/50000 [09:05<17:47, 30.92it/s]"
     ]
    },
    {
     "name": "stdout",
     "output_type": "stream",
     "text": [
      "Epoch 17000, Error: 45631.996124, Learning rate: 0.010526\n",
      "Test MAE: 311.472113\n",
      "Test MSE: 146648.420065\n",
      "Test RMSE: 382.947020\n",
      "Test R-Squared: 0.9576\n",
      "Sample 702: Prediction=104.56, Target=0\n",
      "Sample 637: Prediction=4476.49, Target=4881\n",
      "Sample 612: Prediction=4731.34, Target=4460\n"
     ]
    },
    {
     "name": "stderr",
     "output_type": "stream",
     "text": [
      " 34%|████████████▋                        | 17104/50000 [09:08<17:46, 30.85it/s]"
     ]
    },
    {
     "name": "stdout",
     "output_type": "stream",
     "text": [
      "Epoch 17100, Error: 45295.467611, Learning rate: 0.010471\n",
      "Test MAE: 311.585429\n",
      "Test MSE: 146682.003110\n",
      "Test RMSE: 382.990866\n",
      "Test R-Squared: 0.9576\n",
      "Sample 91: Prediction=5811.77, Target=5784\n",
      "Sample 625: Prediction=4571.34, Target=4425\n",
      "Sample 623: Prediction=4911.80, Target=4785\n"
     ]
    },
    {
     "name": "stderr",
     "output_type": "stream",
     "text": [
      " 34%|████████████▋                        | 17204/50000 [09:11<17:51, 30.61it/s]"
     ]
    },
    {
     "name": "stdout",
     "output_type": "stream",
     "text": [
      "Epoch 17200, Error: 44990.712974, Learning rate: 0.010417\n",
      "Test MAE: 310.695412\n",
      "Test MSE: 145930.725119\n",
      "Test RMSE: 382.008802\n",
      "Test R-Squared: 0.9578\n",
      "Sample 306: Prediction=155.18, Target=0\n",
      "Sample 469: Prediction=4690.55, Target=4726\n",
      "Sample 448: Prediction=4844.74, Target=4726\n"
     ]
    },
    {
     "name": "stderr",
     "output_type": "stream",
     "text": [
      " 35%|████████████▊                        | 17304/50000 [09:14<17:51, 30.51it/s]"
     ]
    },
    {
     "name": "stdout",
     "output_type": "stream",
     "text": [
      "Epoch 17300, Error: 44690.132926, Learning rate: 0.010363\n",
      "Test MAE: 310.142140\n",
      "Test MSE: 145615.804986\n",
      "Test RMSE: 381.596390\n",
      "Test R-Squared: 0.9579\n",
      "Sample 291: Prediction=-69.13, Target=0\n",
      "Sample 604: Prediction=4658.51, Target=4967\n",
      "Sample 16: Prediction=6053.00, Target=6046\n"
     ]
    },
    {
     "name": "stderr",
     "output_type": "stream",
     "text": [
      " 35%|████████████▉                        | 17406/50000 [09:18<17:20, 31.31it/s]"
     ]
    },
    {
     "name": "stdout",
     "output_type": "stream",
     "text": [
      "Epoch 17400, Error: 44419.765538, Learning rate: 0.010309\n",
      "Test MAE: 309.616138\n",
      "Test MSE: 145205.178043\n",
      "Test RMSE: 381.057972\n",
      "Test R-Squared: 0.9580\n",
      "Sample 497: Prediction=4177.27, Target=4149\n",
      "Sample 484: Prediction=3999.66, Target=4090\n",
      "Sample 305: Prediction=4690.00, Target=5352\n"
     ]
    },
    {
     "name": "stderr",
     "output_type": "stream",
     "text": [
      " 35%|████████████▉                        | 17507/50000 [09:21<17:34, 30.81it/s]"
     ]
    },
    {
     "name": "stdout",
     "output_type": "stream",
     "text": [
      "Epoch 17500, Error: 43954.290584, Learning rate: 0.010256\n",
      "Test MAE: 309.282931\n",
      "Test MSE: 144987.961791\n",
      "Test RMSE: 380.772848\n",
      "Test R-Squared: 0.9581\n",
      "Sample 680: Prediction=6036.31, Target=6008\n",
      "Sample 384: Prediction=174.23, Target=0\n",
      "Sample 164: Prediction=5729.71, Target=5691\n"
     ]
    },
    {
     "name": "stderr",
     "output_type": "stream",
     "text": [
      " 35%|█████████████                        | 17607/50000 [09:24<17:28, 30.90it/s]"
     ]
    },
    {
     "name": "stdout",
     "output_type": "stream",
     "text": [
      "Epoch 17600, Error: 43672.051605, Learning rate: 0.010204\n",
      "Test MAE: 308.595774\n",
      "Test MSE: 144573.632421\n",
      "Test RMSE: 380.228395\n",
      "Test R-Squared: 0.9582\n",
      "Sample 353: Prediction=4032.38, Target=4030\n",
      "Sample 485: Prediction=6274.83, Target=5912\n",
      "Sample 17: Prediction=3942.20, Target=3722\n"
     ]
    },
    {
     "name": "stderr",
     "output_type": "stream",
     "text": [
      " 35%|█████████████                        | 17707/50000 [09:27<17:23, 30.96it/s]"
     ]
    },
    {
     "name": "stdout",
     "output_type": "stream",
     "text": [
      "Epoch 17700, Error: 43393.455385, Learning rate: 0.010152\n",
      "Test MAE: 308.239213\n",
      "Test MSE: 144381.487912\n",
      "Test RMSE: 379.975641\n",
      "Test R-Squared: 0.9583\n",
      "Sample 301: Prediction=103.97, Target=0\n",
      "Sample 329: Prediction=3757.41, Target=3681\n",
      "Sample 632: Prediction=3571.44, Target=3797\n"
     ]
    },
    {
     "name": "stderr",
     "output_type": "stream",
     "text": [
      " 36%|█████████████▏                       | 17807/50000 [09:31<17:51, 30.05it/s]"
     ]
    },
    {
     "name": "stdout",
     "output_type": "stream",
     "text": [
      "Epoch 17800, Error: 43218.179899, Learning rate: 0.010101\n",
      "Test MAE: 307.766552\n",
      "Test MSE: 144103.964742\n",
      "Test RMSE: 379.610280\n",
      "Test R-Squared: 0.9583\n",
      "Sample 96: Prediction=-171.71, Target=0\n",
      "Sample 411: Prediction=4025.05, Target=3883\n",
      "Sample 385: Prediction=3812.10, Target=3737\n"
     ]
    },
    {
     "name": "stderr",
     "output_type": "stream",
     "text": [
      " 36%|█████████████▎                       | 17907/50000 [09:34<17:29, 30.57it/s]"
     ]
    },
    {
     "name": "stdout",
     "output_type": "stream",
     "text": [
      "Epoch 17900, Error: 42996.140021, Learning rate: 0.010050\n",
      "Test MAE: 307.693479\n",
      "Test MSE: 143994.656417\n",
      "Test RMSE: 379.466278\n",
      "Test R-Squared: 0.9584\n",
      "Sample 113: Prediction=75.40, Target=0\n",
      "Sample 246: Prediction=3943.77, Target=3680\n",
      "Sample 298: Prediction=3904.52, Target=3588\n"
     ]
    },
    {
     "name": "stderr",
     "output_type": "stream",
     "text": [
      " 36%|█████████████▎                       | 18007/50000 [09:37<17:04, 31.22it/s]"
     ]
    },
    {
     "name": "stdout",
     "output_type": "stream",
     "text": [
      "Epoch 18000, Error: 42795.818340, Learning rate: 0.010000\n",
      "Test MAE: 307.541655\n",
      "Test MSE: 143898.801874\n",
      "Test RMSE: 379.339956\n",
      "Test R-Squared: 0.9584\n",
      "Sample 307: Prediction=-74.82, Target=0\n",
      "Sample 467: Prediction=4783.81, Target=4935\n",
      "Sample 13: Prediction=7120.90, Target=6816\n"
     ]
    },
    {
     "name": "stderr",
     "output_type": "stream",
     "text": [
      " 36%|█████████████▍                       | 18107/50000 [09:40<17:10, 30.96it/s]"
     ]
    },
    {
     "name": "stdout",
     "output_type": "stream",
     "text": [
      "Epoch 18100, Error: 42579.188406, Learning rate: 0.009950\n",
      "Test MAE: 306.971807\n",
      "Test MSE: 143381.005169\n",
      "Test RMSE: 378.656844\n",
      "Test R-Squared: 0.9585\n",
      "Sample 674: Prediction=5419.18, Target=5506\n",
      "Sample 554: Prediction=6210.47, Target=6119\n",
      "Sample 351: Prediction=8859.97, Target=8414\n"
     ]
    },
    {
     "name": "stderr",
     "output_type": "stream",
     "text": [
      " 36%|█████████████▍                       | 18207/50000 [09:44<17:07, 30.94it/s]"
     ]
    },
    {
     "name": "stdout",
     "output_type": "stream",
     "text": [
      "Epoch 18200, Error: 42301.812935, Learning rate: 0.009901\n",
      "Test MAE: 306.424882\n",
      "Test MSE: 142938.063774\n",
      "Test RMSE: 378.071506\n",
      "Test R-Squared: 0.9587\n",
      "Sample 378: Prediction=5136.25, Target=5187\n",
      "Sample 727: Prediction=4286.92, Target=4602\n",
      "Sample 233: Prediction=4012.05, Target=4015\n"
     ]
    },
    {
     "name": "stderr",
     "output_type": "stream",
     "text": [
      " 37%|█████████████▌                       | 18305/50000 [09:47<17:09, 30.78it/s]"
     ]
    },
    {
     "name": "stdout",
     "output_type": "stream",
     "text": [
      "Epoch 18300, Error: 41963.115926, Learning rate: 0.009852\n",
      "Test MAE: 305.917122\n",
      "Test MSE: 142542.363340\n",
      "Test RMSE: 377.547829\n",
      "Test R-Squared: 0.9588\n",
      "Sample 26: Prediction=4821.05, Target=4881\n",
      "Sample 455: Prediction=6141.92, Target=6140\n",
      "Sample 702: Prediction=82.77, Target=0\n"
     ]
    },
    {
     "name": "stderr",
     "output_type": "stream",
     "text": [
      " 37%|█████████████▌                       | 18405/50000 [09:50<17:05, 30.82it/s]"
     ]
    },
    {
     "name": "stdout",
     "output_type": "stream",
     "text": [
      "Epoch 18400, Error: 41656.257046, Learning rate: 0.009804\n",
      "Test MAE: 305.731481\n",
      "Test MSE: 142403.333986\n",
      "Test RMSE: 377.363663\n",
      "Test R-Squared: 0.9588\n",
      "Sample 307: Prediction=-75.82, Target=0\n",
      "Sample 374: Prediction=3833.53, Target=3695\n",
      "Sample 530: Prediction=132.58, Target=0\n"
     ]
    },
    {
     "name": "stderr",
     "output_type": "stream",
     "text": [
      " 37%|█████████████▋                       | 18505/50000 [09:53<17:09, 30.60it/s]"
     ]
    },
    {
     "name": "stdout",
     "output_type": "stream",
     "text": [
      "Epoch 18500, Error: 41376.252697, Learning rate: 0.009756\n",
      "Test MAE: 305.336348\n",
      "Test MSE: 142083.886692\n",
      "Test RMSE: 376.940163\n",
      "Test R-Squared: 0.9589\n",
      "Sample 225: Prediction=3752.89, Target=3557\n",
      "Sample 146: Prediction=-3.55, Target=0\n",
      "Sample 622: Prediction=94.34, Target=0\n"
     ]
    },
    {
     "name": "stderr",
     "output_type": "stream",
     "text": [
      " 37%|█████████████▊                       | 18605/50000 [09:56<16:52, 31.01it/s]"
     ]
    },
    {
     "name": "stdout",
     "output_type": "stream",
     "text": [
      "Epoch 18600, Error: 41127.783449, Learning rate: 0.009709\n",
      "Test MAE: 305.162995\n",
      "Test MSE: 141930.813270\n",
      "Test RMSE: 376.737061\n",
      "Test R-Squared: 0.9590\n",
      "Sample 219: Prediction=-1.40, Target=0\n",
      "Sample 296: Prediction=5119.94, Target=4806\n",
      "Sample 355: Prediction=6026.35, Target=5540\n"
     ]
    },
    {
     "name": "stderr",
     "output_type": "stream",
     "text": [
      " 37%|█████████████▊                       | 18705/50000 [10:00<16:44, 31.15it/s]"
     ]
    },
    {
     "name": "stdout",
     "output_type": "stream",
     "text": [
      "Epoch 18700, Error: 40878.573744, Learning rate: 0.009662\n",
      "Test MAE: 305.039526\n",
      "Test MSE: 141888.053892\n",
      "Test RMSE: 376.680307\n",
      "Test R-Squared: 0.9590\n",
      "Sample 357: Prediction=-16.79, Target=0\n",
      "Sample 498: Prediction=5202.33, Target=5042\n",
      "Sample 144: Prediction=3579.90, Target=3493\n"
     ]
    },
    {
     "name": "stderr",
     "output_type": "stream",
     "text": [
      " 38%|█████████████▉                       | 18805/50000 [10:03<16:43, 31.08it/s]"
     ]
    },
    {
     "name": "stdout",
     "output_type": "stream",
     "text": [
      "Epoch 18800, Error: 40640.291181, Learning rate: 0.009615\n",
      "Test MAE: 304.522827\n",
      "Test MSE: 141424.000491\n",
      "Test RMSE: 376.063825\n",
      "Test R-Squared: 0.9591\n",
      "Sample 514: Prediction=5309.33, Target=5171\n",
      "Sample 121: Prediction=3555.44, Target=3557\n",
      "Sample 735: Prediction=4142.11, Target=4459\n"
     ]
    },
    {
     "name": "stderr",
     "output_type": "stream",
     "text": [
      " 38%|█████████████▉                       | 18905/50000 [10:06<16:52, 30.71it/s]"
     ]
    },
    {
     "name": "stdout",
     "output_type": "stream",
     "text": [
      "Epoch 18900, Error: 40360.359028, Learning rate: 0.009569\n",
      "Test MAE: 304.234272\n",
      "Test MSE: 141068.737825\n",
      "Test RMSE: 375.591184\n",
      "Test R-Squared: 0.9592\n",
      "Sample 411: Prediction=4019.43, Target=3883\n",
      "Sample 376: Prediction=5044.90, Target=5230\n",
      "Sample 455: Prediction=6142.40, Target=6140\n"
     ]
    },
    {
     "name": "stderr",
     "output_type": "stream",
     "text": [
      " 38%|██████████████                       | 19005/50000 [10:09<17:01, 30.35it/s]"
     ]
    },
    {
     "name": "stdout",
     "output_type": "stream",
     "text": [
      "Epoch 19000, Error: 40091.349732, Learning rate: 0.009524\n",
      "Test MAE: 303.865916\n",
      "Test MSE: 140634.814816\n",
      "Test RMSE: 375.013086\n",
      "Test R-Squared: 0.9593\n",
      "Sample 634: Prediction=5824.77, Target=5973\n",
      "Sample 40: Prediction=-34.54, Target=0\n",
      "Sample 469: Prediction=4695.73, Target=4726\n"
     ]
    },
    {
     "name": "stderr",
     "output_type": "stream",
     "text": [
      " 38%|██████████████▏                      | 19106/50000 [10:13<17:06, 30.10it/s]"
     ]
    },
    {
     "name": "stdout",
     "output_type": "stream",
     "text": [
      "Epoch 19100, Error: 39833.825787, Learning rate: 0.009479\n",
      "Test MAE: 303.312661\n",
      "Test MSE: 140097.622733\n",
      "Test RMSE: 374.296170\n",
      "Test R-Squared: 0.9595\n",
      "Sample 633: Prediction=5219.17, Target=5278\n",
      "Sample 194: Prediction=3963.91, Target=3755\n",
      "Sample 711: Prediction=3559.20, Target=3869\n"
     ]
    },
    {
     "name": "stderr",
     "output_type": "stream",
     "text": [
      " 38%|██████████████▏                      | 19206/50000 [10:16<16:58, 30.23it/s]"
     ]
    },
    {
     "name": "stdout",
     "output_type": "stream",
     "text": [
      "Epoch 19200, Error: 39505.428363, Learning rate: 0.009434\n",
      "Test MAE: 302.760827\n",
      "Test MSE: 139575.670407\n",
      "Test RMSE: 373.598274\n",
      "Test R-Squared: 0.9596\n",
      "Sample 362: Prediction=3225.05, Target=3662\n",
      "Sample 70: Prediction=5377.16, Target=5580\n",
      "Sample 142: Prediction=206.54, Target=0\n"
     ]
    },
    {
     "name": "stderr",
     "output_type": "stream",
     "text": [
      " 39%|██████████████▎                      | 19306/50000 [10:19<16:26, 31.13it/s]"
     ]
    },
    {
     "name": "stdout",
     "output_type": "stream",
     "text": [
      "Epoch 19300, Error: 39202.477117, Learning rate: 0.009390\n",
      "Test MAE: 302.142324\n",
      "Test MSE: 139053.870181\n",
      "Test RMSE: 372.899276\n",
      "Test R-Squared: 0.9598\n",
      "Sample 17: Prediction=3952.17, Target=3722\n",
      "Sample 233: Prediction=4024.80, Target=4015\n",
      "Sample 740: Prediction=4195.60, Target=4561\n"
     ]
    },
    {
     "name": "stderr",
     "output_type": "stream",
     "text": [
      " 39%|██████████████▎                      | 19406/50000 [10:22<16:25, 31.06it/s]"
     ]
    },
    {
     "name": "stdout",
     "output_type": "stream",
     "text": [
      "Epoch 19400, Error: 38911.464973, Learning rate: 0.009346\n",
      "Test MAE: 301.674508\n",
      "Test MSE: 138542.190277\n",
      "Test RMSE: 372.212561\n",
      "Test R-Squared: 0.9599\n",
      "Sample 419: Prediction=6100.13, Target=5735\n",
      "Sample 381: Prediction=4004.74, Target=3963\n",
      "Sample 395: Prediction=4410.12, Target=4315\n"
     ]
    },
    {
     "name": "stderr",
     "output_type": "stream",
     "text": [
      " 39%|██████████████▍                      | 19506/50000 [10:26<16:57, 29.96it/s]"
     ]
    },
    {
     "name": "stdout",
     "output_type": "stream",
     "text": [
      "Epoch 19500, Error: 38611.230777, Learning rate: 0.009302\n",
      "Test MAE: 301.239127\n",
      "Test MSE: 138050.125076\n",
      "Test RMSE: 371.550972\n",
      "Test R-Squared: 0.9601\n",
      "Sample 263: Prediction=3221.11, Target=3364\n",
      "Sample 711: Prediction=3559.25, Target=3869\n",
      "Sample 23: Prediction=146.23, Target=0\n"
     ]
    },
    {
     "name": "stderr",
     "output_type": "stream",
     "text": [
      " 39%|██████████████▌                      | 19606/50000 [10:29<16:30, 30.69it/s]"
     ]
    },
    {
     "name": "stdout",
     "output_type": "stream",
     "text": [
      "Epoch 19600, Error: 38227.205553, Learning rate: 0.009259\n",
      "Test MAE: 300.971026\n",
      "Test MSE: 137612.640705\n",
      "Test RMSE: 370.961778\n",
      "Test R-Squared: 0.9602\n",
      "Sample 503: Prediction=4335.14, Target=4110\n",
      "Sample 429: Prediction=5479.45, Target=5223\n",
      "Sample 630: Prediction=4187.94, Target=4396\n"
     ]
    },
    {
     "name": "stderr",
     "output_type": "stream",
     "text": [
      " 39%|██████████████▌                      | 19706/50000 [10:32<16:25, 30.75it/s]"
     ]
    },
    {
     "name": "stdout",
     "output_type": "stream",
     "text": [
      "Epoch 19700, Error: 37849.452839, Learning rate: 0.009217\n",
      "Test MAE: 300.539216\n",
      "Test MSE: 137154.358055\n",
      "Test RMSE: 370.343568\n",
      "Test R-Squared: 0.9603\n",
      "Sample 487: Prediction=5639.33, Target=5464\n",
      "Sample 227: Prediction=4969.43, Target=5015\n",
      "Sample 520: Prediction=4998.94, Target=4797\n"
     ]
    },
    {
     "name": "stderr",
     "output_type": "stream",
     "text": [
      " 40%|██████████████▋                      | 19806/50000 [10:35<16:09, 31.13it/s]"
     ]
    },
    {
     "name": "stdout",
     "output_type": "stream",
     "text": [
      "Epoch 19800, Error: 37513.901466, Learning rate: 0.009174\n",
      "Test MAE: 299.881977\n",
      "Test MSE: 136528.912905\n",
      "Test RMSE: 369.498191\n",
      "Test R-Squared: 0.9605\n",
      "Sample 273: Prediction=4965.66, Target=4663\n",
      "Sample 703: Prediction=4496.79, Target=4507\n",
      "Sample 81: Prediction=3676.76, Target=3710\n"
     ]
    },
    {
     "name": "stderr",
     "output_type": "stream",
     "text": [
      " 40%|██████████████▋                      | 19906/50000 [10:39<16:06, 31.12it/s]"
     ]
    },
    {
     "name": "stdout",
     "output_type": "stream",
     "text": [
      "Epoch 19900, Error: 37261.190069, Learning rate: 0.009132\n",
      "Test MAE: 299.397117\n",
      "Test MSE: 136093.492036\n",
      "Test RMSE: 368.908514\n",
      "Test R-Squared: 0.9607\n",
      "Sample 10: Prediction=312.37, Target=0\n",
      "Sample 429: Prediction=5471.85, Target=5223\n",
      "Sample 570: Prediction=10.36, Target=0\n"
     ]
    },
    {
     "name": "stderr",
     "output_type": "stream",
     "text": [
      " 40%|██████████████▊                      | 20006/50000 [10:42<16:08, 30.96it/s]"
     ]
    },
    {
     "name": "stdout",
     "output_type": "stream",
     "text": [
      "Epoch 20000, Error: 36944.043205, Learning rate: 0.009091\n",
      "Test MAE: 298.937915\n",
      "Test MSE: 135706.225930\n",
      "Test RMSE: 368.383260\n",
      "Test R-Squared: 0.9608\n",
      "Sample 688: Prediction=4996.40, Target=4717\n",
      "Sample 214: Prediction=-47.58, Target=0\n",
      "Sample 79: Prediction=4203.07, Target=4111\n"
     ]
    },
    {
     "name": "stderr",
     "output_type": "stream",
     "text": [
      " 40%|██████████████▉                      | 20106/50000 [10:45<16:10, 30.81it/s]"
     ]
    },
    {
     "name": "stdout",
     "output_type": "stream",
     "text": [
      "Epoch 20100, Error: 36689.870848, Learning rate: 0.009050\n",
      "Test MAE: 298.399279\n",
      "Test MSE: 135363.758489\n",
      "Test RMSE: 367.918141\n",
      "Test R-Squared: 0.9609\n",
      "Sample 560: Prediction=4043.93, Target=3906\n",
      "Sample 440: Prediction=3744.24, Target=4108\n",
      "Sample 201: Prediction=4331.26, Target=4128\n"
     ]
    },
    {
     "name": "stderr",
     "output_type": "stream",
     "text": [
      " 40%|██████████████▉                      | 20206/50000 [10:48<16:15, 30.55it/s]"
     ]
    },
    {
     "name": "stdout",
     "output_type": "stream",
     "text": [
      "Epoch 20200, Error: 36441.925397, Learning rate: 0.009009\n",
      "Test MAE: 297.893424\n",
      "Test MSE: 135019.510070\n",
      "Test RMSE: 367.450010\n",
      "Test R-Squared: 0.9610\n",
      "Sample 676: Prediction=6757.47, Target=7032\n",
      "Sample 288: Prediction=5639.88, Target=5482\n",
      "Sample 428: Prediction=267.34, Target=0\n"
     ]
    },
    {
     "name": "stderr",
     "output_type": "stream",
     "text": [
      " 41%|███████████████                      | 20306/50000 [10:51<16:00, 30.90it/s]"
     ]
    },
    {
     "name": "stdout",
     "output_type": "stream",
     "text": [
      "Epoch 20300, Error: 36226.415703, Learning rate: 0.008969\n",
      "Test MAE: 297.743934\n",
      "Test MSE: 134810.812519\n",
      "Test RMSE: 367.165920\n",
      "Test R-Squared: 0.9610\n",
      "Sample 568: Prediction=5500.95, Target=5317\n",
      "Sample 131: Prediction=4253.54, Target=4180\n",
      "Sample 18: Prediction=4732.68, Target=4583\n"
     ]
    },
    {
     "name": "stderr",
     "output_type": "stream",
     "text": [
      " 41%|███████████████                      | 20406/50000 [10:55<15:47, 31.25it/s]"
     ]
    },
    {
     "name": "stdout",
     "output_type": "stream",
     "text": [
      "Epoch 20400, Error: 36048.997340, Learning rate: 0.008929\n",
      "Test MAE: 297.489215\n",
      "Test MSE: 134573.966836\n",
      "Test RMSE: 366.843246\n",
      "Test R-Squared: 0.9611\n",
      "Sample 601: Prediction=4123.23, Target=3998\n",
      "Sample 483: Prediction=4975.10, Target=5058\n",
      "Sample 498: Prediction=5161.90, Target=5042\n"
     ]
    },
    {
     "name": "stderr",
     "output_type": "stream",
     "text": [
      " 41%|███████████████▏                     | 20506/50000 [10:58<15:46, 31.17it/s]"
     ]
    },
    {
     "name": "stdout",
     "output_type": "stream",
     "text": [
      "Epoch 20500, Error: 35846.792818, Learning rate: 0.008889\n",
      "Test MAE: 297.172987\n",
      "Test MSE: 134286.164217\n",
      "Test RMSE: 366.450766\n",
      "Test R-Squared: 0.9612\n",
      "Sample 106: Prediction=4426.28, Target=4359\n",
      "Sample 440: Prediction=3747.36, Target=4108\n",
      "Sample 83: Prediction=4073.77, Target=4202\n"
     ]
    },
    {
     "name": "stderr",
     "output_type": "stream",
     "text": [
      " 41%|███████████████▏                     | 20606/50000 [11:01<15:57, 30.71it/s]"
     ]
    },
    {
     "name": "stdout",
     "output_type": "stream",
     "text": [
      "Epoch 20600, Error: 35690.800968, Learning rate: 0.008850\n",
      "Test MAE: 296.980741\n",
      "Test MSE: 134079.494383\n",
      "Test RMSE: 366.168669\n",
      "Test R-Squared: 0.9612\n",
      "Sample 261: Prediction=3504.77, Target=3405\n",
      "Sample 521: Prediction=72.79, Target=0\n",
      "Sample 115: Prediction=5655.61, Target=5614\n"
     ]
    },
    {
     "name": "stderr",
     "output_type": "stream",
     "text": [
      " 41%|███████████████▎                     | 20706/50000 [11:04<16:03, 30.40it/s]"
     ]
    },
    {
     "name": "stdout",
     "output_type": "stream",
     "text": [
      "Epoch 20700, Error: 35515.540509, Learning rate: 0.008811\n",
      "Test MAE: 296.922541\n",
      "Test MSE: 133958.762546\n",
      "Test RMSE: 366.003774\n",
      "Test R-Squared: 0.9613\n",
      "Sample 69: Prediction=3990.19, Target=4016\n",
      "Sample 692: Prediction=4378.14, Target=4178\n",
      "Sample 90: Prediction=5017.91, Target=5179\n"
     ]
    },
    {
     "name": "stderr",
     "output_type": "stream",
     "text": [
      " 42%|███████████████▍                     | 20806/50000 [11:08<15:57, 30.48it/s]"
     ]
    },
    {
     "name": "stdout",
     "output_type": "stream",
     "text": [
      "Epoch 20800, Error: 35337.819062, Learning rate: 0.008772\n",
      "Test MAE: 296.872812\n",
      "Test MSE: 133803.324326\n",
      "Test RMSE: 365.791367\n",
      "Test R-Squared: 0.9613\n",
      "Sample 704: Prediction=4283.36, Target=4211\n",
      "Sample 709: Prediction=7516.68, Target=7380\n",
      "Sample 269: Prediction=7067.37, Target=6803\n"
     ]
    },
    {
     "name": "stderr",
     "output_type": "stream",
     "text": [
      " 42%|███████████████▍                     | 20906/50000 [11:11<15:32, 31.20it/s]"
     ]
    },
    {
     "name": "stdout",
     "output_type": "stream",
     "text": [
      "Epoch 20900, Error: 35172.006370, Learning rate: 0.008734\n",
      "Test MAE: 296.712204\n",
      "Test MSE: 133603.536027\n",
      "Test RMSE: 365.518175\n",
      "Test R-Squared: 0.9614\n",
      "Sample 133: Prediction=4964.36, Target=4789\n",
      "Sample 443: Prediction=272.24, Target=0\n",
      "Sample 748: Prediction=4057.28, Target=3649\n"
     ]
    },
    {
     "name": "stderr",
     "output_type": "stream",
     "text": [
      " 42%|███████████████▌                     | 21006/50000 [11:14<15:28, 31.24it/s]"
     ]
    },
    {
     "name": "stdout",
     "output_type": "stream",
     "text": [
      "Epoch 21000, Error: 34976.418052, Learning rate: 0.008696\n",
      "Test MAE: 296.611278\n",
      "Test MSE: 133477.877292\n",
      "Test RMSE: 365.346243\n",
      "Test R-Squared: 0.9614\n",
      "Sample 469: Prediction=4715.61, Target=4726\n",
      "Sample 514: Prediction=5299.91, Target=5171\n",
      "Sample 46: Prediction=5481.22, Target=5337\n"
     ]
    },
    {
     "name": "stderr",
     "output_type": "stream",
     "text": [
      " 42%|███████████████▌                     | 21106/50000 [11:17<15:27, 31.14it/s]"
     ]
    },
    {
     "name": "stdout",
     "output_type": "stream",
     "text": [
      "Epoch 21100, Error: 34810.687975, Learning rate: 0.008658\n",
      "Test MAE: 296.381158\n",
      "Test MSE: 133293.972206\n",
      "Test RMSE: 365.094470\n",
      "Test R-Squared: 0.9615\n",
      "Sample 314: Prediction=-30.37, Target=0\n",
      "Sample 201: Prediction=4330.30, Target=4128\n",
      "Sample 343: Prediction=15.82, Target=0\n"
     ]
    },
    {
     "name": "stderr",
     "output_type": "stream",
     "text": [
      " 42%|███████████████▋                     | 21206/50000 [11:20<15:49, 30.32it/s]"
     ]
    },
    {
     "name": "stdout",
     "output_type": "stream",
     "text": [
      "Epoch 21200, Error: 34697.237196, Learning rate: 0.008621\n",
      "Test MAE: 296.057485\n",
      "Test MSE: 132980.459463\n",
      "Test RMSE: 364.664859\n",
      "Test R-Squared: 0.9616\n",
      "Sample 519: Prediction=4351.82, Target=4562\n",
      "Sample 185: Prediction=8417.27, Target=8043\n",
      "Sample 113: Prediction=38.02, Target=0\n"
     ]
    },
    {
     "name": "stderr",
     "output_type": "stream",
     "text": [
      " 43%|███████████████▊                     | 21306/50000 [11:24<15:29, 30.88it/s]"
     ]
    },
    {
     "name": "stdout",
     "output_type": "stream",
     "text": [
      "Epoch 21300, Error: 34506.740538, Learning rate: 0.008584\n",
      "Test MAE: 296.006330\n",
      "Test MSE: 132909.532846\n",
      "Test RMSE: 364.567597\n",
      "Test R-Squared: 0.9616\n",
      "Sample 177: Prediction=5925.22, Target=5839\n",
      "Sample 287: Prediction=5385.65, Target=5241\n",
      "Sample 443: Prediction=267.31, Target=0\n"
     ]
    },
    {
     "name": "stderr",
     "output_type": "stream",
     "text": [
      " 43%|███████████████▊                     | 21406/50000 [11:27<15:31, 30.69it/s]"
     ]
    },
    {
     "name": "stdout",
     "output_type": "stream",
     "text": [
      "Epoch 21400, Error: 34383.250884, Learning rate: 0.008547\n",
      "Test MAE: 295.880556\n",
      "Test MSE: 132802.115556\n",
      "Test RMSE: 364.420246\n",
      "Test R-Squared: 0.9616\n",
      "Sample 698: Prediction=6135.75, Target=5870\n",
      "Sample 84: Prediction=5027.29, Target=5328\n",
      "Sample 730: Prediction=3981.46, Target=3965\n"
     ]
    },
    {
     "name": "stderr",
     "output_type": "stream",
     "text": [
      " 43%|███████████████▉                     | 21506/50000 [11:30<15:13, 31.19it/s]"
     ]
    },
    {
     "name": "stdout",
     "output_type": "stream",
     "text": [
      "Epoch 21500, Error: 34225.134572, Learning rate: 0.008511\n",
      "Test MAE: 295.794403\n",
      "Test MSE: 132705.692962\n",
      "Test RMSE: 364.287926\n",
      "Test R-Squared: 0.9616\n",
      "Sample 204: Prediction=4651.87, Target=4735\n",
      "Sample 667: Prediction=4010.20, Target=3735\n",
      "Sample 489: Prediction=10.53, Target=0\n"
     ]
    },
    {
     "name": "stderr",
     "output_type": "stream",
     "text": [
      " 43%|███████████████▉                     | 21606/50000 [11:33<15:10, 31.18it/s]"
     ]
    },
    {
     "name": "stdout",
     "output_type": "stream",
     "text": [
      "Epoch 21600, Error: 34071.986157, Learning rate: 0.008475\n",
      "Test MAE: 295.796186\n",
      "Test MSE: 132614.094038\n",
      "Test RMSE: 364.162181\n",
      "Test R-Squared: 0.9617\n",
      "Sample 672: Prediction=29.41, Target=0\n",
      "Sample 705: Prediction=4587.85, Target=4685\n",
      "Sample 301: Prediction=64.42, Target=0\n"
     ]
    },
    {
     "name": "stderr",
     "output_type": "stream",
     "text": [
      " 43%|████████████████                     | 21706/50000 [11:37<15:10, 31.06it/s]"
     ]
    },
    {
     "name": "stdout",
     "output_type": "stream",
     "text": [
      "Epoch 21700, Error: 33877.039883, Learning rate: 0.008439\n",
      "Test MAE: 295.972315\n",
      "Test MSE: 132500.860627\n",
      "Test RMSE: 364.006677\n",
      "Test R-Squared: 0.9617\n",
      "Sample 281: Prediction=5926.80, Target=5799\n",
      "Sample 567: Prediction=6992.66, Target=6660\n",
      "Sample 328: Prediction=5292.69, Target=5871\n"
     ]
    },
    {
     "name": "stderr",
     "output_type": "stream",
     "text": [
      " 44%|████████████████▏                    | 21806/50000 [11:40<15:14, 30.82it/s]"
     ]
    },
    {
     "name": "stdout",
     "output_type": "stream",
     "text": [
      "Epoch 21800, Error: 33709.169957, Learning rate: 0.008403\n",
      "Test MAE: 295.797095\n",
      "Test MSE: 132240.031915\n",
      "Test RMSE: 363.648226\n",
      "Test R-Squared: 0.9618\n",
      "Sample 462: Prediction=4231.78, Target=4042\n",
      "Sample 8: Prediction=5037.15, Target=4820\n",
      "Sample 312: Prediction=7548.47, Target=7195\n"
     ]
    },
    {
     "name": "stderr",
     "output_type": "stream",
     "text": [
      " 44%|████████████████▏                    | 21906/50000 [11:43<15:11, 30.81it/s]"
     ]
    },
    {
     "name": "stdout",
     "output_type": "stream",
     "text": [
      "Epoch 21900, Error: 33534.151939, Learning rate: 0.008368\n",
      "Test MAE: 295.632866\n",
      "Test MSE: 132064.822751\n",
      "Test RMSE: 363.407241\n",
      "Test R-Squared: 0.9618\n",
      "Sample 660: Prediction=3737.53, Target=3784\n",
      "Sample 200: Prediction=3740.18, Target=3827\n",
      "Sample 706: Prediction=3511.85, Target=3890\n"
     ]
    },
    {
     "name": "stderr",
     "output_type": "stream",
     "text": [
      " 44%|████████████████▎                    | 22006/50000 [11:46<15:13, 30.64it/s]"
     ]
    },
    {
     "name": "stdout",
     "output_type": "stream",
     "text": [
      "Epoch 22000, Error: 33314.868850, Learning rate: 0.008333\n",
      "Test MAE: 295.371331\n",
      "Test MSE: 131702.822359\n",
      "Test RMSE: 362.908835\n",
      "Test R-Squared: 0.9619\n",
      "Sample 418: Prediction=6118.55, Target=6196\n",
      "Sample 359: Prediction=6.60, Target=0\n",
      "Sample 615: Prediction=4315.42, Target=4055\n"
     ]
    },
    {
     "name": "stderr",
     "output_type": "stream",
     "text": [
      " 44%|████████████████▎                    | 22106/50000 [11:49<14:49, 31.37it/s]"
     ]
    },
    {
     "name": "stdout",
     "output_type": "stream",
     "text": [
      "Epoch 22100, Error: 33137.324036, Learning rate: 0.008299\n",
      "Test MAE: 294.877814\n",
      "Test MSE: 131267.919905\n",
      "Test RMSE: 362.309150\n",
      "Test R-Squared: 0.9620\n",
      "Sample 579: Prediction=207.28, Target=0\n",
      "Sample 94: Prediction=4026.84, Target=4169\n",
      "Sample 693: Prediction=169.90, Target=0\n"
     ]
    },
    {
     "name": "stderr",
     "output_type": "stream",
     "text": [
      " 44%|████████████████▍                    | 22206/50000 [11:53<14:54, 31.09it/s]"
     ]
    },
    {
     "name": "stdout",
     "output_type": "stream",
     "text": [
      "Epoch 22200, Error: 32973.310193, Learning rate: 0.008264\n",
      "Test MAE: 294.166761\n",
      "Test MSE: 130649.961226\n",
      "Test RMSE: 361.455338\n",
      "Test R-Squared: 0.9622\n",
      "Sample 118: Prediction=4969.32, Target=4949\n",
      "Sample 80: Prediction=8063.62, Target=7959\n",
      "Sample 121: Prediction=3578.78, Target=3557\n"
     ]
    },
    {
     "name": "stderr",
     "output_type": "stream",
     "text": [
      " 45%|████████████████▌                    | 22304/50000 [11:56<15:13, 30.31it/s]"
     ]
    },
    {
     "name": "stdout",
     "output_type": "stream",
     "text": [
      "Epoch 22300, Error: 32806.858022, Learning rate: 0.008230\n",
      "Test MAE: 293.780452\n",
      "Test MSE: 130304.993875\n",
      "Test RMSE: 360.977830\n",
      "Test R-Squared: 0.9623\n",
      "Sample 171: Prediction=4392.19, Target=4364\n",
      "Sample 108: Prediction=4391.79, Target=4341\n",
      "Sample 107: Prediction=5178.32, Target=5235\n"
     ]
    },
    {
     "name": "stderr",
     "output_type": "stream",
     "text": [
      " 45%|████████████████▌                    | 22404/50000 [11:59<14:56, 30.77it/s]"
     ]
    },
    {
     "name": "stdout",
     "output_type": "stream",
     "text": [
      "Epoch 22400, Error: 32610.316651, Learning rate: 0.008197\n",
      "Test MAE: 293.554657\n",
      "Test MSE: 130082.810770\n",
      "Test RMSE: 360.669947\n",
      "Test R-Squared: 0.9624\n",
      "Sample 187: Prediction=-241.82, Target=0\n",
      "Sample 679: Prediction=5366.17, Target=5397\n",
      "Sample 441: Prediction=3772.02, Target=3826\n"
     ]
    },
    {
     "name": "stderr",
     "output_type": "stream",
     "text": [
      " 45%|████████████████▋                    | 22504/50000 [12:02<14:55, 30.69it/s]"
     ]
    },
    {
     "name": "stdout",
     "output_type": "stream",
     "text": [
      "Epoch 22500, Error: 32347.878813, Learning rate: 0.008163\n",
      "Test MAE: 292.857100\n",
      "Test MSE: 129454.968259\n",
      "Test RMSE: 359.798511\n",
      "Test R-Squared: 0.9626\n",
      "Sample 152: Prediction=4570.08, Target=4409\n",
      "Sample 521: Prediction=87.77, Target=0\n",
      "Sample 67: Prediction=4831.46, Target=4663\n"
     ]
    },
    {
     "name": "stderr",
     "output_type": "stream",
     "text": [
      " 45%|████████████████▋                    | 22604/50000 [12:06<15:25, 29.61it/s]"
     ]
    },
    {
     "name": "stdout",
     "output_type": "stream",
     "text": [
      "Epoch 22600, Error: 32081.685542, Learning rate: 0.008130\n",
      "Test MAE: 291.655388\n",
      "Test MSE: 128485.346014\n",
      "Test RMSE: 358.448526\n",
      "Test R-Squared: 0.9629\n",
      "Sample 681: Prediction=5077.41, Target=4969\n",
      "Sample 654: Prediction=3869.08, Target=3751\n",
      "Sample 7: Prediction=4434.04, Target=4270\n"
     ]
    },
    {
     "name": "stderr",
     "output_type": "stream",
     "text": [
      " 45%|████████████████▊                    | 22704/50000 [12:09<14:37, 31.09it/s]"
     ]
    },
    {
     "name": "stdout",
     "output_type": "stream",
     "text": [
      "Epoch 22700, Error: 31867.813257, Learning rate: 0.008097\n",
      "Test MAE: 290.973966\n",
      "Test MSE: 127898.017578\n",
      "Test RMSE: 357.628323\n",
      "Test R-Squared: 0.9630\n",
      "Sample 675: Prediction=3400.60, Target=3502\n",
      "Sample 2: Prediction=5350.16, Target=5237\n",
      "Sample 737: Prediction=4853.58, Target=4931\n"
     ]
    },
    {
     "name": "stderr",
     "output_type": "stream",
     "text": [
      " 46%|████████████████▊                    | 22804/50000 [12:12<14:50, 30.53it/s]"
     ]
    },
    {
     "name": "stdout",
     "output_type": "stream",
     "text": [
      "Epoch 22800, Error: 31594.608403, Learning rate: 0.008065\n",
      "Test MAE: 289.929330\n",
      "Test MSE: 127078.112337\n",
      "Test RMSE: 356.480171\n",
      "Test R-Squared: 0.9633\n",
      "Sample 15: Prediction=-28.40, Target=0\n",
      "Sample 693: Prediction=166.08, Target=0\n",
      "Sample 105: Prediction=137.26, Target=0\n"
     ]
    },
    {
     "name": "stderr",
     "output_type": "stream",
     "text": [
      " 46%|████████████████▉                    | 22904/50000 [12:15<14:37, 30.88it/s]"
     ]
    },
    {
     "name": "stdout",
     "output_type": "stream",
     "text": [
      "Epoch 22900, Error: 31353.061628, Learning rate: 0.008032\n",
      "Test MAE: 289.496791\n",
      "Test MSE: 126674.553396\n",
      "Test RMSE: 355.913688\n",
      "Test R-Squared: 0.9634\n",
      "Sample 578: Prediction=3749.07, Target=3701\n",
      "Sample 35: Prediction=4942.96, Target=4601\n",
      "Sample 213: Prediction=4068.64, Target=4207\n"
     ]
    },
    {
     "name": "stderr",
     "output_type": "stream",
     "text": [
      " 46%|█████████████████                    | 23004/50000 [12:18<14:36, 30.82it/s]"
     ]
    },
    {
     "name": "stdout",
     "output_type": "stream",
     "text": [
      "Epoch 23000, Error: 31101.487799, Learning rate: 0.008000\n",
      "Test MAE: 288.643701\n",
      "Test MSE: 125933.555521\n",
      "Test RMSE: 354.871182\n",
      "Test R-Squared: 0.9636\n",
      "Sample 367: Prediction=4027.19, Target=3928\n",
      "Sample 107: Prediction=5195.68, Target=5235\n",
      "Sample 484: Prediction=4020.89, Target=4090\n"
     ]
    },
    {
     "name": "stderr",
     "output_type": "stream",
     "text": [
      " 46%|█████████████████                    | 23105/50000 [12:22<14:39, 30.59it/s]"
     ]
    },
    {
     "name": "stdout",
     "output_type": "stream",
     "text": [
      "Epoch 23100, Error: 30836.642900, Learning rate: 0.007968\n",
      "Test MAE: 288.068506\n",
      "Test MSE: 125362.057397\n",
      "Test RMSE: 354.065047\n",
      "Test R-Squared: 0.9638\n",
      "Sample 109: Prediction=5351.97, Target=5280\n",
      "Sample 655: Prediction=5312.74, Target=5407\n",
      "Sample 673: Prediction=5706.62, Target=5424\n"
     ]
    },
    {
     "name": "stderr",
     "output_type": "stream",
     "text": [
      " 46%|█████████████████▏                   | 23205/50000 [12:25<14:40, 30.43it/s]"
     ]
    },
    {
     "name": "stdout",
     "output_type": "stream",
     "text": [
      "Epoch 23200, Error: 30517.813117, Learning rate: 0.007937\n",
      "Test MAE: 288.491345\n",
      "Test MSE: 125552.734160\n",
      "Test RMSE: 354.334213\n",
      "Test R-Squared: 0.9637\n",
      "Sample 636: Prediction=4179.52, Target=3900\n",
      "Sample 46: Prediction=5471.19, Target=5337\n",
      "Sample 203: Prediction=3930.04, Target=3948\n"
     ]
    },
    {
     "name": "stderr",
     "output_type": "stream",
     "text": [
      " 47%|█████████████████▏                   | 23305/50000 [12:28<14:20, 31.03it/s]"
     ]
    },
    {
     "name": "stdout",
     "output_type": "stream",
     "text": [
      "Epoch 23300, Error: 30295.959670, Learning rate: 0.007905\n",
      "Test MAE: 288.513556\n",
      "Test MSE: 125516.961481\n",
      "Test RMSE: 354.283730\n",
      "Test R-Squared: 0.9637\n",
      "Sample 548: Prediction=-109.25, Target=0\n",
      "Sample 491: Prediction=5076.73, Target=5008\n",
      "Sample 596: Prediction=5075.76, Target=4997\n"
     ]
    },
    {
     "name": "stderr",
     "output_type": "stream",
     "text": [
      " 47%|█████████████████▎                   | 23405/50000 [12:31<14:16, 31.04it/s]"
     ]
    },
    {
     "name": "stdout",
     "output_type": "stream",
     "text": [
      "Epoch 23400, Error: 30008.006342, Learning rate: 0.007874\n",
      "Test MAE: 288.563827\n",
      "Test MSE: 125452.179590\n",
      "Test RMSE: 354.192292\n",
      "Test R-Squared: 0.9637\n",
      "Sample 620: Prediction=3783.63, Target=3621\n",
      "Sample 140: Prediction=69.47, Target=0\n",
      "Sample 451: Prediction=5665.13, Target=5397\n"
     ]
    },
    {
     "name": "stderr",
     "output_type": "stream",
     "text": [
      " 47%|█████████████████▍                   | 23505/50000 [12:35<14:12, 31.09it/s]"
     ]
    },
    {
     "name": "stdout",
     "output_type": "stream",
     "text": [
      "Epoch 23500, Error: 29833.110205, Learning rate: 0.007843\n",
      "Test MAE: 288.452399\n",
      "Test MSE: 125258.813715\n",
      "Test RMSE: 353.919219\n",
      "Test R-Squared: 0.9638\n",
      "Sample 433: Prediction=6601.78, Target=6532\n",
      "Sample 42: Prediction=3628.46, Target=3591\n",
      "Sample 552: Prediction=3973.64, Target=4000\n"
     ]
    },
    {
     "name": "stderr",
     "output_type": "stream",
     "text": [
      " 47%|█████████████████▍                   | 23605/50000 [12:38<14:17, 30.78it/s]"
     ]
    },
    {
     "name": "stdout",
     "output_type": "stream",
     "text": [
      "Epoch 23600, Error: 29525.461224, Learning rate: 0.007812\n",
      "Test MAE: 288.649108\n",
      "Test MSE: 125209.867416\n",
      "Test RMSE: 353.850063\n",
      "Test R-Squared: 0.9638\n",
      "Sample 406: Prediction=6342.24, Target=5896\n",
      "Sample 699: Prediction=-11.76, Target=0\n",
      "Sample 103: Prediction=123.50, Target=0\n"
     ]
    },
    {
     "name": "stderr",
     "output_type": "stream",
     "text": [
      " 47%|█████████████████▌                   | 23705/50000 [12:41<14:33, 30.12it/s]"
     ]
    },
    {
     "name": "stdout",
     "output_type": "stream",
     "text": [
      "Epoch 23700, Error: 29350.705019, Learning rate: 0.007782\n",
      "Test MAE: 288.483411\n",
      "Test MSE: 125020.984668\n",
      "Test RMSE: 353.583066\n",
      "Test R-Squared: 0.9639\n",
      "Sample 50: Prediction=3710.21, Target=3849\n",
      "Sample 660: Prediction=3788.71, Target=3784\n",
      "Sample 735: Prediction=4253.62, Target=4459\n"
     ]
    },
    {
     "name": "stderr",
     "output_type": "stream",
     "text": [
      " 48%|█████████████████▌                   | 23805/50000 [12:44<14:16, 30.57it/s]"
     ]
    },
    {
     "name": "stdout",
     "output_type": "stream",
     "text": [
      "Epoch 23800, Error: 28936.431552, Learning rate: 0.007752\n",
      "Test MAE: 288.700068\n",
      "Test MSE: 124960.405304\n",
      "Test RMSE: 353.497391\n",
      "Test R-Squared: 0.9639\n",
      "Sample 482: Prediction=3940.22, Target=3919\n",
      "Sample 119: Prediction=3712.04, Target=3667\n",
      "Sample 478: Prediction=88.27, Target=0\n"
     ]
    },
    {
     "name": "stderr",
     "output_type": "stream",
     "text": [
      " 48%|█████████████████▋                   | 23905/50000 [12:48<13:54, 31.28it/s]"
     ]
    },
    {
     "name": "stdout",
     "output_type": "stream",
     "text": [
      "Epoch 23900, Error: 28482.576144, Learning rate: 0.007722\n",
      "Test MAE: 287.778695\n",
      "Test MSE: 124223.869453\n",
      "Test RMSE: 352.454067\n",
      "Test R-Squared: 0.9641\n",
      "Sample 572: Prediction=5818.08, Target=6049\n",
      "Sample 688: Prediction=4968.03, Target=4717\n",
      "Sample 22: Prediction=53.41, Target=0\n"
     ]
    },
    {
     "name": "stderr",
     "output_type": "stream",
     "text": [
      " 48%|█████████████████▊                   | 24005/50000 [12:51<14:12, 30.47it/s]"
     ]
    },
    {
     "name": "stdout",
     "output_type": "stream",
     "text": [
      "Epoch 24000, Error: 28243.101093, Learning rate: 0.007692\n",
      "Test MAE: 287.205782\n",
      "Test MSE: 123746.965680\n",
      "Test RMSE: 351.776869\n",
      "Test R-Squared: 0.9642\n",
      "Sample 318: Prediction=-97.14, Target=0\n",
      "Sample 215: Prediction=3919.03, Target=3941\n",
      "Sample 531: Prediction=5884.93, Target=5857\n"
     ]
    },
    {
     "name": "stderr",
     "output_type": "stream",
     "text": [
      " 48%|█████████████████▊                   | 24105/50000 [12:54<13:57, 30.91it/s]"
     ]
    },
    {
     "name": "stdout",
     "output_type": "stream",
     "text": [
      "Epoch 24100, Error: 27967.512753, Learning rate: 0.007663\n",
      "Test MAE: 286.652492\n",
      "Test MSE: 123225.726910\n",
      "Test RMSE: 351.035222\n",
      "Test R-Squared: 0.9644\n",
      "Sample 252: Prediction=150.84, Target=0\n",
      "Sample 484: Prediction=4036.32, Target=4090\n",
      "Sample 587: Prediction=101.17, Target=0\n"
     ]
    },
    {
     "name": "stderr",
     "output_type": "stream",
     "text": [
      " 48%|█████████████████▉                   | 24205/50000 [12:57<13:55, 30.88it/s]"
     ]
    },
    {
     "name": "stdout",
     "output_type": "stream",
     "text": [
      "Epoch 24200, Error: 27697.810361, Learning rate: 0.007634\n",
      "Test MAE: 285.965852\n",
      "Test MSE: 122657.791357\n",
      "Test RMSE: 350.225344\n",
      "Test R-Squared: 0.9645\n",
      "Sample 248: Prediction=4855.80, Target=4906\n",
      "Sample 590: Prediction=4063.47, Target=4221\n",
      "Sample 171: Prediction=4420.40, Target=4364\n"
     ]
    },
    {
     "name": "stderr",
     "output_type": "stream",
     "text": [
      " 49%|█████████████████▉                   | 24305/50000 [13:00<14:13, 30.11it/s]"
     ]
    },
    {
     "name": "stdout",
     "output_type": "stream",
     "text": [
      "Epoch 24300, Error: 27453.504295, Learning rate: 0.007605\n",
      "Test MAE: 285.686042\n",
      "Test MSE: 122475.915702\n",
      "Test RMSE: 349.965592\n",
      "Test R-Squared: 0.9646\n",
      "Sample 274: Prediction=5572.13, Target=5578\n",
      "Sample 196: Prediction=3640.97, Target=3894\n",
      "Sample 634: Prediction=5933.74, Target=5973\n"
     ]
    },
    {
     "name": "stderr",
     "output_type": "stream",
     "text": [
      " 49%|██████████████████                   | 24405/50000 [13:04<13:51, 30.76it/s]"
     ]
    },
    {
     "name": "stdout",
     "output_type": "stream",
     "text": [
      "Epoch 24400, Error: 27266.141365, Learning rate: 0.007576\n",
      "Test MAE: 285.634229\n",
      "Test MSE: 122412.245627\n",
      "Test RMSE: 349.874614\n",
      "Test R-Squared: 0.9646\n",
      "Sample 487: Prediction=5617.44, Target=5464\n",
      "Sample 128: Prediction=4283.12, Target=4015\n",
      "Sample 526: Prediction=4409.69, Target=4492\n"
     ]
    },
    {
     "name": "stderr",
     "output_type": "stream",
     "text": [
      " 49%|██████████████████▏                  | 24505/50000 [13:07<13:37, 31.19it/s]"
     ]
    },
    {
     "name": "stdout",
     "output_type": "stream",
     "text": [
      "Epoch 24500, Error: 27071.732495, Learning rate: 0.007547\n",
      "Test MAE: 285.540015\n",
      "Test MSE: 122339.389409\n",
      "Test RMSE: 349.770481\n",
      "Test R-Squared: 0.9646\n",
      "Sample 113: Prediction=47.42, Target=0\n",
      "Sample 563: Prediction=77.06, Target=0\n",
      "Sample 739: Prediction=4665.73, Target=4738\n"
     ]
    },
    {
     "name": "stderr",
     "output_type": "stream",
     "text": [
      " 49%|██████████████████▏                  | 24605/50000 [13:10<13:37, 31.06it/s]"
     ]
    },
    {
     "name": "stdout",
     "output_type": "stream",
     "text": [
      "Epoch 24600, Error: 26838.636123, Learning rate: 0.007519\n",
      "Test MAE: 285.442628\n",
      "Test MSE: 122174.839037\n",
      "Test RMSE: 349.535176\n",
      "Test R-Squared: 0.9647\n",
      "Sample 420: Prediction=3152.36, Target=3141\n",
      "Sample 45: Prediction=5422.90, Target=5393\n",
      "Sample 386: Prediction=7602.69, Target=7739\n"
     ]
    },
    {
     "name": "stderr",
     "output_type": "stream",
     "text": [
      " 49%|██████████████████▎                  | 24705/50000 [13:13<13:38, 30.92it/s]"
     ]
    },
    {
     "name": "stdout",
     "output_type": "stream",
     "text": [
      "Epoch 24700, Error: 26700.244181, Learning rate: 0.007491\n",
      "Test MAE: 285.252087\n",
      "Test MSE: 121909.654443\n",
      "Test RMSE: 349.155631\n",
      "Test R-Squared: 0.9648\n",
      "Sample 196: Prediction=3631.64, Target=3894\n",
      "Sample 289: Prediction=4630.38, Target=4293\n",
      "Sample 385: Prediction=3749.50, Target=3737\n"
     ]
    },
    {
     "name": "stderr",
     "output_type": "stream",
     "text": [
      " 50%|██████████████████▎                  | 24805/50000 [13:17<13:38, 30.79it/s]"
     ]
    },
    {
     "name": "stdout",
     "output_type": "stream",
     "text": [
      "Epoch 24800, Error: 26569.298454, Learning rate: 0.007463\n",
      "Test MAE: 285.352301\n",
      "Test MSE: 121933.813105\n",
      "Test RMSE: 349.190225\n",
      "Test R-Squared: 0.9647\n",
      "Sample 411: Prediction=3957.03, Target=3883\n",
      "Sample 181: Prediction=4127.97, Target=4102\n",
      "Sample 426: Prediction=5615.83, Target=5558\n"
     ]
    },
    {
     "name": "stderr",
     "output_type": "stream",
     "text": [
      " 50%|██████████████████▍                  | 24905/50000 [13:20<14:05, 29.70it/s]"
     ]
    },
    {
     "name": "stdout",
     "output_type": "stream",
     "text": [
      "Epoch 24900, Error: 26447.800635, Learning rate: 0.007435\n",
      "Test MAE: 285.227603\n",
      "Test MSE: 121811.947117\n",
      "Test RMSE: 349.015683\n",
      "Test R-Squared: 0.9648\n",
      "Sample 578: Prediction=3753.91, Target=3701\n",
      "Sample 444: Prediction=6295.88, Target=6239\n",
      "Sample 171: Prediction=4420.82, Target=4364\n"
     ]
    },
    {
     "name": "stderr",
     "output_type": "stream",
     "text": [
      " 50%|██████████████████▌                  | 25005/50000 [13:23<13:26, 30.98it/s]"
     ]
    },
    {
     "name": "stdout",
     "output_type": "stream",
     "text": [
      "Epoch 25000, Error: 26310.301864, Learning rate: 0.007407\n",
      "Test MAE: 285.151662\n",
      "Test MSE: 121756.916898\n",
      "Test RMSE: 348.936838\n",
      "Test R-Squared: 0.9648\n",
      "Sample 687: Prediction=5733.47, Target=5469\n",
      "Sample 111: Prediction=7361.72, Target=7193\n",
      "Sample 504: Prediction=5604.22, Target=5409\n"
     ]
    },
    {
     "name": "stderr",
     "output_type": "stream",
     "text": [
      " 50%|██████████████████▌                  | 25105/50000 [13:26<13:25, 30.90it/s]"
     ]
    },
    {
     "name": "stdout",
     "output_type": "stream",
     "text": [
      "Epoch 25100, Error: 26183.361793, Learning rate: 0.007380\n",
      "Test MAE: 284.939362\n",
      "Test MSE: 121557.785494\n",
      "Test RMSE: 348.651381\n",
      "Test R-Squared: 0.9649\n",
      "Sample 170: Prediction=5203.10, Target=5055\n",
      "Sample 205: Prediction=3708.62, Target=3661\n",
      "Sample 189: Prediction=5967.63, Target=5868\n"
     ]
    },
    {
     "name": "stderr",
     "output_type": "stream",
     "text": [
      " 50%|██████████████████▋                  | 25205/50000 [13:30<13:19, 31.02it/s]"
     ]
    },
    {
     "name": "stdout",
     "output_type": "stream",
     "text": [
      "Epoch 25200, Error: 26033.790831, Learning rate: 0.007353\n",
      "Test MAE: 285.054394\n",
      "Test MSE: 121541.465565\n",
      "Test RMSE: 348.627976\n",
      "Test R-Squared: 0.9649\n",
      "Sample 43: Prediction=5371.22, Target=5603\n",
      "Sample 441: Prediction=3790.55, Target=3826\n",
      "Sample 358: Prediction=-93.20, Target=0\n"
     ]
    },
    {
     "name": "stderr",
     "output_type": "stream",
     "text": [
      " 51%|██████████████████▋                  | 25305/50000 [13:33<13:24, 30.71it/s]"
     ]
    },
    {
     "name": "stdout",
     "output_type": "stream",
     "text": [
      "Epoch 25300, Error: 25913.465965, Learning rate: 0.007326\n",
      "Test MAE: 284.896174\n",
      "Test MSE: 121458.021242\n",
      "Test RMSE: 348.508280\n",
      "Test R-Squared: 0.9649\n",
      "Sample 614: Prediction=4892.79, Target=4790\n",
      "Sample 188: Prediction=153.22, Target=0\n",
      "Sample 56: Prediction=3954.47, Target=3998\n"
     ]
    },
    {
     "name": "stderr",
     "output_type": "stream",
     "text": [
      " 51%|██████████████████▊                  | 25405/50000 [13:36<13:35, 30.16it/s]"
     ]
    },
    {
     "name": "stdout",
     "output_type": "stream",
     "text": [
      "Epoch 25400, Error: 25780.297684, Learning rate: 0.007299\n",
      "Test MAE: 284.796478\n",
      "Test MSE: 121350.324542\n",
      "Test RMSE: 348.353735\n",
      "Test R-Squared: 0.9649\n",
      "Sample 380: Prediction=4033.21, Target=4019\n",
      "Sample 519: Prediction=4403.09, Target=4562\n",
      "Sample 164: Prediction=5796.92, Target=5691\n"
     ]
    },
    {
     "name": "stderr",
     "output_type": "stream",
     "text": [
      " 51%|██████████████████▊                  | 25505/50000 [13:39<13:18, 30.67it/s]"
     ]
    },
    {
     "name": "stdout",
     "output_type": "stream",
     "text": [
      "Epoch 25500, Error: 25686.142489, Learning rate: 0.007273\n",
      "Test MAE: 284.563599\n",
      "Test MSE: 121125.084764\n",
      "Test RMSE: 348.030293\n",
      "Test R-Squared: 0.9650\n",
      "Sample 291: Prediction=-35.71, Target=0\n",
      "Sample 121: Prediction=3567.19, Target=3557\n",
      "Sample 607: Prediction=5455.61, Target=5372\n"
     ]
    },
    {
     "name": "stderr",
     "output_type": "stream",
     "text": [
      " 51%|██████████████████▉                  | 25605/50000 [13:42<13:06, 31.01it/s]"
     ]
    },
    {
     "name": "stdout",
     "output_type": "stream",
     "text": [
      "Epoch 25600, Error: 25590.636068, Learning rate: 0.007246\n",
      "Test MAE: 284.400891\n",
      "Test MSE: 121061.193817\n",
      "Test RMSE: 347.938491\n",
      "Test R-Squared: 0.9650\n",
      "Sample 733: Prediction=5287.01, Target=5064\n",
      "Sample 491: Prediction=5089.97, Target=5008\n",
      "Sample 750: Prediction=3572.37, Target=3551\n"
     ]
    },
    {
     "name": "stderr",
     "output_type": "stream",
     "text": [
      " 51%|███████████████████                  | 25705/50000 [13:46<13:19, 30.38it/s]"
     ]
    },
    {
     "name": "stdout",
     "output_type": "stream",
     "text": [
      "Epoch 25700, Error: 25464.881727, Learning rate: 0.007220\n",
      "Test MAE: 284.210371\n",
      "Test MSE: 120874.715455\n",
      "Test RMSE: 347.670412\n",
      "Test R-Squared: 0.9651\n",
      "Sample 443: Prediction=235.29, Target=0\n",
      "Sample 751: Prediction=3698.10, Target=3805\n",
      "Sample 134: Prediction=-47.24, Target=0\n"
     ]
    },
    {
     "name": "stderr",
     "output_type": "stream",
     "text": [
      " 52%|███████████████████                  | 25805/50000 [13:49<12:56, 31.16it/s]"
     ]
    },
    {
     "name": "stdout",
     "output_type": "stream",
     "text": [
      "Epoch 25800, Error: 25361.740684, Learning rate: 0.007194\n",
      "Test MAE: 284.178349\n",
      "Test MSE: 120827.170046\n",
      "Test RMSE: 347.602028\n",
      "Test R-Squared: 0.9651\n",
      "Sample 178: Prediction=4223.00, Target=4190\n",
      "Sample 752: Prediction=4694.29, Target=4773\n",
      "Sample 1: Prediction=3943.84, Target=4014\n"
     ]
    },
    {
     "name": "stderr",
     "output_type": "stream",
     "text": [
      " 52%|███████████████████▏                 | 25905/50000 [13:52<13:00, 30.87it/s]"
     ]
    },
    {
     "name": "stdout",
     "output_type": "stream",
     "text": [
      "Epoch 25900, Error: 25265.490782, Learning rate: 0.007168\n",
      "Test MAE: 284.215963\n",
      "Test MSE: 120856.039783\n",
      "Test RMSE: 347.643553\n",
      "Test R-Squared: 0.9651\n",
      "Sample 690: Prediction=64.60, Target=0\n",
      "Sample 312: Prediction=7413.06, Target=7195\n",
      "Sample 94: Prediction=4058.95, Target=4169\n"
     ]
    },
    {
     "name": "stderr",
     "output_type": "stream",
     "text": [
      " 52%|███████████████████▏                 | 26005/50000 [13:55<13:16, 30.13it/s]"
     ]
    },
    {
     "name": "stdout",
     "output_type": "stream",
     "text": [
      "Epoch 26000, Error: 25157.772492, Learning rate: 0.007143\n",
      "Test MAE: 284.248818\n",
      "Test MSE: 120798.577649\n",
      "Test RMSE: 347.560898\n",
      "Test R-Squared: 0.9651\n",
      "Sample 401: Prediction=4621.19, Target=4665\n",
      "Sample 438: Prediction=5274.98, Target=5384\n",
      "Sample 639: Prediction=5463.66, Target=5222\n"
     ]
    },
    {
     "name": "stderr",
     "output_type": "stream",
     "text": [
      " 52%|███████████████████▎                 | 26105/50000 [13:59<12:57, 30.75it/s]"
     ]
    },
    {
     "name": "stdout",
     "output_type": "stream",
     "text": [
      "Epoch 26100, Error: 25005.605568, Learning rate: 0.007117\n",
      "Test MAE: 283.948664\n",
      "Test MSE: 120627.543094\n",
      "Test RMSE: 347.314761\n",
      "Test R-Squared: 0.9651\n",
      "Sample 507: Prediction=6076.89, Target=5942\n",
      "Sample 105: Prediction=144.96, Target=0\n",
      "Sample 734: Prediction=70.74, Target=0\n"
     ]
    },
    {
     "name": "stderr",
     "output_type": "stream",
     "text": [
      " 52%|███████████████████▍                 | 26205/50000 [14:02<12:41, 31.24it/s]"
     ]
    },
    {
     "name": "stdout",
     "output_type": "stream",
     "text": [
      "Epoch 26200, Error: 24867.085541, Learning rate: 0.007092\n",
      "Test MAE: 283.783194\n",
      "Test MSE: 120437.807721\n",
      "Test RMSE: 347.041507\n",
      "Test R-Squared: 0.9652\n",
      "Sample 561: Prediction=5608.88, Target=5695\n",
      "Sample 744: Prediction=46.21, Target=0\n",
      "Sample 558: Prediction=3969.58, Target=4276\n"
     ]
    },
    {
     "name": "stderr",
     "output_type": "stream",
     "text": [
      " 53%|███████████████████▍                 | 26305/50000 [14:05<12:41, 31.13it/s]"
     ]
    },
    {
     "name": "stdout",
     "output_type": "stream",
     "text": [
      "Epoch 26300, Error: 24740.447375, Learning rate: 0.007067\n",
      "Test MAE: 283.853380\n",
      "Test MSE: 120452.122968\n",
      "Test RMSE: 347.062131\n",
      "Test R-Squared: 0.9652\n",
      "Sample 479: Prediction=6259.16, Target=6144\n",
      "Sample 338: Prediction=5393.52, Target=5263\n",
      "Sample 704: Prediction=4206.60, Target=4211\n"
     ]
    },
    {
     "name": "stderr",
     "output_type": "stream",
     "text": [
      " 53%|███████████████████▌                 | 26405/50000 [14:08<12:42, 30.94it/s]"
     ]
    },
    {
     "name": "stdout",
     "output_type": "stream",
     "text": [
      "Epoch 26400, Error: 24654.801897, Learning rate: 0.007042\n",
      "Test MAE: 283.709422\n",
      "Test MSE: 120329.644193\n",
      "Test RMSE: 346.885636\n",
      "Test R-Squared: 0.9652\n",
      "Sample 57: Prediction=4030.54, Target=3959\n",
      "Sample 335: Prediction=6026.84, Target=6154\n",
      "Sample 365: Prediction=5739.28, Target=5681\n"
     ]
    },
    {
     "name": "stderr",
     "output_type": "stream",
     "text": [
      " 53%|███████████████████▌                 | 26505/50000 [14:12<12:41, 30.86it/s]"
     ]
    },
    {
     "name": "stdout",
     "output_type": "stream",
     "text": [
      "Epoch 26500, Error: 24563.056352, Learning rate: 0.007018\n",
      "Test MAE: 283.645463\n",
      "Test MSE: 120272.234883\n",
      "Test RMSE: 346.802876\n",
      "Test R-Squared: 0.9652\n",
      "Sample 406: Prediction=6276.90, Target=5896\n",
      "Sample 410: Prediction=4886.07, Target=4796\n",
      "Sample 260: Prediction=4649.44, Target=4663\n"
     ]
    },
    {
     "name": "stderr",
     "output_type": "stream",
     "text": [
      " 53%|███████████████████▋                 | 26605/50000 [14:15<12:38, 30.86it/s]"
     ]
    },
    {
     "name": "stdout",
     "output_type": "stream",
     "text": [
      "Epoch 26600, Error: 24468.464593, Learning rate: 0.006993\n",
      "Test MAE: 283.508095\n",
      "Test MSE: 120165.232887\n",
      "Test RMSE: 346.648573\n",
      "Test R-Squared: 0.9653\n",
      "Sample 356: Prediction=3322.08, Target=3185\n",
      "Sample 351: Prediction=8688.86, Target=8414\n",
      "Sample 68: Prediction=5270.78, Target=5233\n"
     ]
    },
    {
     "name": "stderr",
     "output_type": "stream",
     "text": [
      " 53%|███████████████████▊                 | 26703/50000 [14:18<12:44, 30.47it/s]"
     ]
    },
    {
     "name": "stdout",
     "output_type": "stream",
     "text": [
      "Epoch 26700, Error: 24368.599226, Learning rate: 0.006969\n",
      "Test MAE: 283.527013\n",
      "Test MSE: 120169.723416\n",
      "Test RMSE: 346.655050\n",
      "Test R-Squared: 0.9653\n",
      "Sample 632: Prediction=3567.12, Target=3797\n",
      "Sample 700: Prediction=5017.05, Target=4909\n",
      "Sample 415: Prediction=5534.99, Target=5499\n"
     ]
    },
    {
     "name": "stderr",
     "output_type": "stream",
     "text": [
      " 54%|███████████████████▊                 | 26805/50000 [14:21<12:28, 30.97it/s]"
     ]
    },
    {
     "name": "stdout",
     "output_type": "stream",
     "text": [
      "Epoch 26800, Error: 24283.204963, Learning rate: 0.006944\n",
      "Test MAE: 283.482722\n",
      "Test MSE: 120149.075362\n",
      "Test RMSE: 346.625266\n",
      "Test R-Squared: 0.9653\n",
      "Sample 135: Prediction=6276.06, Target=7176\n",
      "Sample 132: Prediction=5481.11, Target=5307\n",
      "Sample 548: Prediction=-112.21, Target=0\n"
     ]
    },
    {
     "name": "stderr",
     "output_type": "stream",
     "text": [
      " 54%|███████████████████▉                 | 26905/50000 [14:25<12:23, 31.04it/s]"
     ]
    },
    {
     "name": "stdout",
     "output_type": "stream",
     "text": [
      "Epoch 26900, Error: 24194.897176, Learning rate: 0.006920\n",
      "Test MAE: 283.472434\n",
      "Test MSE: 120157.403087\n",
      "Test RMSE: 346.637279\n",
      "Test R-Squared: 0.9653\n",
      "Sample 417: Prediction=4466.82, Target=4486\n",
      "Sample 733: Prediction=5296.23, Target=5064\n",
      "Sample 425: Prediction=5600.62, Target=5637\n"
     ]
    },
    {
     "name": "stderr",
     "output_type": "stream",
     "text": [
      " 54%|███████████████████▉                 | 27005/50000 [14:28<12:18, 31.12it/s]"
     ]
    },
    {
     "name": "stdout",
     "output_type": "stream",
     "text": [
      "Epoch 27000, Error: 24102.721248, Learning rate: 0.006897\n",
      "Test MAE: 283.382940\n",
      "Test MSE: 120085.637357\n",
      "Test RMSE: 346.533746\n",
      "Test R-Squared: 0.9653\n",
      "Sample 35: Prediction=4885.84, Target=4601\n",
      "Sample 617: Prediction=3993.64, Target=3954\n",
      "Sample 639: Prediction=5458.01, Target=5222\n"
     ]
    },
    {
     "name": "stderr",
     "output_type": "stream",
     "text": [
      " 54%|████████████████████                 | 27105/50000 [14:31<12:24, 30.75it/s]"
     ]
    },
    {
     "name": "stdout",
     "output_type": "stream",
     "text": [
      "Epoch 27100, Error: 24014.716205, Learning rate: 0.006873\n",
      "Test MAE: 283.347532\n",
      "Test MSE: 120058.007094\n",
      "Test RMSE: 346.493877\n",
      "Test R-Squared: 0.9653\n",
      "Sample 584: Prediction=5066.41, Target=4924\n",
      "Sample 599: Prediction=3512.42, Target=3198\n",
      "Sample 122: Prediction=3644.80, Target=3755\n"
     ]
    },
    {
     "name": "stderr",
     "output_type": "stream",
     "text": [
      " 54%|████████████████████▏                | 27205/50000 [14:34<12:20, 30.77it/s]"
     ]
    },
    {
     "name": "stdout",
     "output_type": "stream",
     "text": [
      "Epoch 27200, Error: 23925.041529, Learning rate: 0.006849\n",
      "Test MAE: 283.418136\n",
      "Test MSE: 120073.531522\n",
      "Test RMSE: 346.516279\n",
      "Test R-Squared: 0.9653\n",
      "Sample 686: Prediction=4379.28, Target=4303\n",
      "Sample 273: Prediction=4942.54, Target=4663\n",
      "Sample 488: Prediction=4701.04, Target=4232\n"
     ]
    },
    {
     "name": "stderr",
     "output_type": "stream",
     "text": [
      " 55%|████████████████████▏                | 27305/50000 [14:37<12:23, 30.54it/s]"
     ]
    },
    {
     "name": "stdout",
     "output_type": "stream",
     "text": [
      "Epoch 27300, Error: 23851.688393, Learning rate: 0.006826\n",
      "Test MAE: 283.373805\n",
      "Test MSE: 119970.303163\n",
      "Test RMSE: 346.367295\n",
      "Test R-Squared: 0.9653\n",
      "Sample 138: Prediction=5113.16, Target=4925\n",
      "Sample 538: Prediction=3864.45, Target=3795\n",
      "Sample 339: Prediction=4260.58, Target=3875\n"
     ]
    },
    {
     "name": "stderr",
     "output_type": "stream",
     "text": [
      " 55%|████████████████████▎                | 27405/50000 [14:41<12:11, 30.87it/s]"
     ]
    },
    {
     "name": "stdout",
     "output_type": "stream",
     "text": [
      "Epoch 27400, Error: 23755.362038, Learning rate: 0.006803\n",
      "Test MAE: 283.373105\n",
      "Test MSE: 119931.218598\n",
      "Test RMSE: 346.310870\n",
      "Test R-Squared: 0.9653\n",
      "Sample 335: Prediction=6038.82, Target=6154\n",
      "Sample 557: Prediction=39.57, Target=0\n",
      "Sample 128: Prediction=4279.47, Target=4015\n"
     ]
    },
    {
     "name": "stderr",
     "output_type": "stream",
     "text": [
      " 55%|████████████████████▎                | 27505/50000 [14:44<12:05, 31.02it/s]"
     ]
    },
    {
     "name": "stdout",
     "output_type": "stream",
     "text": [
      "Epoch 27500, Error: 23658.811627, Learning rate: 0.006780\n",
      "Test MAE: 283.401659\n",
      "Test MSE: 119924.583146\n",
      "Test RMSE: 346.301290\n",
      "Test R-Squared: 0.9653\n",
      "Sample 34: Prediction=4715.38, Target=4960\n",
      "Sample 51: Prediction=5571.25, Target=5572\n",
      "Sample 520: Prediction=4903.10, Target=4797\n"
     ]
    },
    {
     "name": "stderr",
     "output_type": "stream",
     "text": [
      " 55%|████████████████████▍                | 27605/50000 [14:47<12:03, 30.97it/s]"
     ]
    },
    {
     "name": "stdout",
     "output_type": "stream",
     "text": [
      "Epoch 27600, Error: 23555.860473, Learning rate: 0.006757\n",
      "Test MAE: 283.408688\n",
      "Test MSE: 119941.084994\n",
      "Test RMSE: 346.325115\n",
      "Test R-Squared: 0.9653\n",
      "Sample 327: Prediction=5869.81, Target=5726\n",
      "Sample 3: Prediction=-76.05, Target=0\n",
      "Sample 45: Prediction=5408.67, Target=5393\n"
     ]
    },
    {
     "name": "stderr",
     "output_type": "stream",
     "text": [
      " 55%|████████████████████▌                | 27705/50000 [14:50<12:03, 30.80it/s]"
     ]
    },
    {
     "name": "stdout",
     "output_type": "stream",
     "text": [
      "Epoch 27700, Error: 23436.565023, Learning rate: 0.006734\n",
      "Test MAE: 283.352987\n",
      "Test MSE: 119870.791112\n",
      "Test RMSE: 346.223614\n",
      "Test R-Squared: 0.9653\n",
      "Sample 48: Prediction=4383.20, Target=4163\n",
      "Sample 188: Prediction=152.85, Target=0\n",
      "Sample 64: Prediction=4578.83, Target=4611\n"
     ]
    },
    {
     "name": "stderr",
     "output_type": "stream",
     "text": [
      " 56%|████████████████████▌                | 27805/50000 [14:54<12:02, 30.71it/s]"
     ]
    },
    {
     "name": "stdout",
     "output_type": "stream",
     "text": [
      "Epoch 27800, Error: 23302.768681, Learning rate: 0.006711\n",
      "Test MAE: 283.249357\n",
      "Test MSE: 119805.986316\n",
      "Test RMSE: 346.130014\n",
      "Test R-Squared: 0.9654\n",
      "Sample 347: Prediction=26.59, Target=0\n",
      "Sample 707: Prediction=3853.87, Target=4047\n",
      "Sample 468: Prediction=8444.17, Target=7893\n"
     ]
    },
    {
     "name": "stderr",
     "output_type": "stream",
     "text": [
      " 56%|████████████████████▋                | 27904/50000 [14:57<12:04, 30.48it/s]"
     ]
    },
    {
     "name": "stdout",
     "output_type": "stream",
     "text": [
      "Epoch 27900, Error: 23192.460117, Learning rate: 0.006689\n",
      "Test MAE: 283.090562\n",
      "Test MSE: 119661.904452\n",
      "Test RMSE: 345.921818\n",
      "Test R-Squared: 0.9654\n",
      "Sample 446: Prediction=5428.63, Target=5237\n",
      "Sample 716: Prediction=4495.06, Target=4529\n",
      "Sample 586: Prediction=5995.63, Target=5849\n"
     ]
    },
    {
     "name": "stderr",
     "output_type": "stream",
     "text": [
      " 56%|████████████████████▋                | 28004/50000 [15:00<11:49, 30.99it/s]"
     ]
    },
    {
     "name": "stdout",
     "output_type": "stream",
     "text": [
      "Epoch 28000, Error: 23089.975173, Learning rate: 0.006667\n",
      "Test MAE: 282.924093\n",
      "Test MSE: 119560.151773\n",
      "Test RMSE: 345.774712\n",
      "Test R-Squared: 0.9654\n",
      "Sample 282: Prediction=4656.11, Target=4400\n",
      "Sample 270: Prediction=4422.14, Target=4623\n",
      "Sample 362: Prediction=3407.87, Target=3662\n"
     ]
    },
    {
     "name": "stderr",
     "output_type": "stream",
     "text": [
      " 56%|████████████████████▊                | 28104/50000 [15:03<11:44, 31.06it/s]"
     ]
    },
    {
     "name": "stdout",
     "output_type": "stream",
     "text": [
      "Epoch 28100, Error: 22990.756980, Learning rate: 0.006645\n",
      "Test MAE: 282.907631\n",
      "Test MSE: 119547.451730\n",
      "Test RMSE: 345.756347\n",
      "Test R-Squared: 0.9654\n",
      "Sample 638: Prediction=54.77, Target=0\n",
      "Sample 514: Prediction=5244.45, Target=5171\n",
      "Sample 426: Prediction=5626.92, Target=5558\n"
     ]
    },
    {
     "name": "stderr",
     "output_type": "stream",
     "text": [
      " 56%|████████████████████▊                | 28204/50000 [15:06<11:46, 30.87it/s]"
     ]
    },
    {
     "name": "stdout",
     "output_type": "stream",
     "text": [
      "Epoch 28200, Error: 22907.176121, Learning rate: 0.006623\n",
      "Test MAE: 282.726082\n",
      "Test MSE: 119422.563911\n",
      "Test RMSE: 345.575699\n",
      "Test R-Squared: 0.9655\n",
      "Sample 220: Prediction=144.53, Target=0\n",
      "Sample 325: Prediction=4606.18, Target=4409\n",
      "Sample 478: Prediction=72.73, Target=0\n"
     ]
    },
    {
     "name": "stderr",
     "output_type": "stream",
     "text": [
      " 57%|████████████████████▉                | 28304/50000 [15:10<11:45, 30.75it/s]"
     ]
    },
    {
     "name": "stdout",
     "output_type": "stream",
     "text": [
      "Epoch 28300, Error: 22825.415771, Learning rate: 0.006601\n",
      "Test MAE: 282.482391\n",
      "Test MSE: 119248.000378\n",
      "Test RMSE: 345.323038\n",
      "Test R-Squared: 0.9655\n",
      "Sample 313: Prediction=5786.17, Target=5433\n",
      "Sample 635: Prediction=3723.70, Target=3547\n",
      "Sample 23: Prediction=109.46, Target=0\n"
     ]
    },
    {
     "name": "stderr",
     "output_type": "stream",
     "text": [
      " 57%|█████████████████████                | 28407/50000 [15:13<11:42, 30.74it/s]"
     ]
    },
    {
     "name": "stdout",
     "output_type": "stream",
     "text": [
      "Epoch 28400, Error: 22722.603708, Learning rate: 0.006579\n",
      "Test MAE: 282.366263\n",
      "Test MSE: 119171.075407\n",
      "Test RMSE: 345.211639\n",
      "Test R-Squared: 0.9655\n",
      "Sample 312: Prediction=7389.26, Target=7195\n",
      "Sample 654: Prediction=3881.59, Target=3751\n",
      "Sample 382: Prediction=4906.65, Target=4841\n"
     ]
    },
    {
     "name": "stderr",
     "output_type": "stream",
     "text": [
      " 57%|█████████████████████                | 28507/50000 [15:16<11:42, 30.61it/s]"
     ]
    },
    {
     "name": "stdout",
     "output_type": "stream",
     "text": [
      "Epoch 28500, Error: 22629.512260, Learning rate: 0.006557\n",
      "Test MAE: 282.248989\n",
      "Test MSE: 119091.641020\n",
      "Test RMSE: 345.096568\n",
      "Test R-Squared: 0.9656\n",
      "Sample 70: Prediction=5455.61, Target=5580\n",
      "Sample 689: Prediction=3915.03, Target=4017\n",
      "Sample 71: Prediction=5131.68, Target=5012\n"
     ]
    },
    {
     "name": "stderr",
     "output_type": "stream",
     "text": [
      " 57%|█████████████████████▏               | 28607/50000 [15:19<11:26, 31.17it/s]"
     ]
    },
    {
     "name": "stdout",
     "output_type": "stream",
     "text": [
      "Epoch 28600, Error: 22529.819364, Learning rate: 0.006536\n",
      "Test MAE: 282.147456\n",
      "Test MSE: 118999.945166\n",
      "Test RMSE: 344.963687\n",
      "Test R-Squared: 0.9656\n",
      "Sample 384: Prediction=185.52, Target=0\n",
      "Sample 278: Prediction=-74.41, Target=0\n",
      "Sample 359: Prediction=-45.32, Target=0\n"
     ]
    },
    {
     "name": "stderr",
     "output_type": "stream",
     "text": [
      " 57%|█████████████████████▏               | 28707/50000 [15:23<11:23, 31.17it/s]"
     ]
    },
    {
     "name": "stdout",
     "output_type": "stream",
     "text": [
      "Epoch 28700, Error: 22406.344581, Learning rate: 0.006515\n",
      "Test MAE: 282.010743\n",
      "Test MSE: 118862.258046\n",
      "Test RMSE: 344.764061\n",
      "Test R-Squared: 0.9656\n",
      "Sample 404: Prediction=3652.28, Target=3492\n",
      "Sample 738: Prediction=-17.21, Target=0\n",
      "Sample 691: Prediction=4476.40, Target=4597\n"
     ]
    },
    {
     "name": "stderr",
     "output_type": "stream",
     "text": [
      " 58%|█████████████████████▎               | 28807/50000 [15:26<11:27, 30.82it/s]"
     ]
    },
    {
     "name": "stdout",
     "output_type": "stream",
     "text": [
      "Epoch 28800, Error: 22249.383307, Learning rate: 0.006494\n",
      "Test MAE: 281.560937\n",
      "Test MSE: 118518.586921\n",
      "Test RMSE: 344.265286\n",
      "Test R-Squared: 0.9657\n",
      "Sample 56: Prediction=3954.17, Target=3998\n",
      "Sample 115: Prediction=5641.08, Target=5614\n",
      "Sample 592: Prediction=21.82, Target=0\n"
     ]
    },
    {
     "name": "stderr",
     "output_type": "stream",
     "text": [
      " 58%|█████████████████████▍               | 28907/50000 [15:29<11:31, 30.52it/s]"
     ]
    },
    {
     "name": "stdout",
     "output_type": "stream",
     "text": [
      "Epoch 28900, Error: 22115.885109, Learning rate: 0.006472\n",
      "Test MAE: 281.216441\n",
      "Test MSE: 118238.794388\n",
      "Test RMSE: 343.858684\n",
      "Test R-Squared: 0.9658\n",
      "Sample 334: Prediction=4532.50, Target=4481\n",
      "Sample 604: Prediction=4835.52, Target=4967\n",
      "Sample 139: Prediction=4716.36, Target=4708\n"
     ]
    },
    {
     "name": "stderr",
     "output_type": "stream",
     "text": [
      " 58%|█████████████████████▍               | 29006/50000 [15:32<11:43, 29.82it/s]"
     ]
    },
    {
     "name": "stdout",
     "output_type": "stream",
     "text": [
      "Epoch 29000, Error: 21957.906280, Learning rate: 0.006452\n",
      "Test MAE: 280.683764\n",
      "Test MSE: 117832.006832\n",
      "Test RMSE: 343.266670\n",
      "Test R-Squared: 0.9659\n",
      "Sample 260: Prediction=4655.82, Target=4663\n",
      "Sample 256: Prediction=4833.19, Target=4781\n",
      "Sample 58: Prediction=4494.91, Target=4552\n"
     ]
    },
    {
     "name": "stderr",
     "output_type": "stream",
     "text": [
      " 58%|█████████████████████▌               | 29104/50000 [15:35<11:23, 30.57it/s]"
     ]
    },
    {
     "name": "stdout",
     "output_type": "stream",
     "text": [
      "Epoch 29100, Error: 21784.867679, Learning rate: 0.006431\n",
      "Test MAE: 280.334231\n",
      "Test MSE: 117494.702558\n",
      "Test RMSE: 342.775003\n",
      "Test R-Squared: 0.9660\n",
      "Sample 415: Prediction=5523.30, Target=5499\n",
      "Sample 203: Prediction=3930.60, Target=3948\n",
      "Sample 597: Prediction=-14.98, Target=0\n"
     ]
    },
    {
     "name": "stderr",
     "output_type": "stream",
     "text": [
      " 58%|█████████████████████▌               | 29205/50000 [15:39<12:16, 28.25it/s]"
     ]
    },
    {
     "name": "stdout",
     "output_type": "stream",
     "text": [
      "Epoch 29200, Error: 21640.612221, Learning rate: 0.006410\n",
      "Test MAE: 279.937990\n",
      "Test MSE: 117237.278791\n",
      "Test RMSE: 342.399297\n",
      "Test R-Squared: 0.9661\n",
      "Sample 40: Prediction=-43.86, Target=0\n",
      "Sample 633: Prediction=5152.79, Target=5278\n",
      "Sample 511: Prediction=5235.59, Target=5355\n"
     ]
    },
    {
     "name": "stderr",
     "output_type": "stream",
     "text": [
      " 59%|█████████████████████▋               | 29307/50000 [15:42<11:03, 31.17it/s]"
     ]
    },
    {
     "name": "stdout",
     "output_type": "stream",
     "text": [
      "Epoch 29300, Error: 21499.728773, Learning rate: 0.006390\n",
      "Test MAE: 279.561683\n",
      "Test MSE: 116965.778350\n",
      "Test RMSE: 342.002600\n",
      "Test R-Squared: 0.9662\n",
      "Sample 615: Prediction=4258.20, Target=4055\n",
      "Sample 558: Prediction=3965.55, Target=4276\n",
      "Sample 226: Prediction=4986.78, Target=5083\n"
     ]
    },
    {
     "name": "stderr",
     "output_type": "stream",
     "text": [
      " 59%|█████████████████████▊               | 29407/50000 [15:45<11:03, 31.04it/s]"
     ]
    },
    {
     "name": "stdout",
     "output_type": "stream",
     "text": [
      "Epoch 29400, Error: 21347.059838, Learning rate: 0.006369\n",
      "Test MAE: 279.242665\n",
      "Test MSE: 116706.552941\n",
      "Test RMSE: 341.623408\n",
      "Test R-Squared: 0.9663\n",
      "Sample 451: Prediction=5549.68, Target=5397\n",
      "Sample 474: Prediction=85.35, Target=0\n",
      "Sample 188: Prediction=137.47, Target=0\n"
     ]
    },
    {
     "name": "stderr",
     "output_type": "stream",
     "text": [
      " 59%|█████████████████████▊               | 29507/50000 [15:49<11:02, 30.92it/s]"
     ]
    },
    {
     "name": "stdout",
     "output_type": "stream",
     "text": [
      "Epoch 29500, Error: 21205.843310, Learning rate: 0.006349\n",
      "Test MAE: 279.055560\n",
      "Test MSE: 116591.637645\n",
      "Test RMSE: 341.455177\n",
      "Test R-Squared: 0.9663\n",
      "Sample 86: Prediction=4070.78, Target=4078\n",
      "Sample 598: Prediction=-71.60, Target=0\n",
      "Sample 477: Prediction=5408.35, Target=5474\n"
     ]
    },
    {
     "name": "stderr",
     "output_type": "stream",
     "text": [
      " 59%|█████████████████████▉               | 29606/50000 [15:52<11:16, 30.15it/s]"
     ]
    },
    {
     "name": "stdout",
     "output_type": "stream",
     "text": [
      "Epoch 29600, Error: 21042.194392, Learning rate: 0.006329\n",
      "Test MAE: 278.222593\n",
      "Test MSE: 116067.305629\n",
      "Test RMSE: 340.686521\n",
      "Test R-Squared: 0.9664\n",
      "Sample 38: Prediction=4793.85, Target=4592\n",
      "Sample 672: Prediction=96.70, Target=0\n",
      "Sample 33: Prediction=3418.24, Target=3310\n"
     ]
    },
    {
     "name": "stderr",
     "output_type": "stream",
     "text": [
      " 59%|█████████████████████▉               | 29706/50000 [15:55<11:26, 29.58it/s]"
     ]
    },
    {
     "name": "stdout",
     "output_type": "stream",
     "text": [
      "Epoch 29700, Error: 20882.775106, Learning rate: 0.006309\n",
      "Test MAE: 277.700267\n",
      "Test MSE: 115705.034373\n",
      "Test RMSE: 340.154427\n",
      "Test R-Squared: 0.9665\n",
      "Sample 658: Prediction=4583.21, Target=4669\n",
      "Sample 524: Prediction=5390.60, Target=5200\n",
      "Sample 133: Prediction=4875.13, Target=4789\n"
     ]
    },
    {
     "name": "stderr",
     "output_type": "stream",
     "text": [
      " 60%|██████████████████████               | 29806/50000 [15:58<10:45, 31.31it/s]"
     ]
    },
    {
     "name": "stdout",
     "output_type": "stream",
     "text": [
      "Epoch 29800, Error: 20739.846114, Learning rate: 0.006289\n",
      "Test MAE: 277.495636\n",
      "Test MSE: 115555.038387\n",
      "Test RMSE: 339.933874\n",
      "Test R-Squared: 0.9666\n",
      "Sample 345: Prediction=87.41, Target=0\n",
      "Sample 651: Prediction=6459.72, Target=6454\n",
      "Sample 489: Prediction=14.68, Target=0\n"
     ]
    },
    {
     "name": "stderr",
     "output_type": "stream",
     "text": [
      " 60%|██████████████████████▏              | 29906/50000 [16:01<11:11, 29.94it/s]"
     ]
    },
    {
     "name": "stdout",
     "output_type": "stream",
     "text": [
      "Epoch 29900, Error: 20605.177924, Learning rate: 0.006270\n",
      "Test MAE: 277.259723\n",
      "Test MSE: 115363.432668\n",
      "Test RMSE: 339.651929\n",
      "Test R-Squared: 0.9666\n",
      "Sample 30: Prediction=4953.22, Target=4968\n",
      "Sample 522: Prediction=4218.01, Target=4212\n",
      "Sample 576: Prediction=4682.51, Target=4718\n"
     ]
    },
    {
     "name": "stderr",
     "output_type": "stream",
     "text": [
      " 60%|██████████████████████▏              | 30007/50000 [16:05<11:05, 30.06it/s]"
     ]
    },
    {
     "name": "stdout",
     "output_type": "stream",
     "text": [
      "Epoch 30000, Error: 20490.988147, Learning rate: 0.006250\n",
      "Test MAE: 277.125249\n",
      "Test MSE: 115255.153987\n",
      "Test RMSE: 339.492495\n",
      "Test R-Squared: 0.9667\n",
      "Sample 186: Prediction=3403.00, Target=3377\n",
      "Sample 82: Prediction=5191.93, Target=5161\n",
      "Sample 663: Prediction=4719.69, Target=4823\n"
     ]
    },
    {
     "name": "stderr",
     "output_type": "stream",
     "text": [
      " 60%|██████████████████████▎              | 30105/50000 [16:08<11:47, 28.11it/s]"
     ]
    },
    {
     "name": "stdout",
     "output_type": "stream",
     "text": [
      "Epoch 30100, Error: 20381.983062, Learning rate: 0.006231\n",
      "Test MAE: 276.868071\n",
      "Test MSE: 115063.372144\n",
      "Test RMSE: 339.209923\n",
      "Test R-Squared: 0.9667\n",
      "Sample 752: Prediction=4757.26, Target=4773\n",
      "Sample 101: Prediction=53.12, Target=0\n",
      "Sample 298: Prediction=3867.62, Target=3588\n"
     ]
    },
    {
     "name": "stderr",
     "output_type": "stream",
     "text": [
      " 60%|██████████████████████▎              | 30204/50000 [16:11<10:58, 30.05it/s]"
     ]
    },
    {
     "name": "stdout",
     "output_type": "stream",
     "text": [
      "Epoch 30200, Error: 20281.490125, Learning rate: 0.006211\n",
      "Test MAE: 276.634417\n",
      "Test MSE: 114908.304778\n",
      "Test RMSE: 338.981275\n",
      "Test R-Squared: 0.9668\n",
      "Sample 520: Prediction=4897.87, Target=4797\n",
      "Sample 493: Prediction=4990.85, Target=5055\n",
      "Sample 334: Prediction=4533.99, Target=4481\n"
     ]
    },
    {
     "name": "stderr",
     "output_type": "stream",
     "text": [
      " 61%|██████████████████████▍              | 30304/50000 [16:15<10:38, 30.87it/s]"
     ]
    },
    {
     "name": "stdout",
     "output_type": "stream",
     "text": [
      "Epoch 30300, Error: 20173.715448, Learning rate: 0.006192\n",
      "Test MAE: 276.491850\n",
      "Test MSE: 114815.961112\n",
      "Test RMSE: 338.845040\n",
      "Test R-Squared: 0.9668\n",
      "Sample 150: Prediction=139.46, Target=0\n",
      "Sample 262: Prediction=8066.16, Target=8069\n",
      "Sample 84: Prediction=5148.24, Target=5328\n"
     ]
    },
    {
     "name": "stderr",
     "output_type": "stream",
     "text": [
      " 61%|██████████████████████▍              | 30405/50000 [16:18<10:29, 31.15it/s]"
     ]
    },
    {
     "name": "stdout",
     "output_type": "stream",
     "text": [
      "Epoch 30400, Error: 20069.056203, Learning rate: 0.006173\n",
      "Test MAE: 276.317813\n",
      "Test MSE: 114695.298015\n",
      "Test RMSE: 338.666943\n",
      "Test R-Squared: 0.9668\n",
      "Sample 643: Prediction=4194.43, Target=4086\n",
      "Sample 461: Prediction=4420.90, Target=4381\n",
      "Sample 275: Prediction=9658.62, Target=9528\n"
     ]
    },
    {
     "name": "stderr",
     "output_type": "stream",
     "text": [
      " 61%|██████████████████████▌              | 30505/50000 [16:21<10:38, 30.55it/s]"
     ]
    },
    {
     "name": "stdout",
     "output_type": "stream",
     "text": [
      "Epoch 30500, Error: 19968.825062, Learning rate: 0.006154\n",
      "Test MAE: 276.112236\n",
      "Test MSE: 114559.292714\n",
      "Test RMSE: 338.466088\n",
      "Test R-Squared: 0.9669\n",
      "Sample 312: Prediction=7348.07, Target=7195\n",
      "Sample 687: Prediction=5707.37, Target=5469\n",
      "Sample 419: Prediction=6022.68, Target=5735\n"
     ]
    },
    {
     "name": "stderr",
     "output_type": "stream",
     "text": [
      " 61%|██████████████████████▋              | 30605/50000 [16:24<10:27, 30.90it/s]"
     ]
    },
    {
     "name": "stdout",
     "output_type": "stream",
     "text": [
      "Epoch 30600, Error: 19882.437003, Learning rate: 0.006135\n",
      "Test MAE: 275.889126\n",
      "Test MSE: 114395.786876\n",
      "Test RMSE: 338.224462\n",
      "Test R-Squared: 0.9669\n",
      "Sample 458: Prediction=4041.53, Target=4035\n",
      "Sample 242: Prediction=4428.20, Target=4407\n",
      "Sample 93: Prediction=5572.60, Target=5563\n"
     ]
    },
    {
     "name": "stderr",
     "output_type": "stream",
     "text": [
      " 61%|██████████████████████▋              | 30705/50000 [16:28<10:25, 30.87it/s]"
     ]
    },
    {
     "name": "stdout",
     "output_type": "stream",
     "text": [
      "Epoch 30700, Error: 19771.144146, Learning rate: 0.006116\n",
      "Test MAE: 275.560586\n",
      "Test MSE: 114157.317193\n",
      "Test RMSE: 337.871747\n",
      "Test R-Squared: 0.9670\n",
      "Sample 143: Prediction=5297.05, Target=5255\n",
      "Sample 89: Prediction=4949.32, Target=4994\n",
      "Sample 594: Prediction=3734.35, Target=3805\n"
     ]
    },
    {
     "name": "stderr",
     "output_type": "stream",
     "text": [
      " 62%|██████████████████████▊              | 30805/50000 [16:31<10:29, 30.48it/s]"
     ]
    },
    {
     "name": "stdout",
     "output_type": "stream",
     "text": [
      "Epoch 30800, Error: 19669.013384, Learning rate: 0.006098\n",
      "Test MAE: 275.328492\n",
      "Test MSE: 114003.824175\n",
      "Test RMSE: 337.644523\n",
      "Test R-Squared: 0.9670\n",
      "Sample 132: Prediction=5465.18, Target=5307\n",
      "Sample 288: Prediction=5607.19, Target=5482\n",
      "Sample 451: Prediction=5553.97, Target=5397\n"
     ]
    },
    {
     "name": "stderr",
     "output_type": "stream",
     "text": [
      " 62%|██████████████████████▊              | 30905/50000 [16:34<10:10, 31.28it/s]"
     ]
    },
    {
     "name": "stdout",
     "output_type": "stream",
     "text": [
      "Epoch 30900, Error: 19573.546976, Learning rate: 0.006079\n",
      "Test MAE: 275.086388\n",
      "Test MSE: 113839.881096\n",
      "Test RMSE: 337.401661\n",
      "Test R-Squared: 0.9671\n",
      "Sample 208: Prediction=5527.47, Target=5377\n",
      "Sample 85: Prediction=4700.64, Target=4549\n",
      "Sample 624: Prediction=3612.44, Target=3601\n"
     ]
    },
    {
     "name": "stderr",
     "output_type": "stream",
     "text": [
      " 62%|██████████████████████▉              | 31005/50000 [16:37<10:11, 31.08it/s]"
     ]
    },
    {
     "name": "stdout",
     "output_type": "stream",
     "text": [
      "Epoch 31000, Error: 19465.929158, Learning rate: 0.006061\n",
      "Test MAE: 275.010308\n",
      "Test MSE: 113771.601186\n",
      "Test RMSE: 337.300461\n",
      "Test R-Squared: 0.9671\n",
      "Sample 493: Prediction=4992.00, Target=5055\n",
      "Sample 301: Prediction=63.15, Target=0\n",
      "Sample 747: Prediction=4393.56, Target=4341\n"
     ]
    },
    {
     "name": "stderr",
     "output_type": "stream",
     "text": [
      " 62%|███████████████████████              | 31105/50000 [16:41<10:11, 30.90it/s]"
     ]
    },
    {
     "name": "stdout",
     "output_type": "stream",
     "text": [
      "Epoch 31100, Error: 19356.166928, Learning rate: 0.006042\n",
      "Test MAE: 275.024660\n",
      "Test MSE: 113795.786720\n",
      "Test RMSE: 337.336311\n",
      "Test R-Squared: 0.9671\n",
      "Sample 450: Prediction=3315.35, Target=3352\n",
      "Sample 201: Prediction=4182.65, Target=4128\n",
      "Sample 393: Prediction=4824.63, Target=4809\n"
     ]
    },
    {
     "name": "stderr",
     "output_type": "stream",
     "text": [
      " 62%|███████████████████████              | 31205/50000 [16:44<10:06, 30.97it/s]"
     ]
    },
    {
     "name": "stdout",
     "output_type": "stream",
     "text": [
      "Epoch 31200, Error: 19238.846170, Learning rate: 0.006024\n",
      "Test MAE: 274.972797\n",
      "Test MSE: 113758.173492\n",
      "Test RMSE: 337.280556\n",
      "Test R-Squared: 0.9671\n",
      "Sample 254: Prediction=3672.68, Target=3467\n",
      "Sample 384: Prediction=195.06, Target=0\n",
      "Sample 475: Prediction=5113.32, Target=4995\n"
     ]
    },
    {
     "name": "stderr",
     "output_type": "stream",
     "text": [
      " 63%|███████████████████████▏             | 31305/50000 [16:47<10:08, 30.75it/s]"
     ]
    },
    {
     "name": "stdout",
     "output_type": "stream",
     "text": [
      "Epoch 31300, Error: 19101.982163, Learning rate: 0.006006\n",
      "Test MAE: 274.764358\n",
      "Test MSE: 113421.546954\n",
      "Test RMSE: 336.781156\n",
      "Test R-Squared: 0.9672\n",
      "Sample 363: Prediction=66.89, Target=0\n",
      "Sample 656: Prediction=5125.45, Target=5011\n",
      "Sample 577: Prediction=4085.52, Target=3858\n"
     ]
    },
    {
     "name": "stderr",
     "output_type": "stream",
     "text": [
      " 63%|███████████████████████▏             | 31405/50000 [16:50<10:05, 30.70it/s]"
     ]
    },
    {
     "name": "stdout",
     "output_type": "stream",
     "text": [
      "Epoch 31400, Error: 18979.953158, Learning rate: 0.005988\n",
      "Test MAE: 274.294276\n",
      "Test MSE: 113092.079071\n",
      "Test RMSE: 336.291658\n",
      "Test R-Squared: 0.9673\n",
      "Sample 121: Prediction=3568.59, Target=3557\n",
      "Sample 49: Prediction=38.80, Target=0\n",
      "Sample 444: Prediction=6255.44, Target=6239\n"
     ]
    },
    {
     "name": "stderr",
     "output_type": "stream",
     "text": [
      " 63%|███████████████████████▎             | 31505/50000 [16:53<09:53, 31.18it/s]"
     ]
    },
    {
     "name": "stdout",
     "output_type": "stream",
     "text": [
      "Epoch 31500, Error: 18885.090967, Learning rate: 0.005970\n",
      "Test MAE: 273.958196\n",
      "Test MSE: 112878.286855\n",
      "Test RMSE: 335.973640\n",
      "Test R-Squared: 0.9674\n",
      "Sample 149: Prediction=3260.92, Target=3464\n",
      "Sample 348: Prediction=-137.41, Target=0\n",
      "Sample 340: Prediction=6576.20, Target=6527\n"
     ]
    },
    {
     "name": "stderr",
     "output_type": "stream",
     "text": [
      " 63%|███████████████████████▍             | 31605/50000 [16:57<09:49, 31.20it/s]"
     ]
    },
    {
     "name": "stdout",
     "output_type": "stream",
     "text": [
      "Epoch 31600, Error: 18789.822044, Learning rate: 0.005952\n",
      "Test MAE: 273.675983\n",
      "Test MSE: 112666.850723\n",
      "Test RMSE: 335.658831\n",
      "Test R-Squared: 0.9674\n",
      "Sample 429: Prediction=5304.11, Target=5223\n",
      "Sample 392: Prediction=4474.58, Target=4427\n",
      "Sample 178: Prediction=4216.67, Target=4190\n"
     ]
    },
    {
     "name": "stderr",
     "output_type": "stream",
     "text": [
      " 63%|███████████████████████▍             | 31705/50000 [17:00<09:59, 30.50it/s]"
     ]
    },
    {
     "name": "stdout",
     "output_type": "stream",
     "text": [
      "Epoch 31700, Error: 18697.019612, Learning rate: 0.005935\n",
      "Test MAE: 273.419743\n",
      "Test MSE: 112500.225739\n",
      "Test RMSE: 335.410533\n",
      "Test R-Squared: 0.9675\n",
      "Sample 58: Prediction=4498.55, Target=4552\n",
      "Sample 648: Prediction=98.21, Target=0\n",
      "Sample 742: Prediction=4645.17, Target=4435\n"
     ]
    },
    {
     "name": "stderr",
     "output_type": "stream",
     "text": [
      " 64%|███████████████████████▌             | 31805/50000 [17:03<09:47, 30.95it/s]"
     ]
    },
    {
     "name": "stdout",
     "output_type": "stream",
     "text": [
      "Epoch 31800, Error: 18614.702331, Learning rate: 0.005917\n",
      "Test MAE: 273.138866\n",
      "Test MSE: 112307.223723\n",
      "Test RMSE: 335.122700\n",
      "Test R-Squared: 0.9675\n",
      "Sample 374: Prediction=3848.31, Target=3695\n",
      "Sample 733: Prediction=5293.14, Target=5064\n",
      "Sample 422: Prediction=125.58, Target=0\n"
     ]
    },
    {
     "name": "stderr",
     "output_type": "stream",
     "text": [
      " 64%|███████████████████████▌             | 31907/50000 [17:06<09:50, 30.63it/s]"
     ]
    },
    {
     "name": "stdout",
     "output_type": "stream",
     "text": [
      "Epoch 31900, Error: 18530.631886, Learning rate: 0.005900\n",
      "Test MAE: 272.937063\n",
      "Test MSE: 112195.948640\n",
      "Test RMSE: 334.956637\n",
      "Test R-Squared: 0.9676\n",
      "Sample 161: Prediction=5137.37, Target=5098\n",
      "Sample 725: Prediction=5203.58, Target=5151\n",
      "Sample 6: Prediction=5356.90, Target=5263\n"
     ]
    },
    {
     "name": "stderr",
     "output_type": "stream",
     "text": [
      " 64%|███████████████████████▋             | 32006/50000 [17:10<11:04, 27.09it/s]"
     ]
    },
    {
     "name": "stdout",
     "output_type": "stream",
     "text": [
      "Epoch 32000, Error: 18455.099485, Learning rate: 0.005882\n",
      "Test MAE: 272.764423\n",
      "Test MSE: 112093.744980\n",
      "Test RMSE: 334.804040\n",
      "Test R-Squared: 0.9676\n",
      "Sample 662: Prediction=2531.42, Target=2605\n",
      "Sample 563: Prediction=-96.17, Target=0\n",
      "Sample 45: Prediction=5407.97, Target=5393\n"
     ]
    },
    {
     "name": "stderr",
     "output_type": "stream",
     "text": [
      " 64%|███████████████████████▊             | 32105/50000 [17:13<09:51, 30.26it/s]"
     ]
    },
    {
     "name": "stdout",
     "output_type": "stream",
     "text": [
      "Epoch 32100, Error: 18373.636018, Learning rate: 0.005865\n",
      "Test MAE: 272.592217\n",
      "Test MSE: 111980.586799\n",
      "Test RMSE: 334.635005\n",
      "Test R-Squared: 0.9676\n",
      "Sample 738: Prediction=-20.20, Target=0\n",
      "Sample 188: Prediction=143.67, Target=0\n",
      "Sample 396: Prediction=4803.52, Target=4645\n"
     ]
    },
    {
     "name": "stderr",
     "output_type": "stream",
     "text": [
      " 64%|███████████████████████▊             | 32204/50000 [17:17<10:49, 27.42it/s]"
     ]
    },
    {
     "name": "stdout",
     "output_type": "stream",
     "text": [
      "Epoch 32200, Error: 18292.879829, Learning rate: 0.005848\n",
      "Test MAE: 272.354841\n",
      "Test MSE: 111824.409491\n",
      "Test RMSE: 334.401569\n",
      "Test R-Squared: 0.9677\n",
      "Sample 395: Prediction=4341.85, Target=4315\n",
      "Sample 676: Prediction=6758.69, Target=7032\n",
      "Sample 27: Prediction=8.54, Target=0\n"
     ]
    },
    {
     "name": "stderr",
     "output_type": "stream",
     "text": [
      " 65%|███████████████████████▉             | 32303/50000 [17:22<16:09, 18.25it/s]"
     ]
    },
    {
     "name": "stdout",
     "output_type": "stream",
     "text": [
      "Epoch 32300, Error: 18211.117771, Learning rate: 0.005831\n",
      "Test MAE: 272.092945\n",
      "Test MSE: 111612.703311\n",
      "Test RMSE: 334.084874\n",
      "Test R-Squared: 0.9677\n",
      "Sample 96: Prediction=-139.31, Target=0\n",
      "Sample 379: Prediction=3721.76, Target=3392\n",
      "Sample 727: Prediction=4488.15, Target=4602\n"
     ]
    },
    {
     "name": "stderr",
     "output_type": "stream",
     "text": [
      " 65%|███████████████████████▉             | 32404/50000 [17:27<12:58, 22.60it/s]"
     ]
    },
    {
     "name": "stdout",
     "output_type": "stream",
     "text": [
      "Epoch 32400, Error: 18119.108268, Learning rate: 0.005814\n",
      "Test MAE: 271.885273\n",
      "Test MSE: 111451.311048\n",
      "Test RMSE: 333.843243\n",
      "Test R-Squared: 0.9678\n",
      "Sample 479: Prediction=6180.30, Target=6144\n",
      "Sample 701: Prediction=187.51, Target=0\n",
      "Sample 497: Prediction=4141.35, Target=4149\n"
     ]
    },
    {
     "name": "stderr",
     "output_type": "stream",
     "text": [
      " 65%|████████████████████████             | 32506/50000 [17:31<10:51, 26.87it/s]"
     ]
    },
    {
     "name": "stdout",
     "output_type": "stream",
     "text": [
      "Epoch 32500, Error: 18047.453559, Learning rate: 0.005797\n",
      "Test MAE: 271.511912\n",
      "Test MSE: 111218.447680\n",
      "Test RMSE: 333.494299\n",
      "Test R-Squared: 0.9678\n",
      "Sample 507: Prediction=6047.68, Target=5942\n",
      "Sample 374: Prediction=3839.34, Target=3695\n",
      "Sample 500: Prediction=4657.88, Target=4563\n"
     ]
    },
    {
     "name": "stderr",
     "output_type": "stream",
     "text": [
      " 65%|████████████████████████▏            | 32606/50000 [17:34<10:59, 26.37it/s]"
     ]
    },
    {
     "name": "stdout",
     "output_type": "stream",
     "text": [
      "Epoch 32600, Error: 17965.963360, Learning rate: 0.005780\n",
      "Test MAE: 271.222352\n",
      "Test MSE: 111020.306097\n",
      "Test RMSE: 333.197098\n",
      "Test R-Squared: 0.9679\n",
      "Sample 542: Prediction=4898.61, Target=5060\n",
      "Sample 165: Prediction=5339.28, Target=5261\n",
      "Sample 742: Prediction=4636.50, Target=4435\n"
     ]
    },
    {
     "name": "stderr",
     "output_type": "stream",
     "text": [
      " 65%|████████████████████████▏            | 32704/50000 [17:38<10:12, 28.22it/s]"
     ]
    },
    {
     "name": "stdout",
     "output_type": "stream",
     "text": [
      "Epoch 32700, Error: 17892.255009, Learning rate: 0.005764\n",
      "Test MAE: 270.970290\n",
      "Test MSE: 110849.210792\n",
      "Test RMSE: 332.940251\n",
      "Test R-Squared: 0.9680\n",
      "Sample 695: Prediction=3748.58, Target=3706\n",
      "Sample 234: Prediction=4083.20, Target=4201\n",
      "Sample 448: Prediction=4737.57, Target=4726\n"
     ]
    },
    {
     "name": "stderr",
     "output_type": "stream",
     "text": [
      " 66%|████████████████████████▎            | 32805/50000 [17:42<11:45, 24.37it/s]"
     ]
    },
    {
     "name": "stdout",
     "output_type": "stream",
     "text": [
      "Epoch 32800, Error: 17804.837004, Learning rate: 0.005747\n",
      "Test MAE: 270.823049\n",
      "Test MSE: 110744.791827\n",
      "Test RMSE: 332.783401\n",
      "Test R-Squared: 0.9680\n",
      "Sample 246: Prediction=3845.89, Target=3680\n",
      "Sample 565: Prediction=3962.64, Target=4097\n",
      "Sample 262: Prediction=8075.26, Target=8069\n"
     ]
    },
    {
     "name": "stderr",
     "output_type": "stream",
     "text": [
      " 66%|████████████████████████▎            | 32905/50000 [17:46<09:34, 29.77it/s]"
     ]
    },
    {
     "name": "stdout",
     "output_type": "stream",
     "text": [
      "Epoch 32900, Error: 17726.263732, Learning rate: 0.005731\n",
      "Test MAE: 270.690062\n",
      "Test MSE: 110658.298104\n",
      "Test RMSE: 332.653420\n",
      "Test R-Squared: 0.9680\n",
      "Sample 192: Prediction=4743.66, Target=4731\n",
      "Sample 390: Prediction=4732.92, Target=4611\n",
      "Sample 425: Prediction=5621.81, Target=5637\n"
     ]
    },
    {
     "name": "stderr",
     "output_type": "stream",
     "text": [
      " 66%|████████████████████████▍            | 33003/50000 [17:49<09:18, 30.41it/s]"
     ]
    },
    {
     "name": "stdout",
     "output_type": "stream",
     "text": [
      "Epoch 33000, Error: 17658.500956, Learning rate: 0.005714\n",
      "Test MAE: 270.538937\n",
      "Test MSE: 110536.449156\n",
      "Test RMSE: 332.470223\n",
      "Test R-Squared: 0.9680\n",
      "Sample 599: Prediction=3488.11, Target=3198\n",
      "Sample 571: Prediction=32.37, Target=0\n",
      "Sample 569: Prediction=158.02, Target=0\n"
     ]
    },
    {
     "name": "stderr",
     "output_type": "stream",
     "text": [
      " 66%|████████████████████████▍            | 33104/50000 [17:53<11:37, 24.23it/s]"
     ]
    },
    {
     "name": "stdout",
     "output_type": "stream",
     "text": [
      "Epoch 33100, Error: 17589.071850, Learning rate: 0.005698\n",
      "Test MAE: 270.462941\n",
      "Test MSE: 110498.765940\n",
      "Test RMSE: 332.413547\n",
      "Test R-Squared: 0.9681\n",
      "Sample 289: Prediction=4485.80, Target=4293\n",
      "Sample 297: Prediction=4171.84, Target=4042\n",
      "Sample 444: Prediction=6270.15, Target=6239\n"
     ]
    },
    {
     "name": "stderr",
     "output_type": "stream",
     "text": [
      " 66%|████████████████████████▌            | 33206/50000 [17:56<09:44, 28.74it/s]"
     ]
    },
    {
     "name": "stdout",
     "output_type": "stream",
     "text": [
      "Epoch 33200, Error: 17528.478389, Learning rate: 0.005682\n",
      "Test MAE: 270.238107\n",
      "Test MSE: 110333.731546\n",
      "Test RMSE: 332.165217\n",
      "Test R-Squared: 0.9681\n",
      "Sample 495: Prediction=5862.05, Target=6027\n",
      "Sample 345: Prediction=72.27, Target=0\n",
      "Sample 64: Prediction=4584.29, Target=4611\n"
     ]
    },
    {
     "name": "stderr",
     "output_type": "stream",
     "text": [
      " 67%|████████████████████████▋            | 33306/50000 [18:00<09:55, 28.04it/s]"
     ]
    },
    {
     "name": "stdout",
     "output_type": "stream",
     "text": [
      "Epoch 33300, Error: 17450.499961, Learning rate: 0.005666\n",
      "Test MAE: 270.129653\n",
      "Test MSE: 110257.828814\n",
      "Test RMSE: 332.050943\n",
      "Test R-Squared: 0.9681\n",
      "Sample 450: Prediction=3310.67, Target=3352\n",
      "Sample 26: Prediction=4865.82, Target=4881\n",
      "Sample 42: Prediction=3588.49, Target=3591\n"
     ]
    },
    {
     "name": "stderr",
     "output_type": "stream",
     "text": [
      " 67%|████████████████████████▋            | 33404/50000 [18:03<09:04, 30.46it/s]"
     ]
    },
    {
     "name": "stdout",
     "output_type": "stream",
     "text": [
      "Epoch 33400, Error: 17384.220440, Learning rate: 0.005650\n",
      "Test MAE: 270.001486\n",
      "Test MSE: 110184.300973\n",
      "Test RMSE: 331.940207\n",
      "Test R-Squared: 0.9681\n",
      "Sample 426: Prediction=5613.61, Target=5558\n",
      "Sample 640: Prediction=3815.48, Target=3776\n",
      "Sample 512: Prediction=4611.46, Target=4782\n"
     ]
    },
    {
     "name": "stderr",
     "output_type": "stream",
     "text": [
      " 67%|████████████████████████▊            | 33504/50000 [18:07<09:03, 30.36it/s]"
     ]
    },
    {
     "name": "stdout",
     "output_type": "stream",
     "text": [
      "Epoch 33500, Error: 17327.159429, Learning rate: 0.005634\n",
      "Test MAE: 269.820882\n",
      "Test MSE: 110086.234726\n",
      "Test RMSE: 331.792457\n",
      "Test R-Squared: 0.9682\n",
      "Sample 307: Prediction=27.36, Target=0\n",
      "Sample 324: Prediction=5170.20, Target=5229\n",
      "Sample 568: Prediction=5405.73, Target=5317\n"
     ]
    },
    {
     "name": "stderr",
     "output_type": "stream",
     "text": [
      " 67%|████████████████████████▊            | 33604/50000 [18:10<08:47, 31.06it/s]"
     ]
    },
    {
     "name": "stdout",
     "output_type": "stream",
     "text": [
      "Epoch 33600, Error: 17256.066553, Learning rate: 0.005618\n",
      "Test MAE: 269.789306\n",
      "Test MSE: 110090.142559\n",
      "Test RMSE: 331.798346\n",
      "Test R-Squared: 0.9682\n",
      "Sample 427: Prediction=4537.49, Target=4475\n",
      "Sample 225: Prediction=3706.71, Target=3557\n",
      "Sample 364: Prediction=4140.17, Target=4154\n"
     ]
    },
    {
     "name": "stderr",
     "output_type": "stream",
     "text": [
      " 67%|████████████████████████▉            | 33704/50000 [18:13<08:47, 30.88it/s]"
     ]
    },
    {
     "name": "stdout",
     "output_type": "stream",
     "text": [
      "Epoch 33700, Error: 17194.235952, Learning rate: 0.005602\n",
      "Test MAE: 269.696660\n",
      "Test MSE: 110040.769211\n",
      "Test RMSE: 331.723935\n",
      "Test R-Squared: 0.9682\n",
      "Sample 679: Prediction=5365.60, Target=5397\n",
      "Sample 312: Prediction=7290.59, Target=7195\n",
      "Sample 161: Prediction=5133.79, Target=5098\n"
     ]
    },
    {
     "name": "stderr",
     "output_type": "stream",
     "text": [
      " 68%|█████████████████████████            | 33804/50000 [18:16<08:51, 30.49it/s]"
     ]
    },
    {
     "name": "stdout",
     "output_type": "stream",
     "text": [
      "Epoch 33800, Error: 17130.307802, Learning rate: 0.005587\n",
      "Test MAE: 269.585694\n",
      "Test MSE: 109981.064180\n",
      "Test RMSE: 331.633931\n",
      "Test R-Squared: 0.9682\n",
      "Sample 347: Prediction=33.06, Target=0\n",
      "Sample 264: Prediction=3887.67, Target=3990\n",
      "Sample 497: Prediction=4149.87, Target=4149\n"
     ]
    },
    {
     "name": "stderr",
     "output_type": "stream",
     "text": [
      " 68%|█████████████████████████            | 33905/50000 [18:20<08:53, 30.19it/s]"
     ]
    },
    {
     "name": "stdout",
     "output_type": "stream",
     "text": [
      "Epoch 33900, Error: 17065.102844, Learning rate: 0.005571\n",
      "Test MAE: 269.471980\n",
      "Test MSE: 109933.019994\n",
      "Test RMSE: 331.561488\n",
      "Test R-Squared: 0.9682\n",
      "Sample 42: Prediction=3590.38, Target=3591\n",
      "Sample 94: Prediction=4017.51, Target=4169\n",
      "Sample 661: Prediction=3738.64, Target=3741\n"
     ]
    },
    {
     "name": "stderr",
     "output_type": "stream",
     "text": [
      " 68%|█████████████████████████▏           | 34003/50000 [18:23<08:53, 29.98it/s]"
     ]
    },
    {
     "name": "stdout",
     "output_type": "stream",
     "text": [
      "Epoch 34000, Error: 17002.805947, Learning rate: 0.005556\n",
      "Test MAE: 269.395271\n",
      "Test MSE: 109898.871924\n",
      "Test RMSE: 331.509988\n",
      "Test R-Squared: 0.9682\n",
      "Sample 291: Prediction=-47.10, Target=0\n",
      "Sample 204: Prediction=4722.05, Target=4735\n",
      "Sample 639: Prediction=5378.43, Target=5222\n"
     ]
    },
    {
     "name": "stderr",
     "output_type": "stream",
     "text": [
      " 68%|█████████████████████████▏           | 34106/50000 [18:26<08:55, 29.68it/s]"
     ]
    },
    {
     "name": "stdout",
     "output_type": "stream",
     "text": [
      "Epoch 34100, Error: 16944.352269, Learning rate: 0.005540\n",
      "Test MAE: 269.354900\n",
      "Test MSE: 109866.683611\n",
      "Test RMSE: 331.461436\n",
      "Test R-Squared: 0.9682\n",
      "Sample 738: Prediction=-19.54, Target=0\n",
      "Sample 290: Prediction=3523.52, Target=3530\n",
      "Sample 460: Prediction=4369.11, Target=4266\n"
     ]
    },
    {
     "name": "stderr",
     "output_type": "stream",
     "text": [
      " 68%|█████████████████████████▎           | 34204/50000 [18:29<08:30, 30.94it/s]"
     ]
    },
    {
     "name": "stdout",
     "output_type": "stream",
     "text": [
      "Epoch 34200, Error: 16875.656789, Learning rate: 0.005525\n",
      "Test MAE: 269.351538\n",
      "Test MSE: 109879.142729\n",
      "Test RMSE: 331.480230\n",
      "Test R-Squared: 0.9682\n",
      "Sample 227: Prediction=4915.06, Target=5015\n",
      "Sample 594: Prediction=3729.05, Target=3805\n",
      "Sample 642: Prediction=5131.84, Target=4901\n"
     ]
    },
    {
     "name": "stderr",
     "output_type": "stream",
     "text": [
      " 69%|█████████████████████████▍           | 34304/50000 [18:33<08:27, 30.91it/s]"
     ]
    },
    {
     "name": "stdout",
     "output_type": "stream",
     "text": [
      "Epoch 34300, Error: 16815.318502, Learning rate: 0.005510\n",
      "Test MAE: 269.287986\n",
      "Test MSE: 109832.424254\n",
      "Test RMSE: 331.409753\n",
      "Test R-Squared: 0.9682\n",
      "Sample 457: Prediction=5127.54, Target=5103\n",
      "Sample 21: Prediction=3824.70, Target=3846\n",
      "Sample 406: Prediction=6241.04, Target=5896\n"
     ]
    },
    {
     "name": "stderr",
     "output_type": "stream",
     "text": [
      " 69%|█████████████████████████▍           | 34404/50000 [18:36<08:44, 29.75it/s]"
     ]
    },
    {
     "name": "stdout",
     "output_type": "stream",
     "text": [
      "Epoch 34400, Error: 16746.422025, Learning rate: 0.005495\n",
      "Test MAE: 269.256107\n",
      "Test MSE: 109812.033401\n",
      "Test RMSE: 331.378988\n",
      "Test R-Squared: 0.9683\n",
      "Sample 158: Prediction=3767.78, Target=3785\n",
      "Sample 722: Prediction=4275.49, Target=4291\n",
      "Sample 308: Prediction=3957.64, Target=3906\n"
     ]
    },
    {
     "name": "stderr",
     "output_type": "stream",
     "text": [
      " 69%|█████████████████████████▌           | 34504/50000 [18:39<08:25, 30.67it/s]"
     ]
    },
    {
     "name": "stdout",
     "output_type": "stream",
     "text": [
      "Epoch 34500, Error: 16680.731647, Learning rate: 0.005479\n",
      "Test MAE: 269.165970\n",
      "Test MSE: 109727.073986\n",
      "Test RMSE: 331.250772\n",
      "Test R-Squared: 0.9683\n",
      "Sample 3: Prediction=-74.02, Target=0\n",
      "Sample 697: Prediction=6853.57, Target=6714\n",
      "Sample 314: Prediction=-32.44, Target=0\n"
     ]
    },
    {
     "name": "stderr",
     "output_type": "stream",
     "text": [
      " 69%|█████████████████████████▌           | 34604/50000 [18:42<08:25, 30.45it/s]"
     ]
    },
    {
     "name": "stdout",
     "output_type": "stream",
     "text": [
      "Epoch 34600, Error: 16621.630379, Learning rate: 0.005464\n",
      "Test MAE: 269.021996\n",
      "Test MSE: 109590.134607\n",
      "Test RMSE: 331.044007\n",
      "Test R-Squared: 0.9683\n",
      "Sample 151: Prediction=4820.13, Target=4986\n",
      "Sample 635: Prediction=3653.46, Target=3547\n",
      "Sample 719: Prediction=5735.66, Target=5720\n"
     ]
    },
    {
     "name": "stderr",
     "output_type": "stream",
     "text": [
      " 69%|█████████████████████████▋           | 34704/50000 [18:46<08:11, 31.09it/s]"
     ]
    },
    {
     "name": "stdout",
     "output_type": "stream",
     "text": [
      "Epoch 34700, Error: 16569.199536, Learning rate: 0.005450\n",
      "Test MAE: 268.764946\n",
      "Test MSE: 109392.330561\n",
      "Test RMSE: 330.745114\n",
      "Test R-Squared: 0.9684\n",
      "Sample 307: Prediction=23.19, Target=0\n",
      "Sample 697: Prediction=6852.94, Target=6714\n",
      "Sample 214: Prediction=-2.27, Target=0\n"
     ]
    },
    {
     "name": "stderr",
     "output_type": "stream",
     "text": [
      " 70%|█████████████████████████▊           | 34804/50000 [18:49<08:21, 30.30it/s]"
     ]
    },
    {
     "name": "stdout",
     "output_type": "stream",
     "text": [
      "Epoch 34800, Error: 16509.079665, Learning rate: 0.005435\n",
      "Test MAE: 268.458528\n",
      "Test MSE: 109176.308390\n",
      "Test RMSE: 330.418384\n",
      "Test R-Squared: 0.9684\n",
      "Sample 543: Prediction=61.52, Target=0\n",
      "Sample 640: Prediction=3818.00, Target=3776\n",
      "Sample 250: Prediction=3350.97, Target=3317\n"
     ]
    },
    {
     "name": "stderr",
     "output_type": "stream",
     "text": [
      " 70%|█████████████████████████▊           | 34904/50000 [18:52<08:10, 30.78it/s]"
     ]
    },
    {
     "name": "stdout",
     "output_type": "stream",
     "text": [
      "Epoch 34900, Error: 16452.357369, Learning rate: 0.005420\n",
      "Test MAE: 268.097938\n",
      "Test MSE: 108886.761594\n",
      "Test RMSE: 329.979941\n",
      "Test R-Squared: 0.9685\n",
      "Sample 370: Prediction=5506.85, Target=5509\n",
      "Sample 262: Prediction=8069.13, Target=8069\n",
      "Sample 584: Prediction=4958.26, Target=4924\n"
     ]
    },
    {
     "name": "stderr",
     "output_type": "stream",
     "text": [
      " 70%|█████████████████████████▉           | 35004/50000 [18:55<08:17, 30.12it/s]"
     ]
    },
    {
     "name": "stdout",
     "output_type": "stream",
     "text": [
      "Epoch 35000, Error: 16386.151018, Learning rate: 0.005405\n",
      "Test MAE: 267.882507\n",
      "Test MSE: 108672.610231\n",
      "Test RMSE: 329.655290\n",
      "Test R-Squared: 0.9686\n",
      "Sample 372: Prediction=5311.19, Target=5220\n",
      "Sample 544: Prediction=4296.43, Target=4249\n",
      "Sample 694: Prediction=2977.58, Target=3037\n"
     ]
    },
    {
     "name": "stderr",
     "output_type": "stream",
     "text": [
      " 70%|█████████████████████████▉           | 35104/50000 [18:59<08:05, 30.68it/s]"
     ]
    },
    {
     "name": "stdout",
     "output_type": "stream",
     "text": [
      "Epoch 35100, Error: 16325.756047, Learning rate: 0.005391\n",
      "Test MAE: 267.785463\n",
      "Test MSE: 108510.628488\n",
      "Test RMSE: 329.409515\n",
      "Test R-Squared: 0.9686\n",
      "Sample 153: Prediction=3847.35, Target=3586\n",
      "Sample 533: Prediction=4959.46, Target=5054\n",
      "Sample 713: Prediction=4526.92, Target=4676\n"
     ]
    },
    {
     "name": "stderr",
     "output_type": "stream",
     "text": [
      " 70%|██████████████████████████           | 35206/50000 [19:02<08:11, 30.08it/s]"
     ]
    },
    {
     "name": "stdout",
     "output_type": "stream",
     "text": [
      "Epoch 35200, Error: 16263.907993, Learning rate: 0.005376\n",
      "Test MAE: 267.704301\n",
      "Test MSE: 108400.810990\n",
      "Test RMSE: 329.242784\n",
      "Test R-Squared: 0.9687\n",
      "Sample 341: Prediction=3985.94, Target=3909\n",
      "Sample 237: Prediction=6932.58, Target=6709\n",
      "Sample 550: Prediction=5262.89, Target=5299\n"
     ]
    },
    {
     "name": "stderr",
     "output_type": "stream",
     "text": [
      " 71%|██████████████████████████▏          | 35306/50000 [19:05<07:53, 31.06it/s]"
     ]
    },
    {
     "name": "stdout",
     "output_type": "stream",
     "text": [
      "Epoch 35300, Error: 16198.823118, Learning rate: 0.005362\n",
      "Test MAE: 267.640115\n",
      "Test MSE: 108345.588850\n",
      "Test RMSE: 329.158911\n",
      "Test R-Squared: 0.9687\n",
      "Sample 69: Prediction=3992.35, Target=4016\n",
      "Sample 469: Prediction=4766.15, Target=4726\n",
      "Sample 392: Prediction=4468.90, Target=4427\n"
     ]
    },
    {
     "name": "stderr",
     "output_type": "stream",
     "text": [
      " 71%|██████████████████████████▏          | 35406/50000 [19:08<07:55, 30.69it/s]"
     ]
    },
    {
     "name": "stdout",
     "output_type": "stream",
     "text": [
      "Epoch 35400, Error: 16141.246934, Learning rate: 0.005348\n",
      "Test MAE: 267.554044\n",
      "Test MSE: 108257.089008\n",
      "Test RMSE: 329.024450\n",
      "Test R-Squared: 0.9687\n",
      "Sample 172: Prediction=4374.51, Target=4406\n",
      "Sample 615: Prediction=4241.24, Target=4055\n",
      "Sample 678: Prediction=4396.87, Target=4574\n"
     ]
    },
    {
     "name": "stderr",
     "output_type": "stream",
     "text": [
      " 71%|██████████████████████████▎          | 35506/50000 [19:12<07:58, 30.29it/s]"
     ]
    },
    {
     "name": "stdout",
     "output_type": "stream",
     "text": [
      "Epoch 35500, Error: 16071.170686, Learning rate: 0.005333\n",
      "Test MAE: 267.533608\n",
      "Test MSE: 108222.571655\n",
      "Test RMSE: 328.971992\n",
      "Test R-Squared: 0.9687\n",
      "Sample 677: Prediction=63.20, Target=0\n",
      "Sample 87: Prediction=-15.09, Target=0\n",
      "Sample 256: Prediction=4850.51, Target=4781\n"
     ]
    },
    {
     "name": "stderr",
     "output_type": "stream",
     "text": [
      " 71%|██████████████████████████▎          | 35607/50000 [19:15<07:56, 30.24it/s]"
     ]
    },
    {
     "name": "stdout",
     "output_type": "stream",
     "text": [
      "Epoch 35600, Error: 16011.472793, Learning rate: 0.005319\n",
      "Test MAE: 267.303033\n",
      "Test MSE: 108065.773373\n",
      "Test RMSE: 328.733590\n",
      "Test R-Squared: 0.9688\n",
      "Sample 41: Prediction=5503.83, Target=5643\n",
      "Sample 612: Prediction=4619.68, Target=4460\n",
      "Sample 745: Prediction=5343.60, Target=5394\n"
     ]
    },
    {
     "name": "stderr",
     "output_type": "stream",
     "text": [
      " 71%|██████████████████████████▍          | 35706/50000 [19:18<08:23, 28.41it/s]"
     ]
    },
    {
     "name": "stdout",
     "output_type": "stream",
     "text": [
      "Epoch 35700, Error: 15951.202882, Learning rate: 0.005305\n",
      "Test MAE: 267.237069\n",
      "Test MSE: 108002.611311\n",
      "Test RMSE: 328.637507\n",
      "Test R-Squared: 0.9688\n",
      "Sample 493: Prediction=5012.61, Target=5055\n",
      "Sample 31: Prediction=3609.70, Target=3573\n",
      "Sample 535: Prediction=3906.88, Target=3703\n"
     ]
    },
    {
     "name": "stderr",
     "output_type": "stream",
     "text": [
      " 72%|██████████████████████████▍          | 35804/50000 [19:21<07:40, 30.82it/s]"
     ]
    },
    {
     "name": "stdout",
     "output_type": "stream",
     "text": [
      "Epoch 35800, Error: 15896.410026, Learning rate: 0.005291\n",
      "Test MAE: 267.064502\n",
      "Test MSE: 107870.540132\n",
      "Test RMSE: 328.436509\n",
      "Test R-Squared: 0.9688\n",
      "Sample 547: Prediction=5277.25, Target=5286\n",
      "Sample 434: Prediction=4705.09, Target=4678\n",
      "Sample 534: Prediction=4412.59, Target=4419\n"
     ]
    },
    {
     "name": "stderr",
     "output_type": "stream",
     "text": [
      " 72%|██████████████████████████▌          | 35904/50000 [19:25<07:42, 30.49it/s]"
     ]
    },
    {
     "name": "stdout",
     "output_type": "stream",
     "text": [
      "Epoch 35900, Error: 15820.640052, Learning rate: 0.005277\n",
      "Test MAE: 267.075849\n",
      "Test MSE: 107856.334453\n",
      "Test RMSE: 328.414882\n",
      "Test R-Squared: 0.9688\n",
      "Sample 412: Prediction=-43.23, Target=0\n",
      "Sample 355: Prediction=5783.94, Target=5540\n",
      "Sample 54: Prediction=4610.71, Target=4681\n"
     ]
    },
    {
     "name": "stderr",
     "output_type": "stream",
     "text": [
      " 72%|██████████████████████████▋          | 36004/50000 [19:28<07:33, 30.84it/s]"
     ]
    },
    {
     "name": "stdout",
     "output_type": "stream",
     "text": [
      "Epoch 36000, Error: 15756.474415, Learning rate: 0.005263\n",
      "Test MAE: 267.008822\n",
      "Test MSE: 107766.657262\n",
      "Test RMSE: 328.278323\n",
      "Test R-Squared: 0.9688\n",
      "Sample 342: Prediction=4049.35, Target=4023\n",
      "Sample 364: Prediction=4140.77, Target=4154\n",
      "Sample 301: Prediction=79.58, Target=0\n"
     ]
    },
    {
     "name": "stderr",
     "output_type": "stream",
     "text": [
      " 72%|██████████████████████████▋          | 36104/50000 [19:31<07:32, 30.73it/s]"
     ]
    },
    {
     "name": "stdout",
     "output_type": "stream",
     "text": [
      "Epoch 36100, Error: 15695.517972, Learning rate: 0.005249\n",
      "Test MAE: 266.935676\n",
      "Test MSE: 107706.665188\n",
      "Test RMSE: 328.186936\n",
      "Test R-Squared: 0.9689\n",
      "Sample 3: Prediction=-59.44, Target=0\n",
      "Sample 13: Prediction=6863.87, Target=6816\n",
      "Sample 641: Prediction=20.85, Target=0\n"
     ]
    },
    {
     "name": "stderr",
     "output_type": "stream",
     "text": [
      " 72%|██████████████████████████▊          | 36204/50000 [19:35<07:37, 30.15it/s]"
     ]
    },
    {
     "name": "stdout",
     "output_type": "stream",
     "text": [
      "Epoch 36200, Error: 15641.007332, Learning rate: 0.005236\n",
      "Test MAE: 266.802930\n",
      "Test MSE: 107599.383409\n",
      "Test RMSE: 328.023449\n",
      "Test R-Squared: 0.9689\n",
      "Sample 55: Prediction=58.70, Target=0\n",
      "Sample 168: Prediction=5239.16, Target=5190\n",
      "Sample 2: Prediction=5390.56, Target=5237\n"
     ]
    },
    {
     "name": "stderr",
     "output_type": "stream",
     "text": [
      " 73%|██████████████████████████▊          | 36304/50000 [19:38<07:34, 30.15it/s]"
     ]
    },
    {
     "name": "stdout",
     "output_type": "stream",
     "text": [
      "Epoch 36300, Error: 15581.234431, Learning rate: 0.005222\n",
      "Test MAE: 266.724244\n",
      "Test MSE: 107531.746441\n",
      "Test RMSE: 327.920336\n",
      "Test R-Squared: 0.9689\n",
      "Sample 690: Prediction=67.33, Target=0\n",
      "Sample 35: Prediction=4836.37, Target=4601\n",
      "Sample 714: Prediction=-122.89, Target=0\n"
     ]
    },
    {
     "name": "stderr",
     "output_type": "stream",
     "text": [
      " 73%|██████████████████████████▉          | 36404/50000 [19:41<07:21, 30.82it/s]"
     ]
    },
    {
     "name": "stdout",
     "output_type": "stream",
     "text": [
      "Epoch 36400, Error: 15508.651150, Learning rate: 0.005208\n",
      "Test MAE: 266.737573\n",
      "Test MSE: 107531.213444\n",
      "Test RMSE: 327.919523\n",
      "Test R-Squared: 0.9689\n",
      "Sample 22: Prediction=21.83, Target=0\n",
      "Sample 537: Prediction=4561.72, Target=4720\n",
      "Sample 269: Prediction=7005.90, Target=6803\n"
     ]
    },
    {
     "name": "stderr",
     "output_type": "stream",
     "text": [
      " 73%|███████████████████████████          | 36504/50000 [19:44<07:17, 30.83it/s]"
     ]
    },
    {
     "name": "stdout",
     "output_type": "stream",
     "text": [
      "Epoch 36500, Error: 15434.359060, Learning rate: 0.005195\n",
      "Test MAE: 266.657328\n",
      "Test MSE: 107488.154118\n",
      "Test RMSE: 327.853861\n",
      "Test R-Squared: 0.9689\n",
      "Sample 33: Prediction=3406.81, Target=3310\n",
      "Sample 41: Prediction=5500.78, Target=5643\n",
      "Sample 556: Prediction=5784.35, Target=5400\n"
     ]
    },
    {
     "name": "stderr",
     "output_type": "stream",
     "text": [
      " 73%|███████████████████████████          | 36604/50000 [19:48<07:13, 30.93it/s]"
     ]
    },
    {
     "name": "stdout",
     "output_type": "stream",
     "text": [
      "Epoch 36600, Error: 15355.912312, Learning rate: 0.005181\n",
      "Test MAE: 266.696080\n",
      "Test MSE: 107495.875852\n",
      "Test RMSE: 327.865637\n",
      "Test R-Squared: 0.9689\n",
      "Sample 311: Prediction=90.10, Target=0\n",
      "Sample 470: Prediction=-15.67, Target=0\n",
      "Sample 457: Prediction=5140.19, Target=5103\n"
     ]
    },
    {
     "name": "stderr",
     "output_type": "stream",
     "text": [
      " 73%|███████████████████████████▏         | 36704/50000 [19:51<07:15, 30.55it/s]"
     ]
    },
    {
     "name": "stdout",
     "output_type": "stream",
     "text": [
      "Epoch 36700, Error: 15287.918150, Learning rate: 0.005168\n",
      "Test MAE: 266.550532\n",
      "Test MSE: 107393.416570\n",
      "Test RMSE: 327.709348\n",
      "Test R-Squared: 0.9689\n",
      "Sample 373: Prediction=3364.19, Target=3355\n",
      "Sample 196: Prediction=3671.85, Target=3894\n",
      "Sample 318: Prediction=-61.12, Target=0\n"
     ]
    },
    {
     "name": "stderr",
     "output_type": "stream",
     "text": [
      " 74%|███████████████████████████▏         | 36806/50000 [19:54<07:25, 29.63it/s]"
     ]
    },
    {
     "name": "stdout",
     "output_type": "stream",
     "text": [
      "Epoch 36800, Error: 15224.604466, Learning rate: 0.005155\n",
      "Test MAE: 266.368309\n",
      "Test MSE: 107248.975055\n",
      "Test RMSE: 327.488893\n",
      "Test R-Squared: 0.9690\n",
      "Sample 441: Prediction=3762.18, Target=3826\n",
      "Sample 186: Prediction=3343.65, Target=3377\n",
      "Sample 116: Prediction=4248.22, Target=4001\n"
     ]
    },
    {
     "name": "stderr",
     "output_type": "stream",
     "text": [
      " 74%|███████████████████████████▎         | 36905/50000 [19:57<07:22, 29.59it/s]"
     ]
    },
    {
     "name": "stdout",
     "output_type": "stream",
     "text": [
      "Epoch 36900, Error: 15145.374694, Learning rate: 0.005141\n",
      "Test MAE: 265.968965\n",
      "Test MSE: 107029.250520\n",
      "Test RMSE: 327.153252\n",
      "Test R-Squared: 0.9691\n",
      "Sample 230: Prediction=5266.61, Target=5292\n",
      "Sample 252: Prediction=131.46, Target=0\n",
      "Sample 353: Prediction=4076.53, Target=4030\n"
     ]
    },
    {
     "name": "stderr",
     "output_type": "stream",
     "text": [
      " 74%|███████████████████████████▍         | 37006/50000 [20:01<07:00, 30.90it/s]"
     ]
    },
    {
     "name": "stdout",
     "output_type": "stream",
     "text": [
      "Epoch 37000, Error: 15074.424792, Learning rate: 0.005128\n",
      "Test MAE: 265.776302\n",
      "Test MSE: 106926.715836\n",
      "Test RMSE: 326.996507\n",
      "Test R-Squared: 0.9691\n",
      "Sample 51: Prediction=5605.73, Target=5572\n",
      "Sample 241: Prediction=6188.77, Target=6198\n",
      "Sample 357: Prediction=39.15, Target=0\n"
     ]
    },
    {
     "name": "stderr",
     "output_type": "stream",
     "text": [
      " 74%|███████████████████████████▍         | 37106/50000 [20:04<06:58, 30.82it/s]"
     ]
    },
    {
     "name": "stdout",
     "output_type": "stream",
     "text": [
      "Epoch 37100, Error: 15010.476981, Learning rate: 0.005115\n",
      "Test MAE: 265.673092\n",
      "Test MSE: 106838.291858\n",
      "Test RMSE: 326.861273\n",
      "Test R-Squared: 0.9691\n",
      "Sample 502: Prediction=18.99, Target=0\n",
      "Sample 72: Prediction=5232.65, Target=5128\n",
      "Sample 210: Prediction=5098.47, Target=5003\n"
     ]
    },
    {
     "name": "stderr",
     "output_type": "stream",
     "text": [
      " 74%|███████████████████████████▌         | 37206/50000 [20:07<06:52, 31.00it/s]"
     ]
    },
    {
     "name": "stdout",
     "output_type": "stream",
     "text": [
      "Epoch 37200, Error: 14946.982481, Learning rate: 0.005102\n",
      "Test MAE: 265.585483\n",
      "Test MSE: 106754.140338\n",
      "Test RMSE: 326.732521\n",
      "Test R-Squared: 0.9691\n",
      "Sample 738: Prediction=-24.50, Target=0\n",
      "Sample 528: Prediction=3289.47, Target=3096\n",
      "Sample 369: Prediction=-55.49, Target=0\n"
     ]
    },
    {
     "name": "stderr",
     "output_type": "stream",
     "text": [
      " 75%|███████████████████████████▌         | 37306/50000 [20:10<06:52, 30.80it/s]"
     ]
    },
    {
     "name": "stdout",
     "output_type": "stream",
     "text": [
      "Epoch 37300, Error: 14885.739833, Learning rate: 0.005089\n",
      "Test MAE: 265.510639\n",
      "Test MSE: 106700.043775\n",
      "Test RMSE: 326.649726\n",
      "Test R-Squared: 0.9691\n",
      "Sample 399: Prediction=3896.68, Target=3971\n",
      "Sample 342: Prediction=4048.08, Target=4023\n",
      "Sample 442: Prediction=160.53, Target=0\n"
     ]
    },
    {
     "name": "stderr",
     "output_type": "stream",
     "text": [
      " 75%|███████████████████████████▋         | 37406/50000 [20:14<06:50, 30.66it/s]"
     ]
    },
    {
     "name": "stdout",
     "output_type": "stream",
     "text": [
      "Epoch 37400, Error: 14826.288836, Learning rate: 0.005076\n",
      "Test MAE: 265.371599\n",
      "Test MSE: 106563.365338\n",
      "Test RMSE: 326.440447\n",
      "Test R-Squared: 0.9692\n",
      "Sample 22: Prediction=23.44, Target=0\n",
      "Sample 183: Prediction=-116.08, Target=0\n",
      "Sample 537: Prediction=4569.74, Target=4720\n"
     ]
    },
    {
     "name": "stderr",
     "output_type": "stream",
     "text": [
      " 75%|███████████████████████████▊         | 37506/50000 [20:17<06:46, 30.76it/s]"
     ]
    },
    {
     "name": "stdout",
     "output_type": "stream",
     "text": [
      "Epoch 37500, Error: 14770.353395, Learning rate: 0.005063\n",
      "Test MAE: 265.294323\n",
      "Test MSE: 106487.087692\n",
      "Test RMSE: 326.323594\n",
      "Test R-Squared: 0.9692\n",
      "Sample 487: Prediction=5571.96, Target=5464\n",
      "Sample 454: Prediction=5533.35, Target=5577\n",
      "Sample 288: Prediction=5608.72, Target=5482\n"
     ]
    },
    {
     "name": "stderr",
     "output_type": "stream",
     "text": [
      " 75%|███████████████████████████▊         | 37606/50000 [20:20<06:39, 31.04it/s]"
     ]
    },
    {
     "name": "stdout",
     "output_type": "stream",
     "text": [
      "Epoch 37600, Error: 14713.739899, Learning rate: 0.005051\n",
      "Test MAE: 265.177158\n",
      "Test MSE: 106400.716911\n",
      "Test RMSE: 326.191228\n",
      "Test R-Squared: 0.9692\n",
      "Sample 281: Prediction=5995.30, Target=5799\n",
      "Sample 304: Prediction=5214.56, Target=5106\n",
      "Sample 181: Prediction=4161.32, Target=4102\n"
     ]
    },
    {
     "name": "stderr",
     "output_type": "stream",
     "text": [
      " 75%|███████████████████████████▉         | 37706/50000 [20:23<06:35, 31.11it/s]"
     ]
    },
    {
     "name": "stdout",
     "output_type": "stream",
     "text": [
      "Epoch 37700, Error: 14658.242986, Learning rate: 0.005038\n",
      "Test MAE: 265.051457\n",
      "Test MSE: 106329.631466\n",
      "Test RMSE: 326.082246\n",
      "Test R-Squared: 0.9693\n",
      "Sample 440: Prediction=3823.01, Target=4108\n",
      "Sample 47: Prediction=4118.05, Target=4044\n",
      "Sample 301: Prediction=87.48, Target=0\n"
     ]
    },
    {
     "name": "stderr",
     "output_type": "stream",
     "text": [
      " 76%|███████████████████████████▉         | 37806/50000 [20:27<06:33, 31.01it/s]"
     ]
    },
    {
     "name": "stdout",
     "output_type": "stream",
     "text": [
      "Epoch 37800, Error: 14604.928915, Learning rate: 0.005025\n",
      "Test MAE: 264.971704\n",
      "Test MSE: 106293.588043\n",
      "Test RMSE: 326.026974\n",
      "Test R-Squared: 0.9693\n",
      "Sample 191: Prediction=4775.92, Target=4916\n",
      "Sample 207: Prediction=4277.20, Target=4280\n",
      "Sample 587: Prediction=84.53, Target=0\n"
     ]
    },
    {
     "name": "stderr",
     "output_type": "stream",
     "text": [
      " 76%|████████████████████████████         | 37906/50000 [20:30<06:33, 30.76it/s]"
     ]
    },
    {
     "name": "stdout",
     "output_type": "stream",
     "text": [
      "Epoch 37900, Error: 14544.817746, Learning rate: 0.005013\n",
      "Test MAE: 264.905146\n",
      "Test MSE: 106300.713192\n",
      "Test RMSE: 326.037901\n",
      "Test R-Squared: 0.9693\n",
      "Sample 689: Prediction=3941.28, Target=4017\n",
      "Sample 174: Prediction=4916.71, Target=5182\n",
      "Sample 467: Prediction=4776.44, Target=4935\n"
     ]
    },
    {
     "name": "stderr",
     "output_type": "stream",
     "text": [
      " 76%|████████████████████████████         | 38005/50000 [20:33<06:29, 30.77it/s]"
     ]
    },
    {
     "name": "stdout",
     "output_type": "stream",
     "text": [
      "Epoch 38000, Error: 14494.780765, Learning rate: 0.005000\n",
      "Test MAE: 264.777329\n",
      "Test MSE: 106256.720278\n",
      "Test RMSE: 325.970429\n",
      "Test R-Squared: 0.9693\n",
      "Sample 519: Prediction=4383.56, Target=4562\n",
      "Sample 323: Prediction=4652.54, Target=4616\n",
      "Sample 654: Prediction=3840.00, Target=3751\n"
     ]
    },
    {
     "name": "stderr",
     "output_type": "stream",
     "text": [
      " 76%|████████████████████████████▏        | 38106/50000 [20:36<06:44, 29.43it/s]"
     ]
    },
    {
     "name": "stdout",
     "output_type": "stream",
     "text": [
      "Epoch 38100, Error: 14434.164567, Learning rate: 0.004988\n",
      "Test MAE: 264.619344\n",
      "Test MSE: 106229.241317\n",
      "Test RMSE: 325.928276\n",
      "Test R-Squared: 0.9693\n",
      "Sample 57: Prediction=3976.14, Target=3959\n",
      "Sample 544: Prediction=4285.14, Target=4249\n",
      "Sample 387: Prediction=86.33, Target=0\n"
     ]
    },
    {
     "name": "stderr",
     "output_type": "stream",
     "text": [
      " 76%|████████████████████████████▎        | 38207/50000 [20:40<06:24, 30.67it/s]"
     ]
    },
    {
     "name": "stdout",
     "output_type": "stream",
     "text": [
      "Epoch 38200, Error: 14382.092399, Learning rate: 0.004975\n",
      "Test MAE: 264.521513\n",
      "Test MSE: 106196.995859\n",
      "Test RMSE: 325.878805\n",
      "Test R-Squared: 0.9693\n",
      "Sample 121: Prediction=3545.47, Target=3557\n",
      "Sample 523: Prediction=3477.48, Target=3533\n",
      "Sample 648: Prediction=92.56, Target=0\n"
     ]
    },
    {
     "name": "stderr",
     "output_type": "stream",
     "text": [
      " 77%|████████████████████████████▎        | 38307/50000 [20:43<06:16, 31.09it/s]"
     ]
    },
    {
     "name": "stdout",
     "output_type": "stream",
     "text": [
      "Epoch 38300, Error: 14325.643952, Learning rate: 0.004963\n",
      "Test MAE: 264.404888\n",
      "Test MSE: 106155.640795\n",
      "Test RMSE: 325.815348\n",
      "Test R-Squared: 0.9693\n",
      "Sample 473: Prediction=4028.65, Target=4161\n",
      "Sample 688: Prediction=5001.58, Target=4717\n",
      "Sample 199: Prediction=109.64, Target=0\n"
     ]
    },
    {
     "name": "stderr",
     "output_type": "stream",
     "text": [
      " 77%|████████████████████████████▍        | 38407/50000 [20:46<06:17, 30.74it/s]"
     ]
    },
    {
     "name": "stdout",
     "output_type": "stream",
     "text": [
      "Epoch 38400, Error: 14270.099519, Learning rate: 0.004950\n",
      "Test MAE: 264.369549\n",
      "Test MSE: 106126.748633\n",
      "Test RMSE: 325.771006\n",
      "Test R-Squared: 0.9693\n",
      "Sample 74: Prediction=4720.59, Target=4703\n",
      "Sample 15: Prediction=-24.12, Target=0\n",
      "Sample 506: Prediction=5659.51, Target=5596\n"
     ]
    },
    {
     "name": "stderr",
     "output_type": "stream",
     "text": [
      " 77%|████████████████████████████▍        | 38507/50000 [20:49<06:13, 30.77it/s]"
     ]
    },
    {
     "name": "stdout",
     "output_type": "stream",
     "text": [
      "Epoch 38500, Error: 14223.160712, Learning rate: 0.004938\n",
      "Test MAE: 264.300638\n",
      "Test MSE: 106054.238240\n",
      "Test RMSE: 325.659697\n",
      "Test R-Squared: 0.9693\n",
      "Sample 230: Prediction=5247.40, Target=5292\n",
      "Sample 324: Prediction=5191.24, Target=5229\n",
      "Sample 564: Prediction=4064.34, Target=4020\n"
     ]
    },
    {
     "name": "stderr",
     "output_type": "stream",
     "text": [
      " 77%|████████████████████████████▌        | 38607/50000 [20:53<06:11, 30.67it/s]"
     ]
    },
    {
     "name": "stdout",
     "output_type": "stream",
     "text": [
      "Epoch 38600, Error: 14186.166525, Learning rate: 0.004926\n",
      "Test MAE: 264.107622\n",
      "Test MSE: 105876.585619\n",
      "Test RMSE: 325.386825\n",
      "Test R-Squared: 0.9694\n",
      "Sample 189: Prediction=6023.85, Target=5868\n",
      "Sample 448: Prediction=4708.96, Target=4726\n",
      "Sample 200: Prediction=3710.28, Target=3827\n"
     ]
    },
    {
     "name": "stderr",
     "output_type": "stream",
     "text": [
      " 77%|████████████████████████████▋        | 38707/50000 [20:56<06:10, 30.45it/s]"
     ]
    },
    {
     "name": "stdout",
     "output_type": "stream",
     "text": [
      "Epoch 38700, Error: 14136.219354, Learning rate: 0.004914\n",
      "Test MAE: 263.928918\n",
      "Test MSE: 105732.540345\n",
      "Test RMSE: 325.165405\n",
      "Test R-Squared: 0.9694\n",
      "Sample 327: Prediction=5797.59, Target=5726\n",
      "Sample 686: Prediction=4382.71, Target=4303\n",
      "Sample 154: Prediction=4334.60, Target=4303\n"
     ]
    },
    {
     "name": "stderr",
     "output_type": "stream",
     "text": [
      " 78%|████████████████████████████▋        | 38807/50000 [20:59<05:59, 31.17it/s]"
     ]
    },
    {
     "name": "stdout",
     "output_type": "stream",
     "text": [
      "Epoch 38800, Error: 14089.183812, Learning rate: 0.004902\n",
      "Test MAE: 263.823516\n",
      "Test MSE: 105643.057482\n",
      "Test RMSE: 325.027780\n",
      "Test R-Squared: 0.9695\n",
      "Sample 277: Prediction=3594.06, Target=3518\n",
      "Sample 672: Prediction=90.32, Target=0\n",
      "Sample 332: Prediction=4689.40, Target=4683\n"
     ]
    },
    {
     "name": "stderr",
     "output_type": "stream",
     "text": [
      " 78%|████████████████████████████▊        | 38906/50000 [21:02<06:00, 30.79it/s]"
     ]
    },
    {
     "name": "stdout",
     "output_type": "stream",
     "text": [
      "Epoch 38900, Error: 14040.802790, Learning rate: 0.004890\n",
      "Test MAE: 263.724049\n",
      "Test MSE: 105552.869824\n",
      "Test RMSE: 324.889012\n",
      "Test R-Squared: 0.9695\n",
      "Sample 82: Prediction=5105.23, Target=5161\n",
      "Sample 702: Prediction=59.46, Target=0\n",
      "Sample 322: Prediction=5086.91, Target=5156\n"
     ]
    },
    {
     "name": "stderr",
     "output_type": "stream",
     "text": [
      " 78%|████████████████████████████▊        | 39006/50000 [21:05<05:56, 30.84it/s]"
     ]
    },
    {
     "name": "stdout",
     "output_type": "stream",
     "text": [
      "Epoch 39000, Error: 13990.457161, Learning rate: 0.004878\n",
      "Test MAE: 263.637988\n",
      "Test MSE: 105521.634902\n",
      "Test RMSE: 324.840938\n",
      "Test R-Squared: 0.9695\n",
      "Sample 145: Prediction=3345.46, Target=3257\n",
      "Sample 575: Prediction=3512.80, Target=3720\n",
      "Sample 61: Prediction=4059.52, Target=4068\n"
     ]
    },
    {
     "name": "stderr",
     "output_type": "stream",
     "text": [
      " 78%|████████████████████████████▉        | 39106/50000 [21:09<05:53, 30.84it/s]"
     ]
    },
    {
     "name": "stdout",
     "output_type": "stream",
     "text": [
      "Epoch 39100, Error: 13942.429813, Learning rate: 0.004866\n",
      "Test MAE: 263.483056\n",
      "Test MSE: 105434.966793\n",
      "Test RMSE: 324.707510\n",
      "Test R-Squared: 0.9695\n",
      "Sample 207: Prediction=4274.71, Target=4280\n",
      "Sample 377: Prediction=5176.64, Target=5143\n",
      "Sample 572: Prediction=5879.41, Target=6049\n"
     ]
    },
    {
     "name": "stderr",
     "output_type": "stream",
     "text": [
      " 78%|█████████████████████████████        | 39206/50000 [21:12<05:53, 30.49it/s]"
     ]
    },
    {
     "name": "stdout",
     "output_type": "stream",
     "text": [
      "Epoch 39200, Error: 13897.494960, Learning rate: 0.004854\n",
      "Test MAE: 263.298620\n",
      "Test MSE: 105314.552674\n",
      "Test RMSE: 324.522037\n",
      "Test R-Squared: 0.9696\n",
      "Sample 664: Prediction=7034.22, Target=7016\n",
      "Sample 294: Prediction=5053.04, Target=4954\n",
      "Sample 145: Prediction=3344.46, Target=3257\n"
     ]
    },
    {
     "name": "stderr",
     "output_type": "stream",
     "text": [
      " 79%|█████████████████████████████        | 39306/50000 [21:15<05:42, 31.23it/s]"
     ]
    },
    {
     "name": "stdout",
     "output_type": "stream",
     "text": [
      "Epoch 39300, Error: 13837.973047, Learning rate: 0.004843\n",
      "Test MAE: 262.934030\n",
      "Test MSE: 105103.519622\n",
      "Test RMSE: 324.196730\n",
      "Test R-Squared: 0.9696\n",
      "Sample 513: Prediction=4341.72, Target=4345\n",
      "Sample 380: Prediction=3987.93, Target=4019\n",
      "Sample 38: Prediction=4793.36, Target=4592\n"
     ]
    },
    {
     "name": "stderr",
     "output_type": "stream",
     "text": [
      " 79%|█████████████████████████████▏       | 39406/50000 [21:18<05:39, 31.22it/s]"
     ]
    },
    {
     "name": "stdout",
     "output_type": "stream",
     "text": [
      "Epoch 39400, Error: 13787.817278, Learning rate: 0.004831\n",
      "Test MAE: 262.660420\n",
      "Test MSE: 104989.417496\n",
      "Test RMSE: 324.020705\n",
      "Test R-Squared: 0.9696\n",
      "Sample 302: Prediction=3805.38, Target=3847\n",
      "Sample 245: Prediction=3597.62, Target=3549\n",
      "Sample 142: Prediction=158.40, Target=0\n"
     ]
    },
    {
     "name": "stderr",
     "output_type": "stream",
     "text": [
      " 79%|█████████████████████████████▏       | 39506/50000 [21:22<05:39, 30.93it/s]"
     ]
    },
    {
     "name": "stdout",
     "output_type": "stream",
     "text": [
      "Epoch 39500, Error: 13734.031351, Learning rate: 0.004819\n",
      "Test MAE: 262.516705\n",
      "Test MSE: 104926.307681\n",
      "Test RMSE: 323.923305\n",
      "Test R-Squared: 0.9697\n",
      "Sample 538: Prediction=3879.69, Target=3795\n",
      "Sample 162: Prediction=5646.01, Target=5623\n",
      "Sample 331: Prediction=4170.08, Target=3914\n"
     ]
    },
    {
     "name": "stderr",
     "output_type": "stream",
     "text": [
      " 79%|█████████████████████████████▎       | 39606/50000 [21:25<05:35, 31.00it/s]"
     ]
    },
    {
     "name": "stdout",
     "output_type": "stream",
     "text": [
      "Epoch 39600, Error: 13669.367752, Learning rate: 0.004808\n",
      "Test MAE: 262.261937\n",
      "Test MSE: 104789.569691\n",
      "Test RMSE: 323.712171\n",
      "Test R-Squared: 0.9697\n",
      "Sample 261: Prediction=3436.64, Target=3405\n",
      "Sample 144: Prediction=3518.81, Target=3493\n",
      "Sample 607: Prediction=5412.47, Target=5372\n"
     ]
    },
    {
     "name": "stderr",
     "output_type": "stream",
     "text": [
      " 79%|█████████████████████████████▍       | 39706/50000 [21:28<05:35, 30.65it/s]"
     ]
    },
    {
     "name": "stdout",
     "output_type": "stream",
     "text": [
      "Epoch 39700, Error: 13617.411399, Learning rate: 0.004796\n",
      "Test MAE: 262.037607\n",
      "Test MSE: 104635.205252\n",
      "Test RMSE: 323.473655\n",
      "Test R-Squared: 0.9697\n",
      "Sample 631: Prediction=60.83, Target=0\n",
      "Sample 595: Prediction=3606.36, Target=3582\n",
      "Sample 64: Prediction=4623.20, Target=4611\n"
     ]
    },
    {
     "name": "stderr",
     "output_type": "stream",
     "text": [
      " 80%|█████████████████████████████▍       | 39806/50000 [21:31<05:33, 30.54it/s]"
     ]
    },
    {
     "name": "stdout",
     "output_type": "stream",
     "text": [
      "Epoch 39800, Error: 13567.985337, Learning rate: 0.004785\n",
      "Test MAE: 261.933028\n",
      "Test MSE: 104558.473855\n",
      "Test RMSE: 323.355028\n",
      "Test R-Squared: 0.9698\n",
      "Sample 376: Prediction=5230.96, Target=5230\n",
      "Sample 649: Prediction=-10.52, Target=0\n",
      "Sample 78: Prediction=4022.45, Target=4019\n"
     ]
    },
    {
     "name": "stderr",
     "output_type": "stream",
     "text": [
      " 80%|█████████████████████████████▌       | 39906/50000 [21:34<05:24, 31.14it/s]"
     ]
    },
    {
     "name": "stdout",
     "output_type": "stream",
     "text": [
      "Epoch 39900, Error: 13523.670862, Learning rate: 0.004773\n",
      "Test MAE: 261.826559\n",
      "Test MSE: 104477.614887\n",
      "Test RMSE: 323.229972\n",
      "Test R-Squared: 0.9698\n",
      "Sample 422: Prediction=150.66, Target=0\n",
      "Sample 612: Prediction=4598.59, Target=4460\n",
      "Sample 368: Prediction=4636.07, Target=4651\n"
     ]
    },
    {
     "name": "stderr",
     "output_type": "stream",
     "text": [
      " 80%|█████████████████████████████▌       | 40006/50000 [21:38<05:20, 31.23it/s]"
     ]
    },
    {
     "name": "stdout",
     "output_type": "stream",
     "text": [
      "Epoch 40000, Error: 13484.249645, Learning rate: 0.004762\n",
      "Test MAE: 261.701309\n",
      "Test MSE: 104406.491233\n",
      "Test RMSE: 323.119933\n",
      "Test R-Squared: 0.9698\n",
      "Sample 722: Prediction=4263.68, Target=4291\n",
      "Sample 615: Prediction=4214.51, Target=4055\n",
      "Sample 732: Prediction=4055.41, Target=4196\n"
     ]
    },
    {
     "name": "stderr",
     "output_type": "stream",
     "text": [
      " 80%|█████████████████████████████▋       | 40106/50000 [21:41<05:20, 30.86it/s]"
     ]
    },
    {
     "name": "stdout",
     "output_type": "stream",
     "text": [
      "Epoch 40100, Error: 13443.267240, Learning rate: 0.004751\n",
      "Test MAE: 261.609095\n",
      "Test MSE: 104359.486216\n",
      "Test RMSE: 323.047189\n",
      "Test R-Squared: 0.9698\n",
      "Sample 10: Prediction=105.54, Target=0\n",
      "Sample 476: Prediction=5604.26, Target=5519\n",
      "Sample 710: Prediction=2.21, Target=0\n"
     ]
    },
    {
     "name": "stderr",
     "output_type": "stream",
     "text": [
      " 80%|█████████████████████████████▊       | 40206/50000 [21:44<05:17, 30.86it/s]"
     ]
    },
    {
     "name": "stdout",
     "output_type": "stream",
     "text": [
      "Epoch 40200, Error: 13406.991744, Learning rate: 0.004739\n",
      "Test MAE: 261.444330\n",
      "Test MSE: 104268.843894\n",
      "Test RMSE: 322.906866\n",
      "Test R-Squared: 0.9699\n",
      "Sample 412: Prediction=-24.79, Target=0\n",
      "Sample 226: Prediction=4999.25, Target=5083\n",
      "Sample 35: Prediction=4803.31, Target=4601\n"
     ]
    },
    {
     "name": "stderr",
     "output_type": "stream",
     "text": [
      " 81%|█████████████████████████████▊       | 40306/50000 [21:48<05:30, 29.32it/s]"
     ]
    },
    {
     "name": "stdout",
     "output_type": "stream",
     "text": [
      "Epoch 40300, Error: 13364.853589, Learning rate: 0.004728\n",
      "Test MAE: 261.345077\n",
      "Test MSE: 104220.615812\n",
      "Test RMSE: 322.832179\n",
      "Test R-Squared: 0.9699\n",
      "Sample 660: Prediction=3813.41, Target=3784\n",
      "Sample 707: Prediction=3945.45, Target=4047\n",
      "Sample 358: Prediction=-53.94, Target=0\n"
     ]
    },
    {
     "name": "stderr",
     "output_type": "stream",
     "text": [
      " 81%|█████████████████████████████▉       | 40404/50000 [21:51<05:13, 30.57it/s]"
     ]
    },
    {
     "name": "stdout",
     "output_type": "stream",
     "text": [
      "Epoch 40400, Error: 13328.319375, Learning rate: 0.004717\n",
      "Test MAE: 261.100039\n",
      "Test MSE: 104088.832655\n",
      "Test RMSE: 322.628010\n",
      "Test R-Squared: 0.9699\n",
      "Sample 140: Prediction=96.71, Target=0\n",
      "Sample 32: Prediction=5983.80, Target=5821\n",
      "Sample 179: Prediction=6921.21, Target=6729\n"
     ]
    },
    {
     "name": "stderr",
     "output_type": "stream",
     "text": [
      " 81%|█████████████████████████████▉       | 40506/50000 [21:54<05:11, 30.51it/s]"
     ]
    },
    {
     "name": "stdout",
     "output_type": "stream",
     "text": [
      "Epoch 40500, Error: 13285.149114, Learning rate: 0.004706\n",
      "Test MAE: 261.006106\n",
      "Test MSE: 104009.826819\n",
      "Test RMSE: 322.505545\n",
      "Test R-Squared: 0.9699\n",
      "Sample 430: Prediction=3892.74, Target=3563\n",
      "Sample 502: Prediction=32.91, Target=0\n",
      "Sample 501: Prediction=9407.87, Target=9331\n"
     ]
    },
    {
     "name": "stderr",
     "output_type": "stream",
     "text": [
      " 81%|██████████████████████████████       | 40605/50000 [21:57<04:58, 31.49it/s]"
     ]
    },
    {
     "name": "stdout",
     "output_type": "stream",
     "text": [
      "Epoch 40600, Error: 13248.298008, Learning rate: 0.004695\n",
      "Test MAE: 260.869405\n",
      "Test MSE: 103896.049347\n",
      "Test RMSE: 322.329101\n",
      "Test R-Squared: 0.9700\n",
      "Sample 212: Prediction=6391.03, Target=6362\n",
      "Sample 132: Prediction=5449.47, Target=5307\n",
      "Sample 596: Prediction=5040.39, Target=4997\n"
     ]
    },
    {
     "name": "stderr",
     "output_type": "stream",
     "text": [
      " 81%|██████████████████████████████       | 40705/50000 [22:00<04:57, 31.24it/s]"
     ]
    },
    {
     "name": "stdout",
     "output_type": "stream",
     "text": [
      "Epoch 40700, Error: 13207.174083, Learning rate: 0.004684\n",
      "Test MAE: 260.759587\n",
      "Test MSE: 103818.439078\n",
      "Test RMSE: 322.208689\n",
      "Test R-Squared: 0.9700\n",
      "Sample 474: Prediction=45.89, Target=0\n",
      "Sample 588: Prediction=4071.40, Target=4081\n",
      "Sample 428: Prediction=158.60, Target=0\n"
     ]
    },
    {
     "name": "stderr",
     "output_type": "stream",
     "text": [
      " 82%|██████████████████████████████▏      | 40805/50000 [22:04<04:55, 31.14it/s]"
     ]
    },
    {
     "name": "stdout",
     "output_type": "stream",
     "text": [
      "Epoch 40800, Error: 13158.177295, Learning rate: 0.004673\n",
      "Test MAE: 260.642001\n",
      "Test MSE: 103740.925679\n",
      "Test RMSE: 322.088382\n",
      "Test R-Squared: 0.9700\n",
      "Sample 226: Prediction=5000.98, Target=5083\n",
      "Sample 645: Prediction=4979.03, Target=5000\n",
      "Sample 82: Prediction=5085.78, Target=5161\n"
     ]
    },
    {
     "name": "stderr",
     "output_type": "stream",
     "text": [
      " 82%|██████████████████████████████▎      | 40905/50000 [22:07<04:53, 31.02it/s]"
     ]
    },
    {
     "name": "stdout",
     "output_type": "stream",
     "text": [
      "Epoch 40900, Error: 13117.420341, Learning rate: 0.004662\n",
      "Test MAE: 260.505083\n",
      "Test MSE: 103641.897384\n",
      "Test RMSE: 321.934617\n",
      "Test R-Squared: 0.9700\n",
      "Sample 233: Prediction=3973.70, Target=4015\n",
      "Sample 634: Prediction=5902.02, Target=5973\n",
      "Sample 440: Prediction=3832.93, Target=4108\n"
     ]
    },
    {
     "name": "stderr",
     "output_type": "stream",
     "text": [
      " 82%|██████████████████████████████▎      | 41005/50000 [22:10<04:51, 30.85it/s]"
     ]
    },
    {
     "name": "stdout",
     "output_type": "stream",
     "text": [
      "Epoch 41000, Error: 13079.388529, Learning rate: 0.004651\n",
      "Test MAE: 260.346558\n",
      "Test MSE: 103530.726556\n",
      "Test RMSE: 321.761910\n",
      "Test R-Squared: 0.9701\n",
      "Sample 709: Prediction=7410.86, Target=7380\n",
      "Sample 616: Prediction=4058.20, Target=4194\n",
      "Sample 52: Prediction=3840.59, Target=3806\n"
     ]
    },
    {
     "name": "stderr",
     "output_type": "stream",
     "text": [
      " 82%|██████████████████████████████▍      | 41105/50000 [22:13<04:42, 31.47it/s]"
     ]
    },
    {
     "name": "stdout",
     "output_type": "stream",
     "text": [
      "Epoch 41100, Error: 13040.809589, Learning rate: 0.004640\n",
      "Test MAE: 260.225427\n",
      "Test MSE: 103466.356027\n",
      "Test RMSE: 321.661866\n",
      "Test R-Squared: 0.9701\n",
      "Sample 263: Prediction=3318.00, Target=3364\n",
      "Sample 404: Prediction=3642.36, Target=3492\n",
      "Sample 669: Prediction=-16.92, Target=0\n"
     ]
    },
    {
     "name": "stderr",
     "output_type": "stream",
     "text": [
      " 82%|██████████████████████████████▍      | 41205/50000 [22:16<04:40, 31.35it/s]"
     ]
    },
    {
     "name": "stdout",
     "output_type": "stream",
     "text": [
      "Epoch 41200, Error: 13003.278584, Learning rate: 0.004630\n",
      "Test MAE: 260.058543\n",
      "Test MSE: 103327.576429\n",
      "Test RMSE: 321.446071\n",
      "Test R-Squared: 0.9701\n",
      "Sample 398: Prediction=4192.14, Target=4044\n",
      "Sample 138: Prediction=4955.94, Target=4925\n",
      "Sample 237: Prediction=6936.15, Target=6709\n"
     ]
    },
    {
     "name": "stderr",
     "output_type": "stream",
     "text": [
      " 83%|██████████████████████████████▌      | 41305/50000 [22:20<04:37, 31.38it/s]"
     ]
    },
    {
     "name": "stdout",
     "output_type": "stream",
     "text": [
      "Epoch 41300, Error: 12956.056141, Learning rate: 0.004619\n",
      "Test MAE: 260.138604\n",
      "Test MSE: 103385.237523\n",
      "Test RMSE: 321.535748\n",
      "Test R-Squared: 0.9701\n",
      "Sample 348: Prediction=-112.96, Target=0\n",
      "Sample 243: Prediction=4672.61, Target=4727\n",
      "Sample 258: Prediction=4870.06, Target=4486\n"
     ]
    },
    {
     "name": "stderr",
     "output_type": "stream",
     "text": [
      " 83%|██████████████████████████████▋      | 41405/50000 [22:23<04:35, 31.18it/s]"
     ]
    },
    {
     "name": "stdout",
     "output_type": "stream",
     "text": [
      "Epoch 41400, Error: 12913.450698, Learning rate: 0.004608\n",
      "Test MAE: 260.073363\n",
      "Test MSE: 103313.917834\n",
      "Test RMSE: 321.424825\n",
      "Test R-Squared: 0.9701\n",
      "Sample 557: Prediction=41.11, Target=0\n",
      "Sample 240: Prediction=4462.07, Target=4366\n",
      "Sample 581: Prediction=5003.28, Target=5075\n"
     ]
    },
    {
     "name": "stderr",
     "output_type": "stream",
     "text": [
      " 83%|██████████████████████████████▋      | 41505/50000 [22:26<04:36, 30.78it/s]"
     ]
    },
    {
     "name": "stdout",
     "output_type": "stream",
     "text": [
      "Epoch 41500, Error: 12867.785217, Learning rate: 0.004598\n",
      "Test MAE: 260.049228\n",
      "Test MSE: 103289.768430\n",
      "Test RMSE: 321.387256\n",
      "Test R-Squared: 0.9701\n",
      "Sample 523: Prediction=3471.28, Target=3533\n",
      "Sample 601: Prediction=3990.71, Target=3998\n",
      "Sample 214: Prediction=-47.68, Target=0\n"
     ]
    },
    {
     "name": "stderr",
     "output_type": "stream",
     "text": [
      " 83%|██████████████████████████████▊      | 41605/50000 [22:29<04:31, 30.93it/s]"
     ]
    },
    {
     "name": "stdout",
     "output_type": "stream",
     "text": [
      "Epoch 41600, Error: 12829.721868, Learning rate: 0.004587\n",
      "Test MAE: 259.953723\n",
      "Test MSE: 103240.295645\n",
      "Test RMSE: 321.310279\n",
      "Test R-Squared: 0.9702\n",
      "Sample 229: Prediction=4903.68, Target=4952\n",
      "Sample 24: Prediction=5423.16, Target=5598\n",
      "Sample 621: Prediction=3490.98, Target=3383\n"
     ]
    },
    {
     "name": "stderr",
     "output_type": "stream",
     "text": [
      " 83%|██████████████████████████████▊      | 41705/50000 [22:32<04:23, 31.46it/s]"
     ]
    },
    {
     "name": "stdout",
     "output_type": "stream",
     "text": [
      "Epoch 41700, Error: 12789.259412, Learning rate: 0.004577\n",
      "Test MAE: 259.921406\n",
      "Test MSE: 103229.078763\n",
      "Test RMSE: 321.292824\n",
      "Test R-Squared: 0.9702\n",
      "Sample 448: Prediction=4689.06, Target=4726\n",
      "Sample 464: Prediction=3504.87, Target=3516\n",
      "Sample 398: Prediction=4192.08, Target=4044\n"
     ]
    },
    {
     "name": "stderr",
     "output_type": "stream",
     "text": [
      " 84%|██████████████████████████████▉      | 41806/50000 [22:36<04:34, 29.82it/s]"
     ]
    },
    {
     "name": "stdout",
     "output_type": "stream",
     "text": [
      "Epoch 41800, Error: 12751.818798, Learning rate: 0.004566\n",
      "Test MAE: 259.890755\n",
      "Test MSE: 103214.924353\n",
      "Test RMSE: 321.270796\n",
      "Test R-Squared: 0.9702\n",
      "Sample 349: Prediction=47.42, Target=0\n",
      "Sample 232: Prediction=4404.87, Target=4252\n",
      "Sample 50: Prediction=3710.03, Target=3849\n"
     ]
    },
    {
     "name": "stderr",
     "output_type": "stream",
     "text": [
      " 84%|███████████████████████████████      | 41905/50000 [22:39<04:20, 31.04it/s]"
     ]
    },
    {
     "name": "stdout",
     "output_type": "stream",
     "text": [
      "Epoch 41900, Error: 12717.702120, Learning rate: 0.004556\n",
      "Test MAE: 259.844115\n",
      "Test MSE: 103194.991111\n",
      "Test RMSE: 321.239772\n",
      "Test R-Squared: 0.9702\n",
      "Sample 235: Prediction=5350.44, Target=5337\n",
      "Sample 540: Prediction=5155.70, Target=5258\n",
      "Sample 118: Prediction=4872.48, Target=4949\n"
     ]
    },
    {
     "name": "stderr",
     "output_type": "stream",
     "text": [
      " 84%|███████████████████████████████      | 42005/50000 [22:42<04:23, 30.30it/s]"
     ]
    },
    {
     "name": "stdout",
     "output_type": "stream",
     "text": [
      "Epoch 42000, Error: 12676.551425, Learning rate: 0.004545\n",
      "Test MAE: 259.893338\n",
      "Test MSE: 103233.454619\n",
      "Test RMSE: 321.299634\n",
      "Test R-Squared: 0.9702\n",
      "Sample 732: Prediction=4059.79, Target=4196\n",
      "Sample 246: Prediction=3799.57, Target=3680\n",
      "Sample 63: Prediction=3295.64, Target=3224\n"
     ]
    },
    {
     "name": "stderr",
     "output_type": "stream",
     "text": [
      " 84%|███████████████████████████████▏     | 42104/50000 [22:45<04:18, 30.58it/s]"
     ]
    },
    {
     "name": "stdout",
     "output_type": "stream",
     "text": [
      "Epoch 42100, Error: 12637.973755, Learning rate: 0.004535\n",
      "Test MAE: 259.918303\n",
      "Test MSE: 103256.230205\n",
      "Test RMSE: 321.335075\n",
      "Test R-Squared: 0.9701\n",
      "Sample 476: Prediction=5593.85, Target=5519\n",
      "Sample 385: Prediction=3720.87, Target=3737\n",
      "Sample 76: Prediction=5688.63, Target=5770\n"
     ]
    },
    {
     "name": "stderr",
     "output_type": "stream",
     "text": [
      " 84%|███████████████████████████████▏     | 42204/50000 [22:49<04:13, 30.70it/s]"
     ]
    },
    {
     "name": "stdout",
     "output_type": "stream",
     "text": [
      "Epoch 42200, Error: 12603.708175, Learning rate: 0.004525\n",
      "Test MAE: 259.859244\n",
      "Test MSE: 103214.605096\n",
      "Test RMSE: 321.270299\n",
      "Test R-Squared: 0.9702\n",
      "Sample 363: Prediction=41.28, Target=0\n",
      "Sample 216: Prediction=4149.54, Target=3939\n",
      "Sample 24: Prediction=5426.13, Target=5598\n"
     ]
    },
    {
     "name": "stderr",
     "output_type": "stream",
     "text": [
      " 85%|███████████████████████████████▎     | 42304/50000 [22:52<04:10, 30.68it/s]"
     ]
    },
    {
     "name": "stdout",
     "output_type": "stream",
     "text": [
      "Epoch 42300, Error: 12551.369210, Learning rate: 0.004515\n",
      "Test MAE: 259.956071\n",
      "Test MSE: 103313.581063\n",
      "Test RMSE: 321.424301\n",
      "Test R-Squared: 0.9701\n",
      "Sample 556: Prediction=5710.42, Target=5400\n",
      "Sample 126: Prediction=4104.87, Target=3725\n",
      "Sample 305: Prediction=5020.41, Target=5352\n"
     ]
    },
    {
     "name": "stderr",
     "output_type": "stream",
     "text": [
      " 85%|███████████████████████████████▍     | 42404/50000 [22:55<04:12, 30.08it/s]"
     ]
    },
    {
     "name": "stdout",
     "output_type": "stream",
     "text": [
      "Epoch 42400, Error: 12509.936171, Learning rate: 0.004505\n",
      "Test MAE: 259.969154\n",
      "Test MSE: 103316.824419\n",
      "Test RMSE: 321.429346\n",
      "Test R-Squared: 0.9701\n",
      "Sample 108: Prediction=4418.86, Target=4341\n",
      "Sample 293: Prediction=5394.96, Target=5289\n",
      "Sample 50: Prediction=3711.22, Target=3849\n"
     ]
    },
    {
     "name": "stderr",
     "output_type": "stream",
     "text": [
      " 85%|███████████████████████████████▍     | 42504/50000 [22:58<04:02, 30.88it/s]"
     ]
    },
    {
     "name": "stdout",
     "output_type": "stream",
     "text": [
      "Epoch 42500, Error: 12452.966843, Learning rate: 0.004494\n",
      "Test MAE: 260.018675\n",
      "Test MSE: 103283.400153\n",
      "Test RMSE: 321.377349\n",
      "Test R-Squared: 0.9701\n",
      "Sample 563: Prediction=-101.69, Target=0\n",
      "Sample 116: Prediction=4222.56, Target=4001\n",
      "Sample 512: Prediction=4600.75, Target=4782\n"
     ]
    },
    {
     "name": "stderr",
     "output_type": "stream",
     "text": [
      " 85%|███████████████████████████████▌     | 42604/50000 [23:02<04:01, 30.63it/s]"
     ]
    },
    {
     "name": "stdout",
     "output_type": "stream",
     "text": [
      "Epoch 42600, Error: 12354.132113, Learning rate: 0.004484\n",
      "Test MAE: 260.338960\n",
      "Test MSE: 103440.010823\n",
      "Test RMSE: 321.620912\n",
      "Test R-Squared: 0.9701\n",
      "Sample 288: Prediction=5612.92, Target=5482\n",
      "Sample 180: Prediction=97.99, Target=0\n",
      "Sample 509: Prediction=4850.19, Target=4945\n"
     ]
    },
    {
     "name": "stderr",
     "output_type": "stream",
     "text": [
      " 85%|███████████████████████████████▌     | 42704/50000 [23:05<03:57, 30.67it/s]"
     ]
    },
    {
     "name": "stdout",
     "output_type": "stream",
     "text": [
      "Epoch 42700, Error: 12271.923186, Learning rate: 0.004474\n",
      "Test MAE: 260.267688\n",
      "Test MSE: 103349.280334\n",
      "Test RMSE: 321.479829\n",
      "Test R-Squared: 0.9701\n",
      "Sample 45: Prediction=5459.22, Target=5393\n",
      "Sample 285: Prediction=3926.87, Target=3937\n",
      "Sample 53: Prediction=5239.49, Target=5220\n"
     ]
    },
    {
     "name": "stderr",
     "output_type": "stream",
     "text": [
      " 86%|███████████████████████████████▋     | 42804/50000 [23:08<03:57, 30.24it/s]"
     ]
    },
    {
     "name": "stdout",
     "output_type": "stream",
     "text": [
      "Epoch 42800, Error: 12199.451726, Learning rate: 0.004464\n",
      "Test MAE: 260.152898\n",
      "Test MSE: 103266.481132\n",
      "Test RMSE: 321.351025\n",
      "Test R-Squared: 0.9701\n",
      "Sample 562: Prediction=5038.37, Target=4944\n",
      "Sample 112: Prediction=5819.03, Target=5775\n",
      "Sample 649: Prediction=-8.84, Target=0\n"
     ]
    },
    {
     "name": "stderr",
     "output_type": "stream",
     "text": [
      " 86%|███████████████████████████████▋     | 42904/50000 [23:11<03:48, 31.05it/s]"
     ]
    },
    {
     "name": "stdout",
     "output_type": "stream",
     "text": [
      "Epoch 42900, Error: 12138.206163, Learning rate: 0.004454\n",
      "Test MAE: 260.069346\n",
      "Test MSE: 103224.652219\n",
      "Test RMSE: 321.285935\n",
      "Test R-Squared: 0.9702\n",
      "Sample 6: Prediction=5345.19, Target=5263\n",
      "Sample 509: Prediction=4853.01, Target=4945\n",
      "Sample 17: Prediction=3848.38, Target=3722\n"
     ]
    },
    {
     "name": "stderr",
     "output_type": "stream",
     "text": [
      " 86%|███████████████████████████████▊     | 43004/50000 [23:14<03:45, 31.05it/s]"
     ]
    },
    {
     "name": "stdout",
     "output_type": "stream",
     "text": [
      "Epoch 43000, Error: 12083.023221, Learning rate: 0.004444\n",
      "Test MAE: 260.019833\n",
      "Test MSE: 103229.621270\n",
      "Test RMSE: 321.293668\n",
      "Test R-Squared: 0.9702\n",
      "Sample 240: Prediction=4460.87, Target=4366\n",
      "Sample 368: Prediction=4634.52, Target=4651\n",
      "Sample 637: Prediction=4842.88, Target=4881\n"
     ]
    },
    {
     "name": "stderr",
     "output_type": "stream",
     "text": [
      " 86%|███████████████████████████████▉     | 43104/50000 [23:18<03:42, 30.97it/s]"
     ]
    },
    {
     "name": "stdout",
     "output_type": "stream",
     "text": [
      "Epoch 43100, Error: 12028.705944, Learning rate: 0.004435\n",
      "Test MAE: 259.962807\n",
      "Test MSE: 103213.310916\n",
      "Test RMSE: 321.268285\n",
      "Test R-Squared: 0.9702\n",
      "Sample 71: Prediction=5098.12, Target=5012\n",
      "Sample 663: Prediction=4819.96, Target=4823\n",
      "Sample 370: Prediction=5486.03, Target=5509\n"
     ]
    },
    {
     "name": "stderr",
     "output_type": "stream",
     "text": [
      " 86%|███████████████████████████████▉     | 43204/50000 [23:21<03:41, 30.67it/s]"
     ]
    },
    {
     "name": "stdout",
     "output_type": "stream",
     "text": [
      "Epoch 43200, Error: 11976.305391, Learning rate: 0.004425\n",
      "Test MAE: 259.905382\n",
      "Test MSE: 103179.575109\n",
      "Test RMSE: 321.215777\n",
      "Test R-Squared: 0.9702\n",
      "Sample 224: Prediction=4020.48, Target=4083\n",
      "Sample 231: Prediction=5941.84, Target=5923\n",
      "Sample 415: Prediction=5513.48, Target=5499\n"
     ]
    },
    {
     "name": "stderr",
     "output_type": "stream",
     "text": [
      " 87%|████████████████████████████████     | 43304/50000 [23:24<03:39, 30.49it/s]"
     ]
    },
    {
     "name": "stdout",
     "output_type": "stream",
     "text": [
      "Epoch 43300, Error: 11920.305424, Learning rate: 0.004415\n",
      "Test MAE: 259.779211\n",
      "Test MSE: 103095.573787\n",
      "Test RMSE: 321.084995\n",
      "Test R-Squared: 0.9702\n",
      "Sample 677: Prediction=67.79, Target=0\n",
      "Sample 290: Prediction=3571.30, Target=3530\n",
      "Sample 727: Prediction=4525.95, Target=4602\n"
     ]
    },
    {
     "name": "stderr",
     "output_type": "stream",
     "text": [
      " 87%|████████████████████████████████     | 43404/50000 [23:27<03:35, 30.64it/s]"
     ]
    },
    {
     "name": "stdout",
     "output_type": "stream",
     "text": [
      "Epoch 43400, Error: 11867.181804, Learning rate: 0.004405\n",
      "Test MAE: 259.639601\n",
      "Test MSE: 102967.498870\n",
      "Test RMSE: 320.885492\n",
      "Test R-Squared: 0.9702\n",
      "Sample 517: Prediction=-50.00, Target=0\n",
      "Sample 297: Prediction=4159.87, Target=4042\n",
      "Sample 184: Prediction=6091.86, Target=6110\n"
     ]
    },
    {
     "name": "stderr",
     "output_type": "stream",
     "text": [
      " 87%|████████████████████████████████▏    | 43504/50000 [23:30<03:29, 31.07it/s]"
     ]
    },
    {
     "name": "stdout",
     "output_type": "stream",
     "text": [
      "Epoch 43500, Error: 11820.100244, Learning rate: 0.004396\n",
      "Test MAE: 259.608015\n",
      "Test MSE: 102909.017878\n",
      "Test RMSE: 320.794354\n",
      "Test R-Squared: 0.9702\n",
      "Sample 704: Prediction=4290.86, Target=4211\n",
      "Sample 506: Prediction=5639.70, Target=5596\n",
      "Sample 129: Prediction=6127.08, Target=6038\n"
     ]
    },
    {
     "name": "stderr",
     "output_type": "stream",
     "text": [
      " 87%|████████████████████████████████▎    | 43604/50000 [23:34<03:27, 30.79it/s]"
     ]
    },
    {
     "name": "stdout",
     "output_type": "stream",
     "text": [
      "Epoch 43600, Error: 11766.544014, Learning rate: 0.004386\n",
      "Test MAE: 259.672206\n",
      "Test MSE: 102944.745063\n",
      "Test RMSE: 320.850035\n",
      "Test R-Squared: 0.9702\n",
      "Sample 312: Prediction=7198.50, Target=7195\n",
      "Sample 139: Prediction=4713.33, Target=4708\n",
      "Sample 594: Prediction=3736.64, Target=3805\n"
     ]
    },
    {
     "name": "stderr",
     "output_type": "stream",
     "text": [
      " 87%|████████████████████████████████▎    | 43704/50000 [23:37<03:24, 30.78it/s]"
     ]
    },
    {
     "name": "stdout",
     "output_type": "stream",
     "text": [
      "Epoch 43700, Error: 11720.250845, Learning rate: 0.004376\n",
      "Test MAE: 259.762761\n",
      "Test MSE: 102978.024066\n",
      "Test RMSE: 320.901892\n",
      "Test R-Squared: 0.9702\n",
      "Sample 99: Prediction=3917.32, Target=3858\n",
      "Sample 192: Prediction=4729.50, Target=4731\n",
      "Sample 140: Prediction=98.85, Target=0\n"
     ]
    },
    {
     "name": "stderr",
     "output_type": "stream",
     "text": [
      " 88%|████████████████████████████████▍    | 43804/50000 [23:40<03:22, 30.64it/s]"
     ]
    },
    {
     "name": "stdout",
     "output_type": "stream",
     "text": [
      "Epoch 43800, Error: 11673.751062, Learning rate: 0.004367\n",
      "Test MAE: 259.830032\n",
      "Test MSE: 103008.537301\n",
      "Test RMSE: 320.949431\n",
      "Test R-Squared: 0.9702\n",
      "Sample 196: Prediction=3697.36, Target=3894\n",
      "Sample 337: Prediction=6401.33, Target=6377\n",
      "Sample 3: Prediction=-65.77, Target=0\n"
     ]
    },
    {
     "name": "stderr",
     "output_type": "stream",
     "text": [
      " 88%|████████████████████████████████▍    | 43904/50000 [23:43<03:20, 30.41it/s]"
     ]
    },
    {
     "name": "stdout",
     "output_type": "stream",
     "text": [
      "Epoch 43900, Error: 11631.931350, Learning rate: 0.004357\n",
      "Test MAE: 259.840421\n",
      "Test MSE: 103001.385799\n",
      "Test RMSE: 320.938290\n",
      "Test R-Squared: 0.9702\n",
      "Sample 535: Prediction=3873.11, Target=3703\n",
      "Sample 625: Prediction=4388.41, Target=4425\n",
      "Sample 28: Prediction=4528.72, Target=4614\n"
     ]
    },
    {
     "name": "stderr",
     "output_type": "stream",
     "text": [
      " 88%|████████████████████████████████▌    | 44004/50000 [23:47<03:14, 30.79it/s]"
     ]
    },
    {
     "name": "stdout",
     "output_type": "stream",
     "text": [
      "Epoch 44000, Error: 11585.558912, Learning rate: 0.004348\n",
      "Test MAE: 259.916428\n",
      "Test MSE: 103055.108593\n",
      "Test RMSE: 321.021975\n",
      "Test R-Squared: 0.9702\n",
      "Sample 367: Prediction=3980.65, Target=3928\n",
      "Sample 599: Prediction=3423.39, Target=3198\n",
      "Sample 569: Prediction=126.52, Target=0\n"
     ]
    },
    {
     "name": "stderr",
     "output_type": "stream",
     "text": [
      " 88%|████████████████████████████████▋    | 44104/50000 [23:50<03:09, 31.03it/s]"
     ]
    },
    {
     "name": "stdout",
     "output_type": "stream",
     "text": [
      "Epoch 44100, Error: 11542.278371, Learning rate: 0.004338\n",
      "Test MAE: 259.975800\n",
      "Test MSE: 103091.500647\n",
      "Test RMSE: 321.078652\n",
      "Test R-Squared: 0.9702\n",
      "Sample 629: Prediction=6187.45, Target=6160\n",
      "Sample 576: Prediction=4724.09, Target=4718\n",
      "Sample 230: Prediction=5203.36, Target=5292\n"
     ]
    },
    {
     "name": "stderr",
     "output_type": "stream",
     "text": [
      " 88%|████████████████████████████████▋    | 44204/50000 [23:53<03:07, 30.86it/s]"
     ]
    },
    {
     "name": "stdout",
     "output_type": "stream",
     "text": [
      "Epoch 44200, Error: 11499.509259, Learning rate: 0.004329\n",
      "Test MAE: 259.995927\n",
      "Test MSE: 103094.305404\n",
      "Test RMSE: 321.083019\n",
      "Test R-Squared: 0.9702\n",
      "Sample 290: Prediction=3565.25, Target=3530\n",
      "Sample 337: Prediction=6404.01, Target=6377\n",
      "Sample 526: Prediction=4488.37, Target=4492\n"
     ]
    },
    {
     "name": "stderr",
     "output_type": "stream",
     "text": [
      " 89%|████████████████████████████████▊    | 44304/50000 [23:56<03:06, 30.51it/s]"
     ]
    },
    {
     "name": "stdout",
     "output_type": "stream",
     "text": [
      "Epoch 44300, Error: 11453.330045, Learning rate: 0.004320\n",
      "Test MAE: 260.058683\n",
      "Test MSE: 103142.548323\n",
      "Test RMSE: 321.158136\n",
      "Test R-Squared: 0.9702\n",
      "Sample 280: Prediction=3567.55, Target=3547\n",
      "Sample 453: Prediction=5389.01, Target=5471\n",
      "Sample 450: Prediction=3283.65, Target=3352\n"
     ]
    },
    {
     "name": "stderr",
     "output_type": "stream",
     "text": [
      " 89%|████████████████████████████████▊    | 44404/50000 [24:00<03:01, 30.76it/s]"
     ]
    },
    {
     "name": "stdout",
     "output_type": "stream",
     "text": [
      "Epoch 44400, Error: 11418.379673, Learning rate: 0.004310\n",
      "Test MAE: 259.962756\n",
      "Test MSE: 103058.324787\n",
      "Test RMSE: 321.026985\n",
      "Test R-Squared: 0.9702\n",
      "Sample 202: Prediction=3406.26, Target=3535\n",
      "Sample 395: Prediction=4316.49, Target=4315\n",
      "Sample 534: Prediction=4387.40, Target=4419\n"
     ]
    },
    {
     "name": "stderr",
     "output_type": "stream",
     "text": [
      " 89%|████████████████████████████████▉    | 44504/50000 [24:03<03:00, 30.48it/s]"
     ]
    },
    {
     "name": "stdout",
     "output_type": "stream",
     "text": [
      "Epoch 44500, Error: 11381.588010, Learning rate: 0.004301\n",
      "Test MAE: 259.896327\n",
      "Test MSE: 103012.694186\n",
      "Test RMSE: 320.955907\n",
      "Test R-Squared: 0.9702\n",
      "Sample 23: Prediction=133.02, Target=0\n",
      "Sample 660: Prediction=3789.54, Target=3784\n",
      "Sample 165: Prediction=5332.07, Target=5261\n"
     ]
    },
    {
     "name": "stderr",
     "output_type": "stream",
     "text": [
      " 89%|█████████████████████████████████    | 44604/50000 [24:06<02:53, 31.05it/s]"
     ]
    },
    {
     "name": "stdout",
     "output_type": "stream",
     "text": [
      "Epoch 44600, Error: 11343.715977, Learning rate: 0.004292\n",
      "Test MAE: 259.889343\n",
      "Test MSE: 103011.148301\n",
      "Test RMSE: 320.953499\n",
      "Test R-Squared: 0.9702\n",
      "Sample 521: Prediction=160.16, Target=0\n",
      "Sample 573: Prediction=3772.40, Target=3727\n",
      "Sample 651: Prediction=6442.01, Target=6454\n"
     ]
    },
    {
     "name": "stderr",
     "output_type": "stream",
     "text": [
      " 89%|█████████████████████████████████    | 44704/50000 [24:09<02:53, 30.55it/s]"
     ]
    },
    {
     "name": "stdout",
     "output_type": "stream",
     "text": [
      "Epoch 44700, Error: 11311.699897, Learning rate: 0.004283\n",
      "Test MAE: 259.882900\n",
      "Test MSE: 102998.719328\n",
      "Test RMSE: 320.934135\n",
      "Test R-Squared: 0.9702\n",
      "Sample 190: Prediction=5197.07, Target=5173\n",
      "Sample 228: Prediction=4427.67, Target=4390\n",
      "Sample 425: Prediction=5644.37, Target=5637\n"
     ]
    },
    {
     "name": "stderr",
     "output_type": "stream",
     "text": [
      " 90%|█████████████████████████████████▏   | 44804/50000 [24:12<02:49, 30.73it/s]"
     ]
    },
    {
     "name": "stdout",
     "output_type": "stream",
     "text": [
      "Epoch 44800, Error: 11267.980927, Learning rate: 0.004274\n",
      "Test MAE: 259.946404\n",
      "Test MSE: 103064.902761\n",
      "Test RMSE: 321.037230\n",
      "Test R-Squared: 0.9702\n",
      "Sample 741: Prediction=4481.89, Target=4461\n",
      "Sample 470: Prediction=-7.30, Target=0\n",
      "Sample 431: Prediction=4647.81, Target=4466\n"
     ]
    },
    {
     "name": "stderr",
     "output_type": "stream",
     "text": [
      " 90%|█████████████████████████████████▏   | 44904/50000 [24:16<02:45, 30.74it/s]"
     ]
    },
    {
     "name": "stdout",
     "output_type": "stream",
     "text": [
      "Epoch 44900, Error: 11237.368503, Learning rate: 0.004264\n",
      "Test MAE: 259.939070\n",
      "Test MSE: 103036.656276\n",
      "Test RMSE: 320.993234\n",
      "Test R-Squared: 0.9702\n",
      "Sample 220: Prediction=56.21, Target=0\n",
      "Sample 601: Prediction=3988.28, Target=3998\n",
      "Sample 346: Prediction=5257.32, Target=5197\n"
     ]
    },
    {
     "name": "stderr",
     "output_type": "stream",
     "text": [
      " 90%|█████████████████████████████████▎   | 45007/50000 [24:19<02:44, 30.34it/s]"
     ]
    },
    {
     "name": "stdout",
     "output_type": "stream",
     "text": [
      "Epoch 45000, Error: 11193.320118, Learning rate: 0.004255\n",
      "Test MAE: 259.873825\n",
      "Test MSE: 102987.223404\n",
      "Test RMSE: 320.916225\n",
      "Test R-Squared: 0.9702\n",
      "Sample 32: Prediction=5970.17, Target=5821\n",
      "Sample 7: Prediction=4331.25, Target=4270\n",
      "Sample 752: Prediction=4762.02, Target=4773\n"
     ]
    },
    {
     "name": "stderr",
     "output_type": "stream",
     "text": [
      " 90%|█████████████████████████████████▍   | 45107/50000 [24:22<02:41, 30.30it/s]"
     ]
    },
    {
     "name": "stdout",
     "output_type": "stream",
     "text": [
      "Epoch 45100, Error: 11154.547079, Learning rate: 0.004246\n",
      "Test MAE: 259.813774\n",
      "Test MSE: 102953.360143\n",
      "Test RMSE: 320.863460\n",
      "Test R-Squared: 0.9702\n",
      "Sample 523: Prediction=3453.45, Target=3533\n",
      "Sample 614: Prediction=4900.68, Target=4790\n",
      "Sample 616: Prediction=4079.90, Target=4194\n"
     ]
    },
    {
     "name": "stderr",
     "output_type": "stream",
     "text": [
      " 90%|█████████████████████████████████▍   | 45207/50000 [24:26<02:34, 31.08it/s]"
     ]
    },
    {
     "name": "stdout",
     "output_type": "stream",
     "text": [
      "Epoch 45200, Error: 11113.598049, Learning rate: 0.004237\n",
      "Test MAE: 259.718222\n",
      "Test MSE: 102894.063757\n",
      "Test RMSE: 320.771046\n",
      "Test R-Squared: 0.9703\n",
      "Sample 487: Prediction=5503.51, Target=5464\n",
      "Sample 45: Prediction=5466.11, Target=5393\n",
      "Sample 615: Prediction=4195.00, Target=4055\n"
     ]
    },
    {
     "name": "stderr",
     "output_type": "stream",
     "text": [
      " 91%|█████████████████████████████████▌   | 45307/50000 [24:29<02:30, 31.11it/s]"
     ]
    },
    {
     "name": "stdout",
     "output_type": "stream",
     "text": [
      "Epoch 45300, Error: 11067.702201, Learning rate: 0.004228\n",
      "Test MAE: 259.730922\n",
      "Test MSE: 102917.733167\n",
      "Test RMSE: 320.807938\n",
      "Test R-Squared: 0.9702\n",
      "Sample 478: Prediction=7.50, Target=0\n",
      "Sample 549: Prediction=6121.27, Target=6148\n",
      "Sample 45: Prediction=5466.19, Target=5393\n"
     ]
    },
    {
     "name": "stderr",
     "output_type": "stream",
     "text": [
      " 91%|█████████████████████████████████▌   | 45407/50000 [24:32<02:29, 30.76it/s]"
     ]
    },
    {
     "name": "stdout",
     "output_type": "stream",
     "text": [
      "Epoch 45400, Error: 11031.416765, Learning rate: 0.004219\n",
      "Test MAE: 259.657826\n",
      "Test MSE: 102881.349548\n",
      "Test RMSE: 320.751227\n",
      "Test R-Squared: 0.9703\n",
      "Sample 180: Prediction=90.57, Target=0\n",
      "Sample 279: Prediction=4795.68, Target=4767\n",
      "Sample 589: Prediction=14.21, Target=0\n"
     ]
    },
    {
     "name": "stderr",
     "output_type": "stream",
     "text": [
      " 91%|█████████████████████████████████▋   | 45507/50000 [24:35<02:24, 30.99it/s]"
     ]
    },
    {
     "name": "stdout",
     "output_type": "stream",
     "text": [
      "Epoch 45500, Error: 10994.335654, Learning rate: 0.004211\n",
      "Test MAE: 259.641079\n",
      "Test MSE: 102888.458676\n",
      "Test RMSE: 320.762309\n",
      "Test R-Squared: 0.9703\n",
      "Sample 401: Prediction=4544.80, Target=4665\n",
      "Sample 399: Prediction=3887.82, Target=3971\n",
      "Sample 290: Prediction=3557.58, Target=3530\n"
     ]
    },
    {
     "name": "stderr",
     "output_type": "stream",
     "text": [
      " 91%|█████████████████████████████████▋   | 45607/50000 [24:38<02:23, 30.72it/s]"
     ]
    },
    {
     "name": "stdout",
     "output_type": "stream",
     "text": [
      "Epoch 45600, Error: 10957.175702, Learning rate: 0.004202\n",
      "Test MAE: 259.685328\n",
      "Test MSE: 102918.296434\n",
      "Test RMSE: 320.808816\n",
      "Test R-Squared: 0.9702\n",
      "Sample 463: Prediction=-73.50, Target=0\n",
      "Sample 137: Prediction=-24.71, Target=0\n",
      "Sample 489: Prediction=10.64, Target=0\n"
     ]
    },
    {
     "name": "stderr",
     "output_type": "stream",
     "text": [
      " 91%|█████████████████████████████████▊   | 45707/50000 [24:42<02:20, 30.57it/s]"
     ]
    },
    {
     "name": "stdout",
     "output_type": "stream",
     "text": [
      "Epoch 45700, Error: 10918.064067, Learning rate: 0.004193\n",
      "Test MAE: 259.774073\n",
      "Test MSE: 102984.813792\n",
      "Test RMSE: 320.912471\n",
      "Test R-Squared: 0.9702\n",
      "Sample 719: Prediction=5735.80, Target=5720\n",
      "Sample 645: Prediction=4980.49, Target=5000\n",
      "Sample 249: Prediction=5467.52, Target=5280\n"
     ]
    },
    {
     "name": "stderr",
     "output_type": "stream",
     "text": [
      " 92%|█████████████████████████████████▉   | 45807/50000 [24:45<02:14, 31.07it/s]"
     ]
    },
    {
     "name": "stdout",
     "output_type": "stream",
     "text": [
      "Epoch 45800, Error: 10876.397444, Learning rate: 0.004184\n",
      "Test MAE: 259.812982\n",
      "Test MSE: 103009.755205\n",
      "Test RMSE: 320.951328\n",
      "Test R-Squared: 0.9702\n",
      "Sample 539: Prediction=4592.91, Target=4743\n",
      "Sample 199: Prediction=70.19, Target=0\n",
      "Sample 159: Prediction=4854.17, Target=4757\n"
     ]
    },
    {
     "name": "stderr",
     "output_type": "stream",
     "text": [
      " 92%|█████████████████████████████████▉   | 45907/50000 [24:48<02:12, 30.98it/s]"
     ]
    },
    {
     "name": "stdout",
     "output_type": "stream",
     "text": [
      "Epoch 45900, Error: 10838.861509, Learning rate: 0.004175\n",
      "Test MAE: 259.790582\n",
      "Test MSE: 102985.033851\n",
      "Test RMSE: 320.912813\n",
      "Test R-Squared: 0.9702\n",
      "Sample 383: Prediction=3398.37, Target=3275\n",
      "Sample 590: Prediction=4108.96, Target=4221\n",
      "Sample 585: Prediction=5338.37, Target=5252\n"
     ]
    },
    {
     "name": "stderr",
     "output_type": "stream",
     "text": [
      " 92%|██████████████████████████████████   | 46007/50000 [24:51<02:13, 29.99it/s]"
     ]
    },
    {
     "name": "stdout",
     "output_type": "stream",
     "text": [
      "Epoch 46000, Error: 10795.254938, Learning rate: 0.004167\n",
      "Test MAE: 259.770806\n",
      "Test MSE: 102987.507754\n",
      "Test RMSE: 320.916668\n",
      "Test R-Squared: 0.9702\n",
      "Sample 260: Prediction=4700.98, Target=4663\n",
      "Sample 95: Prediction=4015.27, Target=3982\n",
      "Sample 80: Prediction=7946.94, Target=7959\n"
     ]
    },
    {
     "name": "stderr",
     "output_type": "stream",
     "text": [
      " 92%|██████████████████████████████████   | 46107/50000 [24:54<02:05, 30.96it/s]"
     ]
    },
    {
     "name": "stdout",
     "output_type": "stream",
     "text": [
      "Epoch 46100, Error: 10760.841831, Learning rate: 0.004158\n",
      "Test MAE: 259.744076\n",
      "Test MSE: 102959.979144\n",
      "Test RMSE: 320.873774\n",
      "Test R-Squared: 0.9702\n",
      "Sample 719: Prediction=5733.43, Target=5720\n",
      "Sample 612: Prediction=4569.96, Target=4460\n",
      "Sample 180: Prediction=85.19, Target=0\n"
     ]
    },
    {
     "name": "stderr",
     "output_type": "stream",
     "text": [
      " 92%|██████████████████████████████████▏  | 46207/50000 [24:58<02:03, 30.68it/s]"
     ]
    },
    {
     "name": "stdout",
     "output_type": "stream",
     "text": [
      "Epoch 46200, Error: 10714.891603, Learning rate: 0.004149\n",
      "Test MAE: 259.817193\n",
      "Test MSE: 103010.151407\n",
      "Test RMSE: 320.951946\n",
      "Test R-Squared: 0.9702\n",
      "Sample 244: Prediction=4578.55, Target=4677\n",
      "Sample 329: Prediction=3637.59, Target=3681\n",
      "Sample 553: Prediction=-8.88, Target=0\n"
     ]
    },
    {
     "name": "stderr",
     "output_type": "stream",
     "text": [
      " 93%|██████████████████████████████████▎  | 46307/50000 [25:01<02:01, 30.51it/s]"
     ]
    },
    {
     "name": "stdout",
     "output_type": "stream",
     "text": [
      "Epoch 46300, Error: 10673.712185, Learning rate: 0.004141\n",
      "Test MAE: 259.927229\n",
      "Test MSE: 103060.380056\n",
      "Test RMSE: 321.030186\n",
      "Test R-Squared: 0.9702\n",
      "Sample 547: Prediction=5224.95, Target=5286\n",
      "Sample 173: Prediction=-65.75, Target=0\n",
      "Sample 446: Prediction=5471.55, Target=5237\n"
     ]
    },
    {
     "name": "stderr",
     "output_type": "stream",
     "text": [
      " 93%|██████████████████████████████████▎  | 46407/50000 [25:04<01:56, 30.97it/s]"
     ]
    },
    {
     "name": "stdout",
     "output_type": "stream",
     "text": [
      "Epoch 46400, Error: 10640.376644, Learning rate: 0.004132\n",
      "Test MAE: 259.947195\n",
      "Test MSE: 103020.675513\n",
      "Test RMSE: 320.968340\n",
      "Test R-Squared: 0.9702\n",
      "Sample 240: Prediction=4453.61, Target=4366\n",
      "Sample 543: Prediction=37.23, Target=0\n",
      "Sample 741: Prediction=4485.42, Target=4461\n"
     ]
    },
    {
     "name": "stderr",
     "output_type": "stream",
     "text": [
      " 93%|██████████████████████████████████▍  | 46507/50000 [25:07<01:52, 31.15it/s]"
     ]
    },
    {
     "name": "stdout",
     "output_type": "stream",
     "text": [
      "Epoch 46500, Error: 10591.242566, Learning rate: 0.004124\n",
      "Test MAE: 260.066686\n",
      "Test MSE: 103074.491259\n",
      "Test RMSE: 321.052163\n",
      "Test R-Squared: 0.9702\n",
      "Sample 383: Prediction=3392.06, Target=3275\n",
      "Sample 583: Prediction=4835.86, Target=4804\n",
      "Sample 725: Prediction=5185.50, Target=5151\n"
     ]
    },
    {
     "name": "stderr",
     "output_type": "stream",
     "text": [
      " 93%|██████████████████████████████████▍  | 46607/50000 [25:11<01:49, 30.90it/s]"
     ]
    },
    {
     "name": "stdout",
     "output_type": "stream",
     "text": [
      "Epoch 46600, Error: 10546.881844, Learning rate: 0.004115\n",
      "Test MAE: 260.069409\n",
      "Test MSE: 103042.248513\n",
      "Test RMSE: 321.001945\n",
      "Test R-Squared: 0.9702\n",
      "Sample 519: Prediction=4419.91, Target=4562\n",
      "Sample 191: Prediction=4813.14, Target=4916\n",
      "Sample 452: Prediction=7622.98, Target=7558\n"
     ]
    },
    {
     "name": "stderr",
     "output_type": "stream",
     "text": [
      " 93%|██████████████████████████████████▌  | 46707/50000 [25:14<01:47, 30.77it/s]"
     ]
    },
    {
     "name": "stdout",
     "output_type": "stream",
     "text": [
      "Epoch 46700, Error: 10503.103041, Learning rate: 0.004107\n",
      "Test MAE: 259.940330\n",
      "Test MSE: 102915.615344\n",
      "Test RMSE: 320.804637\n",
      "Test R-Squared: 0.9702\n",
      "Sample 692: Prediction=4410.50, Target=4178\n",
      "Sample 456: Prediction=4686.90, Target=4583\n",
      "Sample 700: Prediction=4987.69, Target=4909\n"
     ]
    },
    {
     "name": "stderr",
     "output_type": "stream",
     "text": [
      " 94%|██████████████████████████████████▋  | 46807/50000 [25:17<01:44, 30.67it/s]"
     ]
    },
    {
     "name": "stdout",
     "output_type": "stream",
     "text": [
      "Epoch 46800, Error: 10461.266639, Learning rate: 0.004098\n",
      "Test MAE: 259.846691\n",
      "Test MSE: 102830.029938\n",
      "Test RMSE: 320.671218\n",
      "Test R-Squared: 0.9703\n",
      "Sample 351: Prediction=8517.71, Target=8414\n",
      "Sample 371: Prediction=4754.60, Target=4748\n",
      "Sample 550: Prediction=5260.86, Target=5299\n"
     ]
    },
    {
     "name": "stderr",
     "output_type": "stream",
     "text": [
      " 94%|██████████████████████████████████▋  | 46907/50000 [25:20<01:41, 30.44it/s]"
     ]
    },
    {
     "name": "stdout",
     "output_type": "stream",
     "text": [
      "Epoch 46900, Error: 10418.368708, Learning rate: 0.004090\n",
      "Test MAE: 259.762977\n",
      "Test MSE: 102755.408669\n",
      "Test RMSE: 320.554845\n",
      "Test R-Squared: 0.9703\n",
      "Sample 599: Prediction=3394.45, Target=3198\n",
      "Sample 275: Prediction=9581.69, Target=9528\n",
      "Sample 259: Prediction=3271.74, Target=3076\n"
     ]
    },
    {
     "name": "stderr",
     "output_type": "stream",
     "text": [
      " 94%|██████████████████████████████████▊  | 47007/50000 [25:24<01:37, 30.64it/s]"
     ]
    },
    {
     "name": "stdout",
     "output_type": "stream",
     "text": [
      "Epoch 47000, Error: 10374.809415, Learning rate: 0.004082\n",
      "Test MAE: 259.586490\n",
      "Test MSE: 102656.728616\n",
      "Test RMSE: 320.400887\n",
      "Test R-Squared: 0.9703\n",
      "Sample 448: Prediction=4669.69, Target=4726\n",
      "Sample 512: Prediction=4581.72, Target=4782\n",
      "Sample 283: Prediction=3987.58, Target=4054\n"
     ]
    },
    {
     "name": "stderr",
     "output_type": "stream",
     "text": [
      " 94%|██████████████████████████████████▊  | 47107/50000 [25:27<01:33, 31.03it/s]"
     ]
    },
    {
     "name": "stdout",
     "output_type": "stream",
     "text": [
      "Epoch 47100, Error: 10331.307631, Learning rate: 0.004073\n",
      "Test MAE: 259.453796\n",
      "Test MSE: 102560.306571\n",
      "Test RMSE: 320.250381\n",
      "Test R-Squared: 0.9703\n",
      "Sample 680: Prediction=5932.31, Target=6008\n",
      "Sample 721: Prediction=4709.03, Target=4599\n",
      "Sample 450: Prediction=3274.15, Target=3352\n"
     ]
    },
    {
     "name": "stderr",
     "output_type": "stream",
     "text": [
      " 94%|██████████████████████████████████▉  | 47207/50000 [25:30<01:29, 31.07it/s]"
     ]
    },
    {
     "name": "stdout",
     "output_type": "stream",
     "text": [
      "Epoch 47200, Error: 10294.382694, Learning rate: 0.004065\n",
      "Test MAE: 259.322254\n",
      "Test MSE: 102430.515792\n",
      "Test RMSE: 320.047677\n",
      "Test R-Squared: 0.9704\n",
      "Sample 720: Prediction=32.94, Target=0\n",
      "Sample 487: Prediction=5498.09, Target=5464\n",
      "Sample 483: Prediction=5060.10, Target=5058\n"
     ]
    },
    {
     "name": "stderr",
     "output_type": "stream",
     "text": [
      " 95%|███████████████████████████████████  | 47307/50000 [25:33<01:27, 30.92it/s]"
     ]
    },
    {
     "name": "stdout",
     "output_type": "stream",
     "text": [
      "Epoch 47300, Error: 10253.540724, Learning rate: 0.004057\n",
      "Test MAE: 259.240646\n",
      "Test MSE: 102351.765357\n",
      "Test RMSE: 319.924624\n",
      "Test R-Squared: 0.9704\n",
      "Sample 517: Prediction=-63.24, Target=0\n",
      "Sample 338: Prediction=5375.96, Target=5263\n",
      "Sample 691: Prediction=4493.89, Target=4597\n"
     ]
    },
    {
     "name": "stderr",
     "output_type": "stream",
     "text": [
      " 95%|███████████████████████████████████  | 47407/50000 [25:36<01:26, 29.95it/s]"
     ]
    },
    {
     "name": "stdout",
     "output_type": "stream",
     "text": [
      "Epoch 47400, Error: 10215.357081, Learning rate: 0.004049\n",
      "Test MAE: 259.121782\n",
      "Test MSE: 102259.379188\n",
      "Test RMSE: 319.780204\n",
      "Test R-Squared: 0.9704\n",
      "Sample 591: Prediction=3724.27, Target=3581\n",
      "Sample 39: Prediction=-188.69, Target=0\n",
      "Sample 299: Prediction=3803.50, Target=3775\n"
     ]
    },
    {
     "name": "stderr",
     "output_type": "stream",
     "text": [
      " 95%|███████████████████████████████████▏ | 47505/50000 [25:40<01:22, 30.16it/s]"
     ]
    },
    {
     "name": "stdout",
     "output_type": "stream",
     "text": [
      "Epoch 47500, Error: 10177.830339, Learning rate: 0.004040\n",
      "Test MAE: 259.061732\n",
      "Test MSE: 102192.659490\n",
      "Test RMSE: 319.675866\n",
      "Test R-Squared: 0.9705\n",
      "Sample 349: Prediction=43.63, Target=0\n",
      "Sample 311: Prediction=79.51, Target=0\n",
      "Sample 243: Prediction=4668.65, Target=4727\n"
     ]
    },
    {
     "name": "stderr",
     "output_type": "stream",
     "text": [
      " 95%|███████████████████████████████████▏ | 47605/50000 [25:43<01:17, 30.87it/s]"
     ]
    },
    {
     "name": "stdout",
     "output_type": "stream",
     "text": [
      "Epoch 47600, Error: 10143.324768, Learning rate: 0.004032\n",
      "Test MAE: 259.040341\n",
      "Test MSE: 102159.536352\n",
      "Test RMSE: 319.624055\n",
      "Test R-Squared: 0.9705\n",
      "Sample 36: Prediction=4113.23, Target=4038\n",
      "Sample 474: Prediction=1.62, Target=0\n",
      "Sample 150: Prediction=143.61, Target=0\n"
     ]
    },
    {
     "name": "stderr",
     "output_type": "stream",
     "text": [
      " 95%|███████████████████████████████████▎ | 47704/50000 [25:46<01:15, 30.42it/s]"
     ]
    },
    {
     "name": "stdout",
     "output_type": "stream",
     "text": [
      "Epoch 47700, Error: 10103.318559, Learning rate: 0.004024\n",
      "Test MAE: 259.012531\n",
      "Test MSE: 102115.950876\n",
      "Test RMSE: 319.555865\n",
      "Test R-Squared: 0.9705\n",
      "Sample 242: Prediction=4476.26, Target=4407\n",
      "Sample 10: Prediction=95.53, Target=0\n",
      "Sample 276: Prediction=3882.45, Target=3768\n"
     ]
    },
    {
     "name": "stderr",
     "output_type": "stream",
     "text": [
      " 96%|███████████████████████████████████▎ | 47804/50000 [25:49<01:11, 30.79it/s]"
     ]
    },
    {
     "name": "stdout",
     "output_type": "stream",
     "text": [
      "Epoch 47800, Error: 10067.420701, Learning rate: 0.004016\n",
      "Test MAE: 258.980985\n",
      "Test MSE: 102054.473973\n",
      "Test RMSE: 319.459659\n",
      "Test R-Squared: 0.9705\n",
      "Sample 198: Prediction=4754.65, Target=4756\n",
      "Sample 118: Prediction=4850.04, Target=4949\n",
      "Sample 261: Prediction=3388.20, Target=3405\n"
     ]
    },
    {
     "name": "stderr",
     "output_type": "stream",
     "text": [
      " 96%|███████████████████████████████████▍ | 47905/50000 [25:53<01:11, 29.39it/s]"
     ]
    },
    {
     "name": "stdout",
     "output_type": "stream",
     "text": [
      "Epoch 47900, Error: 10037.271885, Learning rate: 0.004008\n",
      "Test MAE: 258.940467\n",
      "Test MSE: 101988.933929\n",
      "Test RMSE: 319.357063\n",
      "Test R-Squared: 0.9705\n",
      "Sample 116: Prediction=4212.35, Target=4001\n",
      "Sample 103: Prediction=113.19, Target=0\n",
      "Sample 408: Prediction=4876.54, Target=4724\n"
     ]
    },
    {
     "name": "stderr",
     "output_type": "stream",
     "text": [
      " 96%|███████████████████████████████████▌ | 48006/50000 [25:56<01:05, 30.26it/s]"
     ]
    },
    {
     "name": "stdout",
     "output_type": "stream",
     "text": [
      "Epoch 48000, Error: 9989.141691, Learning rate: 0.004000\n",
      "Test MAE: 259.112265\n",
      "Test MSE: 102102.434686\n",
      "Test RMSE: 319.534716\n",
      "Test R-Squared: 0.9705\n",
      "Sample 292: Prediction=4168.82, Target=4174\n",
      "Sample 617: Prediction=4010.66, Target=3954\n",
      "Sample 456: Prediction=4688.02, Target=4583\n"
     ]
    },
    {
     "name": "stderr",
     "output_type": "stream",
     "text": [
      " 96%|███████████████████████████████████▌ | 48106/50000 [25:59<01:02, 30.36it/s]"
     ]
    },
    {
     "name": "stdout",
     "output_type": "stream",
     "text": [
      "Epoch 48100, Error: 9950.332939, Learning rate: 0.003992\n",
      "Test MAE: 259.195692\n",
      "Test MSE: 102142.713533\n",
      "Test RMSE: 319.597737\n",
      "Test R-Squared: 0.9705\n",
      "Sample 491: Prediction=5070.25, Target=5008\n",
      "Sample 193: Prediction=5359.26, Target=5326\n",
      "Sample 129: Prediction=6105.70, Target=6038\n"
     ]
    },
    {
     "name": "stderr",
     "output_type": "stream",
     "text": [
      " 96%|███████████████████████████████████▋ | 48206/50000 [26:03<00:58, 30.70it/s]"
     ]
    },
    {
     "name": "stdout",
     "output_type": "stream",
     "text": [
      "Epoch 48200, Error: 9914.622787, Learning rate: 0.003984\n",
      "Test MAE: 259.276000\n",
      "Test MSE: 102187.011515\n",
      "Test RMSE: 319.667032\n",
      "Test R-Squared: 0.9705\n",
      "Sample 400: Prediction=6346.71, Target=6407\n",
      "Sample 733: Prediction=5266.07, Target=5064\n",
      "Sample 395: Prediction=4337.25, Target=4315\n"
     ]
    },
    {
     "name": "stderr",
     "output_type": "stream",
     "text": [
      " 97%|███████████████████████████████████▋ | 48306/50000 [26:06<00:54, 30.85it/s]"
     ]
    },
    {
     "name": "stdout",
     "output_type": "stream",
     "text": [
      "Epoch 48300, Error: 9880.166095, Learning rate: 0.003976\n",
      "Test MAE: 259.340839\n",
      "Test MSE: 102225.611069\n",
      "Test RMSE: 319.727401\n",
      "Test R-Squared: 0.9704\n",
      "Sample 462: Prediction=4191.23, Target=4042\n",
      "Sample 749: Prediction=4200.54, Target=4175\n",
      "Sample 418: Prediction=6113.24, Target=6196\n"
     ]
    },
    {
     "name": "stderr",
     "output_type": "stream",
     "text": [
      " 97%|███████████████████████████████████▊ | 48406/50000 [26:09<00:51, 30.86it/s]"
     ]
    },
    {
     "name": "stdout",
     "output_type": "stream",
     "text": [
      "Epoch 48400, Error: 9841.824438, Learning rate: 0.003968\n",
      "Test MAE: 259.395949\n",
      "Test MSE: 102252.673875\n",
      "Test RMSE: 319.769720\n",
      "Test R-Squared: 0.9704\n",
      "Sample 438: Prediction=5318.81, Target=5384\n",
      "Sample 554: Prediction=6253.34, Target=6119\n",
      "Sample 630: Prediction=4244.49, Target=4396\n"
     ]
    },
    {
     "name": "stderr",
     "output_type": "stream",
     "text": [
      " 97%|███████████████████████████████████▉ | 48506/50000 [26:12<00:48, 30.63it/s]"
     ]
    },
    {
     "name": "stdout",
     "output_type": "stream",
     "text": [
      "Epoch 48500, Error: 9821.612579, Learning rate: 0.003960\n",
      "Test MAE: 259.315169\n",
      "Test MSE: 102153.191882\n",
      "Test RMSE: 319.614130\n",
      "Test R-Squared: 0.9705\n",
      "Sample 360: Prediction=4355.98, Target=4295\n",
      "Sample 210: Prediction=5102.10, Target=5003\n",
      "Sample 592: Prediction=30.09, Target=0\n"
     ]
    },
    {
     "name": "stderr",
     "output_type": "stream",
     "text": [
      " 97%|███████████████████████████████████▉ | 48606/50000 [26:16<00:46, 30.29it/s]"
     ]
    },
    {
     "name": "stdout",
     "output_type": "stream",
     "text": [
      "Epoch 48600, Error: 9783.947446, Learning rate: 0.003953\n",
      "Test MAE: 259.434776\n",
      "Test MSE: 102223.851977\n",
      "Test RMSE: 319.724650\n",
      "Test R-Squared: 0.9704\n",
      "Sample 536: Prediction=4682.00, Target=4599\n",
      "Sample 377: Prediction=5185.59, Target=5143\n",
      "Sample 667: Prediction=3858.42, Target=3735\n"
     ]
    },
    {
     "name": "stderr",
     "output_type": "stream",
     "text": [
      " 97%|████████████████████████████████████ | 48707/50000 [26:19<00:41, 31.08it/s]"
     ]
    },
    {
     "name": "stdout",
     "output_type": "stream",
     "text": [
      "Epoch 48700, Error: 9754.529349, Learning rate: 0.003945\n",
      "Test MAE: 259.535618\n",
      "Test MSE: 102253.815636\n",
      "Test RMSE: 319.771505\n",
      "Test R-Squared: 0.9704\n",
      "Sample 172: Prediction=4437.10, Target=4406\n",
      "Sample 568: Prediction=5299.06, Target=5317\n",
      "Sample 335: Prediction=6092.79, Target=6154\n"
     ]
    },
    {
     "name": "stderr",
     "output_type": "stream",
     "text": [
      " 98%|████████████████████████████████████ | 48807/50000 [26:22<00:38, 31.05it/s]"
     ]
    },
    {
     "name": "stdout",
     "output_type": "stream",
     "text": [
      "Epoch 48800, Error: 9721.756188, Learning rate: 0.003937\n",
      "Test MAE: 259.623775\n",
      "Test MSE: 102293.823794\n",
      "Test RMSE: 319.834057\n",
      "Test R-Squared: 0.9704\n",
      "Sample 177: Prediction=5912.35, Target=5839\n",
      "Sample 640: Prediction=3803.68, Target=3776\n",
      "Sample 407: Prediction=3779.98, Target=3676\n"
     ]
    },
    {
     "name": "stderr",
     "output_type": "stream",
     "text": [
      " 98%|████████████████████████████████████▏| 48907/50000 [26:25<00:35, 30.92it/s]"
     ]
    },
    {
     "name": "stdout",
     "output_type": "stream",
     "text": [
      "Epoch 48900, Error: 9694.211713, Learning rate: 0.003929\n",
      "Test MAE: 259.696982\n",
      "Test MSE: 102313.910411\n",
      "Test RMSE: 319.865457\n",
      "Test R-Squared: 0.9704\n",
      "Sample 336: Prediction=8357.72, Target=8277\n",
      "Sample 473: Prediction=4057.37, Target=4161\n",
      "Sample 494: Prediction=4992.09, Target=5031\n"
     ]
    },
    {
     "name": "stderr",
     "output_type": "stream",
     "text": [
      " 98%|████████████████████████████████████▎| 49007/50000 [26:29<00:32, 30.45it/s]"
     ]
    },
    {
     "name": "stdout",
     "output_type": "stream",
     "text": [
      "Epoch 49000, Error: 9660.309569, Learning rate: 0.003922\n",
      "Test MAE: 259.836193\n",
      "Test MSE: 102359.271155\n",
      "Test RMSE: 319.936355\n",
      "Test R-Squared: 0.9704\n",
      "Sample 89: Prediction=4986.67, Target=4994\n",
      "Sample 294: Prediction=5023.33, Target=4954\n",
      "Sample 83: Prediction=4077.79, Target=4202\n"
     ]
    },
    {
     "name": "stderr",
     "output_type": "stream",
     "text": [
      " 98%|████████████████████████████████████▎| 49107/50000 [26:32<00:29, 30.51it/s]"
     ]
    },
    {
     "name": "stdout",
     "output_type": "stream",
     "text": [
      "Epoch 49100, Error: 9632.119136, Learning rate: 0.003914\n",
      "Test MAE: 259.861076\n",
      "Test MSE: 102331.630943\n",
      "Test RMSE: 319.893156\n",
      "Test R-Squared: 0.9704\n",
      "Sample 688: Prediction=4943.86, Target=4717\n",
      "Sample 122: Prediction=3695.77, Target=3755\n",
      "Sample 653: Prediction=20.38, Target=0\n"
     ]
    },
    {
     "name": "stderr",
     "output_type": "stream",
     "text": [
      " 98%|████████████████████████████████████▍| 49207/50000 [26:35<00:26, 30.29it/s]"
     ]
    },
    {
     "name": "stdout",
     "output_type": "stream",
     "text": [
      "Epoch 49200, Error: 9605.933130, Learning rate: 0.003906\n",
      "Test MAE: 259.909143\n",
      "Test MSE: 102310.900668\n",
      "Test RMSE: 319.860752\n",
      "Test R-Squared: 0.9704\n",
      "Sample 31: Prediction=3604.05, Target=3573\n",
      "Sample 270: Prediction=4556.71, Target=4623\n",
      "Sample 632: Prediction=3574.93, Target=3797\n"
     ]
    },
    {
     "name": "stderr",
     "output_type": "stream",
     "text": [
      " 99%|████████████████████████████████████▍| 49307/50000 [26:38<00:22, 31.04it/s]"
     ]
    },
    {
     "name": "stdout",
     "output_type": "stream",
     "text": [
      "Epoch 49300, Error: 9573.564352, Learning rate: 0.003899\n",
      "Test MAE: 260.003636\n",
      "Test MSE: 102333.209022\n",
      "Test RMSE: 319.895622\n",
      "Test R-Squared: 0.9704\n",
      "Sample 585: Prediction=5334.17, Target=5252\n",
      "Sample 685: Prediction=4190.41, Target=4074\n",
      "Sample 133: Prediction=4812.80, Target=4789\n"
     ]
    },
    {
     "name": "stderr",
     "output_type": "stream",
     "text": [
      " 99%|████████████████████████████████████▌| 49407/50000 [26:42<00:19, 30.79it/s]"
     ]
    },
    {
     "name": "stdout",
     "output_type": "stream",
     "text": [
      "Epoch 49400, Error: 9549.122590, Learning rate: 0.003891\n",
      "Test MAE: 259.993606\n",
      "Test MSE: 102273.969531\n",
      "Test RMSE: 319.803017\n",
      "Test R-Squared: 0.9704\n",
      "Sample 218: Prediction=4574.37, Target=4625\n",
      "Sample 492: Prediction=5902.93, Target=6004\n",
      "Sample 372: Prediction=5279.69, Target=5220\n"
     ]
    },
    {
     "name": "stderr",
     "output_type": "stream",
     "text": [
      " 99%|████████████████████████████████████▋| 49507/50000 [26:45<00:16, 30.31it/s]"
     ]
    },
    {
     "name": "stdout",
     "output_type": "stream",
     "text": [
      "Epoch 49500, Error: 9518.356588, Learning rate: 0.003883\n",
      "Test MAE: 260.202486\n",
      "Test MSE: 102386.978240\n",
      "Test RMSE: 319.979653\n",
      "Test R-Squared: 0.9704\n",
      "Sample 184: Prediction=6076.19, Target=6110\n",
      "Sample 41: Prediction=5547.36, Target=5643\n",
      "Sample 602: Prediction=5250.59, Target=5138\n"
     ]
    },
    {
     "name": "stderr",
     "output_type": "stream",
     "text": [
      " 99%|████████████████████████████████████▋| 49607/50000 [26:48<00:12, 30.27it/s]"
     ]
    },
    {
     "name": "stdout",
     "output_type": "stream",
     "text": [
      "Epoch 49600, Error: 9493.206095, Learning rate: 0.003876\n",
      "Test MAE: 260.336103\n",
      "Test MSE: 102413.690143\n",
      "Test RMSE: 320.021390\n",
      "Test R-Squared: 0.9704\n",
      "Sample 628: Prediction=7706.59, Target=7675\n",
      "Sample 304: Prediction=5177.89, Target=5106\n",
      "Sample 518: Prediction=7469.40, Target=7523\n"
     ]
    },
    {
     "name": "stderr",
     "output_type": "stream",
     "text": [
      " 99%|████████████████████████████████████▊| 49706/50000 [26:51<00:09, 30.41it/s]"
     ]
    },
    {
     "name": "stdout",
     "output_type": "stream",
     "text": [
      "Epoch 49700, Error: 9462.221260, Learning rate: 0.003868\n",
      "Test MAE: 260.501802\n",
      "Test MSE: 102468.782365\n",
      "Test RMSE: 320.107454\n",
      "Test R-Squared: 0.9704\n",
      "Sample 95: Prediction=4018.24, Target=3982\n",
      "Sample 301: Prediction=69.67, Target=0\n",
      "Sample 678: Prediction=4548.95, Target=4574\n"
     ]
    },
    {
     "name": "stderr",
     "output_type": "stream",
     "text": [
      "100%|████████████████████████████████████▊| 49806/50000 [26:55<00:06, 30.16it/s]"
     ]
    },
    {
     "name": "stdout",
     "output_type": "stream",
     "text": [
      "Epoch 49800, Error: 9432.646721, Learning rate: 0.003861\n",
      "Test MAE: 260.630608\n",
      "Test MSE: 102509.604999\n",
      "Test RMSE: 320.171212\n",
      "Test R-Squared: 0.9704\n",
      "Sample 508: Prediction=5808.54, Target=5568\n",
      "Sample 398: Prediction=4181.30, Target=4044\n",
      "Sample 561: Prediction=5617.53, Target=5695\n"
     ]
    },
    {
     "name": "stderr",
     "output_type": "stream",
     "text": [
      "100%|████████████████████████████████████▉| 49904/50000 [26:58<00:03, 30.65it/s]"
     ]
    },
    {
     "name": "stdout",
     "output_type": "stream",
     "text": [
      "Epoch 49900, Error: 9408.660478, Learning rate: 0.003854\n",
      "Test MAE: 260.716955\n",
      "Test MSE: 102517.004467\n",
      "Test RMSE: 320.182767\n",
      "Test R-Squared: 0.9704\n",
      "Sample 222: Prediction=4420.25, Target=4395\n",
      "Sample 274: Prediction=5586.24, Target=5578\n",
      "Sample 507: Prediction=5982.23, Target=5942\n"
     ]
    },
    {
     "name": "stderr",
     "output_type": "stream",
     "text": [
      "100%|█████████████████████████████████████| 50000/50000 [27:01<00:00, 30.84it/s]\n"
     ]
    }
   ],
   "source": [
    "def f(x, W1, W2):\n",
    "    h = np.maximum(0, W1.T.dot(x))\n",
    "    result = W2.T.dot(h)\n",
    "    return result\n",
    "\n",
    "def mse(y_true, y_pred):\n",
    "    return np.mean(np.square(y_true - y_pred))\n",
    "\n",
    "def mae(y_true, y_pred):\n",
    "    return np.mean(np.abs(y_true - y_pred))\n",
    "\n",
    "def rmse(y_true, y_pred):\n",
    "    return np.sqrt(np.mean((y_true - y_pred) ** 2))\n",
    "\n",
    "def r_squared(y_true, y_pred):\n",
    "    num = np.sum((y_true - y_pred) ** 2)\n",
    "    den = np.sum((y_true - np.mean(y_true)) ** 2)\n",
    "    return 1 - (num / den)\n",
    "\n",
    "\n",
    "\n",
    "def train(epochs, X, y, X_test, y_test, W1, W2, eta, l2_reg=0.0001):\n",
    "    errors = []\n",
    "    test_errors = []\n",
    "    n = X.shape[0]\n",
    "    n_features = X.shape[1]\n",
    "    n_test = X_test.shape[0]\n",
    "    \n",
    "    initial_eta = eta\n",
    "    \n",
    "    # Early stopping variables\n",
    "    best_test_error = float('inf')\n",
    "    best_epoch = 0\n",
    "    best_W1 = W1.copy()\n",
    "    best_W2 = W2.copy()\n",
    "    \n",
    "    # Check improvement every 100 epochs\n",
    "    last_three_errors = []\n",
    "    max_epochs = min(epochs, 50000)\n",
    "    \n",
    "    for epoch in tqdm(range(max_epochs)):\n",
    "        # Slower decay of learning rate\n",
    "        current_eta = initial_eta / (1 + epoch / 2000)\n",
    "        \n",
    "        # Randomly shuffle data for each epoch\n",
    "        indices = np.random.permutation(n)\n",
    "        X_shuffled = X[indices]\n",
    "        y_shuffled = y[indices]\n",
    "        \n",
    "        dW2 = np.zeros_like(W2)\n",
    "        for i in range(n):\n",
    "            x = np.reshape(X_shuffled[i], (n_features, 1))\n",
    "            h = np.maximum(0, W1.T.dot(x))\n",
    "            pred = f(x, W1, W2)\n",
    "            dW2 += (2/n) * (pred - y_shuffled[i]) * h\n",
    "        \n",
    "        dW2 += l2_reg * W2\n",
    "        dW2 = np.clip(dW2, -5.0, 5.0)\n",
    "        W2 = W2 - current_eta * dW2\n",
    "        \n",
    "        dW1 = np.zeros_like(W1)\n",
    "        for i in range(n):\n",
    "            x = np.reshape(X_shuffled[i], (n_features, 1))\n",
    "            h = np.maximum(0, W1.T.dot(x))\n",
    "            mat1 = np.heaviside(h, 0)\n",
    "            pred = f(x, W1, W2)\n",
    "            \n",
    "            error_term = (2/n) * (pred - y_shuffled[i])\n",
    "            grad_contribution = error_term * np.outer(x, (W2 * mat1).T).reshape(W1.shape)\n",
    "            dW1 += grad_contribution\n",
    "        \n",
    "        dW1 += l2_reg * W1\n",
    "        dW1 = np.clip(dW1, -5.0, 5.0)\n",
    "        W1 = W1 - current_eta * dW1\n",
    "        \n",
    "        if epoch % 50 == 0 or epoch == max_epochs - 1:\n",
    "            # Calculate error for monitoring\n",
    "            predictions = np.array([f(np.reshape(X[i], (n_features, 1)), W1, W2)[0,0] for i in range(n)])\n",
    "            val_predictions = np.array([f(np.reshape(X_test[i], (n_features, 1)), W1, W2)[0, 0] for i in range(n_test)])\n",
    "            e = mse(y, predictions)\n",
    "            val_mse = mse(y_test, val_predictions)\n",
    "            val_rmse = rmse(y_test, val_predictions)\n",
    "            val_mae = mae(y_test, val_predictions)\n",
    "            val_r2 = r_squared(y_test, val_predictions)\n",
    "            errors.append(e)\n",
    "            test_errors.append(val_mse)\n",
    "            \n",
    "            # More detailed progress reporting\n",
    "            if epoch % 100 == 0:\n",
    "                print(f\"Epoch {epoch}, Error: {e:.6f}, Learning rate: {current_eta:.6f}\")\n",
    "                print(f\"Test MAE: {val_mae:.6f}\")\n",
    "                print(f\"Test MSE: {val_mse:.6f}\")\n",
    "                print(f\"Test RMSE: {val_rmse:.6f}\")\n",
    "                print(f\"Test R-Squared: {val_r2:.4f}\")\n",
    "                \n",
    "                \n",
    "                # Print some sample comparisons\n",
    "                sample_indices = np.random.choice(len(y), 3, replace=False)\n",
    "                for idx in sample_indices:\n",
    "                    print(f\"Sample {idx}: Prediction={predictions[idx]:.2f}, Target={y[idx]}\")\n",
    "                \n",
    "                # Early stopping check every 100 epochs\n",
    "                if val_mse < best_test_error:\n",
    "                    best_test_error = val_mse\n",
    "                    best_epoch = epoch\n",
    "                    best_W1 = W1.copy()\n",
    "                    best_W2 = W2.copy()\n",
    "                \n",
    "                # Add current error to last three for tracking improvement\n",
    "                last_three_errors.append(val_mse)\n",
    "                if len(last_three_errors) > 5:\n",
    "                    last_three_errors.pop(0)  # Keep only the last three\n",
    "                \n",
    "                # Check if no improvement for three consecutive 100-epoch intervals\n",
    "                if len(last_three_errors) == 3 and all(last_three_errors[i] >= last_three_errors[i-1] for i in range(1, 3)):\n",
    "                    print(f\"\\nEarly stopping at epoch {epoch}. No improvement for 300 epochs.\")\n",
    "                    print(f\"Best validation MSE: {best_test_error:.6f} at epoch {best_epoch}\")\n",
    "                    break\n",
    "    \n",
    "    # Use the best weights found during training\n",
    "    W1, W2 = best_W1, best_W2\n",
    "    \n",
    "    # Final predictions using best weights\n",
    "    final_predictions = np.array([f(np.reshape(X[i], (n_features, 1)), W1, W2)[0,0] for i in range(n)])\n",
    "    test_predictions = np.array([f(np.reshape(X_test[i], (n_features, 1)), W1, W2)[0,0] for i in range(n_test)])\n",
    "        \n",
    "    return W1, W2, errors, test_errors, final_predictions, test_predictions\n",
    "\n",
    "# run training\n",
    "W1, W2, train_errors, test_errors, train_predictions, test_predictions = train(EPOCHS, train_X, train_y, val_X, val_y, W1, W2, ETA, l2_reg=0.0001)\n"
   ]
  },
  {
   "cell_type": "code",
   "execution_count": 23,
   "id": "1566a9bc-a03b-495b-9d9e-cb0c1cbea44b",
   "metadata": {},
   "outputs": [
    {
     "data": {
      "image/png": "[encoded data removed]",
      "text/plain": [
       "<Figure size 1000x600 with 1 Axes>"
      ]
     },
     "metadata": {},
     "output_type": "display_data"
    },
    {
     "data": {
      "image/png": "[encoded data removed]",
      "text/plain": [
       "<Figure size 1200x600 with 1 Axes>"
      ]
     },
     "metadata": {},
     "output_type": "display_data"
    },
    {
     "data": {
      "image/png": "[encoded data removed]",
      "text/plain": [
       "<Figure size 1000x600 with 1 Axes>"
      ]
     },
     "metadata": {},
     "output_type": "display_data"
    },
    {
     "name": "stdout",
     "output_type": "stream",
     "text": [
      "Error statistics:\n",
      "Mean error: -132.304031\n",
      "Median error: -126.653492\n",
      "Standard deviation: 290.662308\n",
      "Min error: -894.465850\n",
      "Max error: 673.705524\n"
     ]
    }
   ],
   "source": [
    "\n",
    "# Create scatter plot of predictions vs actual values\n",
    "plt.figure(figsize=(10, 6))\n",
    "plt.scatter(val_y, test_predictions, alpha=0.5)\n",
    "plt.plot([min(val_y), max(val_y)], [min(val_y), max(val_y)], 'r--')  # Perfect prediction line\n",
    "plt.xlabel('Actual Values')\n",
    "plt.ylabel('Predicted Values')\n",
    "plt.title('Predictions vs Actual Values (Validation Set)')\n",
    "plt.grid(True)\n",
    "plt.show()\n",
    "\n",
    "# Take a random subset for a clearer comparison (e.g., 50 samples)\n",
    "subset_size = 50\n",
    "subset_indices = np.random.choice(len(val_y), subset_size, replace=False)\n",
    "subset_indices = np.sort(subset_indices)  # Sort for clearer visualization\n",
    "\n",
    "# Plot predictions vs actual for the subset\n",
    "plt.figure(figsize=(12, 6))\n",
    "plt.plot(subset_indices, val_y[subset_indices], 'b-o', label='Actual Values')\n",
    "plt.plot(subset_indices, test_predictions[subset_indices], 'r-o', label='Predicted Values')\n",
    "plt.xlabel('Sample Index')\n",
    "plt.ylabel('Value')\n",
    "plt.title(f'Predictions vs Actual Values (Random Subset of {subset_size} Samples)')\n",
    "plt.legend()\n",
    "plt.grid(True)\n",
    "plt.show()\n",
    "\n",
    "# Calculate and display error statistics\n",
    "errors = test_predictions- val_y\n",
    "plt.figure(figsize=(10, 6))\n",
    "plt.hist(errors, bins=30, alpha=0.7)\n",
    "plt.axvline(x=0, color='r', linestyle='--')\n",
    "plt.xlabel('Prediction Error')\n",
    "plt.ylabel('Frequency')\n",
    "plt.title('Distribution of Prediction Errors')\n",
    "plt.grid(True)\n",
    "plt.show()\n",
    "\n",
    "# Calculate additional statistics\n",
    "print(f\"Error statistics:\")\n",
    "print(f\"Mean error: {np.mean(errors):.6f}\")\n",
    "print(f\"Median error: {np.median(errors):.6f}\")\n",
    "print(f\"Standard deviation: {np.std(errors):.6f}\")\n",
    "print(f\"Min error: {np.min(errors):.6f}\")\n",
    "print(f\"Max error: {np.max(errors):.6f}\")"
   ]
  },
  {
   "cell_type": "code",
   "execution_count": 24,
   "id": "2b339227-2c94-4ea9-82cb-36c97aaeb83d",
   "metadata": {},
   "outputs": [
    {
     "data": {
      "text/plain": [
       "Index(['index', 'Store', 'DayOfWeek', 'Date', 'Sales', 'Customers', 'Open',\n",
       "       'Promo', 'StateHoliday', 'SchoolHoliday', 'a', '0', 'b', 'c', 'lag_1',\n",
       "       'difference_1', 'lag_7', 'difference_7', 'lag_8', 'difference_8',\n",
       "       'lag_14', 'difference_14', 'lag_15', 'difference_15', 'lag_21',\n",
       "       'difference_21', 'lag_22', 'difference_22', 'lag_28', 'difference_28',\n",
       "       'lag_29', 'difference_29', 'lag_36', 'difference_36', 'lag_43',\n",
       "       'difference_43', 'lag_50', 'difference_50', 'lag_57', 'difference_57',\n",
       "       'lag_64', 'difference_64', 'lag_71', 'difference_71', 'lag_78',\n",
       "       'difference_78', 'lag_85', 'difference_85', 'lag_92', 'difference_92',\n",
       "       'lag_100', 'difference_100', 'rolling_mean_7', 'rolling_std_7',\n",
       "       'rolling_mean_14', 'rolling_std_14', 'rolling_mean_28',\n",
       "       'rolling_std_28', 'ewm_mean_10', 'ewm_std_10', 'ewm_mean_30',\n",
       "       'ewm_std_30', 'ewm_mean_50', 'ewm_std_50', 'month_of_year',\n",
       "       'is_weekend', 'day_sin', 'day_cos', 'month_sin', 'month_cos'],\n",
       "      dtype='object')"
      ]
     },
     "execution_count": 24,
     "metadata": {},
     "output_type": "execute_result"
    }
   ],
   "source": [
    "train_df.columns"
   ]
  },
  {
   "cell_type": "code",
   "execution_count": null,
   "id": "e34c0a27-0bef-413f-b65f-9c88b013f25c",
   "metadata": {},
   "outputs": [],
   "source": []
  }
 ],
 "metadata": {
  "kernelspec": {
   "display_name": "Python 3 (ipykernel)",
   "language": "python",
   "name": "python3"
  },
  "language_info": {
   "codemirror_mode": {
    "name": "ipython",
    "version": 3
   },
   "file_extension": ".py",
   "mimetype": "text/x-python",
   "name": "python",
   "nbconvert_exporter": "python",
   "pygments_lexer": "ipython3",
   "version": "3.9.21"
  }
 },
 "nbformat": 4,
 "nbformat_minor": 5
}
