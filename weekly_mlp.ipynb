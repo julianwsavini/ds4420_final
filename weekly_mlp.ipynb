{
 "cells": [
  {
   "cell_type": "code",
   "execution_count": 2,
   "id": "da6597ad-f45a-4886-927b-e59b416d185c",
   "metadata": {},
   "outputs": [
    {
     "name": "stderr",
     "output_type": "stream",
     "text": [
      "  0%|                                                                               | 10/25000 [00:00<10:05, 41.26it/s]"
     ]
    },
    {
     "name": "stdout",
     "output_type": "stream",
     "text": [
      "Epoch 0, Error: 761325401.860171, Learning rate: 0.100000\n",
      "Test MAE: 28158.611890\n",
      "Test MSE: 818485073.160922\n",
      "Sample 67: Prediction=165.13, Target=26973\n",
      "Sample 2: Prediction=135.98, Target=21841\n",
      "Sample 44: Prediction=103.65, Target=22763\n"
     ]
    },
    {
     "name": "stderr",
     "output_type": "stream",
     "text": [
      "  0%|▎                                                                             | 108/25000 [00:02<08:20, 49.68it/s]"
     ]
    },
    {
     "name": "stdout",
     "output_type": "stream",
     "text": [
      "Epoch 100, Error: 7935037.730557, Learning rate: 0.095238\n",
      "Test MAE: 7033.848267\n",
      "Test MSE: 117755386.931107\n",
      "Sample 8: Prediction=21701.02, Target=22628\n",
      "Sample 28: Prediction=44639.87, Target=38075\n",
      "Sample 93: Prediction=29115.27, Target=27006\n"
     ]
    },
    {
     "name": "stderr",
     "output_type": "stream",
     "text": [
      "  1%|▋                                                                             | 210/25000 [00:03<07:07, 57.97it/s]"
     ]
    },
    {
     "name": "stdout",
     "output_type": "stream",
     "text": [
      "Epoch 200, Error: 6543972.010944, Learning rate: 0.090909\n",
      "Test MAE: 6272.769649\n",
      "Test MSE: 82273477.897294\n",
      "Sample 1: Prediction=28631.81, Target=31175\n",
      "Sample 65: Prediction=31500.97, Target=29569\n",
      "Sample 103: Prediction=29133.11, Target=29994\n"
     ]
    },
    {
     "name": "stderr",
     "output_type": "stream",
     "text": [
      "  1%|▉                                                                             | 311/25000 [00:05<08:04, 50.92it/s]"
     ]
    },
    {
     "name": "stdout",
     "output_type": "stream",
     "text": [
      "Epoch 300, Error: 6074039.763102, Learning rate: 0.086957\n",
      "Test MAE: 6062.530161\n",
      "Test MSE: 76637901.160637\n",
      "Sample 81: Prediction=30589.06, Target=30000\n",
      "Sample 83: Prediction=24297.24, Target=26699\n",
      "Sample 31: Prediction=20784.70, Target=22439\n"
     ]
    },
    {
     "name": "stderr",
     "output_type": "stream",
     "text": [
      "  2%|█▎                                                                            | 412/25000 [00:07<07:28, 54.81it/s]"
     ]
    },
    {
     "name": "stdout",
     "output_type": "stream",
     "text": [
      "Epoch 400, Error: 5839453.313107, Learning rate: 0.083333\n",
      "Test MAE: 6095.129913\n",
      "Test MSE: 75301763.717933\n",
      "Sample 68: Prediction=19445.94, Target=20670\n",
      "Sample 24: Prediction=30218.33, Target=30171\n",
      "Sample 20: Prediction=26486.83, Target=24501\n"
     ]
    },
    {
     "name": "stderr",
     "output_type": "stream",
     "text": [
      "  2%|█▌                                                                            | 513/25000 [00:09<06:51, 59.51it/s]"
     ]
    },
    {
     "name": "stdout",
     "output_type": "stream",
     "text": [
      "Epoch 500, Error: 1613800.019993, Learning rate: 0.080000\n",
      "Test MAE: 4916.309579\n",
      "Test MSE: 59027142.655893\n",
      "Sample 81: Prediction=28955.40, Target=30000\n",
      "Sample 55: Prediction=29968.35, Target=29690\n",
      "Sample 46: Prediction=31419.03, Target=33019\n"
     ]
    },
    {
     "name": "stderr",
     "output_type": "stream",
     "text": [
      "  2%|█▉                                                                            | 613/25000 [00:11<06:19, 64.25it/s]"
     ]
    },
    {
     "name": "stdout",
     "output_type": "stream",
     "text": [
      "Epoch 600, Error: 1580915.646677, Learning rate: 0.076923\n",
      "Test MAE: 5276.168310\n",
      "Test MSE: 58877802.739690\n",
      "Sample 48: Prediction=28273.94, Target=28979\n",
      "Sample 95: Prediction=31273.80, Target=29578\n",
      "Sample 13: Prediction=27297.52, Target=29112\n"
     ]
    },
    {
     "name": "stderr",
     "output_type": "stream",
     "text": [
      "  3%|██▏                                                                           | 706/25000 [00:12<07:14, 55.90it/s]"
     ]
    },
    {
     "name": "stdout",
     "output_type": "stream",
     "text": [
      "Epoch 700, Error: 436969.203809, Learning rate: 0.074074\n",
      "Test MAE: 4934.168163\n",
      "Test MSE: 55814080.445765\n",
      "Sample 17: Prediction=27786.51, Target=28187\n",
      "Sample 23: Prediction=22288.48, Target=22891\n",
      "Sample 11: Prediction=22304.80, Target=22653\n"
     ]
    },
    {
     "name": "stderr",
     "output_type": "stream",
     "text": [
      "  3%|██▌                                                                           | 808/25000 [00:14<06:23, 63.04it/s]"
     ]
    },
    {
     "name": "stdout",
     "output_type": "stream",
     "text": [
      "Epoch 800, Error: 733186.991802, Learning rate: 0.071429\n",
      "Test MAE: 4677.830021\n",
      "Test MSE: 52031093.492447\n",
      "Sample 82: Prediction=29102.10, Target=29272\n",
      "Sample 21: Prediction=30868.45, Target=31328\n",
      "Sample 42: Prediction=21609.94, Target=22552\n"
     ]
    },
    {
     "name": "stderr",
     "output_type": "stream",
     "text": [
      "  4%|██▊                                                                           | 906/25000 [00:16<07:30, 53.50it/s]"
     ]
    },
    {
     "name": "stdout",
     "output_type": "stream",
     "text": [
      "Epoch 900, Error: 508031.329115, Learning rate: 0.068966\n",
      "Test MAE: 4662.702744\n",
      "Test MSE: 50262649.081837\n",
      "Sample 31: Prediction=21874.22, Target=22439\n",
      "Sample 23: Prediction=22322.27, Target=22891\n",
      "Sample 33: Prediction=30617.23, Target=30836\n"
     ]
    },
    {
     "name": "stderr",
     "output_type": "stream",
     "text": [
      "  4%|███                                                                          | 1004/25000 [00:17<05:21, 74.61it/s]"
     ]
    },
    {
     "name": "stdout",
     "output_type": "stream",
     "text": [
      "Epoch 1000, Error: 473971.454407, Learning rate: 0.066667\n",
      "Test MAE: 4653.057974\n",
      "Test MSE: 50271576.934425\n",
      "Sample 36: Prediction=28423.80, Target=29183\n",
      "Sample 24: Prediction=29460.48, Target=30171\n",
      "Sample 106: Prediction=29306.06, Target=28800\n"
     ]
    },
    {
     "name": "stderr",
     "output_type": "stream",
     "text": [
      "  4%|███▍                                                                         | 1114/25000 [00:18<04:48, 82.92it/s]"
     ]
    },
    {
     "name": "stdout",
     "output_type": "stream",
     "text": [
      "Epoch 1100, Error: 443290.062045, Learning rate: 0.064516\n",
      "Test MAE: 4653.114776\n",
      "Test MSE: 50360664.081230\n",
      "Sample 10: Prediction=28256.19, Target=28627\n",
      "Sample 59: Prediction=23439.41, Target=23788\n",
      "Sample 1: Prediction=30881.30, Target=31175\n"
     ]
    },
    {
     "name": "stderr",
     "output_type": "stream",
     "text": [
      "  5%|███▋                                                                         | 1211/25000 [00:19<04:24, 89.95it/s]"
     ]
    },
    {
     "name": "stdout",
     "output_type": "stream",
     "text": [
      "Epoch 1200, Error: 417968.436751, Learning rate: 0.062500\n",
      "Test MAE: 4653.031148\n",
      "Test MSE: 50421536.813152\n",
      "Sample 98: Prediction=24647.38, Target=25666\n",
      "Sample 26: Prediction=29485.35, Target=30008\n",
      "Sample 50: Prediction=39773.75, Target=39709\n"
     ]
    },
    {
     "name": "stderr",
     "output_type": "stream",
     "text": [
      "  5%|████                                                                         | 1310/25000 [00:21<07:46, 50.77it/s]"
     ]
    },
    {
     "name": "stdout",
     "output_type": "stream",
     "text": [
      "Epoch 1300, Error: 394003.739929, Learning rate: 0.060606\n",
      "Test MAE: 4650.813880\n",
      "Test MSE: 50465200.280774\n",
      "Sample 26: Prediction=29495.24, Target=30008\n",
      "Sample 77: Prediction=23146.39, Target=23927\n",
      "Sample 30: Prediction=18331.91, Target=18690\n"
     ]
    },
    {
     "name": "stderr",
     "output_type": "stream",
     "text": [
      "  6%|████▎                                                                        | 1411/25000 [00:23<07:26, 52.85it/s]"
     ]
    },
    {
     "name": "stdout",
     "output_type": "stream",
     "text": [
      "Epoch 1400, Error: 373148.205632, Learning rate: 0.058824\n",
      "Test MAE: 4652.454365\n",
      "Test MSE: 50644824.130154\n",
      "Sample 29: Prediction=30835.95, Target=30811\n",
      "Sample 62: Prediction=25357.93, Target=25718\n",
      "Sample 101: Prediction=25312.17, Target=25566\n"
     ]
    },
    {
     "name": "stderr",
     "output_type": "stream",
     "text": [
      "  6%|████▋                                                                        | 1510/25000 [00:25<06:08, 63.83it/s]"
     ]
    },
    {
     "name": "stdout",
     "output_type": "stream",
     "text": [
      "Epoch 1500, Error: 356444.321457, Learning rate: 0.057143\n",
      "Test MAE: 4650.625940\n",
      "Test MSE: 50679908.006121\n",
      "Sample 94: Prediction=19155.51, Target=19705\n",
      "Sample 41: Prediction=22593.54, Target=23342\n",
      "Sample 40: Prediction=22352.68, Target=23066\n"
     ]
    },
    {
     "name": "stderr",
     "output_type": "stream",
     "text": [
      "  6%|████▉                                                                        | 1608/25000 [00:27<08:40, 44.90it/s]"
     ]
    },
    {
     "name": "stdout",
     "output_type": "stream",
     "text": [
      "Epoch 1600, Error: 340748.975212, Learning rate: 0.055556\n",
      "Test MAE: 4653.189822\n",
      "Test MSE: 50835165.007020\n",
      "Sample 31: Prediction=21981.45, Target=22439\n",
      "Sample 40: Prediction=22358.04, Target=23066\n",
      "Sample 78: Prediction=25671.13, Target=26581\n"
     ]
    },
    {
     "name": "stderr",
     "output_type": "stream",
     "text": [
      "  7%|█████▎                                                                       | 1711/25000 [00:29<07:32, 51.44it/s]"
     ]
    },
    {
     "name": "stdout",
     "output_type": "stream",
     "text": [
      "Epoch 1700, Error: 326322.847764, Learning rate: 0.054054\n",
      "Test MAE: 4651.343258\n",
      "Test MSE: 50852968.601589\n",
      "Sample 25: Prediction=32659.16, Target=33071\n",
      "Sample 103: Prediction=29140.93, Target=29994\n",
      "Sample 75: Prediction=22602.77, Target=23256\n"
     ]
    },
    {
     "name": "stderr",
     "output_type": "stream",
     "text": [
      "  7%|█████▌                                                                       | 1809/25000 [00:31<08:00, 48.22it/s]"
     ]
    },
    {
     "name": "stdout",
     "output_type": "stream",
     "text": [
      "Epoch 1800, Error: 312941.498712, Learning rate: 0.052632\n",
      "Test MAE: 4649.857005\n",
      "Test MSE: 50862696.208764\n",
      "Sample 25: Prediction=32667.73, Target=33071\n",
      "Sample 22: Prediction=30581.68, Target=30986\n",
      "Sample 28: Prediction=38209.36, Target=38075\n"
     ]
    },
    {
     "name": "stderr",
     "output_type": "stream",
     "text": [
      "  8%|█████▊                                                                       | 1907/25000 [00:33<07:23, 52.09it/s]"
     ]
    },
    {
     "name": "stdout",
     "output_type": "stream",
     "text": [
      "Epoch 1900, Error: 300313.199636, Learning rate: 0.051282\n",
      "Test MAE: 4648.729958\n",
      "Test MSE: 50897800.710941\n",
      "Sample 91: Prediction=21895.16, Target=23010\n",
      "Sample 79: Prediction=22338.66, Target=22618\n",
      "Sample 34: Prediction=23584.21, Target=23867\n"
     ]
    },
    {
     "name": "stderr",
     "output_type": "stream",
     "text": [
      "  8%|██████▏                                                                      | 2010/25000 [00:35<07:22, 51.92it/s]"
     ]
    },
    {
     "name": "stdout",
     "output_type": "stream",
     "text": [
      "Epoch 2000, Error: 288603.646646, Learning rate: 0.050000\n",
      "Test MAE: 4645.616163\n",
      "Test MSE: 50909714.875248\n",
      "Sample 5: Prediction=19868.54, Target=20967\n",
      "Sample 67: Prediction=26666.93, Target=26973\n",
      "Sample 49: Prediction=20451.80, Target=21018\n"
     ]
    },
    {
     "name": "stderr",
     "output_type": "stream",
     "text": [
      "  8%|██████▍                                                                      | 2107/25000 [00:37<08:45, 43.58it/s]"
     ]
    },
    {
     "name": "stdout",
     "output_type": "stream",
     "text": [
      "Epoch 2100, Error: 277728.732991, Learning rate: 0.048780\n",
      "Test MAE: 4644.440621\n",
      "Test MSE: 50940120.593486\n",
      "Sample 37: Prediction=22544.47, Target=23217\n",
      "Sample 56: Prediction=30334.41, Target=30865\n",
      "Sample 8: Prediction=21915.54, Target=22628\n"
     ]
    },
    {
     "name": "stderr",
     "output_type": "stream",
     "text": [
      "  9%|██████▊                                                                      | 2210/25000 [00:39<06:11, 61.41it/s]"
     ]
    },
    {
     "name": "stdout",
     "output_type": "stream",
     "text": [
      "Epoch 2200, Error: 267501.514739, Learning rate: 0.047619\n",
      "Test MAE: 4643.082774\n",
      "Test MSE: 50956580.252645\n",
      "Sample 38: Prediction=27796.20, Target=27880\n",
      "Sample 27: Prediction=22229.23, Target=22516\n",
      "Sample 33: Prediction=30772.27, Target=30836\n"
     ]
    },
    {
     "name": "stderr",
     "output_type": "stream",
     "text": [
      "  9%|███████                                                                      | 2309/25000 [00:41<06:33, 57.68it/s]"
     ]
    },
    {
     "name": "stdout",
     "output_type": "stream",
     "text": [
      "Epoch 2300, Error: 258511.280109, Learning rate: 0.046512\n",
      "Test MAE: 4643.281711\n",
      "Test MSE: 50975220.762109\n",
      "Sample 26: Prediction=29581.31, Target=30008\n",
      "Sample 35: Prediction=27985.90, Target=27456\n",
      "Sample 2: Prediction=21453.78, Target=21841\n"
     ]
    },
    {
     "name": "stderr",
     "output_type": "stream",
     "text": [
      " 10%|███████▍                                                                     | 2405/25000 [00:43<08:57, 42.01it/s]"
     ]
    },
    {
     "name": "stdout",
     "output_type": "stream",
     "text": [
      "Epoch 2400, Error: 249389.894981, Learning rate: 0.045455\n",
      "Test MAE: 4643.432524\n",
      "Test MSE: 50980676.953144\n",
      "Sample 28: Prediction=38209.82, Target=38075\n",
      "Sample 51: Prediction=35068.65, Target=35521\n",
      "Sample 62: Prediction=25470.54, Target=25718\n"
     ]
    },
    {
     "name": "stderr",
     "output_type": "stream",
     "text": [
      " 10%|███████▋                                                                     | 2512/25000 [00:45<06:52, 54.56it/s]"
     ]
    },
    {
     "name": "stdout",
     "output_type": "stream",
     "text": [
      "Epoch 2500, Error: 241006.920091, Learning rate: 0.044444\n",
      "Test MAE: 4641.842710\n",
      "Test MSE: 50993122.790874\n",
      "Sample 0: Prediction=32639.75, Target=32952\n",
      "Sample 49: Prediction=20508.76, Target=21018\n",
      "Sample 39: Prediction=32322.71, Target=32549\n"
     ]
    },
    {
     "name": "stderr",
     "output_type": "stream",
     "text": [
      " 10%|████████                                                                     | 2609/25000 [00:46<06:07, 60.89it/s]"
     ]
    },
    {
     "name": "stdout",
     "output_type": "stream",
     "text": [
      "Epoch 2600, Error: 233453.665326, Learning rate: 0.043478\n",
      "Test MAE: 4639.868163\n",
      "Test MSE: 50993725.976903\n",
      "Sample 38: Prediction=27823.69, Target=27880\n",
      "Sample 40: Prediction=22521.32, Target=23066\n",
      "Sample 47: Prediction=27543.50, Target=27922\n"
     ]
    },
    {
     "name": "stderr",
     "output_type": "stream",
     "text": [
      " 11%|████████▎                                                                    | 2708/25000 [00:48<06:21, 58.40it/s]"
     ]
    },
    {
     "name": "stdout",
     "output_type": "stream",
     "text": [
      "Epoch 2700, Error: 225944.423573, Learning rate: 0.042553\n",
      "Test MAE: 4639.044012\n",
      "Test MSE: 51018101.773173\n",
      "Sample 20: Prediction=24131.67, Target=24501\n",
      "Sample 106: Prediction=29273.00, Target=28800\n",
      "Sample 107: Prediction=28850.96, Target=29040\n"
     ]
    },
    {
     "name": "stderr",
     "output_type": "stream",
     "text": [
      " 11%|████████▋                                                                    | 2809/25000 [00:50<06:42, 55.17it/s]"
     ]
    },
    {
     "name": "stdout",
     "output_type": "stream",
     "text": [
      "Epoch 2800, Error: 219376.016689, Learning rate: 0.041667\n",
      "Test MAE: 4638.138359\n",
      "Test MSE: 51033807.010284\n",
      "Sample 20: Prediction=24142.09, Target=24501\n",
      "Sample 97: Prediction=23670.15, Target=23954\n",
      "Sample 93: Prediction=26682.51, Target=27006\n"
     ]
    },
    {
     "name": "stderr",
     "output_type": "stream",
     "text": [
      " 12%|████████▉                                                                    | 2907/25000 [00:52<07:23, 49.81it/s]"
     ]
    },
    {
     "name": "stdout",
     "output_type": "stream",
     "text": [
      "Epoch 2900, Error: 213117.464661, Learning rate: 0.040816\n",
      "Test MAE: 4637.276221\n",
      "Test MSE: 51045333.514035\n",
      "Sample 34: Prediction=23680.68, Target=23867\n",
      "Sample 68: Prediction=20452.55, Target=20670\n",
      "Sample 45: Prediction=28803.26, Target=29204\n"
     ]
    },
    {
     "name": "stderr",
     "output_type": "stream",
     "text": [
      " 12%|█████████▎                                                                   | 3008/25000 [00:53<05:47, 63.34it/s]"
     ]
    },
    {
     "name": "stdout",
     "output_type": "stream",
     "text": [
      "Epoch 3000, Error: 203937.495278, Learning rate: 0.040000\n",
      "Test MAE: 4634.406058\n",
      "Test MSE: 51133994.284831\n",
      "Sample 2: Prediction=21563.51, Target=21841\n",
      "Sample 54: Prediction=23656.58, Target=24021\n",
      "Sample 37: Prediction=22643.73, Target=23217\n"
     ]
    },
    {
     "name": "stderr",
     "output_type": "stream",
     "text": [
      " 12%|█████████▌                                                                   | 3111/25000 [00:55<06:01, 60.50it/s]"
     ]
    },
    {
     "name": "stdout",
     "output_type": "stream",
     "text": [
      "Epoch 3100, Error: 198362.259888, Learning rate: 0.039216\n",
      "Test MAE: 4633.097496\n",
      "Test MSE: 51132508.052867\n",
      "Sample 66: Prediction=23587.20, Target=24477\n",
      "Sample 47: Prediction=27564.39, Target=27922\n",
      "Sample 83: Prediction=26090.12, Target=26699\n"
     ]
    },
    {
     "name": "stderr",
     "output_type": "stream",
     "text": [
      " 13%|█████████▉                                                                   | 3207/25000 [00:57<06:16, 57.91it/s]"
     ]
    },
    {
     "name": "stdout",
     "output_type": "stream",
     "text": [
      "Epoch 3200, Error: 193128.969777, Learning rate: 0.038462\n",
      "Test MAE: 4632.057258\n",
      "Test MSE: 51138183.803871\n",
      "Sample 11: Prediction=22430.76, Target=22653\n",
      "Sample 33: Prediction=30815.16, Target=30836\n",
      "Sample 74: Prediction=22638.10, Target=22808\n"
     ]
    },
    {
     "name": "stderr",
     "output_type": "stream",
     "text": [
      " 13%|██████████▏                                                                  | 3311/25000 [00:59<05:43, 63.05it/s]"
     ]
    },
    {
     "name": "stdout",
     "output_type": "stream",
     "text": [
      "Epoch 3300, Error: 184074.483764, Learning rate: 0.037736\n",
      "Test MAE: 4636.848520\n",
      "Test MSE: 51162179.310837\n",
      "Sample 24: Prediction=29833.05, Target=30171\n",
      "Sample 93: Prediction=26747.26, Target=27006\n",
      "Sample 29: Prediction=31048.40, Target=30811\n"
     ]
    },
    {
     "name": "stderr",
     "output_type": "stream",
     "text": [
      " 14%|██████████▍                                                                  | 3406/25000 [01:00<06:07, 58.80it/s]"
     ]
    },
    {
     "name": "stdout",
     "output_type": "stream",
     "text": [
      "Epoch 3400, Error: 178288.395048, Learning rate: 0.037037\n",
      "Test MAE: 4635.525591\n",
      "Test MSE: 51150042.945306\n",
      "Sample 16: Prediction=25557.50, Target=25978\n",
      "Sample 107: Prediction=28904.67, Target=29040\n",
      "Sample 65: Prediction=29354.25, Target=29569\n"
     ]
    },
    {
     "name": "stderr",
     "output_type": "stream",
     "text": [
      " 14%|██████████▊                                                                  | 3510/25000 [01:02<05:54, 60.68it/s]"
     ]
    },
    {
     "name": "stdout",
     "output_type": "stream",
     "text": [
      "Epoch 3500, Error: 173825.721767, Learning rate: 0.036364\n",
      "Test MAE: 4636.454138\n",
      "Test MSE: 51161570.635836\n",
      "Sample 67: Prediction=26745.06, Target=26973\n",
      "Sample 66: Prediction=23622.48, Target=24477\n",
      "Sample 92: Prediction=25475.95, Target=25597\n"
     ]
    },
    {
     "name": "stderr",
     "output_type": "stream",
     "text": [
      " 14%|███████████                                                                  | 3610/25000 [01:03<05:37, 63.43it/s]"
     ]
    },
    {
     "name": "stdout",
     "output_type": "stream",
     "text": [
      "Epoch 3600, Error: 169577.729299, Learning rate: 0.035714\n",
      "Test MAE: 4636.253584\n",
      "Test MSE: 51158614.124466\n",
      "Sample 15: Prediction=30944.86, Target=31713\n",
      "Sample 72: Prediction=25457.47, Target=26120\n",
      "Sample 105: Prediction=29399.55, Target=29884\n"
     ]
    },
    {
     "name": "stderr",
     "output_type": "stream",
     "text": [
      " 15%|███████████▍                                                                 | 3707/25000 [01:05<05:41, 62.31it/s]"
     ]
    },
    {
     "name": "stdout",
     "output_type": "stream",
     "text": [
      "Epoch 3700, Error: 165980.926708, Learning rate: 0.035088\n",
      "Test MAE: 4637.336952\n",
      "Test MSE: 51173106.234290\n",
      "Sample 57: Prediction=24250.29, Target=24257\n",
      "Sample 28: Prediction=38242.17, Target=38075\n",
      "Sample 99: Prediction=21561.85, Target=21896\n"
     ]
    },
    {
     "name": "stderr",
     "output_type": "stream",
     "text": [
      " 15%|███████████▋                                                                 | 3808/25000 [01:07<05:31, 63.89it/s]"
     ]
    },
    {
     "name": "stdout",
     "output_type": "stream",
     "text": [
      "Epoch 3800, Error: 162317.090255, Learning rate: 0.034483\n",
      "Test MAE: 4637.395784\n",
      "Test MSE: 51175701.091490\n",
      "Sample 15: Prediction=30936.07, Target=31713\n",
      "Sample 70: Prediction=30945.76, Target=30984\n",
      "Sample 84: Prediction=22799.09, Target=23848\n"
     ]
    },
    {
     "name": "stderr",
     "output_type": "stream",
     "text": [
      " 16%|████████████                                                                 | 3910/25000 [01:09<05:18, 66.16it/s]"
     ]
    },
    {
     "name": "stdout",
     "output_type": "stream",
     "text": [
      "Epoch 3900, Error: 158789.705113, Learning rate: 0.033898\n",
      "Test MAE: 4637.311542\n",
      "Test MSE: 51186861.630913\n",
      "Sample 61: Prediction=32721.52, Target=32951\n",
      "Sample 58: Prediction=27043.22, Target=27740\n",
      "Sample 9: Prediction=31770.61, Target=31584\n"
     ]
    },
    {
     "name": "stderr",
     "output_type": "stream",
     "text": [
      " 16%|████████████▎                                                                | 4010/25000 [01:10<06:01, 58.13it/s]"
     ]
    },
    {
     "name": "stdout",
     "output_type": "stream",
     "text": [
      "Epoch 4000, Error: 155417.885299, Learning rate: 0.033333\n",
      "Test MAE: 4637.682162\n",
      "Test MSE: 51200899.408793\n",
      "Sample 68: Prediction=20522.05, Target=20670\n",
      "Sample 52: Prediction=28305.23, Target=28675\n",
      "Sample 89: Prediction=30144.43, Target=30566\n"
     ]
    },
    {
     "name": "stderr",
     "output_type": "stream",
     "text": [
      " 16%|████████████▋                                                                | 4106/25000 [01:12<05:24, 64.45it/s]"
     ]
    },
    {
     "name": "stdout",
     "output_type": "stream",
     "text": [
      "Epoch 4100, Error: 151705.199120, Learning rate: 0.032787\n",
      "Test MAE: 4638.564270\n",
      "Test MSE: 51221489.787504\n",
      "Sample 100: Prediction=26963.60, Target=27314\n",
      "Sample 69: Prediction=31061.70, Target=30673\n",
      "Sample 5: Prediction=20152.47, Target=20967\n"
     ]
    },
    {
     "name": "stderr",
     "output_type": "stream",
     "text": [
      " 17%|████████████▉                                                                | 4208/25000 [01:14<06:03, 57.21it/s]"
     ]
    },
    {
     "name": "stdout",
     "output_type": "stream",
     "text": [
      "Epoch 4200, Error: 148764.143815, Learning rate: 0.032258\n",
      "Test MAE: 4638.655421\n",
      "Test MSE: 51233592.598303\n",
      "Sample 100: Prediction=26973.20, Target=27314\n",
      "Sample 80: Prediction=30949.03, Target=31411\n",
      "Sample 36: Prediction=28701.02, Target=29183\n"
     ]
    },
    {
     "name": "stderr",
     "output_type": "stream",
     "text": [
      " 17%|█████████████▎                                                               | 4306/25000 [01:16<07:57, 43.34it/s]"
     ]
    },
    {
     "name": "stdout",
     "output_type": "stream",
     "text": [
      "Epoch 4300, Error: 145828.244451, Learning rate: 0.031746\n",
      "Test MAE: 4638.664931\n",
      "Test MSE: 51238904.513434\n",
      "Sample 40: Prediction=22675.33, Target=23066\n",
      "Sample 78: Prediction=26046.37, Target=26581\n",
      "Sample 84: Prediction=22853.25, Target=23848\n"
     ]
    },
    {
     "name": "stderr",
     "output_type": "stream",
     "text": [
      " 18%|█████████████▌                                                               | 4413/25000 [01:18<05:45, 59.52it/s]"
     ]
    },
    {
     "name": "stdout",
     "output_type": "stream",
     "text": [
      "Epoch 4400, Error: 143171.675559, Learning rate: 0.031250\n",
      "Test MAE: 4638.064937\n",
      "Test MSE: 51238108.330110\n",
      "Sample 49: Prediction=20680.39, Target=21018\n",
      "Sample 79: Prediction=22532.19, Target=22618\n",
      "Sample 70: Prediction=30957.07, Target=30984\n"
     ]
    },
    {
     "name": "stderr",
     "output_type": "stream",
     "text": [
      " 18%|█████████████▉                                                               | 4511/25000 [01:19<05:45, 59.33it/s]"
     ]
    },
    {
     "name": "stdout",
     "output_type": "stream",
     "text": [
      "Epoch 4500, Error: 140103.578982, Learning rate: 0.030769\n",
      "Test MAE: 4636.502114\n",
      "Test MSE: 51231400.698310\n",
      "Sample 64: Prediction=26865.90, Target=26902\n",
      "Sample 6: Prediction=28536.82, Target=28895\n",
      "Sample 83: Prediction=26129.77, Target=26699\n"
     ]
    },
    {
     "name": "stderr",
     "output_type": "stream",
     "text": [
      " 18%|██████████████▏                                                              | 4612/25000 [01:21<04:42, 72.21it/s]"
     ]
    },
    {
     "name": "stdout",
     "output_type": "stream",
     "text": [
      "Epoch 4600, Error: 137632.053896, Learning rate: 0.030303\n",
      "Test MAE: 4635.775362\n",
      "Test MSE: 51218268.044921\n",
      "Sample 16: Prediction=25598.24, Target=25978\n",
      "Sample 14: Prediction=28336.39, Target=28522\n",
      "Sample 13: Prediction=28593.27, Target=29112\n"
     ]
    },
    {
     "name": "stderr",
     "output_type": "stream",
     "text": [
      " 19%|██████████████▍                                                              | 4706/25000 [01:23<06:24, 52.80it/s]"
     ]
    },
    {
     "name": "stdout",
     "output_type": "stream",
     "text": [
      "Epoch 4700, Error: 134295.407021, Learning rate: 0.029851\n",
      "Test MAE: 4636.124781\n",
      "Test MSE: 51217294.906809\n",
      "Sample 106: Prediction=29190.68, Target=28800\n",
      "Sample 35: Prediction=27981.97, Target=27456\n",
      "Sample 107: Prediction=28940.94, Target=29040\n"
     ]
    },
    {
     "name": "stderr",
     "output_type": "stream",
     "text": [
      " 19%|██████████████▊                                                              | 4809/25000 [01:25<05:56, 56.67it/s]"
     ]
    },
    {
     "name": "stdout",
     "output_type": "stream",
     "text": [
      "Epoch 4800, Error: 131746.014289, Learning rate: 0.029412\n",
      "Test MAE: 4634.865243\n",
      "Test MSE: 51199617.880647\n",
      "Sample 66: Prediction=23707.77, Target=24477\n",
      "Sample 56: Prediction=30496.58, Target=30865\n",
      "Sample 17: Prediction=28192.78, Target=28187\n"
     ]
    },
    {
     "name": "stderr",
     "output_type": "stream",
     "text": [
      " 20%|███████████████                                                              | 4906/25000 [01:26<05:40, 59.01it/s]"
     ]
    },
    {
     "name": "stdout",
     "output_type": "stream",
     "text": [
      "Epoch 4900, Error: 128568.225749, Learning rate: 0.028986\n",
      "Test MAE: 4633.343359\n",
      "Test MSE: 51183174.376628\n",
      "Sample 90: Prediction=27927.27, Target=28179\n",
      "Sample 59: Prediction=23693.68, Target=23788\n",
      "Sample 69: Prediction=31078.93, Target=30673\n"
     ]
    },
    {
     "name": "stderr",
     "output_type": "stream",
     "text": [
      " 20%|███████████████▍                                                             | 5009/25000 [01:28<06:52, 48.41it/s]"
     ]
    },
    {
     "name": "stdout",
     "output_type": "stream",
     "text": [
      "Epoch 5000, Error: 125959.118977, Learning rate: 0.028571\n",
      "Test MAE: 4631.822383\n",
      "Test MSE: 51181850.143195\n",
      "Sample 86: Prediction=21994.78, Target=21823\n",
      "Sample 103: Prediction=29434.96, Target=29994\n",
      "Sample 60: Prediction=23085.06, Target=23115\n"
     ]
    },
    {
     "name": "stderr",
     "output_type": "stream",
     "text": [
      " 20%|███████████████▋                                                             | 5106/25000 [01:30<07:39, 43.25it/s]"
     ]
    },
    {
     "name": "stdout",
     "output_type": "stream",
     "text": [
      "Epoch 5100, Error: 123820.522544, Learning rate: 0.028169\n",
      "Test MAE: 4632.820383\n",
      "Test MSE: 51192725.300857\n",
      "Sample 48: Prediction=29273.01, Target=28979\n",
      "Sample 9: Prediction=31800.17, Target=31584\n",
      "Sample 56: Prediction=30509.33, Target=30865\n"
     ]
    },
    {
     "name": "stderr",
     "output_type": "stream",
     "text": [
      " 21%|████████████████                                                             | 5206/25000 [01:32<08:45, 37.70it/s]"
     ]
    },
    {
     "name": "stdout",
     "output_type": "stream",
     "text": [
      "Epoch 5200, Error: 121776.270135, Learning rate: 0.027778\n",
      "Test MAE: 4631.410843\n",
      "Test MSE: 51193436.271433\n",
      "Sample 60: Prediction=23078.17, Target=23115\n",
      "Sample 76: Prediction=29718.73, Target=30142\n",
      "Sample 98: Prediction=25042.06, Target=25666\n"
     ]
    },
    {
     "name": "stderr",
     "output_type": "stream",
     "text": [
      " 21%|████████████████▎                                                            | 5308/25000 [01:35<07:31, 43.58it/s]"
     ]
    },
    {
     "name": "stdout",
     "output_type": "stream",
     "text": [
      "Epoch 5300, Error: 119873.417266, Learning rate: 0.027397\n",
      "Test MAE: 4630.826163\n",
      "Test MSE: 51207115.271131\n",
      "Sample 31: Prediction=22179.88, Target=22439\n",
      "Sample 84: Prediction=22968.10, Target=23848\n",
      "Sample 57: Prediction=24304.03, Target=24257\n"
     ]
    },
    {
     "name": "stderr",
     "output_type": "stream",
     "text": [
      " 22%|████████████████▋                                                            | 5412/25000 [01:37<05:40, 57.50it/s]"
     ]
    },
    {
     "name": "stdout",
     "output_type": "stream",
     "text": [
      "Epoch 5400, Error: 117585.730008, Learning rate: 0.027027\n",
      "Test MAE: 4631.123123\n",
      "Test MSE: 51242622.172866\n",
      "Sample 11: Prediction=22517.59, Target=22653\n",
      "Sample 6: Prediction=28605.82, Target=28895\n",
      "Sample 65: Prediction=29429.54, Target=29569\n"
     ]
    },
    {
     "name": "stderr",
     "output_type": "stream",
     "text": [
      " 22%|████████████████▉                                                            | 5507/25000 [01:38<05:56, 54.61it/s]"
     ]
    },
    {
     "name": "stdout",
     "output_type": "stream",
     "text": [
      "Epoch 5500, Error: 115615.828261, Learning rate: 0.026667\n",
      "Test MAE: 4631.981706\n",
      "Test MSE: 51257638.693868\n",
      "Sample 51: Prediction=35284.04, Target=35521\n",
      "Sample 59: Prediction=23697.36, Target=23788\n",
      "Sample 15: Prediction=30967.82, Target=31713\n"
     ]
    },
    {
     "name": "stderr",
     "output_type": "stream",
     "text": [
      " 23%|█████████████████                                                           | 5626/25000 [01:40<03:08, 103.00it/s]"
     ]
    },
    {
     "name": "stdout",
     "output_type": "stream",
     "text": [
      "Epoch 5600, Error: 111885.378116, Learning rate: 0.026316\n",
      "Test MAE: 4631.537791\n",
      "Test MSE: 51304624.415574\n",
      "Sample 8: Prediction=22184.06, Target=22628\n",
      "Sample 14: Prediction=28351.91, Target=28522\n",
      "Sample 2: Prediction=21751.93, Target=21841\n"
     ]
    },
    {
     "name": "stderr",
     "output_type": "stream",
     "text": [
      " 23%|█████████████████▌                                                           | 5708/25000 [01:41<04:04, 78.87it/s]"
     ]
    },
    {
     "name": "stdout",
     "output_type": "stream",
     "text": [
      "Epoch 5700, Error: 109656.671887, Learning rate: 0.025974\n",
      "Test MAE: 4631.969593\n",
      "Test MSE: 51271671.811052\n",
      "Sample 2: Prediction=21761.79, Target=21841\n",
      "Sample 67: Prediction=26825.46, Target=26973\n",
      "Sample 95: Prediction=29693.11, Target=29578\n"
     ]
    },
    {
     "name": "stderr",
     "output_type": "stream",
     "text": [
      " 23%|█████████████████▉                                                           | 5810/25000 [01:42<06:04, 52.69it/s]"
     ]
    },
    {
     "name": "stdout",
     "output_type": "stream",
     "text": [
      "Epoch 5800, Error: 107939.033409, Learning rate: 0.025641\n",
      "Test MAE: 4632.068345\n",
      "Test MSE: 51286196.762690\n",
      "Sample 98: Prediction=25085.07, Target=25666\n",
      "Sample 39: Prediction=32355.30, Target=32549\n",
      "Sample 1: Prediction=31127.66, Target=31175\n"
     ]
    },
    {
     "name": "stderr",
     "output_type": "stream",
     "text": [
      " 24%|██████████████████▏                                                          | 5911/25000 [01:44<04:13, 75.44it/s]"
     ]
    },
    {
     "name": "stdout",
     "output_type": "stream",
     "text": [
      "Epoch 5900, Error: 106594.689054, Learning rate: 0.025316\n",
      "Test MAE: 4631.299510\n",
      "Test MSE: 51288079.876690\n",
      "Sample 67: Prediction=26831.15, Target=26973\n",
      "Sample 72: Prediction=25543.90, Target=26120\n",
      "Sample 106: Prediction=29162.36, Target=28800\n"
     ]
    },
    {
     "name": "stderr",
     "output_type": "stream",
     "text": [
      " 24%|██████████████████▍                                                          | 6002/25000 [01:46<04:59, 63.34it/s]"
     ]
    },
    {
     "name": "stdout",
     "output_type": "stream",
     "text": [
      "Epoch 6000, Error: 105175.691361, Learning rate: 0.025000\n",
      "Test MAE: 4630.116531\n",
      "Test MSE: 51276695.463750\n",
      "Sample 60: Prediction=23111.22, Target=23115\n",
      "Sample 8: Prediction=22167.49, Target=22628\n",
      "Sample 103: Prediction=29485.41, Target=29994\n"
     ]
    },
    {
     "name": "stderr",
     "output_type": "stream",
     "text": [
      " 24%|██████████████████▊                                                          | 6115/25000 [01:48<04:12, 74.82it/s]"
     ]
    },
    {
     "name": "stdout",
     "output_type": "stream",
     "text": [
      "Epoch 6100, Error: 103760.046605, Learning rate: 0.024691\n",
      "Test MAE: 4629.733905\n",
      "Test MSE: 51277260.528946\n",
      "Sample 5: Prediction=20360.01, Target=20967\n",
      "Sample 72: Prediction=25548.32, Target=26120\n",
      "Sample 73: Prediction=35605.44, Target=35771\n"
     ]
    },
    {
     "name": "stderr",
     "output_type": "stream",
     "text": [
      " 25%|███████████████████                                                          | 6206/25000 [01:50<06:03, 51.64it/s]"
     ]
    },
    {
     "name": "stdout",
     "output_type": "stream",
     "text": [
      "Epoch 6200, Error: 102480.317567, Learning rate: 0.024390\n",
      "Test MAE: 4628.886481\n",
      "Test MSE: 51267906.354049\n",
      "Sample 59: Prediction=23720.12, Target=23788\n",
      "Sample 13: Prediction=28709.55, Target=29112\n",
      "Sample 10: Prediction=28426.75, Target=28627\n"
     ]
    },
    {
     "name": "stderr",
     "output_type": "stream",
     "text": [
      " 25%|███████████████████▍                                                         | 6314/25000 [01:51<04:14, 73.49it/s]"
     ]
    },
    {
     "name": "stdout",
     "output_type": "stream",
     "text": [
      "Epoch 6300, Error: 101020.123029, Learning rate: 0.024096\n",
      "Test MAE: 4628.308344\n",
      "Test MSE: 51276548.872123\n",
      "Sample 107: Prediction=28947.62, Target=29040\n",
      "Sample 62: Prediction=25569.99, Target=25718\n",
      "Sample 5: Prediction=20376.41, Target=20967\n"
     ]
    },
    {
     "name": "stderr",
     "output_type": "stream",
     "text": [
      " 26%|███████████████████▋                                                         | 6409/25000 [01:53<07:00, 44.20it/s]"
     ]
    },
    {
     "name": "stdout",
     "output_type": "stream",
     "text": [
      "Epoch 6400, Error: 98690.447486, Learning rate: 0.023810\n",
      "Test MAE: 4627.316531\n",
      "Test MSE: 51315588.862503\n",
      "Sample 71: Prediction=23575.77, Target=23776\n",
      "Sample 39: Prediction=32355.25, Target=32549\n",
      "Sample 80: Prediction=31054.36, Target=31411\n"
     ]
    },
    {
     "name": "stderr",
     "output_type": "stream",
     "text": [
      " 26%|████████████████████                                                         | 6508/25000 [01:56<07:28, 41.24it/s]"
     ]
    },
    {
     "name": "stdout",
     "output_type": "stream",
     "text": [
      "Epoch 6500, Error: 96355.315217, Learning rate: 0.023529\n",
      "Test MAE: 4626.703860\n",
      "Test MSE: 51335617.916437\n",
      "Sample 89: Prediction=30225.53, Target=30566\n",
      "Sample 92: Prediction=25549.77, Target=25597\n",
      "Sample 107: Prediction=28949.72, Target=29040\n"
     ]
    },
    {
     "name": "stderr",
     "output_type": "stream",
     "text": [
      " 26%|████████████████████▎                                                        | 6607/25000 [01:59<07:34, 40.48it/s]"
     ]
    },
    {
     "name": "stdout",
     "output_type": "stream",
     "text": [
      "Epoch 6600, Error: 95212.592952, Learning rate: 0.023256\n",
      "Test MAE: 4626.207032\n",
      "Test MSE: 51342351.899681\n",
      "Sample 65: Prediction=29448.09, Target=29569\n",
      "Sample 51: Prediction=35320.40, Target=35521\n",
      "Sample 6: Prediction=28698.34, Target=28895\n"
     ]
    },
    {
     "name": "stderr",
     "output_type": "stream",
     "text": [
      " 27%|████████████████████▋                                                        | 6711/25000 [02:00<04:30, 67.67it/s]"
     ]
    },
    {
     "name": "stdout",
     "output_type": "stream",
     "text": [
      "Epoch 6700, Error: 92973.189155, Learning rate: 0.022989\n",
      "Test MAE: 4621.071838\n",
      "Test MSE: 51337621.966024\n",
      "Sample 51: Prediction=35321.06, Target=35521\n",
      "Sample 13: Prediction=28738.50, Target=29112\n",
      "Sample 92: Prediction=25553.85, Target=25597\n"
     ]
    },
    {
     "name": "stderr",
     "output_type": "stream",
     "text": [
      " 27%|████████████████████▉                                                        | 6808/25000 [02:02<04:21, 69.68it/s]"
     ]
    },
    {
     "name": "stdout",
     "output_type": "stream",
     "text": [
      "Epoch 6800, Error: 91849.937568, Learning rate: 0.022727\n",
      "Test MAE: 4621.780052\n",
      "Test MSE: 51353527.575336\n",
      "Sample 65: Prediction=29452.12, Target=29569\n",
      "Sample 51: Prediction=35325.08, Target=35521\n",
      "Sample 26: Prediction=29801.63, Target=30008\n"
     ]
    },
    {
     "name": "stderr",
     "output_type": "stream",
     "text": [
      " 28%|█████████████████████▎                                                       | 6907/25000 [02:04<07:45, 38.85it/s]"
     ]
    },
    {
     "name": "stdout",
     "output_type": "stream",
     "text": [
      "Epoch 6900, Error: 90795.128056, Learning rate: 0.022472\n",
      "Test MAE: 4622.082711\n",
      "Test MSE: 51369799.661419\n",
      "Sample 23: Prediction=22644.71, Target=22891\n",
      "Sample 30: Prediction=18690.96, Target=18690\n",
      "Sample 83: Prediction=26191.56, Target=26699\n"
     ]
    },
    {
     "name": "stderr",
     "output_type": "stream",
     "text": [
      " 28%|█████████████████████▌                                                       | 7007/25000 [02:08<11:17, 26.57it/s]"
     ]
    },
    {
     "name": "stdout",
     "output_type": "stream",
     "text": [
      "Epoch 7000, Error: 88338.758130, Learning rate: 0.022222\n",
      "Test MAE: 4618.384947\n",
      "Test MSE: 51373406.555892\n",
      "Sample 93: Prediction=26916.99, Target=27006\n",
      "Sample 103: Prediction=29523.04, Target=29994\n",
      "Sample 80: Prediction=31086.94, Target=31411\n"
     ]
    },
    {
     "name": "stderr",
     "output_type": "stream",
     "text": [
      " 28%|█████████████████████▉                                                       | 7105/25000 [02:11<13:45, 21.68it/s]"
     ]
    },
    {
     "name": "stdout",
     "output_type": "stream",
     "text": [
      "Epoch 7100, Error: 81095.996738, Learning rate: 0.021978\n",
      "Test MAE: 4601.114173\n",
      "Test MSE: 51411377.343843\n",
      "Sample 12: Prediction=28814.37, Target=28573\n",
      "Sample 43: Prediction=36739.37, Target=36526\n",
      "Sample 7: Prediction=21014.42, Target=21174\n"
     ]
    },
    {
     "name": "stderr",
     "output_type": "stream",
     "text": [
      " 29%|██████████████████████▏                                                      | 7206/25000 [02:15<08:59, 32.95it/s]"
     ]
    },
    {
     "name": "stdout",
     "output_type": "stream",
     "text": [
      "Epoch 7200, Error: 77926.824819, Learning rate: 0.021739\n",
      "Test MAE: 4591.145613\n",
      "Test MSE: 51331861.285725\n",
      "Sample 63: Prediction=47278.44, Target=46699\n",
      "Sample 51: Prediction=35334.51, Target=35521\n",
      "Sample 103: Prediction=29555.91, Target=29994\n"
     ]
    },
    {
     "name": "stderr",
     "output_type": "stream",
     "text": [
      " 29%|██████████████████████▌                                                      | 7307/25000 [02:19<10:45, 27.42it/s]"
     ]
    },
    {
     "name": "stdout",
     "output_type": "stream",
     "text": [
      "Epoch 7300, Error: 76480.033872, Learning rate: 0.021505\n",
      "Test MAE: 4592.751397\n",
      "Test MSE: 51356212.563435\n",
      "Sample 94: Prediction=19546.45, Target=19705\n",
      "Sample 39: Prediction=32358.57, Target=32549\n",
      "Sample 60: Prediction=23085.66, Target=23115\n"
     ]
    },
    {
     "name": "stderr",
     "output_type": "stream",
     "text": [
      " 30%|██████████████████████▊                                                      | 7402/25000 [02:22<07:34, 38.68it/s]"
     ]
    },
    {
     "name": "stdout",
     "output_type": "stream",
     "text": [
      "Epoch 7400, Error: 75728.485839, Learning rate: 0.021277\n",
      "Test MAE: 4592.181863\n",
      "Test MSE: 51355420.139833\n",
      "Sample 24: Prediction=29957.62, Target=30171\n",
      "Sample 76: Prediction=29738.41, Target=30142\n",
      "Sample 15: Prediction=31091.31, Target=31713\n"
     ]
    },
    {
     "name": "stderr",
     "output_type": "stream",
     "text": [
      " 30%|███████████████████████                                                      | 7505/25000 [02:26<08:40, 33.59it/s]"
     ]
    },
    {
     "name": "stdout",
     "output_type": "stream",
     "text": [
      "Epoch 7500, Error: 75006.532976, Learning rate: 0.021053\n",
      "Test MAE: 4592.011299\n",
      "Test MSE: 51358435.848883\n",
      "Sample 86: Prediction=22004.74, Target=21823\n",
      "Sample 19: Prediction=26853.23, Target=26772\n",
      "Sample 31: Prediction=22240.72, Target=22439\n"
     ]
    },
    {
     "name": "stderr",
     "output_type": "stream",
     "text": [
      " 30%|███████████████████████▍                                                     | 7606/25000 [02:29<08:42, 33.26it/s]"
     ]
    },
    {
     "name": "stdout",
     "output_type": "stream",
     "text": [
      "Epoch 7600, Error: 74299.113440, Learning rate: 0.020833\n",
      "Test MAE: 4591.812313\n",
      "Test MSE: 51361658.228839\n",
      "Sample 22: Prediction=30879.93, Target=30986\n",
      "Sample 66: Prediction=23910.63, Target=24477\n",
      "Sample 49: Prediction=20799.27, Target=21018\n"
     ]
    },
    {
     "name": "stderr",
     "output_type": "stream",
     "text": [
      " 31%|███████████████████████▋                                                     | 7704/25000 [02:33<10:37, 27.12it/s]"
     ]
    },
    {
     "name": "stdout",
     "output_type": "stream",
     "text": [
      "Epoch 7700, Error: 73623.666851, Learning rate: 0.020619\n",
      "Test MAE: 4591.670520\n",
      "Test MSE: 51363809.612487\n",
      "Sample 10: Prediction=28527.42, Target=28627\n",
      "Sample 53: Prediction=25840.07, Target=26152\n",
      "Sample 19: Prediction=26855.56, Target=26772\n"
     ]
    },
    {
     "name": "stderr",
     "output_type": "stream",
     "text": [
      " 31%|████████████████████████                                                     | 7804/25000 [02:37<11:33, 24.81it/s]"
     ]
    },
    {
     "name": "stdout",
     "output_type": "stream",
     "text": [
      "Epoch 7800, Error: 72868.760945, Learning rate: 0.020408\n",
      "Test MAE: 4591.716400\n",
      "Test MSE: 51370729.827779\n",
      "Sample 43: Prediction=36742.27, Target=36526\n",
      "Sample 83: Prediction=26242.73, Target=26699\n",
      "Sample 70: Prediction=30963.76, Target=30984\n"
     ]
    },
    {
     "name": "stderr",
     "output_type": "stream",
     "text": [
      " 32%|████████████████████████▎                                                    | 7903/25000 [02:40<12:10, 23.41it/s]"
     ]
    },
    {
     "name": "stdout",
     "output_type": "stream",
     "text": [
      "Epoch 7900, Error: 72206.340542, Learning rate: 0.020202\n",
      "Test MAE: 4591.774472\n",
      "Test MSE: 51375031.030555\n",
      "Sample 27: Prediction=22670.65, Target=22516\n",
      "Sample 14: Prediction=28475.43, Target=28522\n",
      "Sample 53: Prediction=25846.62, Target=26152\n"
     ]
    },
    {
     "name": "stderr",
     "output_type": "stream",
     "text": [
      " 32%|████████████████████████▋                                                    | 8005/25000 [02:44<10:46, 26.29it/s]"
     ]
    },
    {
     "name": "stdout",
     "output_type": "stream",
     "text": [
      "Epoch 8000, Error: 68897.171411, Learning rate: 0.020000\n",
      "Test MAE: 4606.949472\n",
      "Test MSE: 51438921.975405\n",
      "Sample 54: Prediction=23845.87, Target=24021\n",
      "Sample 78: Prediction=26275.69, Target=26581\n",
      "Sample 93: Prediction=27016.69, Target=27006\n"
     ]
    },
    {
     "name": "stderr",
     "output_type": "stream",
     "text": [
      " 32%|████████████████████████▉                                                    | 8103/25000 [02:48<09:21, 30.12it/s]"
     ]
    },
    {
     "name": "stdout",
     "output_type": "stream",
     "text": [
      "Epoch 8100, Error: 55615.065065, Learning rate: 0.019802\n",
      "Test MAE: 4585.030942\n",
      "Test MSE: 51354426.283571\n",
      "Sample 57: Prediction=24199.96, Target=24257\n",
      "Sample 20: Prediction=24298.90, Target=24501\n",
      "Sample 89: Prediction=30317.66, Target=30566\n"
     ]
    },
    {
     "name": "stderr",
     "output_type": "stream",
     "text": [
      " 33%|█████████████████████████▎                                                   | 8205/25000 [02:52<09:44, 28.75it/s]"
     ]
    },
    {
     "name": "stdout",
     "output_type": "stream",
     "text": [
      "Epoch 8200, Error: 54350.096449, Learning rate: 0.019608\n",
      "Test MAE: 4581.997163\n",
      "Test MSE: 51251673.203350\n",
      "Sample 56: Prediction=30566.14, Target=30865\n",
      "Sample 54: Prediction=23797.46, Target=24021\n",
      "Sample 1: Prediction=31170.75, Target=31175\n"
     ]
    },
    {
     "name": "stderr",
     "output_type": "stream",
     "text": [
      " 33%|█████████████████████████▌                                                   | 8304/25000 [02:56<10:57, 25.40it/s]"
     ]
    },
    {
     "name": "stdout",
     "output_type": "stream",
     "text": [
      "Epoch 8300, Error: 53496.618606, Learning rate: 0.019417\n",
      "Test MAE: 4584.098405\n",
      "Test MSE: 51239475.921478\n",
      "Sample 81: Prediction=29838.12, Target=30000\n",
      "Sample 32: Prediction=31472.57, Target=31736\n",
      "Sample 58: Prediction=27294.92, Target=27740\n"
     ]
    },
    {
     "name": "stderr",
     "output_type": "stream",
     "text": [
      " 34%|█████████████████████████▉                                                   | 8406/25000 [03:00<11:03, 25.00it/s]"
     ]
    },
    {
     "name": "stdout",
     "output_type": "stream",
     "text": [
      "Epoch 8400, Error: 52994.544743, Learning rate: 0.019231\n",
      "Test MAE: 4585.039112\n",
      "Test MSE: 51245548.591412\n",
      "Sample 83: Prediction=26380.89, Target=26699\n",
      "Sample 61: Prediction=32849.65, Target=32951\n",
      "Sample 32: Prediction=31473.40, Target=31736\n"
     ]
    },
    {
     "name": "stderr",
     "output_type": "stream",
     "text": [
      " 34%|██████████████████████████▏                                                  | 8505/25000 [03:04<10:29, 26.22it/s]"
     ]
    },
    {
     "name": "stdout",
     "output_type": "stream",
     "text": [
      "Epoch 8500, Error: 52274.946393, Learning rate: 0.019048\n",
      "Test MAE: 4582.952397\n",
      "Test MSE: 51232859.634421\n",
      "Sample 68: Prediction=20537.29, Target=20670\n",
      "Sample 106: Prediction=29076.04, Target=28800\n",
      "Sample 14: Prediction=28466.85, Target=28522\n"
     ]
    },
    {
     "name": "stderr",
     "output_type": "stream",
     "text": [
      " 34%|██████████████████████████▌                                                  | 8606/25000 [03:08<10:24, 26.25it/s]"
     ]
    },
    {
     "name": "stdout",
     "output_type": "stream",
     "text": [
      "Epoch 8600, Error: 51167.364531, Learning rate: 0.018868\n",
      "Test MAE: 4577.594423\n",
      "Test MSE: 51188520.074964\n",
      "Sample 32: Prediction=31478.08, Target=31736\n",
      "Sample 49: Prediction=20859.48, Target=21018\n",
      "Sample 85: Prediction=26876.66, Target=27073\n"
     ]
    },
    {
     "name": "stderr",
     "output_type": "stream",
     "text": [
      " 35%|██████████████████████████▊                                                  | 8705/25000 [03:11<10:38, 25.51it/s]"
     ]
    },
    {
     "name": "stdout",
     "output_type": "stream",
     "text": [
      "Epoch 8700, Error: 50738.489247, Learning rate: 0.018692\n",
      "Test MAE: 4578.039268\n",
      "Test MSE: 51177595.213592\n",
      "Sample 53: Prediction=25908.77, Target=26152\n",
      "Sample 42: Prediction=22251.41, Target=22552\n",
      "Sample 103: Prediction=29728.42, Target=29994\n"
     ]
    },
    {
     "name": "stderr",
     "output_type": "stream",
     "text": [
      " 35%|███████████████████████████                                                  | 8806/25000 [03:15<09:38, 27.97it/s]"
     ]
    },
    {
     "name": "stdout",
     "output_type": "stream",
     "text": [
      "Epoch 8800, Error: 48907.248913, Learning rate: 0.018519\n",
      "Test MAE: 4565.265554\n",
      "Test MSE: 51466078.441227\n",
      "Sample 59: Prediction=23692.27, Target=23788\n",
      "Sample 34: Prediction=23575.06, Target=23867\n",
      "Sample 65: Prediction=29384.10, Target=29569\n"
     ]
    },
    {
     "name": "stderr",
     "output_type": "stream",
     "text": [
      " 36%|███████████████████████████▍                                                 | 8906/25000 [03:18<07:45, 34.54it/s]"
     ]
    },
    {
     "name": "stdout",
     "output_type": "stream",
     "text": [
      "Epoch 8900, Error: 44252.697823, Learning rate: 0.018349\n",
      "Test MAE: 4548.072832\n",
      "Test MSE: 51121926.177595\n",
      "Sample 5: Prediction=20577.23, Target=20967\n",
      "Sample 6: Prediction=28720.14, Target=28895\n",
      "Sample 56: Prediction=30561.79, Target=30865\n"
     ]
    },
    {
     "name": "stderr",
     "output_type": "stream",
     "text": [
      " 36%|███████████████████████████▋                                                 | 9001/25000 [03:21<08:31, 31.30it/s]"
     ]
    },
    {
     "name": "stdout",
     "output_type": "stream",
     "text": [
      "Epoch 9000, Error: 43697.803879, Learning rate: 0.018182\n",
      "Test MAE: 4548.329363\n",
      "Test MSE: 51134214.362079\n",
      "Sample 63: Prediction=46979.08, Target=46699\n",
      "Sample 87: Prediction=36783.39, Target=37016\n",
      "Sample 67: Prediction=26763.11, Target=26973\n"
     ]
    },
    {
     "name": "stderr",
     "output_type": "stream",
     "text": [
      " 36%|████████████████████████████                                                 | 9106/25000 [03:25<09:43, 27.25it/s]"
     ]
    },
    {
     "name": "stdout",
     "output_type": "stream",
     "text": [
      "Epoch 9100, Error: 43048.914958, Learning rate: 0.018018\n",
      "Test MAE: 4548.204979\n",
      "Test MSE: 51134355.000929\n",
      "Sample 86: Prediction=21885.42, Target=21823\n",
      "Sample 12: Prediction=28657.97, Target=28573\n",
      "Sample 98: Prediction=25329.26, Target=25666\n"
     ]
    },
    {
     "name": "stderr",
     "output_type": "stream",
     "text": [
      " 37%|████████████████████████████▎                                                | 9205/25000 [03:29<09:30, 27.68it/s]"
     ]
    },
    {
     "name": "stdout",
     "output_type": "stream",
     "text": [
      "Epoch 9200, Error: 42514.690463, Learning rate: 0.017857\n",
      "Test MAE: 4547.909014\n",
      "Test MSE: 51136971.806872\n",
      "Sample 25: Prediction=32863.07, Target=33071\n",
      "Sample 104: Prediction=23760.38, Target=23767\n",
      "Sample 53: Prediction=25888.78, Target=26152\n"
     ]
    },
    {
     "name": "stderr",
     "output_type": "stream",
     "text": [
      " 37%|████████████████████████████▋                                                | 9305/25000 [03:32<08:40, 30.13it/s]"
     ]
    },
    {
     "name": "stdout",
     "output_type": "stream",
     "text": [
      "Epoch 9300, Error: 41985.572244, Learning rate: 0.017699\n",
      "Test MAE: 4547.549881\n",
      "Test MSE: 51138465.429759\n",
      "Sample 15: Prediction=31336.10, Target=31713\n",
      "Sample 95: Prediction=29583.41, Target=29578\n",
      "Sample 40: Prediction=22824.59, Target=23066\n"
     ]
    },
    {
     "name": "stderr",
     "output_type": "stream",
     "text": [
      " 38%|████████████████████████████▉                                                | 9406/25000 [03:35<06:36, 39.36it/s]"
     ]
    },
    {
     "name": "stdout",
     "output_type": "stream",
     "text": [
      "Epoch 9400, Error: 41482.625430, Learning rate: 0.017544\n",
      "Test MAE: 4547.336039\n",
      "Test MSE: 51143042.757901\n",
      "Sample 7: Prediction=21089.89, Target=21174\n",
      "Sample 68: Prediction=20553.47, Target=20670\n",
      "Sample 46: Prediction=32873.53, Target=33019\n"
     ]
    },
    {
     "name": "stderr",
     "output_type": "stream",
     "text": [
      " 38%|█████████████████████████████▎                                               | 9504/25000 [03:38<13:31, 19.08it/s]"
     ]
    },
    {
     "name": "stdout",
     "output_type": "stream",
     "text": [
      "Epoch 9500, Error: 40993.433827, Learning rate: 0.017391\n",
      "Test MAE: 4547.136142\n",
      "Test MSE: 51146402.176464\n",
      "Sample 7: Prediction=21090.87, Target=21174\n",
      "Sample 99: Prediction=21634.80, Target=21896\n",
      "Sample 93: Prediction=26895.27, Target=27006\n"
     ]
    },
    {
     "name": "stderr",
     "output_type": "stream",
     "text": [
      " 38%|█████████████████████████████▌                                               | 9607/25000 [03:42<07:33, 33.97it/s]"
     ]
    },
    {
     "name": "stdout",
     "output_type": "stream",
     "text": [
      "Epoch 9600, Error: 40521.428957, Learning rate: 0.017241\n",
      "Test MAE: 4546.960532\n",
      "Test MSE: 51149807.551138\n",
      "Sample 101: Prediction=25553.58, Target=25566\n",
      "Sample 77: Prediction=23721.58, Target=23927\n",
      "Sample 44: Prediction=22329.77, Target=22763\n"
     ]
    },
    {
     "name": "stderr",
     "output_type": "stream",
     "text": [
      " 39%|█████████████████████████████▉                                               | 9705/25000 [03:47<13:23, 19.03it/s]"
     ]
    },
    {
     "name": "stdout",
     "output_type": "stream",
     "text": [
      "Epoch 9700, Error: 40056.869795, Learning rate: 0.017094\n",
      "Test MAE: 4546.853322\n",
      "Test MSE: 51153672.762182\n",
      "Sample 1: Prediction=31043.08, Target=31175\n",
      "Sample 35: Prediction=27623.42, Target=27456\n",
      "Sample 66: Prediction=24127.43, Target=24477\n"
     ]
    },
    {
     "name": "stderr",
     "output_type": "stream",
     "text": [
      " 39%|██████████████████████████████▏                                              | 9804/25000 [03:51<13:20, 18.98it/s]"
     ]
    },
    {
     "name": "stdout",
     "output_type": "stream",
     "text": [
      "Epoch 9800, Error: 39600.096846, Learning rate: 0.016949\n",
      "Test MAE: 4546.655720\n",
      "Test MSE: 51155833.555780\n",
      "Sample 26: Prediction=29871.81, Target=30008\n",
      "Sample 43: Prediction=36549.26, Target=36526\n",
      "Sample 66: Prediction=24128.75, Target=24477\n"
     ]
    },
    {
     "name": "stderr",
     "output_type": "stream",
     "text": [
      " 40%|██████████████████████████████▌                                              | 9906/25000 [03:55<09:06, 27.60it/s]"
     ]
    },
    {
     "name": "stdout",
     "output_type": "stream",
     "text": [
      "Epoch 9900, Error: 39118.555545, Learning rate: 0.016807\n",
      "Test MAE: 4546.813011\n",
      "Test MSE: 51158872.863997\n",
      "Sample 20: Prediction=24291.80, Target=24501\n",
      "Sample 16: Prediction=25844.32, Target=25978\n",
      "Sample 75: Prediction=23065.54, Target=23256\n"
     ]
    },
    {
     "name": "stderr",
     "output_type": "stream",
     "text": [
      " 40%|██████████████████████████████▍                                             | 10006/25000 [03:59<10:04, 24.81it/s]"
     ]
    },
    {
     "name": "stdout",
     "output_type": "stream",
     "text": [
      "Epoch 10000, Error: 38686.552591, Learning rate: 0.016667\n",
      "Test MAE: 4546.504800\n",
      "Test MSE: 51160325.083793\n",
      "Sample 35: Prediction=27623.04, Target=27456\n",
      "Sample 0: Prediction=32879.91, Target=32952\n",
      "Sample 94: Prediction=19499.91, Target=19705\n"
     ]
    },
    {
     "name": "stderr",
     "output_type": "stream",
     "text": [
      " 40%|██████████████████████████████▋                                             | 10103/25000 [04:03<12:39, 19.61it/s]"
     ]
    },
    {
     "name": "stdout",
     "output_type": "stream",
     "text": [
      "Epoch 10100, Error: 38269.096639, Learning rate: 0.016529\n",
      "Test MAE: 4546.101202\n",
      "Test MSE: 51161878.017170\n",
      "Sample 5: Prediction=20593.78, Target=20967\n",
      "Sample 70: Prediction=30913.93, Target=30984\n",
      "Sample 79: Prediction=22490.24, Target=22618\n"
     ]
    },
    {
     "name": "stderr",
     "output_type": "stream",
     "text": [
      " 41%|███████████████████████████████                                             | 10212/25000 [04:07<06:13, 39.61it/s]"
     ]
    },
    {
     "name": "stdout",
     "output_type": "stream",
     "text": [
      "Epoch 10200, Error: 37853.361582, Learning rate: 0.016393\n",
      "Test MAE: 4545.832096\n",
      "Test MSE: 51164763.047481\n",
      "Sample 65: Prediction=29451.03, Target=29569\n",
      "Sample 88: Prediction=29685.04, Target=29866\n",
      "Sample 32: Prediction=31565.49, Target=31736\n"
     ]
    },
    {
     "name": "stderr",
     "output_type": "stream",
     "text": [
      " 41%|███████████████████████████████▎                                            | 10304/25000 [04:10<09:00, 27.20it/s]"
     ]
    },
    {
     "name": "stdout",
     "output_type": "stream",
     "text": [
      "Epoch 10300, Error: 37443.052762, Learning rate: 0.016260\n",
      "Test MAE: 4545.640417\n",
      "Test MSE: 51168501.346220\n",
      "Sample 33: Prediction=30799.91, Target=30836\n",
      "Sample 1: Prediction=31049.81, Target=31175\n",
      "Sample 98: Prediction=25341.09, Target=25666\n"
     ]
    },
    {
     "name": "stderr",
     "output_type": "stream",
     "text": [
      " 42%|███████████████████████████████▋                                            | 10403/25000 [04:15<12:37, 19.26it/s]"
     ]
    },
    {
     "name": "stdout",
     "output_type": "stream",
     "text": [
      "Epoch 10400, Error: 37043.807660, Learning rate: 0.016129\n",
      "Test MAE: 4545.447464\n",
      "Test MSE: 51171123.088669\n",
      "Sample 107: Prediction=28919.80, Target=29040\n",
      "Sample 99: Prediction=21650.88, Target=21896\n",
      "Sample 100: Prediction=27103.20, Target=27314\n"
     ]
    },
    {
     "name": "stderr",
     "output_type": "stream",
     "text": [
      " 42%|███████████████████████████████▉                                            | 10510/25000 [04:18<04:46, 50.52it/s]"
     ]
    },
    {
     "name": "stdout",
     "output_type": "stream",
     "text": [
      "Epoch 10500, Error: 36641.201566, Learning rate: 0.016000\n",
      "Test MAE: 4545.331583\n",
      "Test MSE: 51177130.668522\n",
      "Sample 67: Prediction=26784.98, Target=26973\n",
      "Sample 2: Prediction=21724.53, Target=21841\n",
      "Sample 90: Prediction=28019.54, Target=28179\n"
     ]
    },
    {
     "name": "stderr",
     "output_type": "stream",
     "text": [
      " 42%|████████████████████████████████▏                                           | 10605/25000 [04:21<09:36, 24.97it/s]"
     ]
    },
    {
     "name": "stdout",
     "output_type": "stream",
     "text": [
      "Epoch 10600, Error: 36273.080217, Learning rate: 0.015873\n",
      "Test MAE: 4545.413531\n",
      "Test MSE: 51182355.063454\n",
      "Sample 98: Prediction=25344.56, Target=25666\n",
      "Sample 103: Prediction=29765.66, Target=29994\n",
      "Sample 63: Prediction=46956.99, Target=46699\n"
     ]
    },
    {
     "name": "stderr",
     "output_type": "stream",
     "text": [
      " 43%|████████████████████████████████▌                                           | 10706/25000 [04:25<09:04, 26.25it/s]"
     ]
    },
    {
     "name": "stdout",
     "output_type": "stream",
     "text": [
      "Epoch 10700, Error: 35848.241448, Learning rate: 0.015748\n",
      "Test MAE: 4546.037486\n",
      "Test MSE: 51212921.515989\n",
      "Sample 33: Prediction=30802.91, Target=30836\n",
      "Sample 57: Prediction=24202.10, Target=24257\n",
      "Sample 34: Prediction=23739.55, Target=23867\n"
     ]
    },
    {
     "name": "stderr",
     "output_type": "stream",
     "text": [
      " 43%|████████████████████████████████▊                                           | 10804/25000 [04:29<08:42, 27.18it/s]"
     ]
    },
    {
     "name": "stdout",
     "output_type": "stream",
     "text": [
      "Epoch 10800, Error: 35378.611758, Learning rate: 0.015625\n",
      "Test MAE: 4545.964774\n",
      "Test MSE: 51228793.169018\n",
      "Sample 92: Prediction=25528.01, Target=25597\n",
      "Sample 73: Prediction=35677.82, Target=35771\n",
      "Sample 9: Prediction=31596.44, Target=31584\n"
     ]
    },
    {
     "name": "stderr",
     "output_type": "stream",
     "text": [
      " 44%|█████████████████████████████████▏                                          | 10904/25000 [04:33<08:55, 26.31it/s]"
     ]
    },
    {
     "name": "stdout",
     "output_type": "stream",
     "text": [
      "Epoch 10900, Error: 35031.478330, Learning rate: 0.015504\n",
      "Test MAE: 4545.768430\n",
      "Test MSE: 51232221.206374\n",
      "Sample 79: Prediction=22498.90, Target=22618\n",
      "Sample 52: Prediction=28487.66, Target=28675\n",
      "Sample 6: Prediction=28736.38, Target=28895\n"
     ]
    },
    {
     "name": "stderr",
     "output_type": "stream",
     "text": [
      " 44%|█████████████████████████████████▍                                          | 11006/25000 [04:37<09:04, 25.69it/s]"
     ]
    },
    {
     "name": "stdout",
     "output_type": "stream",
     "text": [
      "Epoch 11000, Error: 34692.908947, Learning rate: 0.015385\n",
      "Test MAE: 4545.558435\n",
      "Test MSE: 51234534.296044\n",
      "Sample 56: Prediction=30588.34, Target=30865\n",
      "Sample 79: Prediction=22500.17, Target=22618\n",
      "Sample 99: Prediction=21658.62, Target=21896\n"
     ]
    },
    {
     "name": "stderr",
     "output_type": "stream",
     "text": [
      " 44%|█████████████████████████████████▊                                          | 11105/25000 [04:41<09:11, 25.21it/s]"
     ]
    },
    {
     "name": "stdout",
     "output_type": "stream",
     "text": [
      "Epoch 11100, Error: 34358.062195, Learning rate: 0.015267\n",
      "Test MAE: 4545.361064\n",
      "Test MSE: 51237427.235976\n",
      "Sample 16: Prediction=25857.54, Target=25978\n",
      "Sample 25: Prediction=32877.55, Target=33071\n",
      "Sample 52: Prediction=28489.90, Target=28675\n"
     ]
    },
    {
     "name": "stderr",
     "output_type": "stream",
     "text": [
      " 45%|██████████████████████████████████                                          | 11206/25000 [04:44<04:33, 50.35it/s]"
     ]
    },
    {
     "name": "stdout",
     "output_type": "stream",
     "text": [
      "Epoch 11200, Error: 34013.074874, Learning rate: 0.015152\n",
      "Test MAE: 4545.121329\n",
      "Test MSE: 51240435.325642\n",
      "Sample 67: Prediction=26792.16, Target=26973\n",
      "Sample 64: Prediction=26829.84, Target=26902\n",
      "Sample 26: Prediction=29893.68, Target=30008\n"
     ]
    },
    {
     "name": "stderr",
     "output_type": "stream",
     "text": [
      " 45%|██████████████████████████████████▎                                         | 11304/25000 [04:46<08:10, 27.93it/s]"
     ]
    },
    {
     "name": "stdout",
     "output_type": "stream",
     "text": [
      "Epoch 11300, Error: 33694.459108, Learning rate: 0.015038\n",
      "Test MAE: 4544.953801\n",
      "Test MSE: 51243071.428993\n",
      "Sample 19: Prediction=26720.79, Target=26772\n",
      "Sample 31: Prediction=22228.08, Target=22439\n",
      "Sample 62: Prediction=25600.33, Target=25718\n"
     ]
    },
    {
     "name": "stderr",
     "output_type": "stream",
     "text": [
      " 46%|██████████████████████████████████▋                                         | 11406/25000 [04:50<08:31, 26.55it/s]"
     ]
    },
    {
     "name": "stdout",
     "output_type": "stream",
     "text": [
      "Epoch 11400, Error: 33381.265720, Learning rate: 0.014925\n",
      "Test MAE: 4544.877608\n",
      "Test MSE: 51247443.130520\n",
      "Sample 102: Prediction=24413.76, Target=24687\n",
      "Sample 101: Prediction=25566.69, Target=25566\n",
      "Sample 62: Prediction=25600.37, Target=25718\n"
     ]
    },
    {
     "name": "stderr",
     "output_type": "stream",
     "text": [
      " 46%|██████████████████████████████████▉                                         | 11505/25000 [04:54<08:02, 27.99it/s]"
     ]
    },
    {
     "name": "stdout",
     "output_type": "stream",
     "text": [
      "Epoch 11500, Error: 33053.614947, Learning rate: 0.014815\n",
      "Test MAE: 4544.615860\n",
      "Test MSE: 51248986.261436\n",
      "Sample 14: Prediction=28430.79, Target=28522\n",
      "Sample 90: Prediction=28028.86, Target=28179\n",
      "Sample 95: Prediction=29595.24, Target=29578\n"
     ]
    },
    {
     "name": "stderr",
     "output_type": "stream",
     "text": [
      " 46%|███████████████████████████████████▎                                        | 11603/25000 [04:58<11:13, 19.89it/s]"
     ]
    },
    {
     "name": "stdout",
     "output_type": "stream",
     "text": [
      "Epoch 11600, Error: 32737.514185, Learning rate: 0.014706\n",
      "Test MAE: 4544.489442\n",
      "Test MSE: 51250012.091269\n",
      "Sample 75: Prediction=23066.93, Target=23256\n",
      "Sample 12: Prediction=28667.87, Target=28573\n",
      "Sample 55: Prediction=29500.81, Target=29690\n"
     ]
    },
    {
     "name": "stderr",
     "output_type": "stream",
     "text": [
      " 47%|███████████████████████████████████▌                                        | 11705/25000 [05:02<08:37, 25.68it/s]"
     ]
    },
    {
     "name": "stdout",
     "output_type": "stream",
     "text": [
      "Epoch 11700, Error: 32439.002445, Learning rate: 0.014599\n",
      "Test MAE: 4544.368653\n",
      "Test MSE: 51252565.182435\n",
      "Sample 12: Prediction=28668.55, Target=28573\n",
      "Sample 107: Prediction=28929.20, Target=29040\n",
      "Sample 21: Prediction=31274.55, Target=31328\n"
     ]
    },
    {
     "name": "stderr",
     "output_type": "stream",
     "text": [
      " 47%|███████████████████████████████████▉                                        | 11804/25000 [05:06<08:45, 25.11it/s]"
     ]
    },
    {
     "name": "stdout",
     "output_type": "stream",
     "text": [
      "Epoch 11800, Error: 32146.562619, Learning rate: 0.014493\n",
      "Test MAE: 4544.210011\n",
      "Test MSE: 51254837.010409\n",
      "Sample 24: Prediction=30051.88, Target=30171\n",
      "Sample 88: Prediction=29703.51, Target=29866\n",
      "Sample 54: Prediction=23859.84, Target=24021\n"
     ]
    },
    {
     "name": "stderr",
     "output_type": "stream",
     "text": [
      " 48%|████████████████████████████████████▏                                       | 11904/25000 [05:10<08:38, 25.25it/s]"
     ]
    },
    {
     "name": "stdout",
     "output_type": "stream",
     "text": [
      "Epoch 11900, Error: 31853.142965, Learning rate: 0.014388\n",
      "Test MAE: 4544.076914\n",
      "Test MSE: 51256711.744039\n",
      "Sample 10: Prediction=28527.02, Target=28627\n",
      "Sample 16: Prediction=25863.81, Target=25978\n",
      "Sample 57: Prediction=24205.54, Target=24257\n"
     ]
    },
    {
     "name": "stderr",
     "output_type": "stream",
     "text": [
      " 48%|████████████████████████████████████▍                                       | 12006/25000 [05:14<08:30, 25.47it/s]"
     ]
    },
    {
     "name": "stdout",
     "output_type": "stream",
     "text": [
      "Epoch 12000, Error: 31515.215739, Learning rate: 0.014286\n",
      "Test MAE: 4543.862451\n",
      "Test MSE: 51257173.071651\n",
      "Sample 100: Prediction=27126.13, Target=27314\n",
      "Sample 75: Prediction=23069.77, Target=23256\n",
      "Sample 20: Prediction=24315.25, Target=24501\n"
     ]
    },
    {
     "name": "stderr",
     "output_type": "stream",
     "text": [
      " 48%|████████████████████████████████████▊                                       | 12104/25000 [05:18<10:12, 21.04it/s]"
     ]
    },
    {
     "name": "stdout",
     "output_type": "stream",
     "text": [
      "Epoch 12100, Error: 31245.741442, Learning rate: 0.014184\n",
      "Test MAE: 4543.754898\n",
      "Test MSE: 51260867.900907\n",
      "Sample 54: Prediction=23864.07, Target=24021\n",
      "Sample 43: Prediction=36551.76, Target=36526\n",
      "Sample 71: Prediction=23612.91, Target=23776\n"
     ]
    },
    {
     "name": "stderr",
     "output_type": "stream",
     "text": [
      " 49%|█████████████████████████████████████                                       | 12203/25000 [05:22<10:11, 20.93it/s]"
     ]
    },
    {
     "name": "stdout",
     "output_type": "stream",
     "text": [
      "Epoch 12200, Error: 30985.631101, Learning rate: 0.014085\n",
      "Test MAE: 4543.550227\n",
      "Test MSE: 51263013.505463\n",
      "Sample 91: Prediction=22627.77, Target=23010\n",
      "Sample 46: Prediction=32900.01, Target=33019\n",
      "Sample 90: Prediction=28034.12, Target=28179\n"
     ]
    },
    {
     "name": "stderr",
     "output_type": "stream",
     "text": [
      " 49%|█████████████████████████████████████▍                                      | 12300/25000 [05:31<10:23, 20.36it/s]"
     ]
    },
    {
     "name": "stdout",
     "output_type": "stream",
     "text": [
      "Epoch 12300, Error: 30718.603383, Learning rate: 0.013986\n",
      "Test MAE: 4543.380693\n",
      "Test MSE: 51265681.471280\n",
      "Sample 33: Prediction=30812.61, Target=30836\n",
      "Sample 55: Prediction=29506.67, Target=29690\n",
      "Sample 36: Prediction=29004.31, Target=29183\n"
     ]
    },
    {
     "name": "stderr",
     "output_type": "stream",
     "text": [
      " 50%|█████████████████████████████████████▋                                      | 12402/25000 [05:36<07:05, 29.60it/s]"
     ]
    },
    {
     "name": "stdout",
     "output_type": "stream",
     "text": [
      "Epoch 12400, Error: 30466.377258, Learning rate: 0.013889\n",
      "Test MAE: 4543.242130\n",
      "Test MSE: 51268886.064058\n",
      "Sample 30: Prediction=18594.67, Target=18690\n",
      "Sample 73: Prediction=35687.34, Target=35771\n",
      "Sample 50: Prediction=39673.33, Target=39709\n"
     ]
    },
    {
     "name": "stderr",
     "output_type": "stream",
     "text": [
      " 50%|██████████████████████████████████████                                      | 12503/25000 [05:40<09:52, 21.08it/s]"
     ]
    },
    {
     "name": "stdout",
     "output_type": "stream",
     "text": [
      "Epoch 12500, Error: 30214.346418, Learning rate: 0.013793\n",
      "Test MAE: 4543.052752\n",
      "Test MSE: 51271232.347666\n",
      "Sample 17: Prediction=28119.21, Target=28187\n",
      "Sample 39: Prediction=32433.33, Target=32549\n",
      "Sample 74: Prediction=22716.71, Target=22808\n"
     ]
    },
    {
     "name": "stderr",
     "output_type": "stream",
     "text": [
      " 50%|██████████████████████████████████████▎                                     | 12610/25000 [05:42<03:46, 54.66it/s]"
     ]
    },
    {
     "name": "stdout",
     "output_type": "stream",
     "text": [
      "Epoch 12600, Error: 29958.647769, Learning rate: 0.013699\n",
      "Test MAE: 4542.926533\n",
      "Test MSE: 51274520.340419\n",
      "Sample 79: Prediction=22514.47, Target=22618\n",
      "Sample 89: Prediction=30393.84, Target=30566\n",
      "Sample 19: Prediction=26730.21, Target=26772\n"
     ]
    },
    {
     "name": "stderr",
     "output_type": "stream",
     "text": [
      " 51%|██████████████████████████████████████▌                                     | 12703/25000 [05:45<08:26, 24.29it/s]"
     ]
    },
    {
     "name": "stdout",
     "output_type": "stream",
     "text": [
      "Epoch 12700, Error: 29657.392084, Learning rate: 0.013605\n",
      "Test MAE: 4543.168049\n",
      "Test MSE: 51289025.520897\n",
      "Sample 99: Prediction=21682.14, Target=21896\n",
      "Sample 52: Prediction=28504.77, Target=28675\n",
      "Sample 38: Prediction=27936.66, Target=27880\n"
     ]
    },
    {
     "name": "stderr",
     "output_type": "stream",
     "text": [
      " 51%|██████████████████████████████████████▉                                     | 12808/25000 [05:50<05:15, 38.59it/s]"
     ]
    },
    {
     "name": "stdout",
     "output_type": "stream",
     "text": [
      "Epoch 12800, Error: 29420.764239, Learning rate: 0.013514\n",
      "Test MAE: 4543.063695\n",
      "Test MSE: 51291787.557263\n",
      "Sample 100: Prediction=27138.84, Target=27314\n",
      "Sample 87: Prediction=36823.87, Target=37016\n",
      "Sample 52: Prediction=28505.87, Target=28675\n"
     ]
    },
    {
     "name": "stderr",
     "output_type": "stream",
     "text": [
      " 52%|███████████████████████████████████████▏                                    | 12906/25000 [05:53<06:41, 30.16it/s]"
     ]
    },
    {
     "name": "stdout",
     "output_type": "stream",
     "text": [
      "Epoch 12900, Error: 29188.846661, Learning rate: 0.013423\n",
      "Test MAE: 4543.035337\n",
      "Test MSE: 51294421.636100\n",
      "Sample 5: Prediction=20643.09, Target=20967\n",
      "Sample 91: Prediction=22638.12, Target=23010\n",
      "Sample 44: Prediction=22355.23, Target=22763\n"
     ]
    },
    {
     "name": "stderr",
     "output_type": "stream",
     "text": [
      " 52%|███████████████████████████████████████▌                                    | 13004/25000 [05:57<07:24, 26.97it/s]"
     ]
    },
    {
     "name": "stdout",
     "output_type": "stream",
     "text": [
      "Epoch 13000, Error: 28857.764303, Learning rate: 0.013333\n",
      "Test MAE: 4543.253357\n",
      "Test MSE: 51304439.943723\n",
      "Sample 44: Prediction=22358.34, Target=22763\n",
      "Sample 88: Prediction=29722.75, Target=29866\n",
      "Sample 65: Prediction=29477.43, Target=29569\n"
     ]
    },
    {
     "name": "stderr",
     "output_type": "stream",
     "text": [
      " 52%|███████████████████████████████████████▊                                    | 13104/25000 [06:01<11:13, 17.66it/s]"
     ]
    },
    {
     "name": "stdout",
     "output_type": "stream",
     "text": [
      "Epoch 13100, Error: 28625.573311, Learning rate: 0.013245\n",
      "Test MAE: 4543.258573\n",
      "Test MSE: 51308291.586091\n",
      "Sample 30: Prediction=18604.92, Target=18690\n",
      "Sample 14: Prediction=28445.94, Target=28522\n",
      "Sample 69: Prediction=30892.76, Target=30673\n"
     ]
    },
    {
     "name": "stderr",
     "output_type": "stream",
     "text": [
      " 53%|████████████████████████████████████████▏                                   | 13204/25000 [06:04<07:27, 26.37it/s]"
     ]
    },
    {
     "name": "stdout",
     "output_type": "stream",
     "text": [
      "Epoch 13200, Error: 28413.722701, Learning rate: 0.013158\n",
      "Test MAE: 4543.214174\n",
      "Test MSE: 51311007.267978\n",
      "Sample 6: Prediction=28765.17, Target=28895\n",
      "Sample 62: Prediction=25606.84, Target=25718\n",
      "Sample 69: Prediction=30893.01, Target=30673\n"
     ]
    },
    {
     "name": "stderr",
     "output_type": "stream",
     "text": [
      " 53%|████████████████████████████████████████▍                                   | 13306/25000 [06:08<07:34, 25.74it/s]"
     ]
    },
    {
     "name": "stdout",
     "output_type": "stream",
     "text": [
      "Epoch 13300, Error: 28202.314335, Learning rate: 0.013072\n",
      "Test MAE: 4543.175018\n",
      "Test MSE: 51313886.630656\n",
      "Sample 35: Prediction=27618.63, Target=27456\n",
      "Sample 74: Prediction=22728.36, Target=22808\n",
      "Sample 53: Prediction=25950.73, Target=26152\n"
     ]
    },
    {
     "name": "stderr",
     "output_type": "stream",
     "text": [
      " 54%|████████████████████████████████████████▋                                   | 13404/25000 [06:12<08:52, 21.77it/s]"
     ]
    },
    {
     "name": "stdout",
     "output_type": "stream",
     "text": [
      "Epoch 13400, Error: 27993.642483, Learning rate: 0.012987\n",
      "Test MAE: 4543.125028\n",
      "Test MSE: 51316655.203448\n",
      "Sample 98: Prediction=25371.48, Target=25666\n",
      "Sample 50: Prediction=39667.44, Target=39709\n",
      "Sample 54: Prediction=23883.39, Target=24021\n"
     ]
    },
    {
     "name": "stderr",
     "output_type": "stream",
     "text": [
      " 54%|█████████████████████████████████████████                                   | 13504/25000 [06:17<06:59, 27.42it/s]"
     ]
    },
    {
     "name": "stdout",
     "output_type": "stream",
     "text": [
      "Epoch 13500, Error: 27789.101736, Learning rate: 0.012903\n",
      "Test MAE: 4543.155031\n",
      "Test MSE: 51320722.447960\n",
      "Sample 70: Prediction=30915.18, Target=30984\n",
      "Sample 26: Prediction=29912.81, Target=30008\n",
      "Sample 3: Prediction=10474.62, Target=10532\n"
     ]
    },
    {
     "name": "stderr",
     "output_type": "stream",
     "text": [
      " 54%|█████████████████████████████████████████▎                                  | 13607/25000 [06:20<05:27, 34.80it/s]"
     ]
    },
    {
     "name": "stdout",
     "output_type": "stream",
     "text": [
      "Epoch 13600, Error: 27575.872740, Learning rate: 0.012821\n",
      "Test MAE: 4543.143074\n",
      "Test MSE: 51323684.191379\n",
      "Sample 5: Prediction=20649.74, Target=20967\n",
      "Sample 102: Prediction=24448.58, Target=24687\n",
      "Sample 49: Prediction=20902.33, Target=21018\n"
     ]
    },
    {
     "name": "stderr",
     "output_type": "stream",
     "text": [
      " 55%|█████████████████████████████████████████▋                                  | 13704/25000 [06:24<08:21, 22.54it/s]"
     ]
    },
    {
     "name": "stdout",
     "output_type": "stream",
     "text": [
      "Epoch 13700, Error: 27312.242629, Learning rate: 0.012739\n",
      "Test MAE: 4543.037742\n",
      "Test MSE: 51335173.193528\n",
      "Sample 12: Prediction=28674.58, Target=28573\n",
      "Sample 107: Prediction=28938.60, Target=29040\n",
      "Sample 69: Prediction=30893.98, Target=30673\n"
     ]
    },
    {
     "name": "stderr",
     "output_type": "stream",
     "text": [
      " 55%|█████████████████████████████████████████▉                                  | 13805/25000 [06:29<09:07, 20.46it/s]"
     ]
    },
    {
     "name": "stdout",
     "output_type": "stream",
     "text": [
      "Epoch 13800, Error: 26996.813550, Learning rate: 0.012658\n",
      "Test MAE: 4543.130863\n",
      "Test MSE: 51349743.116727\n",
      "Sample 97: Prediction=23944.56, Target=23954\n",
      "Sample 92: Prediction=25552.36, Target=25597\n",
      "Sample 9: Prediction=31616.61, Target=31584\n"
     ]
    },
    {
     "name": "stderr",
     "output_type": "stream",
     "text": [
      " 56%|██████████████████████████████████████████▎                                 | 13903/25000 [06:33<09:04, 20.36it/s]"
     ]
    },
    {
     "name": "stdout",
     "output_type": "stream",
     "text": [
      "Epoch 13900, Error: 26805.936814, Learning rate: 0.012579\n",
      "Test MAE: 4543.099708\n",
      "Test MSE: 51352659.228681\n",
      "Sample 20: Prediction=24335.72, Target=24501\n",
      "Sample 24: Prediction=30076.23, Target=30171\n",
      "Sample 40: Prediction=22926.22, Target=23066\n"
     ]
    },
    {
     "name": "stderr",
     "output_type": "stream",
     "text": [
      " 56%|██████████████████████████████████████████▌                                 | 14003/25000 [06:38<09:26, 19.40it/s]"
     ]
    },
    {
     "name": "stdout",
     "output_type": "stream",
     "text": [
      "Epoch 14000, Error: 26620.795023, Learning rate: 0.012500\n",
      "Test MAE: 4543.395996\n",
      "Test MSE: 51355775.249558\n",
      "Sample 28: Prediction=38114.65, Target=38075\n",
      "Sample 18: Prediction=26004.78, Target=26158\n",
      "Sample 39: Prediction=32440.15, Target=32549\n"
     ]
    },
    {
     "name": "stderr",
     "output_type": "stream",
     "text": [
      " 56%|██████████████████████████████████████████▉                                 | 14109/25000 [06:42<04:44, 38.32it/s]"
     ]
    },
    {
     "name": "stdout",
     "output_type": "stream",
     "text": [
      "Epoch 14100, Error: 26440.492009, Learning rate: 0.012422\n",
      "Test MAE: 4543.560528\n",
      "Test MSE: 51360753.055642\n",
      "Sample 72: Prediction=25819.91, Target=26120\n",
      "Sample 29: Prediction=30852.20, Target=30811\n",
      "Sample 77: Prediction=23773.46, Target=23927\n"
     ]
    },
    {
     "name": "stderr",
     "output_type": "stream",
     "text": [
      " 57%|███████████████████████████████████████████▏                                | 14206/25000 [06:45<05:40, 31.66it/s]"
     ]
    },
    {
     "name": "stdout",
     "output_type": "stream",
     "text": [
      "Epoch 14200, Error: 26249.651328, Learning rate: 0.012346\n",
      "Test MAE: 4543.787290\n",
      "Test MSE: 51364982.154020\n",
      "Sample 27: Prediction=22437.36, Target=22516\n",
      "Sample 94: Prediction=19549.65, Target=19705\n",
      "Sample 16: Prediction=25866.06, Target=25978\n"
     ]
    },
    {
     "name": "stderr",
     "output_type": "stream",
     "text": [
      " 57%|███████████████████████████████████████████▍                                | 14305/25000 [06:49<06:45, 26.37it/s]"
     ]
    },
    {
     "name": "stdout",
     "output_type": "stream",
     "text": [
      "Epoch 14300, Error: 26037.902418, Learning rate: 0.012270\n",
      "Test MAE: 4543.621911\n",
      "Test MSE: 51367971.883595\n",
      "Sample 78: Prediction=26379.17, Target=26581\n",
      "Sample 71: Prediction=23627.15, Target=23776\n",
      "Sample 53: Prediction=25965.58, Target=26152\n"
     ]
    },
    {
     "name": "stderr",
     "output_type": "stream",
     "text": [
      " 58%|███████████████████████████████████████████▊                                | 14406/25000 [06:53<06:46, 26.08it/s]"
     ]
    },
    {
     "name": "stdout",
     "output_type": "stream",
     "text": [
      "Epoch 14400, Error: 25860.507667, Learning rate: 0.012195\n",
      "Test MAE: 4543.650982\n",
      "Test MSE: 51372115.439959\n",
      "Sample 53: Prediction=25966.12, Target=26152\n",
      "Sample 39: Prediction=32440.68, Target=32549\n",
      "Sample 55: Prediction=29524.64, Target=29690\n"
     ]
    },
    {
     "name": "stderr",
     "output_type": "stream",
     "text": [
      " 58%|████████████████████████████████████████████                                | 14502/25000 [06:57<05:47, 30.18it/s]"
     ]
    },
    {
     "name": "stdout",
     "output_type": "stream",
     "text": [
      "Epoch 14500, Error: 25691.328451, Learning rate: 0.012121\n",
      "Test MAE: 4543.587069\n",
      "Test MSE: 51378605.542357\n",
      "Sample 77: Prediction=23776.96, Target=23927\n",
      "Sample 23: Prediction=22745.90, Target=22891\n",
      "Sample 56: Prediction=30623.67, Target=30865\n"
     ]
    },
    {
     "name": "stderr",
     "output_type": "stream",
     "text": [
      " 58%|████████████████████████████████████████████▍                               | 14604/25000 [07:00<07:28, 23.15it/s]"
     ]
    },
    {
     "name": "stdout",
     "output_type": "stream",
     "text": [
      "Epoch 14600, Error: 25466.251873, Learning rate: 0.012048\n",
      "Test MAE: 4543.583434\n",
      "Test MSE: 51386563.054013\n",
      "Sample 80: Prediction=31268.00, Target=31411\n",
      "Sample 33: Prediction=30812.89, Target=30836\n",
      "Sample 92: Prediction=25558.76, Target=25597\n"
     ]
    },
    {
     "name": "stderr",
     "output_type": "stream",
     "text": [
      " 59%|████████████████████████████████████████████▋                               | 14705/25000 [07:04<06:34, 26.12it/s]"
     ]
    },
    {
     "name": "stdout",
     "output_type": "stream",
     "text": [
      "Epoch 14700, Error: 25290.491547, Learning rate: 0.011976\n",
      "Test MAE: 4543.547937\n",
      "Test MSE: 51388407.967962\n",
      "Sample 22: Prediction=30891.05, Target=30986\n",
      "Sample 77: Prediction=23778.09, Target=23927\n",
      "Sample 99: Prediction=21711.79, Target=21896\n"
     ]
    },
    {
     "name": "stderr",
     "output_type": "stream",
     "text": [
      " 59%|█████████████████████████████████████████████                               | 14806/25000 [07:08<06:29, 26.16it/s]"
     ]
    },
    {
     "name": "stdout",
     "output_type": "stream",
     "text": [
      "Epoch 14800, Error: 25121.850557, Learning rate: 0.011905\n",
      "Test MAE: 4543.397043\n",
      "Test MSE: 51388552.038915\n",
      "Sample 66: Prediction=24184.65, Target=24477\n",
      "Sample 18: Prediction=26010.24, Target=26158\n",
      "Sample 105: Prediction=29659.18, Target=29884\n"
     ]
    },
    {
     "name": "stderr",
     "output_type": "stream",
     "text": [
      " 60%|█████████████████████████████████████████████▎                              | 14905/25000 [07:12<06:33, 25.68it/s]"
     ]
    },
    {
     "name": "stdout",
     "output_type": "stream",
     "text": [
      "Epoch 14900, Error: 24955.314281, Learning rate: 0.011834\n",
      "Test MAE: 4543.255554\n",
      "Test MSE: 51389115.419828\n",
      "Sample 52: Prediction=28523.64, Target=28675\n",
      "Sample 2: Prediction=21771.02, Target=21841\n",
      "Sample 25: Prediction=32893.39, Target=33071\n"
     ]
    },
    {
     "name": "stderr",
     "output_type": "stream",
     "text": [
      " 60%|█████████████████████████████████████████████▌                              | 15006/25000 [07:16<06:14, 26.70it/s]"
     ]
    },
    {
     "name": "stdout",
     "output_type": "stream",
     "text": [
      "Epoch 15000, Error: 24790.017043, Learning rate: 0.011765\n",
      "Test MAE: 4543.135188\n",
      "Test MSE: 51389454.521111\n",
      "Sample 7: Prediction=21138.65, Target=21174\n",
      "Sample 50: Prediction=39658.66, Target=39709\n",
      "Sample 29: Prediction=30850.66, Target=30811\n"
     ]
    },
    {
     "name": "stderr",
     "output_type": "stream",
     "text": [
      " 60%|█████████████████████████████████████████████▉                              | 15105/25000 [07:20<06:09, 26.75it/s]"
     ]
    },
    {
     "name": "stdout",
     "output_type": "stream",
     "text": [
      "Epoch 15100, Error: 24577.565411, Learning rate: 0.011696\n",
      "Test MAE: 4542.892551\n",
      "Test MSE: 51391781.133227\n",
      "Sample 63: Prediction=46899.14, Target=46699\n",
      "Sample 26: Prediction=29919.05, Target=30008\n",
      "Sample 69: Prediction=30892.39, Target=30673\n"
     ]
    },
    {
     "name": "stderr",
     "output_type": "stream",
     "text": [
      " 61%|██████████████████████████████████████████████▏                             | 15205/25000 [07:24<05:25, 30.06it/s]"
     ]
    },
    {
     "name": "stdout",
     "output_type": "stream",
     "text": [
      "Epoch 15200, Error: 24426.929949, Learning rate: 0.011628\n",
      "Test MAE: 4542.798592\n",
      "Test MSE: 51391935.884449\n",
      "Sample 82: Prediction=29390.76, Target=29272\n",
      "Sample 9: Prediction=31628.06, Target=31584\n",
      "Sample 8: Prediction=22424.49, Target=22628\n"
     ]
    },
    {
     "name": "stderr",
     "output_type": "stream",
     "text": [
      " 61%|██████████████████████████████████████████████▌                             | 15305/25000 [07:27<06:07, 26.41it/s]"
     ]
    },
    {
     "name": "stdout",
     "output_type": "stream",
     "text": [
      "Epoch 15300, Error: 24278.162110, Learning rate: 0.011561\n",
      "Test MAE: 4542.704129\n",
      "Test MSE: 51391710.245037\n",
      "Sample 54: Prediction=23898.07, Target=24021\n",
      "Sample 3: Prediction=10483.66, Target=10532\n",
      "Sample 5: Prediction=20656.45, Target=20967\n"
     ]
    },
    {
     "name": "stderr",
     "output_type": "stream",
     "text": [
      " 62%|██████████████████████████████████████████████▊                             | 15404/25000 [07:31<05:57, 26.87it/s]"
     ]
    },
    {
     "name": "stdout",
     "output_type": "stream",
     "text": [
      "Epoch 15400, Error: 24125.761964, Learning rate: 0.011494\n",
      "Test MAE: 4542.595263\n",
      "Test MSE: 51391354.131608\n",
      "Sample 94: Prediction=19560.08, Target=19705\n",
      "Sample 18: Prediction=26015.17, Target=26158\n",
      "Sample 62: Prediction=25619.51, Target=25718\n"
     ]
    },
    {
     "name": "stderr",
     "output_type": "stream",
     "text": [
      " 62%|███████████████████████████████████████████████▏                            | 15505/25000 [07:35<05:53, 26.85it/s]"
     ]
    },
    {
     "name": "stdout",
     "output_type": "stream",
     "text": [
      "Epoch 15500, Error: 23913.195743, Learning rate: 0.011429\n",
      "Test MAE: 4541.974483\n",
      "Test MSE: 51392861.536942\n",
      "Sample 12: Prediction=28673.07, Target=28573\n",
      "Sample 26: Prediction=29918.33, Target=30008\n",
      "Sample 67: Prediction=26809.10, Target=26973\n"
     ]
    },
    {
     "name": "stderr",
     "output_type": "stream",
     "text": [
      " 62%|███████████████████████████████████████████████▍                            | 15604/25000 [07:39<06:10, 25.39it/s]"
     ]
    },
    {
     "name": "stdout",
     "output_type": "stream",
     "text": [
      "Epoch 15600, Error: 23765.636010, Learning rate: 0.011364\n",
      "Test MAE: 4541.858445\n",
      "Test MSE: 51392448.136665\n",
      "Sample 69: Prediction=30893.13, Target=30673\n",
      "Sample 89: Prediction=30427.60, Target=30566\n",
      "Sample 80: Prediction=31263.64, Target=31411\n"
     ]
    },
    {
     "name": "stderr",
     "output_type": "stream",
     "text": [
      " 63%|███████████████████████████████████████████████▋                            | 15706/25000 [07:43<05:43, 27.07it/s]"
     ]
    },
    {
     "name": "stdout",
     "output_type": "stream",
     "text": [
      "Epoch 15700, Error: 23574.885814, Learning rate: 0.011299\n",
      "Test MAE: 4541.496206\n",
      "Test MSE: 51392494.463195\n",
      "Sample 104: Prediction=23799.47, Target=23767\n",
      "Sample 73: Prediction=35705.23, Target=35771\n",
      "Sample 13: Prediction=28917.05, Target=29112\n"
     ]
    },
    {
     "name": "stderr",
     "output_type": "stream",
     "text": [
      " 63%|████████████████████████████████████████████████                            | 15806/25000 [07:47<04:49, 31.73it/s]"
     ]
    },
    {
     "name": "stdout",
     "output_type": "stream",
     "text": [
      "Epoch 15800, Error: 23440.430263, Learning rate: 0.011236\n",
      "Test MAE: 4541.403724\n",
      "Test MSE: 51392803.227498\n",
      "Sample 13: Prediction=28917.57, Target=29112\n",
      "Sample 40: Prediction=22954.62, Target=23066\n",
      "Sample 63: Prediction=46892.16, Target=46699\n"
     ]
    },
    {
     "name": "stderr",
     "output_type": "stream",
     "text": [
      " 64%|████████████████████████████████████████████████▎                           | 15904/25000 [07:51<09:15, 16.37it/s]"
     ]
    },
    {
     "name": "stdout",
     "output_type": "stream",
     "text": [
      "Epoch 15900, Error: 23305.500629, Learning rate: 0.011173\n",
      "Test MAE: 4541.199938\n",
      "Test MSE: 51391582.888594\n",
      "Sample 67: Prediction=26809.94, Target=26973\n",
      "Sample 9: Prediction=31629.84, Target=31584\n",
      "Sample 63: Prediction=46891.49, Target=46699\n"
     ]
    },
    {
     "name": "stderr",
     "output_type": "stream",
     "text": [
      " 64%|████████████████████████████████████████████████▋                           | 16005/25000 [07:54<05:41, 26.36it/s]"
     ]
    },
    {
     "name": "stdout",
     "output_type": "stream",
     "text": [
      "Epoch 16000, Error: 23108.145819, Learning rate: 0.011111\n",
      "Test MAE: 4541.104299\n",
      "Test MSE: 51394214.568227\n",
      "Sample 93: Prediction=26963.34, Target=27006\n",
      "Sample 64: Prediction=26857.56, Target=26902\n",
      "Sample 80: Prediction=31264.06, Target=31411\n"
     ]
    },
    {
     "name": "stderr",
     "output_type": "stream",
     "text": [
      " 64%|████████████████████████████████████████████████▉                           | 16104/25000 [07:58<05:42, 25.98it/s]"
     ]
    },
    {
     "name": "stdout",
     "output_type": "stream",
     "text": [
      "Epoch 16100, Error: 22990.784931, Learning rate: 0.011050\n",
      "Test MAE: 4540.990235\n",
      "Test MSE: 51393259.420428\n",
      "Sample 31: Prediction=22272.86, Target=22439\n",
      "Sample 19: Prediction=26757.79, Target=26772\n",
      "Sample 106: Prediction=28984.88, Target=28800\n"
     ]
    },
    {
     "name": "stderr",
     "output_type": "stream",
     "text": [
      " 65%|█████████████████████████████████████████████████▎                          | 16206/25000 [08:02<05:35, 26.25it/s]"
     ]
    },
    {
     "name": "stdout",
     "output_type": "stream",
     "text": [
      "Epoch 16200, Error: 22861.677241, Learning rate: 0.010989\n",
      "Test MAE: 4540.832524\n",
      "Test MSE: 51391470.253972\n",
      "Sample 74: Prediction=22762.07, Target=22808\n",
      "Sample 98: Prediction=25390.83, Target=25666\n",
      "Sample 102: Prediction=24484.19, Target=24687\n"
     ]
    },
    {
     "name": "stderr",
     "output_type": "stream",
     "text": [
      " 65%|█████████████████████████████████████████████████▌                          | 16305/25000 [08:06<05:22, 26.96it/s]"
     ]
    },
    {
     "name": "stdout",
     "output_type": "stream",
     "text": [
      "Epoch 16300, Error: 22479.738436, Learning rate: 0.010929\n",
      "Test MAE: 4538.766238\n",
      "Test MSE: 51383274.817725\n",
      "Sample 55: Prediction=29538.24, Target=29690\n",
      "Sample 63: Prediction=46886.97, Target=46699\n",
      "Sample 16: Prediction=25875.53, Target=25978\n"
     ]
    },
    {
     "name": "stderr",
     "output_type": "stream",
     "text": [
      " 66%|█████████████████████████████████████████████████▊                          | 16404/25000 [08:09<05:27, 26.26it/s]"
     ]
    },
    {
     "name": "stdout",
     "output_type": "stream",
     "text": [
      "Epoch 16400, Error: 22246.088980, Learning rate: 0.010870\n",
      "Test MAE: 4538.562052\n",
      "Test MSE: 51382561.597713\n",
      "Sample 23: Prediction=22761.25, Target=22891\n",
      "Sample 17: Prediction=28145.29, Target=28187\n",
      "Sample 82: Prediction=29393.78, Target=29272\n"
     ]
    },
    {
     "name": "stderr",
     "output_type": "stream",
     "text": [
      " 66%|██████████████████████████████████████████████████▏                         | 16505/25000 [08:13<05:30, 25.69it/s]"
     ]
    },
    {
     "name": "stdout",
     "output_type": "stream",
     "text": [
      "Epoch 16500, Error: 21933.071066, Learning rate: 0.010811\n",
      "Test MAE: 4538.571100\n",
      "Test MSE: 51381873.181345\n",
      "Sample 28: Prediction=38104.24, Target=38075\n",
      "Sample 89: Prediction=30442.67, Target=30566\n",
      "Sample 65: Prediction=29495.23, Target=29569\n"
     ]
    },
    {
     "name": "stderr",
     "output_type": "stream",
     "text": [
      " 66%|██████████████████████████████████████████████████▍                         | 16606/25000 [08:17<04:16, 32.71it/s]"
     ]
    },
    {
     "name": "stdout",
     "output_type": "stream",
     "text": [
      "Epoch 16600, Error: 21731.755101, Learning rate: 0.010753\n",
      "Test MAE: 4538.629255\n",
      "Test MSE: 51384231.759726\n",
      "Sample 83: Prediction=26511.71, Target=26699\n",
      "Sample 78: Prediction=26404.43, Target=26581\n",
      "Sample 87: Prediction=36855.59, Target=37016\n"
     ]
    },
    {
     "name": "stderr",
     "output_type": "stream",
     "text": [
      " 67%|██████████████████████████████████████████████████▊                         | 16704/25000 [08:22<05:53, 23.44it/s]"
     ]
    },
    {
     "name": "stdout",
     "output_type": "stream",
     "text": [
      "Epoch 16700, Error: 21548.515453, Learning rate: 0.010695\n",
      "Test MAE: 4538.675218\n",
      "Test MSE: 51380109.972798\n",
      "Sample 103: Prediction=29818.52, Target=29994\n",
      "Sample 15: Prediction=31359.89, Target=31713\n",
      "Sample 95: Prediction=29628.75, Target=29578\n"
     ]
    },
    {
     "name": "stderr",
     "output_type": "stream",
     "text": [
      " 67%|███████████████████████████████████████████████████                         | 16803/25000 [08:27<05:56, 23.02it/s]"
     ]
    },
    {
     "name": "stdout",
     "output_type": "stream",
     "text": [
      "Epoch 16800, Error: 21342.682822, Learning rate: 0.010638\n",
      "Test MAE: 4538.844821\n",
      "Test MSE: 51383534.369141\n",
      "Sample 2: Prediction=21783.38, Target=21841\n",
      "Sample 43: Prediction=36551.87, Target=36526\n",
      "Sample 20: Prediction=24367.89, Target=24501\n"
     ]
    },
    {
     "name": "stderr",
     "output_type": "stream",
     "text": [
      " 68%|███████████████████████████████████████████████████▍                        | 16904/25000 [08:32<05:53, 22.92it/s]"
     ]
    },
    {
     "name": "stdout",
     "output_type": "stream",
     "text": [
      "Epoch 16900, Error: 21183.086694, Learning rate: 0.010582\n",
      "Test MAE: 4538.963877\n",
      "Test MSE: 51383287.504476\n",
      "Sample 91: Prediction=22713.03, Target=23010\n",
      "Sample 84: Prediction=23460.39, Target=23848\n",
      "Sample 67: Prediction=26817.89, Target=26973\n"
     ]
    },
    {
     "name": "stderr",
     "output_type": "stream",
     "text": [
      " 68%|███████████████████████████████████████████████████▋                        | 17004/25000 [08:35<04:52, 27.32it/s]"
     ]
    },
    {
     "name": "stdout",
     "output_type": "stream",
     "text": [
      "Epoch 17000, Error: 20967.804053, Learning rate: 0.010526\n",
      "Test MAE: 4538.618579\n",
      "Test MSE: 51383193.356183\n",
      "Sample 36: Prediction=29037.46, Target=29183\n",
      "Sample 93: Prediction=26967.88, Target=27006\n",
      "Sample 73: Prediction=35706.57, Target=35771\n"
     ]
    },
    {
     "name": "stderr",
     "output_type": "stream",
     "text": [
      " 68%|███████████████████████████████████████████████████▉                        | 17104/25000 [08:39<05:04, 25.96it/s]"
     ]
    },
    {
     "name": "stdout",
     "output_type": "stream",
     "text": [
      "Epoch 17100, Error: 20815.751853, Learning rate: 0.010471\n",
      "Test MAE: 4538.795753\n",
      "Test MSE: 51383053.281436\n",
      "Sample 78: Prediction=26409.76, Target=26581\n",
      "Sample 24: Prediction=30090.72, Target=30171\n",
      "Sample 56: Prediction=30656.03, Target=30865\n"
     ]
    },
    {
     "name": "stderr",
     "output_type": "stream",
     "text": [
      " 69%|████████████████████████████████████████████████████▎                       | 17206/25000 [08:43<05:15, 24.73it/s]"
     ]
    },
    {
     "name": "stdout",
     "output_type": "stream",
     "text": [
      "Epoch 17200, Error: 20667.896388, Learning rate: 0.010417\n",
      "Test MAE: 4538.750210\n",
      "Test MSE: 51378929.271671\n",
      "Sample 22: Prediction=30907.84, Target=30986\n",
      "Sample 27: Prediction=22460.25, Target=22516\n",
      "Sample 82: Prediction=29388.99, Target=29272\n"
     ]
    },
    {
     "name": "stderr",
     "output_type": "stream",
     "text": [
      " 69%|████████████████████████████████████████████████████▌                       | 17307/25000 [08:46<04:27, 28.77it/s]"
     ]
    },
    {
     "name": "stdout",
     "output_type": "stream",
     "text": [
      "Epoch 17300, Error: 20521.529306, Learning rate: 0.010363\n",
      "Test MAE: 4538.668191\n",
      "Test MSE: 51374489.265911\n",
      "Sample 102: Prediction=24502.73, Target=24687\n",
      "Sample 50: Prediction=39651.54, Target=39709\n",
      "Sample 23: Prediction=22759.36, Target=22891\n"
     ]
    },
    {
     "name": "stderr",
     "output_type": "stream",
     "text": [
      " 70%|████████████████████████████████████████████████████▉                       | 17406/25000 [08:49<03:52, 32.65it/s]"
     ]
    },
    {
     "name": "stdout",
     "output_type": "stream",
     "text": [
      "Epoch 17400, Error: 20359.296577, Learning rate: 0.010309\n",
      "Test MAE: 4538.575939\n",
      "Test MSE: 51375661.359202\n",
      "Sample 30: Prediction=18625.25, Target=18690\n",
      "Sample 100: Prediction=27224.30, Target=27314\n",
      "Sample 21: Prediction=31291.79, Target=31328\n"
     ]
    },
    {
     "name": "stderr",
     "output_type": "stream",
     "text": [
      " 70%|█████████████████████████████████████████████████████▏                      | 17507/25000 [08:53<04:47, 26.07it/s]"
     ]
    },
    {
     "name": "stdout",
     "output_type": "stream",
     "text": [
      "Epoch 17500, Error: 20195.673525, Learning rate: 0.010256\n",
      "Test MAE: 4537.922648\n",
      "Test MSE: 51368764.244065\n",
      "Sample 26: Prediction=29941.22, Target=30008\n",
      "Sample 4: Prediction=24954.76, Target=25154\n",
      "Sample 39: Prediction=32456.10, Target=32549\n"
     ]
    },
    {
     "name": "stderr",
     "output_type": "stream",
     "text": [
      " 70%|█████████████████████████████████████████████████████▌                      | 17604/25000 [08:57<04:10, 29.49it/s]"
     ]
    },
    {
     "name": "stdout",
     "output_type": "stream",
     "text": [
      "Epoch 17600, Error: 19976.154705, Learning rate: 0.010204\n",
      "Test MAE: 4537.572530\n",
      "Test MSE: 51372550.881795\n",
      "Sample 93: Prediction=26976.26, Target=27006\n",
      "Sample 7: Prediction=21141.36, Target=21174\n",
      "Sample 37: Prediction=23065.20, Target=23217\n"
     ]
    },
    {
     "name": "stderr",
     "output_type": "stream",
     "text": [
      " 71%|█████████████████████████████████████████████████████▊                      | 17705/25000 [09:01<04:55, 24.72it/s]"
     ]
    },
    {
     "name": "stdout",
     "output_type": "stream",
     "text": [
      "Epoch 17700, Error: 19826.512222, Learning rate: 0.010152\n",
      "Test MAE: 4537.723379\n",
      "Test MSE: 51378730.301677\n",
      "Sample 64: Prediction=26863.01, Target=26902\n",
      "Sample 25: Prediction=32895.82, Target=33071\n",
      "Sample 43: Prediction=36549.70, Target=36526\n"
     ]
    },
    {
     "name": "stderr",
     "output_type": "stream",
     "text": [
      " 71%|██████████████████████████████████████████████████████                      | 17804/25000 [09:05<04:41, 25.59it/s]"
     ]
    },
    {
     "name": "stdout",
     "output_type": "stream",
     "text": [
      "Epoch 17800, Error: 19678.132063, Learning rate: 0.010101\n",
      "Test MAE: 4537.530586\n",
      "Test MSE: 51376024.804485\n",
      "Sample 102: Prediction=24510.40, Target=24687\n",
      "Sample 71: Prediction=23642.02, Target=23776\n",
      "Sample 21: Prediction=31292.86, Target=31328\n"
     ]
    },
    {
     "name": "stderr",
     "output_type": "stream",
     "text": [
      " 72%|██████████████████████████████████████████████████████▍                     | 17905/25000 [09:09<04:40, 25.30it/s]"
     ]
    },
    {
     "name": "stdout",
     "output_type": "stream",
     "text": [
      "Epoch 17900, Error: 19581.544565, Learning rate: 0.010050\n",
      "Test MAE: 4537.853830\n",
      "Test MSE: 51377478.438472\n",
      "Sample 79: Prediction=22537.83, Target=22618\n",
      "Sample 85: Prediction=26987.56, Target=27073\n",
      "Sample 14: Prediction=28462.04, Target=28522\n"
     ]
    },
    {
     "name": "stderr",
     "output_type": "stream",
     "text": [
      " 72%|██████████████████████████████████████████████████████▋                     | 18003/25000 [09:13<05:57, 19.56it/s]"
     ]
    },
    {
     "name": "stdout",
     "output_type": "stream",
     "text": [
      "Epoch 18000, Error: 19480.395650, Learning rate: 0.010000\n",
      "Test MAE: 4538.079106\n",
      "Test MSE: 51378734.931367\n",
      "Sample 66: Prediction=24206.20, Target=24477\n",
      "Sample 80: Prediction=31283.17, Target=31411\n",
      "Sample 90: Prediction=28082.86, Target=28179\n"
     ]
    },
    {
     "name": "stderr",
     "output_type": "stream",
     "text": [
      " 72%|███████████████████████████████████████████████████████                     | 18103/25000 [09:17<05:32, 20.75it/s]"
     ]
    },
    {
     "name": "stdout",
     "output_type": "stream",
     "text": [
      "Epoch 18100, Error: 19359.053388, Learning rate: 0.009950\n",
      "Test MAE: 4538.172601\n",
      "Test MSE: 51381549.913176\n",
      "Sample 32: Prediction=31599.03, Target=31736\n",
      "Sample 4: Prediction=24956.15, Target=25154\n",
      "Sample 48: Prediction=29134.66, Target=28979\n"
     ]
    },
    {
     "name": "stderr",
     "output_type": "stream",
     "text": [
      " 73%|███████████████████████████████████████████████████████▎                    | 18206/25000 [09:21<04:19, 26.19it/s]"
     ]
    },
    {
     "name": "stdout",
     "output_type": "stream",
     "text": [
      "Epoch 18200, Error: 19214.440324, Learning rate: 0.009901\n",
      "Test MAE: 4537.768828\n",
      "Test MSE: 51387869.051079\n",
      "Sample 104: Prediction=23810.84, Target=23767\n",
      "Sample 65: Prediction=29512.87, Target=29569\n",
      "Sample 94: Prediction=19601.57, Target=19705\n"
     ]
    },
    {
     "name": "stderr",
     "output_type": "stream",
     "text": [
      " 73%|███████████████████████████████████████████████████████▋                    | 18303/25000 [09:25<03:38, 30.70it/s]"
     ]
    },
    {
     "name": "stdout",
     "output_type": "stream",
     "text": [
      "Epoch 18300, Error: 19109.799847, Learning rate: 0.009852\n",
      "Test MAE: 4538.128283\n",
      "Test MSE: 51393405.412655\n",
      "Sample 84: Prediction=23479.00, Target=23848\n",
      "Sample 99: Prediction=21744.62, Target=21896\n",
      "Sample 11: Prediction=22529.38, Target=22653\n"
     ]
    },
    {
     "name": "stderr",
     "output_type": "stream",
     "text": [
      " 74%|███████████████████████████████████████████████████████▉                    | 18404/25000 [09:29<04:27, 24.70it/s]"
     ]
    },
    {
     "name": "stdout",
     "output_type": "stream",
     "text": [
      "Epoch 18400, Error: 19021.722310, Learning rate: 0.009804\n",
      "Test MAE: 4538.460284\n",
      "Test MSE: 51399293.183378\n",
      "Sample 47: Prediction=27810.98, Target=27922\n",
      "Sample 85: Prediction=26999.13, Target=27073\n",
      "Sample 17: Prediction=28154.82, Target=28187\n"
     ]
    },
    {
     "name": "stderr",
     "output_type": "stream",
     "text": [
      " 74%|████████████████████████████████████████████████████████▎                   | 18506/25000 [09:33<04:06, 26.30it/s]"
     ]
    },
    {
     "name": "stdout",
     "output_type": "stream",
     "text": [
      "Epoch 18500, Error: 18886.436898, Learning rate: 0.009756\n",
      "Test MAE: 4537.806616\n",
      "Test MSE: 51397204.579083\n",
      "Sample 74: Prediction=22785.74, Target=22808\n",
      "Sample 24: Prediction=30099.27, Target=30171\n",
      "Sample 104: Prediction=23803.62, Target=23767\n"
     ]
    },
    {
     "name": "stderr",
     "output_type": "stream",
     "text": [
      " 74%|████████████████████████████████████████████████████████▌                   | 18605/25000 [09:36<04:11, 25.46it/s]"
     ]
    },
    {
     "name": "stdout",
     "output_type": "stream",
     "text": [
      "Epoch 18600, Error: 18788.361356, Learning rate: 0.009709\n",
      "Test MAE: 4537.873498\n",
      "Test MSE: 51396280.262760\n",
      "Sample 30: Prediction=18624.01, Target=18690\n",
      "Sample 51: Prediction=35441.34, Target=35521\n",
      "Sample 34: Prediction=23789.55, Target=23867\n"
     ]
    },
    {
     "name": "stderr",
     "output_type": "stream",
     "text": [
      " 75%|████████████████████████████████████████████████████████▊                   | 18705/25000 [09:40<04:00, 26.22it/s]"
     ]
    },
    {
     "name": "stdout",
     "output_type": "stream",
     "text": [
      "Epoch 18700, Error: 18656.521942, Learning rate: 0.009662\n",
      "Test MAE: 4538.049799\n",
      "Test MSE: 51394295.768354\n",
      "Sample 54: Prediction=23898.86, Target=24021\n",
      "Sample 78: Prediction=26418.41, Target=26581\n",
      "Sample 95: Prediction=29632.30, Target=29578\n"
     ]
    },
    {
     "name": "stderr",
     "output_type": "stream",
     "text": [
      " 75%|█████████████████████████████████████████████████████████▏                  | 18803/25000 [09:44<04:20, 23.79it/s]"
     ]
    },
    {
     "name": "stdout",
     "output_type": "stream",
     "text": [
      "Epoch 18800, Error: 18562.183622, Learning rate: 0.009615\n",
      "Test MAE: 4538.006277\n",
      "Test MSE: 51392225.742815\n",
      "Sample 20: Prediction=24368.90, Target=24501\n",
      "Sample 74: Prediction=22786.41, Target=22808\n",
      "Sample 30: Prediction=18626.48, Target=18690\n"
     ]
    },
    {
     "name": "stderr",
     "output_type": "stream",
     "text": [
      " 76%|█████████████████████████████████████████████████████████▍                  | 18905/25000 [09:48<03:51, 26.28it/s]"
     ]
    },
    {
     "name": "stdout",
     "output_type": "stream",
     "text": [
      "Epoch 18900, Error: 18470.384284, Learning rate: 0.009569\n",
      "Test MAE: 4538.091322\n",
      "Test MSE: 51392695.107920\n",
      "Sample 94: Prediction=19603.65, Target=19705\n",
      "Sample 62: Prediction=25626.38, Target=25718\n",
      "Sample 17: Prediction=28155.99, Target=28187\n"
     ]
    },
    {
     "name": "stderr",
     "output_type": "stream",
     "text": [
      " 76%|█████████████████████████████████████████████████████████▊                  | 19004/25000 [09:52<03:53, 25.62it/s]"
     ]
    },
    {
     "name": "stdout",
     "output_type": "stream",
     "text": [
      "Epoch 19000, Error: 18373.767931, Learning rate: 0.009524\n",
      "Test MAE: 4538.301223\n",
      "Test MSE: 51398383.738740\n",
      "Sample 85: Prediction=27002.45, Target=27073\n",
      "Sample 41: Prediction=23210.30, Target=23342\n",
      "Sample 48: Prediction=29132.66, Target=28979\n"
     ]
    },
    {
     "name": "stderr",
     "output_type": "stream",
     "text": [
      " 76%|██████████████████████████████████████████████████████████                  | 19104/25000 [09:56<03:05, 31.75it/s]"
     ]
    },
    {
     "name": "stdout",
     "output_type": "stream",
     "text": [
      "Epoch 19100, Error: 18271.961030, Learning rate: 0.009479\n",
      "Test MAE: 4538.149106\n",
      "Test MSE: 51395156.602792\n",
      "Sample 63: Prediction=46874.30, Target=46699\n",
      "Sample 56: Prediction=30666.28, Target=30865\n",
      "Sample 80: Prediction=31283.28, Target=31411\n"
     ]
    },
    {
     "name": "stderr",
     "output_type": "stream",
     "text": [
      " 77%|██████████████████████████████████████████████████████████▍                 | 19205/25000 [09:59<03:42, 26.03it/s]"
     ]
    },
    {
     "name": "stdout",
     "output_type": "stream",
     "text": [
      "Epoch 19200, Error: 18177.540175, Learning rate: 0.009434\n",
      "Test MAE: 4538.115566\n",
      "Test MSE: 51393915.007891\n",
      "Sample 34: Prediction=23791.84, Target=23867\n",
      "Sample 29: Prediction=30867.18, Target=30811\n",
      "Sample 46: Prediction=32936.78, Target=33019\n"
     ]
    },
    {
     "name": "stderr",
     "output_type": "stream",
     "text": [
      " 77%|██████████████████████████████████████████████████████████▋                 | 19305/25000 [10:04<03:47, 24.99it/s]"
     ]
    },
    {
     "name": "stdout",
     "output_type": "stream",
     "text": [
      "Epoch 19300, Error: 18097.436742, Learning rate: 0.009390\n",
      "Test MAE: 4538.169755\n",
      "Test MSE: 51394539.555274\n",
      "Sample 14: Prediction=28470.37, Target=28522\n",
      "Sample 82: Prediction=29389.57, Target=29272\n",
      "Sample 53: Prediction=26033.27, Target=26152\n"
     ]
    },
    {
     "name": "stderr",
     "output_type": "stream",
     "text": [
      " 78%|██████████████████████████████████████████████████████████▉                 | 19407/25000 [10:07<02:00, 46.52it/s]"
     ]
    },
    {
     "name": "stdout",
     "output_type": "stream",
     "text": [
      "Epoch 19400, Error: 17991.916917, Learning rate: 0.009346\n",
      "Test MAE: 4538.229424\n",
      "Test MSE: 51395127.300088\n",
      "Sample 48: Prediction=29134.15, Target=28979\n",
      "Sample 65: Prediction=29521.79, Target=29569\n",
      "Sample 78: Prediction=26421.20, Target=26581\n"
     ]
    },
    {
     "name": "stderr",
     "output_type": "stream",
     "text": [
      " 78%|███████████████████████████████████████████████████████████▎                | 19504/25000 [10:10<03:43, 24.57it/s]"
     ]
    },
    {
     "name": "stdout",
     "output_type": "stream",
     "text": [
      "Epoch 19500, Error: 17914.723400, Learning rate: 0.009302\n",
      "Test MAE: 4538.287122\n",
      "Test MSE: 51395963.525755\n",
      "Sample 47: Prediction=27811.96, Target=27922\n",
      "Sample 53: Prediction=26034.48, Target=26152\n",
      "Sample 16: Prediction=25880.16, Target=25978\n"
     ]
    },
    {
     "name": "stderr",
     "output_type": "stream",
     "text": [
      " 78%|███████████████████████████████████████████████████████████▌                | 19604/25000 [10:14<03:36, 24.97it/s]"
     ]
    },
    {
     "name": "stdout",
     "output_type": "stream",
     "text": [
      "Epoch 19600, Error: 17779.246835, Learning rate: 0.009259\n",
      "Test MAE: 4538.302583\n",
      "Test MSE: 51391838.683957\n",
      "Sample 103: Prediction=29834.21, Target=29994\n",
      "Sample 24: Prediction=30101.50, Target=30171\n",
      "Sample 89: Prediction=30477.46, Target=30566\n"
     ]
    },
    {
     "name": "stderr",
     "output_type": "stream",
     "text": [
      " 79%|███████████████████████████████████████████████████████████▉                | 19706/25000 [10:18<03:27, 25.50it/s]"
     ]
    },
    {
     "name": "stdout",
     "output_type": "stream",
     "text": [
      "Epoch 19700, Error: 17706.547488, Learning rate: 0.009217\n",
      "Test MAE: 4538.520946\n",
      "Test MSE: 51395060.341195\n",
      "Sample 31: Prediction=22302.01, Target=22439\n",
      "Sample 99: Prediction=21753.78, Target=21896\n",
      "Sample 67: Prediction=26841.23, Target=26973\n"
     ]
    },
    {
     "name": "stderr",
     "output_type": "stream",
     "text": [
      " 79%|████████████████████████████████████████████████████████████▏               | 19806/25000 [10:22<03:20, 25.97it/s]"
     ]
    },
    {
     "name": "stdout",
     "output_type": "stream",
     "text": [
      "Epoch 19800, Error: 17617.619983, Learning rate: 0.009174\n",
      "Test MAE: 4538.580763\n",
      "Test MSE: 51395055.728104\n",
      "Sample 5: Prediction=20691.34, Target=20967\n",
      "Sample 76: Prediction=29919.85, Target=30142\n",
      "Sample 32: Prediction=31601.75, Target=31736\n"
     ]
    },
    {
     "name": "stderr",
     "output_type": "stream",
     "text": [
      " 80%|████████████████████████████████████████████████████████████▌               | 19906/25000 [10:26<03:21, 25.28it/s]"
     ]
    },
    {
     "name": "stdout",
     "output_type": "stream",
     "text": [
      "Epoch 19900, Error: 17537.153286, Learning rate: 0.009132\n",
      "Test MAE: 4538.637126\n",
      "Test MSE: 51396134.944893\n",
      "Sample 8: Prediction=22443.43, Target=22628\n",
      "Sample 52: Prediction=28534.71, Target=28675\n",
      "Sample 20: Prediction=24379.03, Target=24501\n"
     ]
    },
    {
     "name": "stderr",
     "output_type": "stream",
     "text": [
      " 80%|████████████████████████████████████████████████████████████▊               | 20006/25000 [10:30<03:07, 26.63it/s]"
     ]
    },
    {
     "name": "stdout",
     "output_type": "stream",
     "text": [
      "Epoch 20000, Error: 17453.777925, Learning rate: 0.009091\n",
      "Test MAE: 4538.671253\n",
      "Test MSE: 51397091.128114\n",
      "Sample 45: Prediction=29106.48, Target=29204\n",
      "Sample 59: Prediction=23735.32, Target=23788\n",
      "Sample 42: Prediction=22417.04, Target=22552\n"
     ]
    },
    {
     "name": "stderr",
     "output_type": "stream",
     "text": [
      " 80%|█████████████████████████████████████████████████████████████               | 20102/25000 [10:34<04:34, 17.84it/s]"
     ]
    },
    {
     "name": "stdout",
     "output_type": "stream",
     "text": [
      "Epoch 20100, Error: 17350.969968, Learning rate: 0.009050\n",
      "Test MAE: 4538.827950\n",
      "Test MSE: 51394588.433709\n",
      "Sample 43: Prediction=36553.20, Target=36526\n",
      "Sample 76: Prediction=29920.98, Target=30142\n",
      "Sample 62: Prediction=25634.83, Target=25718\n"
     ]
    },
    {
     "name": "stderr",
     "output_type": "stream",
     "text": [
      " 81%|█████████████████████████████████████████████████████████████▍              | 20204/25000 [10:37<03:05, 25.84it/s]"
     ]
    },
    {
     "name": "stdout",
     "output_type": "stream",
     "text": [
      "Epoch 20200, Error: 17224.207532, Learning rate: 0.009009\n",
      "Test MAE: 4539.063416\n",
      "Test MSE: 51395008.385047\n",
      "Sample 81: Prediction=29934.19, Target=30000\n",
      "Sample 100: Prediction=27228.77, Target=27314\n",
      "Sample 16: Prediction=25885.48, Target=25978\n"
     ]
    },
    {
     "name": "stderr",
     "output_type": "stream",
     "text": [
      " 81%|█████████████████████████████████████████████████████████████▋              | 20306/25000 [10:41<02:52, 27.14it/s]"
     ]
    },
    {
     "name": "stdout",
     "output_type": "stream",
     "text": [
      "Epoch 20300, Error: 17102.093684, Learning rate: 0.008969\n",
      "Test MAE: 4539.363224\n",
      "Test MSE: 51395067.095313\n",
      "Sample 54: Prediction=23904.57, Target=24021\n",
      "Sample 72: Prediction=25853.11, Target=26120\n",
      "Sample 78: Prediction=26426.66, Target=26581\n"
     ]
    },
    {
     "name": "stderr",
     "output_type": "stream",
     "text": [
      " 82%|██████████████████████████████████████████████████████████████              | 20406/25000 [10:45<02:51, 26.80it/s]"
     ]
    },
    {
     "name": "stdout",
     "output_type": "stream",
     "text": [
      "Epoch 20400, Error: 16972.221652, Learning rate: 0.008929\n",
      "Test MAE: 4539.537633\n",
      "Test MSE: 51393990.629571\n",
      "Sample 36: Prediction=29067.50, Target=29183\n",
      "Sample 98: Prediction=25429.33, Target=25666\n",
      "Sample 69: Prediction=30892.62, Target=30673\n"
     ]
    },
    {
     "name": "stderr",
     "output_type": "stream",
     "text": [
      " 82%|██████████████████████████████████████████████████████████████▎             | 20506/25000 [10:49<02:50, 26.31it/s]"
     ]
    },
    {
     "name": "stdout",
     "output_type": "stream",
     "text": [
      "Epoch 20500, Error: 16852.503034, Learning rate: 0.008889\n",
      "Test MAE: 4539.340509\n",
      "Test MSE: 51387483.002893\n",
      "Sample 28: Prediction=38101.77, Target=38075\n",
      "Sample 84: Prediction=23504.76, Target=23848\n",
      "Sample 40: Prediction=22974.78, Target=23066\n"
     ]
    },
    {
     "name": "stderr",
     "output_type": "stream",
     "text": [
      " 82%|██████████████████████████████████████████████████████████████▋             | 20604/25000 [10:53<02:53, 25.27it/s]"
     ]
    },
    {
     "name": "stdout",
     "output_type": "stream",
     "text": [
      "Epoch 20600, Error: 16700.445770, Learning rate: 0.008850\n",
      "Test MAE: 4539.203342\n",
      "Test MSE: 51385884.840081\n",
      "Sample 95: Prediction=29633.04, Target=29578\n",
      "Sample 56: Prediction=30676.72, Target=30865\n",
      "Sample 39: Prediction=32461.73, Target=32549\n"
     ]
    },
    {
     "name": "stderr",
     "output_type": "stream",
     "text": [
      " 83%|██████████████████████████████████████████████████████████████▉             | 20705/25000 [10:57<02:52, 24.83it/s]"
     ]
    },
    {
     "name": "stdout",
     "output_type": "stream",
     "text": [
      "Epoch 20700, Error: 16566.768968, Learning rate: 0.008811\n",
      "Test MAE: 4539.676758\n",
      "Test MSE: 51391194.125801\n",
      "Sample 23: Prediction=22773.68, Target=22891\n",
      "Sample 78: Prediction=26435.98, Target=26581\n",
      "Sample 73: Prediction=35729.71, Target=35771\n"
     ]
    },
    {
     "name": "stderr",
     "output_type": "stream",
     "text": [
      " 83%|███████████████████████████████████████████████████████████████▏            | 20804/25000 [11:00<02:42, 25.83it/s]"
     ]
    },
    {
     "name": "stdout",
     "output_type": "stream",
     "text": [
      "Epoch 20800, Error: 16307.054116, Learning rate: 0.008772\n",
      "Test MAE: 4538.082567\n",
      "Test MSE: 51364632.511710\n",
      "Sample 101: Prediction=25596.21, Target=25566\n",
      "Sample 37: Prediction=23065.62, Target=23217\n",
      "Sample 27: Prediction=22465.18, Target=22516\n"
     ]
    },
    {
     "name": "stderr",
     "output_type": "stream",
     "text": [
      " 84%|███████████████████████████████████████████████████████████████▌            | 20907/25000 [11:03<01:36, 42.44it/s]"
     ]
    },
    {
     "name": "stdout",
     "output_type": "stream",
     "text": [
      "Epoch 20900, Error: 15934.765224, Learning rate: 0.008734\n",
      "Test MAE: 4537.089505\n",
      "Test MSE: 51369789.633782\n",
      "Sample 70: Prediction=30922.86, Target=30984\n",
      "Sample 79: Prediction=22555.86, Target=22618\n",
      "Sample 97: Prediction=23954.12, Target=23954\n"
     ]
    },
    {
     "name": "stderr",
     "output_type": "stream",
     "text": [
      " 84%|███████████████████████████████████████████████████████████████▊            | 21003/25000 [11:11<03:57, 16.83it/s]"
     ]
    },
    {
     "name": "stdout",
     "output_type": "stream",
     "text": [
      "Epoch 21000, Error: 15840.377097, Learning rate: 0.008696\n",
      "Test MAE: 4537.770230\n",
      "Test MSE: 51372676.883759\n",
      "Sample 5: Prediction=20715.02, Target=20967\n",
      "Sample 31: Prediction=22320.52, Target=22439\n",
      "Sample 41: Prediction=23224.56, Target=23342\n"
     ]
    },
    {
     "name": "stderr",
     "output_type": "stream",
     "text": [
      " 84%|████████████████████████████████████████████████████████████████▏           | 21104/25000 [11:14<01:46, 36.50it/s]"
     ]
    },
    {
     "name": "stdout",
     "output_type": "stream",
     "text": [
      "Epoch 21100, Error: 15779.226268, Learning rate: 0.008658\n",
      "Test MAE: 4538.226591\n",
      "Test MSE: 51373071.860240\n",
      "Sample 6: Prediction=28810.95, Target=28895\n",
      "Sample 26: Prediction=29952.38, Target=30008\n",
      "Sample 95: Prediction=29636.49, Target=29578\n"
     ]
    },
    {
     "name": "stderr",
     "output_type": "stream",
     "text": [
      " 85%|████████████████████████████████████████████████████████████████▍           | 21205/25000 [11:18<02:23, 26.47it/s]"
     ]
    },
    {
     "name": "stdout",
     "output_type": "stream",
     "text": [
      "Epoch 21200, Error: 15690.579329, Learning rate: 0.008621\n",
      "Test MAE: 4538.638261\n",
      "Test MSE: 51374484.257091\n",
      "Sample 56: Prediction=30682.17, Target=30865\n",
      "Sample 100: Prediction=27229.67, Target=27314\n",
      "Sample 59: Prediction=23748.51, Target=23788\n"
     ]
    },
    {
     "name": "stderr",
     "output_type": "stream",
     "text": [
      " 85%|████████████████████████████████████████████████████████████████▊           | 21306/25000 [11:22<02:25, 25.38it/s]"
     ]
    },
    {
     "name": "stdout",
     "output_type": "stream",
     "text": [
      "Epoch 21300, Error: 15621.326142, Learning rate: 0.008584\n",
      "Test MAE: 4538.887466\n",
      "Test MSE: 51374209.289960\n",
      "Sample 28: Prediction=38106.67, Target=38075\n",
      "Sample 45: Prediction=29121.27, Target=29204\n",
      "Sample 95: Prediction=29636.48, Target=29578\n"
     ]
    },
    {
     "name": "stderr",
     "output_type": "stream",
     "text": [
      " 86%|█████████████████████████████████████████████████████████████████           | 21404/25000 [11:26<02:24, 24.90it/s]"
     ]
    },
    {
     "name": "stdout",
     "output_type": "stream",
     "text": [
      "Epoch 21400, Error: 15532.685361, Learning rate: 0.008547\n",
      "Test MAE: 4538.941779\n",
      "Test MSE: 51373799.688878\n",
      "Sample 52: Prediction=28548.26, Target=28675\n",
      "Sample 105: Prediction=29711.86, Target=29884\n",
      "Sample 98: Prediction=25429.79, Target=25666\n"
     ]
    },
    {
     "name": "stderr",
     "output_type": "stream",
     "text": [
      " 86%|█████████████████████████████████████████████████████████████████▍          | 21506/25000 [11:30<02:01, 28.75it/s]"
     ]
    },
    {
     "name": "stdout",
     "output_type": "stream",
     "text": [
      "Epoch 21500, Error: 15355.033765, Learning rate: 0.008511\n",
      "Test MAE: 4538.441518\n",
      "Test MSE: 51370045.262585\n",
      "Sample 24: Prediction=30101.94, Target=30171\n",
      "Sample 54: Prediction=23920.01, Target=24021\n",
      "Sample 49: Prediction=20934.82, Target=21018\n"
     ]
    },
    {
     "name": "stderr",
     "output_type": "stream",
     "text": [
      " 86%|█████████████████████████████████████████████████████████████████▋          | 21604/25000 [11:34<02:17, 24.61it/s]"
     ]
    },
    {
     "name": "stdout",
     "output_type": "stream",
     "text": [
      "Epoch 21600, Error: 15280.451800, Learning rate: 0.008475\n",
      "Test MAE: 4538.511816\n",
      "Test MSE: 51368244.075958\n",
      "Sample 76: Prediction=29938.55, Target=30142\n",
      "Sample 69: Prediction=30886.50, Target=30673\n",
      "Sample 54: Prediction=23919.99, Target=24021\n"
     ]
    },
    {
     "name": "stderr",
     "output_type": "stream",
     "text": [
      " 87%|█████████████████████████████████████████████████████████████████▉          | 21704/25000 [11:38<02:09, 25.55it/s]"
     ]
    },
    {
     "name": "stdout",
     "output_type": "stream",
     "text": [
      "Epoch 21700, Error: 15207.853111, Learning rate: 0.008439\n",
      "Test MAE: 4538.674220\n",
      "Test MSE: 51367365.741158\n",
      "Sample 103: Prediction=29864.21, Target=29994\n",
      "Sample 48: Prediction=29114.20, Target=28979\n",
      "Sample 92: Prediction=25568.19, Target=25597\n"
     ]
    },
    {
     "name": "stderr",
     "output_type": "stream",
     "text": [
      " 87%|██████████████████████████████████████████████████████████████████▎         | 21803/25000 [11:42<02:25, 21.91it/s]"
     ]
    },
    {
     "name": "stdout",
     "output_type": "stream",
     "text": [
      "Epoch 21800, Error: 15124.069347, Learning rate: 0.008403\n",
      "Test MAE: 4539.427885\n",
      "Test MSE: 51371605.784968\n",
      "Sample 107: Prediction=28960.75, Target=29040\n",
      "Sample 44: Prediction=22430.01, Target=22763\n",
      "Sample 20: Prediction=24403.43, Target=24501\n"
     ]
    },
    {
     "name": "stderr",
     "output_type": "stream",
     "text": [
      " 88%|██████████████████████████████████████████████████████████████████▌         | 21905/25000 [11:46<02:00, 25.69it/s]"
     ]
    },
    {
     "name": "stdout",
     "output_type": "stream",
     "text": [
      "Epoch 21900, Error: 15024.042010, Learning rate: 0.008368\n",
      "Test MAE: 4539.397628\n",
      "Test MSE: 51370412.349372\n",
      "Sample 23: Prediction=22774.98, Target=22891\n",
      "Sample 88: Prediction=29798.18, Target=29866\n",
      "Sample 7: Prediction=21160.69, Target=21174\n"
     ]
    },
    {
     "name": "stderr",
     "output_type": "stream",
     "text": [
      " 88%|██████████████████████████████████████████████████████████████████▉         | 22004/25000 [11:50<01:55, 25.83it/s]"
     ]
    },
    {
     "name": "stdout",
     "output_type": "stream",
     "text": [
      "Epoch 22000, Error: 14591.979814, Learning rate: 0.008333\n",
      "Test MAE: 4537.706455\n",
      "Test MSE: 51353132.102070\n",
      "Sample 23: Prediction=22775.05, Target=22891\n",
      "Sample 0: Prediction=32934.66, Target=32952\n",
      "Sample 54: Prediction=23922.72, Target=24021\n"
     ]
    },
    {
     "name": "stderr",
     "output_type": "stream",
     "text": [
      " 88%|███████████████████████████████████████████████████████████████████▏        | 22104/25000 [11:54<01:55, 24.98it/s]"
     ]
    },
    {
     "name": "stdout",
     "output_type": "stream",
     "text": [
      "Epoch 22100, Error: 14244.628533, Learning rate: 0.008299\n",
      "Test MAE: 4538.163536\n",
      "Test MSE: 51383889.792268\n",
      "Sample 47: Prediction=27808.86, Target=27922\n",
      "Sample 17: Prediction=28180.21, Target=28187\n",
      "Sample 14: Prediction=28499.14, Target=28522\n"
     ]
    },
    {
     "name": "stderr",
     "output_type": "stream",
     "text": [
      " 89%|███████████████████████████████████████████████████████████████████▌        | 22206/25000 [11:58<01:45, 26.39it/s]"
     ]
    },
    {
     "name": "stdout",
     "output_type": "stream",
     "text": [
      "Epoch 22200, Error: 14103.022954, Learning rate: 0.008264\n",
      "Test MAE: 4537.769866\n",
      "Test MSE: 51382289.213481\n",
      "Sample 21: Prediction=31294.10, Target=31328\n",
      "Sample 27: Prediction=22471.25, Target=22516\n",
      "Sample 38: Prediction=27923.87, Target=27880\n"
     ]
    },
    {
     "name": "stderr",
     "output_type": "stream",
     "text": [
      " 89%|███████████████████████████████████████████████████████████████████▊        | 22303/25000 [12:01<01:41, 26.48it/s]"
     ]
    },
    {
     "name": "stdout",
     "output_type": "stream",
     "text": [
      "Epoch 22300, Error: 14014.369023, Learning rate: 0.008230\n",
      "Test MAE: 4538.327561\n",
      "Test MSE: 51387395.123106\n",
      "Sample 69: Prediction=30887.36, Target=30673\n",
      "Sample 71: Prediction=23669.98, Target=23776\n",
      "Sample 13: Prediction=28963.80, Target=29112\n"
     ]
    },
    {
     "name": "stderr",
     "output_type": "stream",
     "text": [
      " 90%|████████████████████████████████████████████████████████████████████        | 22404/25000 [12:05<01:37, 26.60it/s]"
     ]
    },
    {
     "name": "stdout",
     "output_type": "stream",
     "text": [
      "Epoch 22400, Error: 13944.447772, Learning rate: 0.008197\n",
      "Test MAE: 4538.613134\n",
      "Test MSE: 51393349.496525\n",
      "Sample 0: Prediction=32935.49, Target=32952\n",
      "Sample 105: Prediction=29720.81, Target=29884\n",
      "Sample 97: Prediction=23957.95, Target=23954\n"
     ]
    },
    {
     "name": "stderr",
     "output_type": "stream",
     "text": [
      " 90%|████████████████████████████████████████████████████████████████████▍       | 22505/25000 [12:09<01:34, 26.50it/s]"
     ]
    },
    {
     "name": "stdout",
     "output_type": "stream",
     "text": [
      "Epoch 22500, Error: 13884.640861, Learning rate: 0.008163\n",
      "Test MAE: 4539.188424\n",
      "Test MSE: 51396248.157957\n",
      "Sample 5: Prediction=20739.35, Target=20967\n",
      "Sample 102: Prediction=24545.50, Target=24687\n",
      "Sample 91: Prediction=22783.78, Target=23010\n"
     ]
    },
    {
     "name": "stderr",
     "output_type": "stream",
     "text": [
      " 90%|████████████████████████████████████████████████████████████████████▋       | 22604/25000 [12:13<02:01, 19.79it/s]"
     ]
    },
    {
     "name": "stdout",
     "output_type": "stream",
     "text": [
      "Epoch 22600, Error: 13833.601059, Learning rate: 0.008130\n",
      "Test MAE: 4539.657945\n",
      "Test MSE: 51397427.200793\n",
      "Sample 81: Prediction=29950.64, Target=30000\n",
      "Sample 106: Prediction=28969.79, Target=28800\n",
      "Sample 73: Prediction=35728.61, Target=35771\n"
     ]
    },
    {
     "name": "stderr",
     "output_type": "stream",
     "text": [
      " 91%|█████████████████████████████████████████████████████████████████████       | 22706/25000 [12:17<01:25, 26.95it/s]"
     ]
    },
    {
     "name": "stdout",
     "output_type": "stream",
     "text": [
      "Epoch 22700, Error: 13741.991884, Learning rate: 0.008097\n",
      "Test MAE: 4540.085253\n",
      "Test MSE: 51403003.798035\n",
      "Sample 90: Prediction=28104.92, Target=28179\n",
      "Sample 3: Prediction=10509.23, Target=10532\n",
      "Sample 31: Prediction=22316.32, Target=22439\n"
     ]
    },
    {
     "name": "stderr",
     "output_type": "stream",
     "text": [
      " 91%|█████████████████████████████████████████████████████████████████████▎      | 22805/25000 [12:20<01:23, 26.25it/s]"
     ]
    },
    {
     "name": "stdout",
     "output_type": "stream",
     "text": [
      "Epoch 22800, Error: 13676.072166, Learning rate: 0.008065\n",
      "Test MAE: 4540.083219\n",
      "Test MSE: 51401179.256107\n",
      "Sample 71: Prediction=23668.51, Target=23776\n",
      "Sample 42: Prediction=22406.75, Target=22552\n",
      "Sample 93: Prediction=26981.45, Target=27006\n"
     ]
    },
    {
     "name": "stderr",
     "output_type": "stream",
     "text": [
      " 92%|█████████████████████████████████████████████████████████████████████▋      | 22907/25000 [12:25<01:19, 26.45it/s]"
     ]
    },
    {
     "name": "stdout",
     "output_type": "stream",
     "text": [
      "Epoch 22900, Error: 13628.930573, Learning rate: 0.008032\n",
      "Test MAE: 4540.318255\n",
      "Test MSE: 51403382.273382\n",
      "Sample 35: Prediction=27557.86, Target=27456\n",
      "Sample 28: Prediction=38117.51, Target=38075\n",
      "Sample 70: Prediction=30941.91, Target=30984\n"
     ]
    },
    {
     "name": "stderr",
     "output_type": "stream",
     "text": [
      " 92%|█████████████████████████████████████████████████████████████████████▉      | 23006/25000 [12:28<01:16, 26.01it/s]"
     ]
    },
    {
     "name": "stdout",
     "output_type": "stream",
     "text": [
      "Epoch 23000, Error: 13510.075690, Learning rate: 0.008000\n",
      "Test MAE: 4540.151076\n",
      "Test MSE: 51403252.402456\n",
      "Sample 82: Prediction=29384.52, Target=29272\n",
      "Sample 64: Prediction=26879.43, Target=26902\n",
      "Sample 17: Prediction=28177.30, Target=28187\n"
     ]
    },
    {
     "name": "stderr",
     "output_type": "stream",
     "text": [
      " 92%|██████████████████████████████████████████████████████████████████████▏     | 23106/25000 [12:32<01:10, 26.80it/s]"
     ]
    },
    {
     "name": "stdout",
     "output_type": "stream",
     "text": [
      "Epoch 23100, Error: 13465.330197, Learning rate: 0.007968\n",
      "Test MAE: 4540.284011\n",
      "Test MSE: 51404883.436031\n",
      "Sample 88: Prediction=29811.15, Target=29866\n",
      "Sample 30: Prediction=18630.09, Target=18690\n",
      "Sample 38: Prediction=27924.69, Target=27880\n"
     ]
    },
    {
     "name": "stderr",
     "output_type": "stream",
     "text": [
      " 93%|██████████████████████████████████████████████████████████████████████▌     | 23205/25000 [12:36<01:07, 26.43it/s]"
     ]
    },
    {
     "name": "stdout",
     "output_type": "stream",
     "text": [
      "Epoch 23200, Error: 13414.545673, Learning rate: 0.007937\n",
      "Test MAE: 4540.357602\n",
      "Test MSE: 51406102.737410\n",
      "Sample 69: Prediction=30884.16, Target=30673\n",
      "Sample 55: Prediction=29563.86, Target=29690\n",
      "Sample 81: Prediction=29952.54, Target=30000\n"
     ]
    },
    {
     "name": "stderr",
     "output_type": "stream",
     "text": [
      " 93%|██████████████████████████████████████████████████████████████████████▊     | 23306/25000 [12:40<00:54, 30.92it/s]"
     ]
    },
    {
     "name": "stdout",
     "output_type": "stream",
     "text": [
      "Epoch 23300, Error: 13330.628927, Learning rate: 0.007905\n",
      "Test MAE: 4540.667691\n",
      "Test MSE: 51408442.561383\n",
      "Sample 23: Prediction=22773.31, Target=22891\n",
      "Sample 53: Prediction=26065.10, Target=26152\n",
      "Sample 50: Prediction=39662.22, Target=39709\n"
     ]
    },
    {
     "name": "stderr",
     "output_type": "stream",
     "text": [
      " 94%|███████████████████████████████████████████████████████████████████████▏    | 23405/25000 [12:44<01:00, 26.23it/s]"
     ]
    },
    {
     "name": "stdout",
     "output_type": "stream",
     "text": [
      "Epoch 23400, Error: 13276.174784, Learning rate: 0.007874\n",
      "Test MAE: 4540.726828\n",
      "Test MSE: 51410032.851075\n",
      "Sample 58: Prediction=27539.42, Target=27740\n",
      "Sample 64: Prediction=26882.23, Target=26902\n",
      "Sample 13: Prediction=28971.76, Target=29112\n"
     ]
    },
    {
     "name": "stderr",
     "output_type": "stream",
     "text": [
      " 94%|███████████████████████████████████████████████████████████████████████▍    | 23504/25000 [12:48<01:05, 22.90it/s]"
     ]
    },
    {
     "name": "stdout",
     "output_type": "stream",
     "text": [
      "Epoch 23500, Error: 13207.919449, Learning rate: 0.007843\n",
      "Test MAE: 4540.882860\n",
      "Test MSE: 51414746.257863\n",
      "Sample 30: Prediction=18633.52, Target=18690\n",
      "Sample 27: Prediction=22470.71, Target=22516\n",
      "Sample 69: Prediction=30882.73, Target=30673\n"
     ]
    },
    {
     "name": "stderr",
     "output_type": "stream",
     "text": [
      " 94%|███████████████████████████████████████████████████████████████████████▊    | 23606/25000 [12:52<00:53, 26.28it/s]"
     ]
    },
    {
     "name": "stdout",
     "output_type": "stream",
     "text": [
      "Epoch 23600, Error: 13148.231531, Learning rate: 0.007812\n",
      "Test MAE: 4541.179352\n",
      "Test MSE: 51420880.366955\n",
      "Sample 73: Prediction=35734.41, Target=35771\n",
      "Sample 84: Prediction=23533.83, Target=23848\n",
      "Sample 19: Prediction=26771.77, Target=26772\n"
     ]
    },
    {
     "name": "stderr",
     "output_type": "stream",
     "text": [
      " 95%|████████████████████████████████████████████████████████████████████████    | 23702/25000 [12:56<00:54, 23.79it/s]"
     ]
    },
    {
     "name": "stdout",
     "output_type": "stream",
     "text": [
      "Epoch 23700, Error: 13054.030424, Learning rate: 0.007782\n",
      "Test MAE: 4540.769762\n",
      "Test MSE: 51412468.735917\n",
      "Sample 21: Prediction=31299.65, Target=31328\n",
      "Sample 27: Prediction=22471.12, Target=22516\n",
      "Sample 42: Prediction=22403.41, Target=22552\n"
     ]
    },
    {
     "name": "stderr",
     "output_type": "stream",
     "text": [
      " 95%|████████████████████████████████████████████████████████████████████████▎   | 23806/25000 [13:00<00:47, 24.98it/s]"
     ]
    },
    {
     "name": "stdout",
     "output_type": "stream",
     "text": [
      "Epoch 23800, Error: 12959.321435, Learning rate: 0.007752\n",
      "Test MAE: 4540.111293\n",
      "Test MSE: 51407226.498673\n",
      "Sample 94: Prediction=19640.15, Target=19705\n",
      "Sample 101: Prediction=25595.06, Target=25566\n",
      "Sample 69: Prediction=30879.62, Target=30673\n"
     ]
    },
    {
     "name": "stderr",
     "output_type": "stream",
     "text": [
      " 96%|████████████████████████████████████████████████████████████████████████▋   | 23905/25000 [13:04<00:44, 24.40it/s]"
     ]
    },
    {
     "name": "stdout",
     "output_type": "stream",
     "text": [
      "Epoch 23900, Error: 12907.859509, Learning rate: 0.007722\n",
      "Test MAE: 4540.195509\n",
      "Test MSE: 51408494.381548\n",
      "Sample 17: Prediction=28173.89, Target=28187\n",
      "Sample 14: Prediction=28500.23, Target=28522\n",
      "Sample 102: Prediction=24550.44, Target=24687\n"
     ]
    },
    {
     "name": "stderr",
     "output_type": "stream",
     "text": [
      " 96%|████████████████████████████████████████████████████████████████████████▉   | 24006/25000 [13:09<00:42, 23.14it/s]"
     ]
    },
    {
     "name": "stdout",
     "output_type": "stream",
     "text": [
      "Epoch 24000, Error: 12767.132202, Learning rate: 0.007692\n",
      "Test MAE: 4539.395894\n",
      "Test MSE: 51399398.629642\n",
      "Sample 91: Prediction=22795.77, Target=23010\n",
      "Sample 22: Prediction=30927.44, Target=30986\n",
      "Sample 9: Prediction=31596.13, Target=31584\n"
     ]
    },
    {
     "name": "stderr",
     "output_type": "stream",
     "text": [
      " 96%|█████████████████████████████████████████████████████████████████████████▎  | 24105/25000 [13:13<00:36, 24.84it/s]"
     ]
    },
    {
     "name": "stdout",
     "output_type": "stream",
     "text": [
      "Epoch 24100, Error: 12704.676897, Learning rate: 0.007663\n",
      "Test MAE: 4539.350350\n",
      "Test MSE: 51398106.507829\n",
      "Sample 17: Prediction=28174.13, Target=28187\n",
      "Sample 100: Prediction=27235.79, Target=27314\n",
      "Sample 85: Prediction=26993.98, Target=27073\n"
     ]
    },
    {
     "name": "stderr",
     "output_type": "stream",
     "text": [
      " 97%|█████████████████████████████████████████████████████████████████████████▌  | 24204/25000 [13:17<00:31, 25.06it/s]"
     ]
    },
    {
     "name": "stdout",
     "output_type": "stream",
     "text": [
      "Epoch 24200, Error: 12618.637877, Learning rate: 0.007634\n",
      "Test MAE: 4539.443221\n",
      "Test MSE: 51401167.214880\n",
      "Sample 55: Prediction=29574.33, Target=29690\n",
      "Sample 80: Prediction=31302.72, Target=31411\n",
      "Sample 16: Prediction=25914.01, Target=25978\n"
     ]
    },
    {
     "name": "stderr",
     "output_type": "stream",
     "text": [
      " 97%|█████████████████████████████████████████████████████████████████████████▉  | 24304/25000 [13:21<00:27, 24.90it/s]"
     ]
    },
    {
     "name": "stdout",
     "output_type": "stream",
     "text": [
      "Epoch 24300, Error: 12528.869539, Learning rate: 0.007605\n",
      "Test MAE: 4539.157315\n",
      "Test MSE: 51403361.470572\n",
      "Sample 49: Prediction=20955.73, Target=21018\n",
      "Sample 73: Prediction=35738.76, Target=35771\n",
      "Sample 95: Prediction=29639.74, Target=29578\n"
     ]
    },
    {
     "name": "stderr",
     "output_type": "stream",
     "text": [
      " 98%|██████████████████████████████████████████████████████████████████████████▏ | 24406/25000 [13:25<00:19, 30.37it/s]"
     ]
    },
    {
     "name": "stdout",
     "output_type": "stream",
     "text": [
      "Epoch 24400, Error: 12459.031116, Learning rate: 0.007576\n",
      "Test MAE: 4539.023874\n",
      "Test MSE: 51399214.298540\n",
      "Sample 17: Prediction=28176.86, Target=28187\n",
      "Sample 30: Prediction=18634.56, Target=18690\n",
      "Sample 33: Prediction=30796.64, Target=30836\n"
     ]
    },
    {
     "name": "stderr",
     "output_type": "stream",
     "text": [
      " 98%|██████████████████████████████████████████████████████████████████████████▍ | 24503/25000 [13:29<00:23, 20.82it/s]"
     ]
    },
    {
     "name": "stdout",
     "output_type": "stream",
     "text": [
      "Epoch 24500, Error: 12400.920028, Learning rate: 0.007547\n",
      "Test MAE: 4539.032014\n",
      "Test MSE: 51399032.240083\n",
      "Sample 16: Prediction=25917.07, Target=25978\n",
      "Sample 22: Prediction=30931.36, Target=30986\n",
      "Sample 105: Prediction=29735.65, Target=29884\n"
     ]
    },
    {
     "name": "stderr",
     "output_type": "stream",
     "text": [
      " 98%|██████████████████████████████████████████████████████████████████████████▊ | 24606/25000 [13:33<00:15, 25.18it/s]"
     ]
    },
    {
     "name": "stdout",
     "output_type": "stream",
     "text": [
      "Epoch 24600, Error: 12316.864201, Learning rate: 0.007519\n",
      "Test MAE: 4539.345449\n",
      "Test MSE: 51405721.977616\n",
      "Sample 39: Prediction=32476.05, Target=32549\n",
      "Sample 49: Prediction=20958.07, Target=21018\n",
      "Sample 105: Prediction=29736.01, Target=29884\n"
     ]
    },
    {
     "name": "stderr",
     "output_type": "stream",
     "text": [
      " 99%|███████████████████████████████████████████████████████████████████████████ | 24704/25000 [13:37<00:11, 24.82it/s]"
     ]
    },
    {
     "name": "stdout",
     "output_type": "stream",
     "text": [
      "Epoch 24700, Error: 12265.806819, Learning rate: 0.007491\n",
      "Test MAE: 4539.437242\n",
      "Test MSE: 51406415.491970\n",
      "Sample 43: Prediction=36565.11, Target=36526\n",
      "Sample 6: Prediction=28833.80, Target=28895\n",
      "Sample 73: Prediction=35741.92, Target=35771\n"
     ]
    },
    {
     "name": "stderr",
     "output_type": "stream",
     "text": [
      " 99%|███████████████████████████████████████████████████████████████████████████▍| 24806/25000 [13:42<00:07, 25.77it/s]"
     ]
    },
    {
     "name": "stdout",
     "output_type": "stream",
     "text": [
      "Epoch 24800, Error: 12200.738415, Learning rate: 0.007463\n",
      "Test MAE: 4539.994895\n",
      "Test MSE: 51410882.531490\n",
      "Sample 78: Prediction=26458.58, Target=26581\n",
      "Sample 92: Prediction=25586.04, Target=25597\n",
      "Sample 1: Prediction=31110.86, Target=31175\n"
     ]
    },
    {
     "name": "stderr",
     "output_type": "stream",
     "text": [
      "100%|███████████████████████████████████████████████████████████████████████████▋| 24905/25000 [13:46<00:04, 23.10it/s]"
     ]
    },
    {
     "name": "stdout",
     "output_type": "stream",
     "text": [
      "Epoch 24900, Error: 12126.830885, Learning rate: 0.007435\n",
      "Test MAE: 4540.150474\n",
      "Test MSE: 51417357.159772\n",
      "Sample 67: Prediction=26867.66, Target=26973\n",
      "Sample 51: Prediction=35456.73, Target=35521\n",
      "Sample 68: Prediction=20626.71, Target=20670\n"
     ]
    },
    {
     "name": "stderr",
     "output_type": "stream",
     "text": [
      "100%|████████████████████████████████████████████████████████████████████████████| 25000/25000 [13:49<00:00, 30.12it/s]\n"
     ]
    },
    {
     "name": "stdout",
     "output_type": "stream",
     "text": [
      "\n",
      "Final Training MAE: 81.48\n",
      "Final Validation MAE: 4522.01\n"
     ]
    },
    {
     "data": {
      "image/png": "[encoded data removed]",
      "text/plain": [
       "<Figure size 1500x1000 with 3 Axes>"
      ]
     },
     "metadata": {},
     "output_type": "display_data"
    },
    {
     "name": "stdout",
     "output_type": "stream",
     "text": [
      "\n",
      "Model is ready for predicting future weekly sales.\n"
     ]
    }
   ],
   "source": [
    "import numpy as np\n",
    "import pandas as pd\n",
    "from sklearn.preprocessing import OneHotEncoder\n",
    "import matplotlib.pyplot as plt\n",
    "from statsmodels.tsa.stattools import acf, pacf\n",
    "from plotly.subplots import make_subplots\n",
    "from sklearn.model_selection import train_test_split\n",
    "from sklearn.preprocessing import StandardScaler\n",
    "from tqdm import tqdm\n",
    "from statsmodels.graphics.tsaplots import plot_acf\n",
    "\n",
    "# global vars\n",
    "STORE_ID = 1\n",
    "HIDDEN_NODES = 80\n",
    "EPOCHS = 25000\n",
    "ETA = 0.1\n",
    "\n",
    "def preprocess_code(df, store_id, is_test=False):\n",
    "    # set store id to one\n",
    "    df = df[df['Store'] == store_id].reset_index(drop=True)\n",
    "    \n",
    "    # reverse order of dataframe\n",
    "    df = df.sort_values('Date').reset_index(drop=True)\n",
    "    \n",
    "    # convert date to datetime\n",
    "    df['Date'] = pd.to_datetime(df['Date'])\n",
    "    \n",
    "    # aggregate daily sales into weekly sales\n",
    "    df['Year'] = df['Date'].dt.year\n",
    "    df['Week'] = df['Date'].dt.isocalendar().week\n",
    "    df['YearWeek'] = df['Year'].astype(str) + '-' + df['Week'].astype(str)\n",
    "    \n",
    "    # List columns to aggregate on sales\n",
    "    agg_dict = {\n",
    "        'Date': 'min',\n",
    "        'Store': 'first',\n",
    "        'StateHoliday': lambda x: x.mode()[0] if not x.mode().empty else '0',\n",
    "        'Open': 'mean',\n",
    "        'DayOfWeek': 'mean',\n",
    "        'Promo': 'mean',\n",
    "        'SchoolHoliday': 'mean'\n",
    "    }\n",
    "    \n",
    "    # Add Sales column to aggregation\n",
    "    agg_dict['Sales'] = 'sum'\n",
    "    \n",
    "    # Group by YearWeek and aggregate\n",
    "    weekly_df = df.groupby(['YearWeek']).agg(agg_dict).reset_index()\n",
    "    \n",
    "    # Rename columns for clarity\n",
    "    weekly_df.rename(columns={'Sales': 'WeeklySales', 'Date': 'WeekStart'}, inplace=True)\n",
    "    \n",
    "    # same preprocessing as sales_mlp\n",
    "    columns = weekly_df['StateHoliday'].unique().tolist()\n",
    "    \n",
    "    # autoencode StateHoliday\n",
    "    encoder = OneHotEncoder(sparse_output=False)\n",
    "    df_holiday = encoder.fit_transform(weekly_df[['StateHoliday']])\n",
    "    \n",
    "    # create autoencoder df, append to respective dfs\n",
    "    df_holiday = pd.DataFrame(df_holiday, columns=columns)\n",
    "    weekly_df = pd.concat([weekly_df, df_holiday], axis=1)\n",
    "    \n",
    "    return weekly_df\n",
    "\n",
    "def preprocess_time_series(df, max_lag_percent=0.2, is_test=False):\n",
    "    # Reset index to ensure datetime is a column\n",
    "    dff = df.copy().reset_index(drop=False)\n",
    "    dff[\"WeekStart\"] = pd.to_datetime(dff.WeekStart.values)\n",
    "    data_length = len(dff)\n",
    "    max_possible_lag = int(data_length * max_lag_percent)\n",
    "    max_lag = min(max_possible_lag, 100)  # Set an upper bound\n",
    "    \n",
    "    # Create evenly spaced lag features\n",
    "    lag_steps = np.linspace(1, max_lag, min(15, max_lag), dtype=int)\n",
    "    \n",
    "    # important lags include end of month weeks, and half of year + year\n",
    "    important_lags = [1, 4, 8, 12, 26, 52]\n",
    "    \n",
    "    # Combine and deduplicate lag values\n",
    "    all_lags = np.unique(np.concatenate([lag_steps, important_lags]))\n",
    "    all_lags = all_lags[all_lags <= max_lag]  # Ensure we don't exceed max_lag\n",
    "    \n",
    "    # Create lag features for weekly sales\n",
    "    for lag in all_lags:\n",
    "        dff[f\"lag_{lag}\"] = dff.WeeklySales.shift(lag)\n",
    "        dff[f\"difference_{lag}\"] = dff.WeeklySales.diff(periods=lag)\n",
    "    \n",
    "    # Add rolling statistics with reasonable windows for weekly data\n",
    "    window_sizes = [min(w, max_lag) for w in [4, 8, 12, 24]]  # Adjusted for weekly data\n",
    "    for window in window_sizes:\n",
    "        dff[f\"rolling_mean_{window}\"] = dff.WeeklySales.rolling(window=window).mean()\n",
    "        dff[f\"rolling_std_{window}\"] = dff.WeeklySales.rolling(window=window).std()\n",
    "    \n",
    "    # Add exponentially weighted features\n",
    "    for alpha in [0.1, 0.3, 0.5]:\n",
    "        dff[f\"ewm_mean_{int(alpha*100)}\"] = dff.WeeklySales.ewm(alpha=alpha).mean()\n",
    "        dff[f\"ewm_std_{int(alpha*100)}\"] = dff.WeeklySales.ewm(alpha=alpha).std()\n",
    "\n",
    "    # Categorical time features\n",
    "    dff[\"month_of_year\"] = dff.WeekStart.dt.month\n",
    "    dff[\"week_of_year\"] = dff.WeekStart.dt.isocalendar().week\n",
    "    \n",
    "    # Quarter information\n",
    "    dff[\"quarter\"] = (dff.WeekStart.dt.month - 1) // 3 + 1\n",
    "    \n",
    "    # Cyclical encoding\n",
    "    dff[\"week_sin\"] = np.sin(2 * np.pi * dff.week_of_year / 52)\n",
    "    dff[\"week_cos\"] = np.cos(2 * np.pi * dff.week_of_year / 52)\n",
    "    dff[\"month_sin\"] = np.sin(2 * np.pi * dff.month_of_year / 12)\n",
    "    dff[\"month_cos\"] = np.cos(2 * np.pi * dff.month_of_year / 12)\n",
    "    dff[\"quarter_sin\"] = np.sin(2 * np.pi * dff.quarter / 4)\n",
    "    dff[\"quarter_cos\"] = np.cos(2 * np.pi * dff.quarter / 4)\n",
    "    \n",
    "    # Handle NaN values - fill rather than drop\n",
    "    dff = dff.ffill().bfill()\n",
    "    return dff\n",
    "\n",
    "def f(x, W1, W2):\n",
    "    h = np.maximum(0, W1.T.dot(x))\n",
    "    result = W2.T.dot(h)\n",
    "    return result\n",
    "\n",
    "def mse(y_true, y_pred):\n",
    "    return np.mean(np.square(y_true - y_pred))\n",
    "\n",
    "def mae(y_true, y_pred):\n",
    "    return np.mean(np.abs(y_true - y_pred))\n",
    "    \n",
    "def train(epochs, X, y, X_test, y_test, W1, W2, eta, l2_reg=0.0001):\n",
    "    errors = []\n",
    "    test_errors = []\n",
    "    n = X.shape[0]\n",
    "    n_features = X.shape[1]\n",
    "    n_test = X_test.shape[0]\n",
    "    \n",
    "    initial_eta = eta\n",
    "    \n",
    "    for epoch in tqdm(range(epochs)):\n",
    "        # Slower decay of learning rate\n",
    "        current_eta = initial_eta / (1 + epoch / 2000)\n",
    "        \n",
    "        # Randomly shuffle data for each epoch\n",
    "        indices = np.random.permutation(n)\n",
    "        X_shuffled = X[indices]\n",
    "        y_shuffled = y[indices]\n",
    "        \n",
    "        dW2 = np.zeros_like(W2)\n",
    "        for i in range(n):\n",
    "            x = np.reshape(X_shuffled[i], (n_features, 1))\n",
    "            h = np.maximum(0, W1.T.dot(x))\n",
    "            pred = f(x, W1, W2)\n",
    "            dW2 += (2/n) * (pred - y_shuffled[i]) * h\n",
    "        \n",
    "        dW2 += l2_reg * W2\n",
    "        dW2 = np.clip(dW2, -5.0, 5.0)\n",
    "        W2 = W2 - current_eta * dW2\n",
    "        \n",
    "        dW1 = np.zeros_like(W1)\n",
    "        for i in range(n):\n",
    "            x = np.reshape(X_shuffled[i], (n_features, 1))\n",
    "            h = np.maximum(0, W1.T.dot(x))\n",
    "            mat1 = np.heaviside(h, 0)\n",
    "            pred = f(x, W1, W2)\n",
    "            \n",
    "            error_term = (2/n) * (pred - y_shuffled[i])\n",
    "            grad_contribution = error_term * np.outer(x, (W2 * mat1).T).reshape(W1.shape)\n",
    "            dW1 += grad_contribution\n",
    "        \n",
    "        dW1 += l2_reg * W1\n",
    "        dW1 = np.clip(dW1, -5.0, 5.0)\n",
    "        W1 = W1 - current_eta * dW1\n",
    "        \n",
    "        if epoch % 50 == 0 or epoch == epochs - 1:\n",
    "            # Calculate error for monitoring\n",
    "            predictions = np.array([f(np.reshape(X[i], (n_features, 1)), W1, W2)[0,0] for i in range(n)])\n",
    "            val_predictions = np.array([f(np.reshape(X_test[i], (n_features, 1)), W1, W2)[0, 0] for i in range(n_test)])\n",
    "            e = mse(y, predictions)\n",
    "            val_mse = mse(y_test, val_predictions)\n",
    "            val_mae = mae(y_test, val_predictions)\n",
    "            errors.append(e)\n",
    "            test_errors.append(val_mse)\n",
    "            \n",
    "            # More detailed progress reporting\n",
    "            if epoch % 100 == 0:\n",
    "                print(f\"Epoch {epoch}, Error: {e:.6f}, Learning rate: {current_eta:.6f}\")\n",
    "                print(f\"Test MAE: {val_mae:.6f}\")\n",
    "                print(f\"Test MSE: {val_mse:.6f}\")\n",
    "                # Print some sample comparisons\n",
    "                sample_indices = np.random.choice(len(y), 3, replace=False)\n",
    "                for idx in sample_indices:\n",
    "                    print(f\"Sample {idx}: Prediction={predictions[idx]:.2f}, Target={y[idx]}\")\n",
    "    \n",
    "    # Final predictions\n",
    "    final_predictions = np.array([f(np.reshape(X[i], (n_features, 1)), W1, W2)[0,0] for i in range(n)])\n",
    "    test_predictions = np.array([f(np.reshape(X_test[i], (n_features, 1)), W1, W2)[0,0] for i in range(n_test)])\n",
    "    \n",
    "    return W1, W2, errors, test_errors, final_predictions, test_predictions\n",
    "\n",
    "# Main execution\n",
    "def main():\n",
    "    # Load and preprocess data\n",
    "    train_df = pd.read_csv(\"train.csv\", low_memory=False)\n",
    "    \n",
    "    # Convert daily data to weekly data\n",
    "    train_df = preprocess_code(train_df, STORE_ID, is_test=False)\n",
    "    \n",
    "    # Apply time series preprocessing\n",
    "    train_df = preprocess_time_series(train_df, max_lag_percent=0.2, is_test=False)\n",
    "    \n",
    "    # Check if WeeklySales column exists (should be in train data but not test)\n",
    "    if 'WeeklySales' not in train_df.columns:\n",
    "        print(\"Error: WeeklySales column not found in training data\")\n",
    "        return None, None, None\n",
    "    \n",
    "    # Prepare features and target\n",
    "    drop_columns = ['WeeklySales', 'index', 'WeekStart', 'Store', 'StateHoliday', \n",
    "                    'month_of_year', 'YearWeek', 'Year', 'Week']\n",
    "    train_X = train_df.drop(columns=[col for col in drop_columns if col in train_df.columns])\n",
    "    train_y = train_df['WeeklySales']\n",
    "    \n",
    "    # Split into training and validation sets\n",
    "    train_X, val_X, train_y, val_y = train_test_split(train_X, train_y, test_size=0.2, random_state=42)\n",
    "    \n",
    "    # Convert to numpy arrays and standardize\n",
    "    train_X = np.array(train_X)\n",
    "    train_y = np.array(train_y)\n",
    "    val_X = np.array(val_X)\n",
    "    val_y = np.array(val_y)\n",
    "    \n",
    "    scaler = StandardScaler()\n",
    "    train_X = scaler.fit_transform(train_X)\n",
    "    val_X = scaler.transform(val_X)  # Use the same scaler for validation data\n",
    "    \n",
    "    # Initialize weights\n",
    "    n_samples, n_features = train_X.shape\n",
    "    np.random.seed(42)\n",
    "    W1 = np.random.randn(n_features, HIDDEN_NODES) * np.sqrt(2.0 / n_features)\n",
    "    W2 = np.random.randn(HIDDEN_NODES, 1) * np.sqrt(2.0 / HIDDEN_NODES)\n",
    "    \n",
    "    # Train the model\n",
    "    W1, W2, train_errors, test_errors, train_predictions, test_predictions = train(\n",
    "        EPOCHS, train_X, train_y, val_X, val_y, W1, W2, ETA, l2_reg=0.0001\n",
    "    )\n",
    "    \n",
    "    # Evaluate the model\n",
    "    train_mae = mae(train_y, train_predictions)\n",
    "    test_mae = mae(val_y, test_predictions)\n",
    "    \n",
    "    print(f\"\\nFinal Training MAE: {train_mae:.2f}\")\n",
    "    print(f\"Final Validation MAE: {test_mae:.2f}\")\n",
    "    \n",
    "    # Visualize the results\n",
    "    plt.figure(figsize=(15, 10))\n",
    "    \n",
    "    # Plot 1: Training and validation errors\n",
    "    plt.subplot(2, 2, 1)\n",
    "    plt.plot(range(0, len(train_errors) * 50, 50), train_errors, label='Training MSE')\n",
    "    plt.plot(range(0, len(test_errors) * 50, 50), test_errors, label='Validation MSE')\n",
    "    plt.title('MSE over Training')\n",
    "    plt.xlabel('Epoch')\n",
    "    plt.ylabel('MSE')\n",
    "    plt.legend()\n",
    "    plt.grid(True)\n",
    "\n",
    "    \n",
    "    # Plot 3: Predictions vs Actual (Training)\n",
    "    plt.subplot(2, 2, 3)\n",
    "    plt.scatter(train_y, train_predictions, alpha=0.5)\n",
    "    plt.plot([min(train_y), max(train_y)], [min(train_y), max(train_y)], 'r--')\n",
    "    plt.title('Training: Predictions vs Actual')\n",
    "    plt.xlabel('Actual Weekly Sales')\n",
    "    plt.ylabel('Predicted Weekly Sales')\n",
    "    plt.grid(True)\n",
    "    \n",
    "    # Plot 4: Predictions vs Actual (Validation)\n",
    "    plt.subplot(2, 2, 4)\n",
    "    plt.scatter(val_y, test_predictions, alpha=0.5)\n",
    "    plt.plot([min(val_y), max(val_y)], [min(val_y), max(val_y)], 'r--')\n",
    "    plt.title('Validation: Predictions vs Actual (Weights)')\n",
    "    plt.xlabel('Actual Weekly Sales')\n",
    "    plt.ylabel('Predicted Weekly Sales')\n",
    "    plt.grid(True)\n",
    "    \n",
    "    plt.tight_layout()\n",
    "    plt.savefig('weekly_sales_prediction_results.png')\n",
    "    plt.show()\n",
    "    \n",
    "    # Generate future predictions if needed\n",
    "    print(\"\\nModel is ready for predicting future weekly sales.\")\n",
    "    \n",
    "    return W1, W2, scaler  # Return the best weights and scaler for future predictions\n",
    "\n",
    "\n",
    "if __name__ == \"__main__\":\n",
    "    # Run the main training process\n",
    "    W1, W2, scaler = main()\n",
    "    "
   ]
  },
  {
   "cell_type": "code",
   "execution_count": null,
   "id": "e85da6cb-d2c1-4495-8f05-d9ab95a8bae4",
   "metadata": {},
   "outputs": [],
   "source": []
  }
 ],
 "metadata": {
  "kernelspec": {
   "display_name": "Python 3 (ipykernel)",
   "language": "python",
   "name": "python3"
  },
  "language_info": {
   "codemirror_mode": {
    "name": "ipython",
    "version": 3
   },
   "file_extension": ".py",
   "mimetype": "text/x-python",
   "name": "python",
   "nbconvert_exporter": "python",
   "pygments_lexer": "ipython3",
   "version": "3.12.7"
  }
 },
 "nbformat": 4,
 "nbformat_minor": 5
}
